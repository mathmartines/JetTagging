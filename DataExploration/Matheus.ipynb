{
 "cells": [
  {
   "cell_type": "code",
   "execution_count": 10,
   "id": "initial_id",
   "metadata": {
    "collapsed": true,
    "ExecuteTime": {
     "end_time": "2024-05-22T03:30:05.473732Z",
     "start_time": "2024-05-22T03:30:05.470451Z"
    }
   },
   "outputs": [],
   "source": [
    "import pandas as pd\n",
    "from src.Particle import ParticleType\n",
    "from src.JetBuilder import JetBuilder\n",
    "from src.JetImage import JetImage, JetImageCalculator"
   ]
  },
  {
   "cell_type": "code",
   "outputs": [],
   "source": [
    "data_gluon = pd.read_csv('../Data/g_jets.csv', header=None, sep=' ')\n",
    "data_quark = pd.read_csv('../Data/q_jets.csv', header=None, sep=' ')\n",
    "data_top = pd.read_csv('../Data/t_jets.csv', header=None, sep=' ')"
   ],
   "metadata": {
    "collapsed": false,
    "ExecuteTime": {
     "end_time": "2024-05-22T03:30:13.406057Z",
     "start_time": "2024-05-22T03:30:06.916729Z"
    }
   },
   "id": "1303e28fe42f0871",
   "execution_count": 11
  },
  {
   "cell_type": "code",
   "outputs": [],
   "source": [
    "# creating the list with the jets objects\n",
    "jet_builder = JetBuilder()\n",
    "# For the data exploration this amount of jets is enough\n",
    "# More than that the evaluation stars to become really slower\n",
    "gluon_jets = jet_builder.create_jets(data_frame=data_gluon[:5000], jet_type=ParticleType.Gluon)\n",
    "quark_jets = jet_builder.create_jets(data_frame=data_quark[:5000], jet_type=ParticleType.LightQuark)\n",
    "top_jets = jet_builder.create_jets(data_frame=data_top[:5000], jet_type=ParticleType.Top)"
   ],
   "metadata": {
    "collapsed": false,
    "ExecuteTime": {
     "end_time": "2024-05-22T03:57:32.087967Z",
     "start_time": "2024-05-22T03:57:11.687743Z"
    }
   },
   "id": "5df3ec22067e19d2",
   "execution_count": 53
  },
  {
   "cell_type": "code",
   "outputs": [],
   "source": [
    "jet_image = JetImage((-0.4, 0.4), (-0.4, 0.4), 16, 16, JetImageCalculator())"
   ],
   "metadata": {
    "collapsed": false,
    "ExecuteTime": {
     "end_time": "2024-05-22T03:57:43.301468Z",
     "start_time": "2024-05-22T03:57:43.298006Z"
    }
   },
   "id": "7c742e2857c9332d",
   "execution_count": 54
  },
  {
   "cell_type": "code",
   "outputs": [],
   "source": [
    "first_gluon_image = jet_image.create_jet_image(top_jets[4000])"
   ],
   "metadata": {
    "collapsed": false,
    "ExecuteTime": {
     "end_time": "2024-05-22T03:59:58.867713Z",
     "start_time": "2024-05-22T03:59:58.865511Z"
    }
   },
   "id": "d38ef4260d3aa540",
   "execution_count": 79
  },
  {
   "cell_type": "code",
   "outputs": [],
   "source": [
    "from matplotlib.colors import LinearSegmentedColormap\n",
    "# Create a custom colormap that transitions from white to blue to red\n",
    "colors = [(1, 1, 1), (0, 0, 1), (1, 0, 0)]  # White, Blue, Red\n",
    "n_bins = 100  # Number of bins for interpolation\n",
    "custom_cmap = LinearSegmentedColormap.from_list('white_blue_red', colors, N=n_bins)"
   ],
   "metadata": {
    "collapsed": false,
    "ExecuteTime": {
     "end_time": "2024-05-22T03:59:59.211610Z",
     "start_time": "2024-05-22T03:59:59.209088Z"
    }
   },
   "id": "f521ac1414502cc6",
   "execution_count": 80
  },
  {
   "cell_type": "code",
   "outputs": [
    {
     "data": {
      "text/plain": "Text(0, 0.5, '$\\\\eta^{rel}$')"
     },
     "execution_count": 81,
     "metadata": {},
     "output_type": "execute_result"
    },
    {
     "data": {
      "text/plain": "<Figure size 640x480 with 2 Axes>",
      "image/png": "[encoded data removed]"
     },
     "metadata": {},
     "output_type": "display_data"
    }
   ],
   "source": [
    "import matplotlib.pyplot as plt\n",
    "# import numpy as np\n",
    "plt.imshow(first_gluon_image, cmap=custom_cmap, extent=(-0.4, 0.4, -0.4, 0.4))\n",
    "plt.colorbar(label='pT')\n",
    "plt.xlabel(r'$\\phi^{rel}$')\n",
    "plt.ylabel(r'$\\eta^{rel}$')"
   ],
   "metadata": {
    "collapsed": false,
    "ExecuteTime": {
     "end_time": "2024-05-22T04:00:00.675288Z",
     "start_time": "2024-05-22T04:00:00.574967Z"
    }
   },
   "id": "eb17a2b1ee535634",
   "execution_count": 81
  },
  {
   "cell_type": "code",
   "outputs": [],
   "source": [],
   "metadata": {
    "collapsed": false
   },
   "id": "5a0a19727378ef73"
  }
 ],
 "metadata": {
  "kernelspec": {
   "display_name": "Python 3",
   "language": "python",
   "name": "python3"
  },
  "language_info": {
   "codemirror_mode": {
    "name": "ipython",
    "version": 2
   },
   "file_extension": ".py",
   "mimetype": "text/x-python",
   "name": "python",
   "nbconvert_exporter": "python",
   "pygments_lexer": "ipython2",
   "version": "2.7.6"
  }
 },
 "nbformat": 4,
 "nbformat_minor": 5
}
