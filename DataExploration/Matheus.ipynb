{
 "cells": [
  {
   "cell_type": "code",
   "execution_count": 15,
   "id": "initial_id",
   "metadata": {
    "collapsed": true,
    "ExecuteTime": {
     "end_time": "2024-05-26T15:49:12.602727Z",
     "start_time": "2024-05-26T15:49:12.436940Z"
    }
   },
   "outputs": [],
   "source": [
    "import pandas as pd\n",
    "import numpy as np\n",
    "from src.Particle import ParticleType\n",
    "from src.JetBuilder import JetBuilder\n",
    "from src.JetImage import JetImage, JetImageCalculator, JetImageAvarageCalculator\n",
    "import matplotlib.pyplot as plt\n",
    "from matplotlib.colors import LinearSegmentedColormap\n"
   ]
  },
  {
   "cell_type": "code",
   "outputs": [],
   "source": [
    "data_gluon = pd.read_csv('../Data/g_jets.csv', header=None, sep=' ')\n",
    "data_quark = pd.read_csv('../Data/q_jets.csv', header=None, sep=' ')\n",
    "data_top = pd.read_csv('../Data/t_jets.csv', header=None, sep=' ')"
   ],
   "metadata": {
    "collapsed": false,
    "ExecuteTime": {
     "end_time": "2024-05-26T15:44:38.618146Z",
     "start_time": "2024-05-26T15:44:32.156091Z"
    }
   },
   "id": "1303e28fe42f0871",
   "execution_count": 2
  },
  {
   "cell_type": "code",
   "outputs": [],
   "source": [
    "# creating the list with the jets objects\n",
    "jet_builder = JetBuilder()\n",
    "# For the data exploration this amount of jets is enough\n",
    "# More than that the evaluation stars to become really slower\n",
    "gluon_jets = jet_builder.create_jets(data_frame=data_gluon[:10000], jet_type=ParticleType.Gluon)\n",
    "quark_jets = jet_builder.create_jets(data_frame=data_quark[:10000], jet_type=ParticleType.LightQuark)\n",
    "top_jets = jet_builder.create_jets(data_frame=data_top[:10000], jet_type=ParticleType.Top)"
   ],
   "metadata": {
    "collapsed": false,
    "ExecuteTime": {
     "end_time": "2024-05-26T15:45:09.029472Z",
     "start_time": "2024-05-26T15:44:38.618837Z"
    }
   },
   "id": "5df3ec22067e19d2",
   "execution_count": 3
  },
  {
   "cell_type": "code",
   "outputs": [
    {
     "data": {
      "text/plain": "30"
     },
     "execution_count": 11,
     "metadata": {},
     "output_type": "execute_result"
    }
   ],
   "source": [
    "len(gluon_jets[4])"
   ],
   "metadata": {
    "collapsed": false,
    "ExecuteTime": {
     "end_time": "2024-05-26T15:45:39.994726Z",
     "start_time": "2024-05-26T15:45:39.992163Z"
    }
   },
   "id": "bb6e950f4612180b",
   "execution_count": 11
  },
  {
   "cell_type": "markdown",
   "source": [
    "****Single jet images****"
   ],
   "metadata": {
    "collapsed": false
   },
   "id": "5438e197d0527c27"
  },
  {
   "cell_type": "code",
   "outputs": [],
   "source": [
    "jet_image = JetImage((-0.4, 0.4), (-0.4, 0.4), 16, 16, JetImageCalculator())"
   ],
   "metadata": {
    "collapsed": false,
    "ExecuteTime": {
     "end_time": "2024-05-26T15:43:08.720818Z",
     "start_time": "2024-05-26T15:43:08.717668Z"
    }
   },
   "id": "7c742e2857c9332d",
   "execution_count": 23
  },
  {
   "cell_type": "code",
   "outputs": [],
   "source": [
    "first_gluon_image = jet_image.create_jet_image(quark_jets[10])"
   ],
   "metadata": {
    "collapsed": false,
    "ExecuteTime": {
     "end_time": "2024-05-26T15:43:09.123595Z",
     "start_time": "2024-05-26T15:43:09.120185Z"
    }
   },
   "id": "d38ef4260d3aa540",
   "execution_count": 24
  },
  {
   "cell_type": "code",
   "outputs": [],
   "source": [
    "# Create a custom colormap that transitions from white to blue to red\n",
    "colors = [(1, 1, 1), (0, 0, 1), (1, 0, 0)]  # White, Blue, Red\n",
    "n_bins = 100  # Number of bins for interpolation\n",
    "custom_cmap = LinearSegmentedColormap.from_list('white_blue_red', colors, N=n_bins)"
   ],
   "metadata": {
    "collapsed": false,
    "ExecuteTime": {
     "end_time": "2024-05-26T15:43:09.473127Z",
     "start_time": "2024-05-26T15:43:09.470160Z"
    }
   },
   "id": "f521ac1414502cc6",
   "execution_count": 25
  },
  {
   "cell_type": "code",
   "outputs": [
    {
     "data": {
      "text/plain": "Text(0, 0.5, '$\\\\eta^{rel}$')"
     },
     "execution_count": 26,
     "metadata": {},
     "output_type": "execute_result"
    },
    {
     "data": {
      "text/plain": "<Figure size 640x480 with 2 Axes>",
      "image/png": "[encoded data removed]"
     },
     "metadata": {},
     "output_type": "display_data"
    }
   ],
   "source": [
    "# import numpy as np\n",
    "plt.imshow(first_gluon_image, cmap=custom_cmap, extent=(-0.4, 0.4, -0.4, 0.4))\n",
    "plt.colorbar(label='pT')\n",
    "plt.xlabel(r'$\\phi^{rel}$')\n",
    "plt.ylabel(r'$\\eta^{rel}$')"
   ],
   "metadata": {
    "collapsed": false,
    "ExecuteTime": {
     "end_time": "2024-05-26T15:43:10.730941Z",
     "start_time": "2024-05-26T15:43:10.627934Z"
    }
   },
   "id": "eb17a2b1ee535634",
   "execution_count": 26
  },
  {
   "cell_type": "markdown",
   "source": [
    "****Avarage Jet Image****"
   ],
   "metadata": {
    "collapsed": false
   },
   "id": "a4c3ebd45a41bc47"
  },
  {
   "cell_type": "code",
   "outputs": [],
   "source": [
    "single_jet_image = JetImageCalculator()\n",
    "avg_jet_image = JetImageAvarageCalculator(jet_image_calculator=single_jet_image)\n",
    "jet_image_avg = JetImage((-0.4, 0.4), (-0.4, 0.4), 20, 20, avg_jet_image)"
   ],
   "metadata": {
    "collapsed": false,
    "ExecuteTime": {
     "end_time": "2024-05-26T15:42:27.022384Z",
     "start_time": "2024-05-26T15:42:27.019523Z"
    }
   },
   "id": "c54e645789fc3c28",
   "execution_count": 13
  },
  {
   "cell_type": "markdown",
   "source": [
    "****Top jets****"
   ],
   "metadata": {
    "collapsed": false
   },
   "id": "5680c47110eaad94"
  },
  {
   "cell_type": "code",
   "outputs": [],
   "source": [
    "# evaluating the image\n",
    "avg_jet_image = jet_image_avg.create_jet_image(top_jets)\n",
    "# plotting the grid\n",
    "plt.imshow(avg_jet_image, cmap=custom_cmap, extent=(-0.4, 0.4, -0.4, 0.4), vmin=0, vmax=0.2)\n",
    "plt.colorbar(label='pT')\n",
    "plt.xlabel(r'$\\phi^{rel}$')\n",
    "plt.ylabel(r'$\\eta^{rel}$')"
   ],
   "metadata": {
    "collapsed": false
   },
   "id": "737ef999b5496508",
   "execution_count": null
  },
  {
   "cell_type": "markdown",
   "source": [
    "****Gluon Jets****"
   ],
   "metadata": {
    "collapsed": false
   },
   "id": "44eddaa0ee4eaab6"
  },
  {
   "cell_type": "code",
   "outputs": [],
   "source": [
    "# evaluating the image\n",
    "avg_jet_image = jet_image_avg.create_jet_image(gluon_jets)\n",
    "# plotting the grid\n",
    "plt.imshow(avg_jet_image, cmap=custom_cmap, extent=(-0.4, 0.4, -0.4, 0.4), vmin=0, vmax=0.2)\n",
    "plt.colorbar(label='pT')\n",
    "plt.xlabel(r'$\\phi^{rel}$')\n",
    "plt.ylabel(r'$\\eta^{rel}$')"
   ],
   "metadata": {
    "collapsed": false
   },
   "id": "68708994caa68429",
   "execution_count": null
  },
  {
   "cell_type": "markdown",
   "source": [
    "****Quark Jets****"
   ],
   "metadata": {
    "collapsed": false
   },
   "id": "54157289f5e7f9cd"
  },
  {
   "cell_type": "code",
   "outputs": [],
   "source": [
    "# evaluating the image\n",
    "avg_jet_image = jet_image_avg.create_jet_image(quark_jets)\n",
    "# plotting the grid\n",
    "plt.imshow(avg_jet_image, cmap=custom_cmap, extent=(-0.4, 0.4, -0.4, 0.4), vmin=0, vmax=0.2)\n",
    "plt.colorbar(label='pT')\n",
    "plt.xlabel(r'$\\phi^{rel}$')\n",
    "plt.ylabel(r'$\\eta^{rel}$')"
   ],
   "metadata": {
    "collapsed": false
   },
   "id": "c9de10b75476ae52",
   "execution_count": null
  },
  {
   "cell_type": "markdown",
   "source": [
    "****Energy Flow Polynomials****"
   ],
   "metadata": {
    "collapsed": false
   },
   "id": "4f36ca6cf9b1398"
  },
  {
   "cell_type": "code",
   "outputs": [],
   "source": [
    "import energyflow as ef"
   ],
   "metadata": {
    "collapsed": false
   },
   "id": "6d79618e5a3e5c9",
   "execution_count": null
  },
  {
   "cell_type": "code",
   "outputs": [],
   "source": [
    "# all EFPs with d <= 5 \n",
    "efpset = ef.EFPSet('d<=5', measure='hadr', beta=1, normed=True, verbose=True)"
   ],
   "metadata": {
    "collapsed": false
   },
   "id": "19a7d46a0f685c42",
   "execution_count": null
  },
  {
   "cell_type": "code",
   "outputs": [],
   "source": [
    "# information about each polynomial \n",
    "index = 12\n",
    "graph = efpset.graphs(index)\n",
    "\n",
    "n, _, d, v, _, c, p, _ = efpset.specs[index]\n",
    "\n",
    "print(\"Graph:\", graph)\n",
    "print(\"Number of vertices, n:\", n)\n",
    "print(\"Number of edges,    d:\", d)\n",
    "print(\"Maximum valency,    v:\", v)\n",
    "print(\"VE complexity,      c:\", c)\n",
    "print(\"Number of primes,   p:\", p)"
   ],
   "metadata": {
    "collapsed": false
   },
   "id": "818a98d3ce48dc53",
   "execution_count": null
  },
  {
   "cell_type": "code",
   "outputs": [],
   "source": [
    "# calculating the EFPs for each type of jets \n",
    "gluon_efps = np.array([efpset.compute(jet.jet_substructure()) for jet in gluon_jets])\n",
    "quarks_efps = np.array([efpset.compute(jet.jet_substructure()) for jet in quark_jets])\n",
    "top_efps = np.array([efpset.compute(jet.jet_substructure()) for jet in top_jets])"
   ],
   "metadata": {
    "collapsed": false
   },
   "id": "5da271dfe4afd35c",
   "execution_count": null
  },
  {
   "cell_type": "code",
   "outputs": [],
   "source": [
    "# evaluating the mean value\n",
    "mean_efps_gluons = np.mean(gluon_efps, axis=0)\n",
    "mean_efps_quarks = np.mean(quarks_efps, axis=0)\n",
    "mean_efps_top = np.mean(top_efps, axis=0)"
   ],
   "metadata": {
    "collapsed": false
   },
   "id": "542192a7cc88a001",
   "execution_count": null
  },
  {
   "cell_type": "code",
   "outputs": [],
   "source": [
    "# ploting the distribution \n",
    "index = 2\n",
    "print(f\"Avg EFP gluon: {mean_efps_gluons[index]}\")\n",
    "print(f\"Avg EFP light quarks: {mean_efps_quarks[index]}\")\n",
    "print(f\"Avg EFP top: {mean_efps_top[index]}\")\n",
    "plt.hist(gluon_efps[:, index], color='green', label='Gluons', histtype='step')\n",
    "plt.hist(quarks_efps[:, index], color='red', label='Light Quarks', histtype='step')\n",
    "plt.hist(top_efps[:, index], color='black', label='Tops', histtype='step')\n",
    "plt.xlabel('EFP')\n",
    "plt.legend(loc='upper right')"
   ],
   "metadata": {
    "collapsed": false
   },
   "id": "ea618c19381917e4",
   "execution_count": null
  },
  {
   "cell_type": "markdown",
   "source": [
    "****Some distributions****"
   ],
   "metadata": {
    "collapsed": false
   },
   "id": "896a920e287e2a19"
  },
  {
   "cell_type": "markdown",
   "source": [
    "***PT distribution***"
   ],
   "metadata": {
    "collapsed": false
   },
   "id": "f6b2eafee15739c"
  },
  {
   "cell_type": "code",
   "outputs": [],
   "source": [
    "gluons_pt = np.array([jet.momentum.pt / len(jet) for jet in gluon_jets])\n",
    "quark_pt = np.array([jet.momentum.pt / len(jet) for jet in quark_jets])\n",
    "top_pt = np.array([jet.momentum.pt / len(jet) for jet in top_jets])"
   ],
   "metadata": {
    "collapsed": false,
    "ExecuteTime": {
     "end_time": "2024-05-26T15:47:08.687076Z",
     "start_time": "2024-05-26T15:47:08.476668Z"
    }
   },
   "id": "3b6a2fb41a5eaf15",
   "execution_count": 12
  },
  {
   "cell_type": "code",
   "outputs": [
    {
     "data": {
      "text/plain": "<matplotlib.legend.Legend at 0x329536750>"
     },
     "execution_count": 17,
     "metadata": {},
     "output_type": "execute_result"
    },
    {
     "data": {
      "text/plain": "<Figure size 640x480 with 1 Axes>",
      "image/png": "[encoded data removed]"
     },
     "metadata": {},
     "output_type": "display_data"
    }
   ],
   "source": [
    "plt.hist(gluons_pt, color='green', label='Gluons', histtype='step')\n",
    "plt.hist(quark_pt, color='red', label='Light Quarks', histtype='step')\n",
    "plt.hist(top_pt, color='black', label='Tops', histtype='step')\n",
    "plt.xlabel('PT')\n",
    "plt.legend(loc='upper right')"
   ],
   "metadata": {
    "collapsed": false,
    "ExecuteTime": {
     "end_time": "2024-05-26T15:49:38.071422Z",
     "start_time": "2024-05-26T15:49:38.000157Z"
    }
   },
   "id": "f27e41f8e89a1256",
   "execution_count": 17
  },
  {
   "cell_type": "markdown",
   "source": [
    "***Eta distribution***"
   ],
   "metadata": {
    "collapsed": false
   },
   "id": "3e0453ae9006e22a"
  },
  {
   "cell_type": "code",
   "outputs": [],
   "source": [
    "gluons_eta = np.array([jet.momentum.eta / len(jet) for jet in gluon_jets])\n",
    "quark_eta = np.array([jet.momentum.eta / len(jet) for jet in quark_jets])\n",
    "top_eta = np.array([jet.momentum.eta / len(jet) for jet in top_jets])"
   ],
   "metadata": {
    "collapsed": false,
    "ExecuteTime": {
     "end_time": "2024-05-26T15:50:47.383763Z",
     "start_time": "2024-05-26T15:50:47.156903Z"
    }
   },
   "id": "16fb4b3ad78d4198",
   "execution_count": 19
  },
  {
   "cell_type": "code",
   "outputs": [
    {
     "data": {
      "text/plain": "<matplotlib.legend.Legend at 0x329676750>"
     },
     "execution_count": 21,
     "metadata": {},
     "output_type": "execute_result"
    },
    {
     "data": {
      "text/plain": "<Figure size 640x480 with 1 Axes>",
      "image/png": "[encoded data removed]"
     },
     "metadata": {},
     "output_type": "display_data"
    }
   ],
   "source": [
    "plt.hist(gluons_eta, color='green', label='Gluons', histtype='step')\n",
    "plt.hist(quark_eta, color='red', label='Light Quarks', histtype='step')\n",
    "plt.hist(top_eta, color='black', label='Tops', histtype='step')\n",
    "plt.xlabel('Eta')\n",
    "plt.legend(loc='upper right')"
   ],
   "metadata": {
    "collapsed": false,
    "ExecuteTime": {
     "end_time": "2024-05-26T15:50:56.190348Z",
     "start_time": "2024-05-26T15:50:56.130490Z"
    }
   },
   "id": "3a1f779c3de0f304",
   "execution_count": 21
  },
  {
   "cell_type": "markdown",
   "source": [
    "***Phi distribution***"
   ],
   "metadata": {
    "collapsed": false
   },
   "id": "dc4d0866307d8bb6"
  },
  {
   "cell_type": "code",
   "outputs": [],
   "source": [
    "gluons_phi = np.array([jet.momentum.phi / len(jet) for jet in gluon_jets])\n",
    "quark_phi = np.array([jet.momentum.phi / len(jet) for jet in quark_jets])\n",
    "top_phi = np.array([jet.momentum.phi / len(jet) for jet in top_jets])"
   ],
   "metadata": {
    "collapsed": false,
    "ExecuteTime": {
     "end_time": "2024-05-26T15:51:41.104792Z",
     "start_time": "2024-05-26T15:51:40.887633Z"
    }
   },
   "id": "93b658764801e138",
   "execution_count": 22
  },
  {
   "cell_type": "code",
   "outputs": [
    {
     "data": {
      "text/plain": "<matplotlib.legend.Legend at 0x3296f6690>"
     },
     "execution_count": 23,
     "metadata": {},
     "output_type": "execute_result"
    },
    {
     "data": {
      "text/plain": "<Figure size 640x480 with 1 Axes>",
      "image/png": "[encoded data removed]"
     },
     "metadata": {},
     "output_type": "display_data"
    }
   ],
   "source": [
    "plt.hist(gluons_phi, color='green', label='Gluons', histtype='step')\n",
    "plt.hist(quark_phi, color='red', label='Light Quarks', histtype='step')\n",
    "plt.hist(top_phi, color='black', label='Tops', histtype='step')\n",
    "plt.xlabel('Phi')\n",
    "plt.legend(loc='upper right')"
   ],
   "metadata": {
    "collapsed": false,
    "ExecuteTime": {
     "end_time": "2024-05-26T15:52:05.117940Z",
     "start_time": "2024-05-26T15:52:05.052935Z"
    }
   },
   "id": "24b473ff26cbe8bb",
   "execution_count": 23
  }
 ],
 "metadata": {
  "kernelspec": {
   "display_name": "Python 3",
   "language": "python",
   "name": "python3"
  },
  "language_info": {
   "codemirror_mode": {
    "name": "ipython",
    "version": 2
   },
   "file_extension": ".py",
   "mimetype": "text/x-python",
   "name": "python",
   "nbconvert_exporter": "python",
   "pygments_lexer": "ipython2",
   "version": "2.7.6"
  }
 },
 "nbformat": 4,
 "nbformat_minor": 5
}
