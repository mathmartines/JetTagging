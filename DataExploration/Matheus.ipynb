{
 "cells": [
  {
   "cell_type": "code",
   "execution_count": 1,
   "id": "initial_id",
   "metadata": {
    "collapsed": true,
    "ExecuteTime": {
     "end_time": "2024-05-21T01:32:26.108377Z",
     "start_time": "2024-05-21T01:32:25.874506Z"
    }
   },
   "outputs": [],
   "source": [
    "import pandas as pd\n",
    "from src.Particle import ParticleType\n",
    "from src.ParticleFactory import JetBuilder"
   ]
  },
  {
   "cell_type": "code",
   "outputs": [],
   "source": [
    "data = pd.read_csv('../Data/g_jets.csv', header=None, sep=' ')"
   ],
   "metadata": {
    "collapsed": false
   },
   "id": "1303e28fe42f0871",
   "execution_count": 2
  },
  {
   "cell_type": "code",
   "outputs": [],
   "source": [
    "jet_builder = JetBuilder(data_frame=data[:50000], particle_type=ParticleType.Gluon)\n",
    "jets = jet_builder.create_jets()"
   ],
   "metadata": {
    "collapsed": false,
    "ExecuteTime": {
     "end_time": "2024-05-21T01:35:32.548553Z",
     "start_time": "2024-05-21T01:34:24.368111Z"
    }
   },
   "id": "5df3ec22067e19d2",
   "execution_count": 17
  },
  {
   "cell_type": "code",
   "outputs": [
    {
     "name": "stdout",
     "output_type": "stream",
     "text": [
      "JetConstituent(ParticleType.Parton, MomentumObject3D(pt=0.13270381093025208, phi=-0.0684674084186554, eta=-0.009040621109306812))\n",
      "JetConstituent(ParticleType.Parton, MomentumObject3D(pt=0.06886979192495346, phi=0.01743488945066929, eta=0.030589060857892036))\n",
      "JetConstituent(ParticleType.Parton, MomentumObject3D(pt=0.06495977193117142, phi=-0.07847239822149277, eta=-0.00904056429862976))\n",
      "JetConstituent(ParticleType.Parton, MomentumObject3D(pt=0.0450168140232563, phi=0.024220312014222145, eta=0.00655386783182621))\n",
      "JetConstituent(ParticleType.Parton, MomentumObject3D(pt=0.042726483196020126, phi=0.027829762548208237, eta=0.03606885299086571))\n",
      "JetConstituent(ParticleType.Parton, MomentumObject3D(pt=0.037873417139053345, phi=0.10161898285150528, eta=0.0009593974682502447))\n",
      "JetConstituent(ParticleType.Parton, MomentumObject3D(pt=0.037125617265701294, phi=0.093662828207016, eta=0.03202195093035698))\n",
      "JetConstituent(ParticleType.Parton, MomentumObject3D(pt=0.03661886230111122, phi=0.09161397814750671, eta=0.010959336534142494))\n",
      "JetConstituent(ParticleType.Parton, MomentumObject3D(pt=0.036096859723329544, phi=0.026311544701457024, eta=0.00915177259594202))\n",
      "JetConstituent(ParticleType.Parton, MomentumObject3D(pt=0.03309645876288414, phi=0.05237201228737831, eta=0.009849399328231813))\n",
      "JetConstituent(ParticleType.Parton, MomentumObject3D(pt=0.030854403972625732, phi=-0.07019184529781342, eta=0.0029595643281936646))\n",
      "JetConstituent(ParticleType.Parton, MomentumObject3D(pt=0.030176552012562752, phi=-0.06417810171842575, eta=-0.014099129475653172))\n",
      "JetConstituent(ParticleType.Parton, MomentumObject3D(pt=0.0292547270655632, phi=-0.0659659132361412, eta=-0.03654048591852188))\n",
      "JetConstituent(ParticleType.Parton, MomentumObject3D(pt=0.027160782366991043, phi=0.021578533574938778, eta=0.0009593985741958022))\n",
      "JetConstituent(ParticleType.Parton, MomentumObject3D(pt=0.0223503690212965, phi=0.03444207087159157, eta=0.0094631090760231))\n",
      "JetConstituent(ParticleType.Parton, MomentumObject3D(pt=0.021980438381433487, phi=-0.06619089096784592, eta=-0.03600213676691055))\n",
      "JetConstituent(ParticleType.Parton, MomentumObject3D(pt=0.021374724805355072, phi=0.009072035551071167, eta=0.0034594025928527117))\n",
      "JetConstituent(ParticleType.Parton, MomentumObject3D(pt=0.020769277587532997, phi=0.01907704211771488, eta=0.013459463603794575))\n",
      "JetConstituent(ParticleType.Parton, MomentumObject3D(pt=0.01674036681652069, phi=-0.08614417165517807, eta=-0.00701887859031558))\n",
      "JetConstituent(ParticleType.Parton, MomentumObject3D(pt=0.013356220908463, phi=0.023753110319375992, eta=0.012220158241689203))\n",
      "JetConstituent(ParticleType.Parton, MomentumObject3D(pt=0.01334166806191206, phi=-0.004257845692336559, eta=-0.05275256931781769))\n",
      "JetConstituent(ParticleType.Parton, MomentumObject3D(pt=0.012400831095874308, phi=0.08836913108825684, eta=0.0007214766228571534))\n",
      "JetConstituent(ParticleType.Parton, MomentumObject3D(pt=0.01170163694769144, phi=-0.0386807806789875, eta=-0.05910496041178703))\n",
      "JetConstituent(ParticleType.Parton, MomentumObject3D(pt=0.011166214942932127, phi=-0.09598139673471451, eta=-0.0015405378071591258))\n",
      "JetConstituent(ParticleType.Parton, MomentumObject3D(pt=0.0110918078571558, phi=-0.09097889065742493, eta=0.008459443226456642))\n",
      "JetConstituent(ParticleType.Parton, MomentumObject3D(pt=0.010239920578897, phi=0.11412499099969864, eta=0.03345948085188866))\n",
      "JetConstituent(ParticleType.Parton, MomentumObject3D(pt=0.009690854698419571, phi=-0.06096339970827103, eta=-0.04654056578874588))\n",
      "JetConstituent(ParticleType.Parton, MomentumObject3D(pt=0.009549172595143318, phi=0.1165083274245262, eta=0.04480959475040436))\n",
      "JetConstituent(ParticleType.Parton, MomentumObject3D(pt=0.009522464126348495, phi=0.009072034619748592, eta=0.01345943473279476))\n",
      "JetConstituent(ParticleType.Parton, MomentumObject3D(pt=0.008192852139472961, phi=0.07910750061273575, eta=0.02845940552651882))\n"
     ]
    }
   ],
   "source": [
    "# looping over the constituents\n",
    "for parton in jets[1]:\n",
    "    print(parton)"
   ],
   "metadata": {
    "collapsed": false,
    "ExecuteTime": {
     "end_time": "2024-05-21T01:37:24.590436Z",
     "start_time": "2024-05-21T01:37:24.586505Z"
    }
   },
   "id": "7c742e2857c9332d",
   "execution_count": 28
  },
  {
   "cell_type": "code",
   "outputs": [],
   "source": [],
   "metadata": {
    "collapsed": false
   },
   "id": "d38ef4260d3aa540"
  }
 ],
 "metadata": {
  "kernelspec": {
   "display_name": "Python 3",
   "language": "python",
   "name": "python3"
  },
  "language_info": {
   "codemirror_mode": {
    "name": "ipython",
    "version": 2
   },
   "file_extension": ".py",
   "mimetype": "text/x-python",
   "name": "python",
   "nbconvert_exporter": "python",
   "pygments_lexer": "ipython2",
   "version": "2.7.6"
  }
 },
 "nbformat": 4,
 "nbformat_minor": 5
}
