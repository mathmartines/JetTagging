{
  "nbformat": 4,
  "nbformat_minor": 0,
  "metadata": {
    "colab": {
      "provenance": []
    },
    "kernelspec": {
      "name": "python3",
      "display_name": "Python 3"
    },
    "language_info": {
      "name": "python"
    }
  },
  "cells": [
    {
      "cell_type": "code",
      "execution_count": 1,
      "metadata": {
        "colab": {
          "base_uri": "https://localhost:8080/"
        },
        "id": "DMgjAGjHOgCL",
        "outputId": "2e2c9e8d-6cd1-49f7-c2f7-b1426a204a48"
      },
      "outputs": [
        {
          "output_type": "stream",
          "name": "stdout",
          "text": [
            "--2024-05-25 19:33:00--  https://zenodo.org/api/records/5502543/files-archive\n",
            "Resolving zenodo.org (zenodo.org)... 188.184.103.159, 188.184.98.238, 188.185.79.172, ...\n",
            "Connecting to zenodo.org (zenodo.org)|188.184.103.159|:443... connected.\n",
            "HTTP request sent, awaiting response... 200 OK\n",
            "Length: unspecified [application/zip]\n",
            "Saving to: ‘repository_name.zip’\n",
            "\n",
            "repository_name.zip     [              <=>   ]   1.48G  20.3MB/s    in 64s     \n",
            "\n",
            "2024-05-25 19:34:04 (23.9 MB/s) - ‘repository_name.zip’ saved [1592934025]\n",
            "\n",
            "Archive:  repository_name.zip\n",
            " extracting: /content/q_jets.csv     \n",
            " extracting: /content/g_jets.csv     \n",
            " extracting: /content/t_jets.csv     \n"
          ]
        }
      ],
      "source": [
        "# Download the files\n",
        "!wget https://zenodo.org/api/records/5502543/files-archive -O repository_name.zip\n",
        "\n",
        "# Unzip\n",
        "!unzip repository_name.zip -d /content\n",
        "\n",
        "# Delete repository_name.zip from /content\n",
        "!rm /content/repository_name.zip"
      ]
    },
    {
      "cell_type": "code",
      "source": [
        "# Columns of the dataframe\n",
        "columns = []\n",
        "for i in range(1, 31):\n",
        "  columns.append('eta_rel_' + str(i))\n",
        "  columns.append('phi_rel_' + str(i))\n",
        "  columns.append('pt_rel_' + str(i))\n",
        "  columns.append('mask_' + str(i))"
      ],
      "metadata": {
        "id": "D6sBA0-nP7v3"
      },
      "execution_count": 2,
      "outputs": []
    },
    {
      "cell_type": "code",
      "source": [
        "# Read files as dataframes\n",
        "import pandas as pd\n",
        "\n",
        "df_g = pd.read_csv('g_jets.csv', decimal = '.', sep = \" \", names = columns) # for gluon jets, for example"
      ],
      "metadata": {
        "id": "2HUpGz-JQimN"
      },
      "execution_count": 3,
      "outputs": []
    }
  ]
}