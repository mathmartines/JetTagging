{
 "cells": [
  {
   "cell_type": "code",
   "execution_count": 1,
   "id": "initial_id",
   "metadata": {
    "collapsed": true,
    "ExecuteTime": {
     "end_time": "2024-06-23T02:25:33.880138Z",
     "start_time": "2024-06-23T02:25:31.250949Z"
    }
   },
   "outputs": [],
   "source": [
    "import keras\n",
    "from src.ParticleNet.EdgeConvLayer import EdgeConvLayer\n",
    "from src.ParticleNet.GlobalPooling import GlobalAveragePoolingLayer\n",
    "from utilities import utilities\n",
    "from ML.ParticleCloud.data_loaders import load_data_top_tagging"
   ]
  },
  {
   "cell_type": "markdown",
   "source": [
    "#### Loading the Data"
   ],
   "metadata": {
    "collapsed": false
   },
   "id": "8260fa27c141b838"
  },
  {
   "cell_type": "code",
   "outputs": [],
   "source": [
    "X_train, y_train = load_data_top_tagging(top_quark_path=\"../../../Data/Trainning/t_jets.csv\", quark_data_path=\"../../../Data/Trainning/q_jets.csv\", gluon_data_path=\"../../../Data/Trainning/g_jets.csv\")\n",
    "X_val, y_val = load_data_top_tagging(top_quark_path=\"../../../Data/Validation/t_jets.csv\",quark_data_path=\"../../../Data/Validation/q_jets.csv\", gluon_data_path=\"../../../Data/Validation/g_jets.csv\")"
   ],
   "metadata": {
    "collapsed": false,
    "ExecuteTime": {
     "end_time": "2024-06-23T02:25:50.185333Z",
     "start_time": "2024-06-23T02:25:33.881096Z"
    }
   },
   "id": "5e1c783df881d1a5",
   "execution_count": 2
  },
  {
   "cell_type": "code",
   "outputs": [
    {
     "name": "stdout",
     "output_type": "stream",
     "text": [
      "Size of the Training set: 254254\n",
      "Size of the Validation set: 44869\n"
     ]
    }
   ],
   "source": [
    "print(f\"Size of the Training set: {len(X_train)}\")\n",
    "print(f\"Size of the Validation set: {len(X_val)}\")"
   ],
   "metadata": {
    "collapsed": false,
    "ExecuteTime": {
     "end_time": "2024-06-23T02:25:50.188Z",
     "start_time": "2024-06-23T02:25:50.186175Z"
    }
   },
   "id": "94389574ebc09d94",
   "execution_count": 3
  },
  {
   "cell_type": "code",
   "outputs": [
    {
     "data": {
      "text/plain": "(254254, 30, 5)"
     },
     "execution_count": 4,
     "metadata": {},
     "output_type": "execute_result"
    }
   ],
   "source": [
    "X_train.shape"
   ],
   "metadata": {
    "collapsed": false,
    "ExecuteTime": {
     "end_time": "2024-06-23T02:25:50.192325Z",
     "start_time": "2024-06-23T02:25:50.188667Z"
    }
   },
   "id": "caca69b87df1bd92",
   "execution_count": 4
  },
  {
   "cell_type": "markdown",
   "source": [
    "#### Setting up the NN"
   ],
   "metadata": {
    "collapsed": false
   },
   "id": "8a81d7483ef81753"
  },
  {
   "cell_type": "code",
   "outputs": [
    {
     "data": {
      "text/plain": "\u001B[1mModel: \"sequential_7\"\u001B[0m\n",
      "text/html": "<pre style=\"white-space:pre;overflow-x:auto;line-height:normal;font-family:Menlo,'DejaVu Sans Mono',consolas,'Courier New',monospace\"><span style=\"font-weight: bold\">Model: \"sequential_7\"</span>\n</pre>\n"
     },
     "metadata": {},
     "output_type": "display_data"
    },
    {
     "data": {
      "text/plain": "┏━━━━━━━━━━━━━━━━━━━━━━━━━━━━━━━━━┳━━━━━━━━━━━━━━━━━━━━━━━━┳━━━━━━━━━━━━━━━┓\n┃\u001B[1m \u001B[0m\u001B[1mLayer (type)                   \u001B[0m\u001B[1m \u001B[0m┃\u001B[1m \u001B[0m\u001B[1mOutput Shape          \u001B[0m\u001B[1m \u001B[0m┃\u001B[1m \u001B[0m\u001B[1m      Param #\u001B[0m\u001B[1m \u001B[0m┃\n┡━━━━━━━━━━━━━━━━━━━━━━━━━━━━━━━━━╇━━━━━━━━━━━━━━━━━━━━━━━━╇━━━━━━━━━━━━━━━┩\n│ edge_conv_layer_3               │ (\u001B[38;5;45mNone\u001B[0m, \u001B[38;5;34m30\u001B[0m, \u001B[38;5;34m21\u001B[0m)         │           \u001B[38;5;34m416\u001B[0m │\n│ (\u001B[38;5;33mEdgeConvLayer\u001B[0m)                 │                        │               │\n├─────────────────────────────────┼────────────────────────┼───────────────┤\n│ edge_conv_layer_4               │ (\u001B[38;5;45mNone\u001B[0m, \u001B[38;5;34m30\u001B[0m, \u001B[38;5;34m53\u001B[0m)         │         \u001B[38;5;34m2,368\u001B[0m │\n│ (\u001B[38;5;33mEdgeConvLayer\u001B[0m)                 │                        │               │\n├─────────────────────────────────┼────────────────────────┼───────────────┤\n│ global_average_pooling_layer_2  │ (\u001B[38;5;45mNone\u001B[0m, \u001B[38;5;34m52\u001B[0m)             │             \u001B[38;5;34m0\u001B[0m │\n│ (\u001B[38;5;33mGlobalAveragePoolingLayer\u001B[0m)     │                        │               │\n├─────────────────────────────────┼────────────────────────┼───────────────┤\n│ dense_14 (\u001B[38;5;33mDense\u001B[0m)                │ (\u001B[38;5;45mNone\u001B[0m, \u001B[38;5;34m64\u001B[0m)             │         \u001B[38;5;34m3,392\u001B[0m │\n├─────────────────────────────────┼────────────────────────┼───────────────┤\n│ dropout_2 (\u001B[38;5;33mDropout\u001B[0m)             │ (\u001B[38;5;45mNone\u001B[0m, \u001B[38;5;34m64\u001B[0m)             │             \u001B[38;5;34m0\u001B[0m │\n├─────────────────────────────────┼────────────────────────┼───────────────┤\n│ dense_15 (\u001B[38;5;33mDense\u001B[0m)                │ (\u001B[38;5;45mNone\u001B[0m, \u001B[38;5;34m2\u001B[0m)              │           \u001B[38;5;34m130\u001B[0m │\n└─────────────────────────────────┴────────────────────────┴───────────────┘\n",
      "text/html": "<pre style=\"white-space:pre;overflow-x:auto;line-height:normal;font-family:Menlo,'DejaVu Sans Mono',consolas,'Courier New',monospace\">┏━━━━━━━━━━━━━━━━━━━━━━━━━━━━━━━━━┳━━━━━━━━━━━━━━━━━━━━━━━━┳━━━━━━━━━━━━━━━┓\n┃<span style=\"font-weight: bold\"> Layer (type)                    </span>┃<span style=\"font-weight: bold\"> Output Shape           </span>┃<span style=\"font-weight: bold\">       Param # </span>┃\n┡━━━━━━━━━━━━━━━━━━━━━━━━━━━━━━━━━╇━━━━━━━━━━━━━━━━━━━━━━━━╇━━━━━━━━━━━━━━━┩\n│ edge_conv_layer_3               │ (<span style=\"color: #00d7ff; text-decoration-color: #00d7ff\">None</span>, <span style=\"color: #00af00; text-decoration-color: #00af00\">30</span>, <span style=\"color: #00af00; text-decoration-color: #00af00\">21</span>)         │           <span style=\"color: #00af00; text-decoration-color: #00af00\">416</span> │\n│ (<span style=\"color: #0087ff; text-decoration-color: #0087ff\">EdgeConvLayer</span>)                 │                        │               │\n├─────────────────────────────────┼────────────────────────┼───────────────┤\n│ edge_conv_layer_4               │ (<span style=\"color: #00d7ff; text-decoration-color: #00d7ff\">None</span>, <span style=\"color: #00af00; text-decoration-color: #00af00\">30</span>, <span style=\"color: #00af00; text-decoration-color: #00af00\">53</span>)         │         <span style=\"color: #00af00; text-decoration-color: #00af00\">2,368</span> │\n│ (<span style=\"color: #0087ff; text-decoration-color: #0087ff\">EdgeConvLayer</span>)                 │                        │               │\n├─────────────────────────────────┼────────────────────────┼───────────────┤\n│ global_average_pooling_layer_2  │ (<span style=\"color: #00d7ff; text-decoration-color: #00d7ff\">None</span>, <span style=\"color: #00af00; text-decoration-color: #00af00\">52</span>)             │             <span style=\"color: #00af00; text-decoration-color: #00af00\">0</span> │\n│ (<span style=\"color: #0087ff; text-decoration-color: #0087ff\">GlobalAveragePoolingLayer</span>)     │                        │               │\n├─────────────────────────────────┼────────────────────────┼───────────────┤\n│ dense_14 (<span style=\"color: #0087ff; text-decoration-color: #0087ff\">Dense</span>)                │ (<span style=\"color: #00d7ff; text-decoration-color: #00d7ff\">None</span>, <span style=\"color: #00af00; text-decoration-color: #00af00\">64</span>)             │         <span style=\"color: #00af00; text-decoration-color: #00af00\">3,392</span> │\n├─────────────────────────────────┼────────────────────────┼───────────────┤\n│ dropout_2 (<span style=\"color: #0087ff; text-decoration-color: #0087ff\">Dropout</span>)             │ (<span style=\"color: #00d7ff; text-decoration-color: #00d7ff\">None</span>, <span style=\"color: #00af00; text-decoration-color: #00af00\">64</span>)             │             <span style=\"color: #00af00; text-decoration-color: #00af00\">0</span> │\n├─────────────────────────────────┼────────────────────────┼───────────────┤\n│ dense_15 (<span style=\"color: #0087ff; text-decoration-color: #0087ff\">Dense</span>)                │ (<span style=\"color: #00d7ff; text-decoration-color: #00d7ff\">None</span>, <span style=\"color: #00af00; text-decoration-color: #00af00\">2</span>)              │           <span style=\"color: #00af00; text-decoration-color: #00af00\">130</span> │\n└─────────────────────────────────┴────────────────────────┴───────────────┘\n</pre>\n"
     },
     "metadata": {},
     "output_type": "display_data"
    },
    {
     "data": {
      "text/plain": "\u001B[1m Total params: \u001B[0m\u001B[38;5;34m6,306\u001B[0m (24.63 KB)\n",
      "text/html": "<pre style=\"white-space:pre;overflow-x:auto;line-height:normal;font-family:Menlo,'DejaVu Sans Mono',consolas,'Courier New',monospace\"><span style=\"font-weight: bold\"> Total params: </span><span style=\"color: #00af00; text-decoration-color: #00af00\">6,306</span> (24.63 KB)\n</pre>\n"
     },
     "metadata": {},
     "output_type": "display_data"
    },
    {
     "data": {
      "text/plain": "\u001B[1m Trainable params: \u001B[0m\u001B[38;5;34m6,306\u001B[0m (24.63 KB)\n",
      "text/html": "<pre style=\"white-space:pre;overflow-x:auto;line-height:normal;font-family:Menlo,'DejaVu Sans Mono',consolas,'Courier New',monospace\"><span style=\"font-weight: bold\"> Trainable params: </span><span style=\"color: #00af00; text-decoration-color: #00af00\">6,306</span> (24.63 KB)\n</pre>\n"
     },
     "metadata": {},
     "output_type": "display_data"
    },
    {
     "data": {
      "text/plain": "\u001B[1m Non-trainable params: \u001B[0m\u001B[38;5;34m0\u001B[0m (0.00 B)\n",
      "text/html": "<pre style=\"white-space:pre;overflow-x:auto;line-height:normal;font-family:Menlo,'DejaVu Sans Mono',consolas,'Courier New',monospace\"><span style=\"font-weight: bold\"> Non-trainable params: </span><span style=\"color: #00af00; text-decoration-color: #00af00\">0</span> (0.00 B)\n</pre>\n"
     },
     "metadata": {},
     "output_type": "display_data"
    }
   ],
   "source": [
    "# MLP for the first conv layer\n",
    "mlp_jets = keras.Sequential([\n",
    "    keras.layers.InputLayer(shape=[8]),\n",
    "    keras.layers.Dense(16),\n",
    "    keras.layers.LeakyReLU(),\n",
    "    keras.layers.Dense(16),\n",
    "    keras.layers.LeakyReLU()\n",
    "])\n",
    "\n",
    "mlp_jets_2 = keras.Sequential([\n",
    "    keras.layers.InputLayer(shape=[40]),\n",
    "    keras.layers.Dense(32),\n",
    "    keras.layers.LeakyReLU(),\n",
    "    keras.layers.Dense(32),\n",
    "    keras.layers.LeakyReLU()\n",
    "])\n",
    "\n",
    "\n",
    "# MLP for the second convolutional layer\n",
    "jet_tag_model = keras.Sequential([\n",
    "    keras.layers.InputLayer(shape=(30, 5)),\n",
    "    EdgeConvLayer(mlp=mlp_jets, n_particles_features=4, mlp_output_dim=16, final_index_coord=2, max_number_particles=30, k_neighbors=4),\n",
    "    EdgeConvLayer(mlp=mlp_jets_2, n_particles_features=20, mlp_output_dim=32, final_index_coord=20, max_number_particles=30, k_neighbors=4),\n",
    "    GlobalAveragePoolingLayer(),\n",
    "    keras.layers.Dense(64, activation='relu'),\n",
    "    keras.layers.Dropout(rate=0.1),\n",
    "    keras.layers.Dense(2, activation='softmax')\n",
    "])\n",
    "\n",
    "jet_tag_model.summary()"
   ],
   "metadata": {
    "collapsed": false,
    "ExecuteTime": {
     "end_time": "2024-06-23T04:09:00.105669Z",
     "start_time": "2024-06-23T04:09:00.069985Z"
    }
   },
   "id": "30c39a9cb8158aa3",
   "execution_count": 13
  },
  {
   "cell_type": "code",
   "outputs": [],
   "source": [
    "jet_tag_model.compile(optimizer='adam', loss='categorical_crossentropy', metrics=['accuracy', \"auc\"])"
   ],
   "metadata": {
    "collapsed": false,
    "ExecuteTime": {
     "end_time": "2024-06-23T04:09:02.129460Z",
     "start_time": "2024-06-23T04:09:02.122875Z"
    }
   },
   "id": "cd33c2af35303aa3",
   "execution_count": 14
  },
  {
   "cell_type": "code",
   "outputs": [
    {
     "name": "stdout",
     "output_type": "stream",
     "text": [
      "Epoch 1/100\n",
      "\u001B[1m3973/3973\u001B[0m \u001B[32m━━━━━━━━━━━━━━━━━━━━\u001B[0m\u001B[37m\u001B[0m \u001B[1m93s\u001B[0m 23ms/step - accuracy: 0.8336 - auc: 0.9024 - loss: 0.3919 - val_accuracy: 0.8534 - val_auc: 0.9259 - val_loss: 0.3467\n",
      "Epoch 2/100\n",
      "\u001B[1m3973/3973\u001B[0m \u001B[32m━━━━━━━━━━━━━━━━━━━━\u001B[0m\u001B[37m\u001B[0m \u001B[1m86s\u001B[0m 22ms/step - accuracy: 0.8631 - auc: 0.9317 - loss: 0.3319 - val_accuracy: 0.8706 - val_auc: 0.9389 - val_loss: 0.3158\n",
      "Epoch 3/100\n",
      "\u001B[1m3973/3973\u001B[0m \u001B[32m━━━━━━━━━━━━━━━━━━━━\u001B[0m\u001B[37m\u001B[0m \u001B[1m90s\u001B[0m 23ms/step - accuracy: 0.8692 - auc: 0.9360 - loss: 0.3216 - val_accuracy: 0.8727 - val_auc: 0.9413 - val_loss: 0.3097\n",
      "Epoch 4/100\n",
      "\u001B[1m3973/3973\u001B[0m \u001B[32m━━━━━━━━━━━━━━━━━━━━\u001B[0m\u001B[37m\u001B[0m \u001B[1m91s\u001B[0m 23ms/step - accuracy: 0.8723 - auc: 0.9388 - loss: 0.3151 - val_accuracy: 0.8764 - val_auc: 0.9435 - val_loss: 0.3038\n",
      "Epoch 5/100\n",
      "\u001B[1m3973/3973\u001B[0m \u001B[32m━━━━━━━━━━━━━━━━━━━━\u001B[0m\u001B[37m\u001B[0m \u001B[1m93s\u001B[0m 23ms/step - accuracy: 0.8747 - auc: 0.9415 - loss: 0.3083 - val_accuracy: 0.8761 - val_auc: 0.9460 - val_loss: 0.2990\n",
      "Epoch 6/100\n",
      "\u001B[1m3973/3973\u001B[0m \u001B[32m━━━━━━━━━━━━━━━━━━━━\u001B[0m\u001B[37m\u001B[0m \u001B[1m93s\u001B[0m 23ms/step - accuracy: 0.8756 - auc: 0.9422 - loss: 0.3065 - val_accuracy: 0.8744 - val_auc: 0.9455 - val_loss: 0.2999\n",
      "Epoch 7/100\n",
      "\u001B[1m3973/3973\u001B[0m \u001B[32m━━━━━━━━━━━━━━━━━━━━\u001B[0m\u001B[37m\u001B[0m \u001B[1m93s\u001B[0m 24ms/step - accuracy: 0.8768 - auc: 0.9430 - loss: 0.3044 - val_accuracy: 0.8799 - val_auc: 0.9491 - val_loss: 0.2898\n",
      "Epoch 8/100\n",
      "\u001B[1m3973/3973\u001B[0m \u001B[32m━━━━━━━━━━━━━━━━━━━━\u001B[0m\u001B[37m\u001B[0m \u001B[1m93s\u001B[0m 23ms/step - accuracy: 0.8781 - auc: 0.9450 - loss: 0.2993 - val_accuracy: 0.8799 - val_auc: 0.9480 - val_loss: 0.2925\n",
      "Epoch 9/100\n",
      "\u001B[1m3973/3973\u001B[0m \u001B[32m━━━━━━━━━━━━━━━━━━━━\u001B[0m\u001B[37m\u001B[0m \u001B[1m94s\u001B[0m 24ms/step - accuracy: 0.8783 - auc: 0.9452 - loss: 0.2988 - val_accuracy: 0.8818 - val_auc: 0.9492 - val_loss: 0.2890\n",
      "Epoch 10/100\n",
      "\u001B[1m3973/3973\u001B[0m \u001B[32m━━━━━━━━━━━━━━━━━━━━\u001B[0m\u001B[37m\u001B[0m \u001B[1m92s\u001B[0m 23ms/step - accuracy: 0.8784 - auc: 0.9458 - loss: 0.2972 - val_accuracy: 0.8815 - val_auc: 0.9506 - val_loss: 0.2878\n",
      "Epoch 11/100\n",
      "\u001B[1m3973/3973\u001B[0m \u001B[32m━━━━━━━━━━━━━━━━━━━━\u001B[0m\u001B[37m\u001B[0m \u001B[1m93s\u001B[0m 23ms/step - accuracy: 0.8782 - auc: 0.9458 - loss: 0.2975 - val_accuracy: 0.8800 - val_auc: 0.9499 - val_loss: 0.2890\n",
      "Epoch 12/100\n",
      "\u001B[1m3973/3973\u001B[0m \u001B[32m━━━━━━━━━━━━━━━━━━━━\u001B[0m\u001B[37m\u001B[0m \u001B[1m93s\u001B[0m 23ms/step - accuracy: 0.8792 - auc: 0.9471 - loss: 0.2938 - val_accuracy: 0.8826 - val_auc: 0.9501 - val_loss: 0.2866\n",
      "Epoch 13/100\n",
      "\u001B[1m3973/3973\u001B[0m \u001B[32m━━━━━━━━━━━━━━━━━━━━\u001B[0m\u001B[37m\u001B[0m \u001B[1m92s\u001B[0m 23ms/step - accuracy: 0.8809 - auc: 0.9481 - loss: 0.2911 - val_accuracy: 0.8840 - val_auc: 0.9514 - val_loss: 0.2824\n",
      "Epoch 14/100\n",
      "\u001B[1m3973/3973\u001B[0m \u001B[32m━━━━━━━━━━━━━━━━━━━━\u001B[0m\u001B[37m\u001B[0m \u001B[1m92s\u001B[0m 23ms/step - accuracy: 0.8798 - auc: 0.9480 - loss: 0.2915 - val_accuracy: 0.8834 - val_auc: 0.9520 - val_loss: 0.2808\n",
      "Epoch 15/100\n",
      "\u001B[1m3973/3973\u001B[0m \u001B[32m━━━━━━━━━━━━━━━━━━━━\u001B[0m\u001B[37m\u001B[0m \u001B[1m88s\u001B[0m 22ms/step - accuracy: 0.8798 - auc: 0.9482 - loss: 0.2912 - val_accuracy: 0.8816 - val_auc: 0.9498 - val_loss: 0.2869\n",
      "Epoch 16/100\n",
      "\u001B[1m3973/3973\u001B[0m \u001B[32m━━━━━━━━━━━━━━━━━━━━\u001B[0m\u001B[37m\u001B[0m \u001B[1m88s\u001B[0m 22ms/step - accuracy: 0.8795 - auc: 0.9479 - loss: 0.2918 - val_accuracy: 0.8829 - val_auc: 0.9517 - val_loss: 0.2816\n",
      "Epoch 17/100\n",
      "\u001B[1m3973/3973\u001B[0m \u001B[32m━━━━━━━━━━━━━━━━━━━━\u001B[0m\u001B[37m\u001B[0m \u001B[1m88s\u001B[0m 22ms/step - accuracy: 0.8811 - auc: 0.9488 - loss: 0.2893 - val_accuracy: 0.8851 - val_auc: 0.9531 - val_loss: 0.2793\n",
      "Epoch 18/100\n",
      "\u001B[1m3973/3973\u001B[0m \u001B[32m━━━━━━━━━━━━━━━━━━━━\u001B[0m\u001B[37m\u001B[0m \u001B[1m87s\u001B[0m 22ms/step - accuracy: 0.8796 - auc: 0.9483 - loss: 0.2906 - val_accuracy: 0.8843 - val_auc: 0.9521 - val_loss: 0.2805\n",
      "Epoch 19/100\n",
      "\u001B[1m3973/3973\u001B[0m \u001B[32m━━━━━━━━━━━━━━━━━━━━\u001B[0m\u001B[37m\u001B[0m \u001B[1m88s\u001B[0m 22ms/step - accuracy: 0.8830 - auc: 0.9496 - loss: 0.2870 - val_accuracy: 0.8832 - val_auc: 0.9520 - val_loss: 0.2811\n",
      "Epoch 20/100\n",
      "\u001B[1m3973/3973\u001B[0m \u001B[32m━━━━━━━━━━━━━━━━━━━━\u001B[0m\u001B[37m\u001B[0m \u001B[1m87s\u001B[0m 22ms/step - accuracy: 0.8834 - auc: 0.9505 - loss: 0.2846 - val_accuracy: 0.8839 - val_auc: 0.9525 - val_loss: 0.2795\n",
      "Epoch 21/100\n",
      "\u001B[1m3973/3973\u001B[0m \u001B[32m━━━━━━━━━━━━━━━━━━━━\u001B[0m\u001B[37m\u001B[0m \u001B[1m94s\u001B[0m 24ms/step - accuracy: 0.8832 - auc: 0.9506 - loss: 0.2842 - val_accuracy: 0.8857 - val_auc: 0.9536 - val_loss: 0.2765\n",
      "Epoch 22/100\n",
      "\u001B[1m3973/3973\u001B[0m \u001B[32m━━━━━━━━━━━━━━━━━━━━\u001B[0m\u001B[37m\u001B[0m \u001B[1m94s\u001B[0m 24ms/step - accuracy: 0.8819 - auc: 0.9498 - loss: 0.2867 - val_accuracy: 0.8838 - val_auc: 0.9519 - val_loss: 0.2807\n",
      "Epoch 23/100\n",
      "\u001B[1m3973/3973\u001B[0m \u001B[32m━━━━━━━━━━━━━━━━━━━━\u001B[0m\u001B[37m\u001B[0m \u001B[1m94s\u001B[0m 24ms/step - accuracy: 0.8826 - auc: 0.9503 - loss: 0.2853 - val_accuracy: 0.8817 - val_auc: 0.9505 - val_loss: 0.2848\n",
      "Epoch 24/100\n",
      "\u001B[1m3973/3973\u001B[0m \u001B[32m━━━━━━━━━━━━━━━━━━━━\u001B[0m\u001B[37m\u001B[0m \u001B[1m93s\u001B[0m 23ms/step - accuracy: 0.8829 - auc: 0.9505 - loss: 0.2846 - val_accuracy: 0.8829 - val_auc: 0.9527 - val_loss: 0.2812\n",
      "Epoch 25/100\n",
      "\u001B[1m3973/3973\u001B[0m \u001B[32m━━━━━━━━━━━━━━━━━━━━\u001B[0m\u001B[37m\u001B[0m \u001B[1m93s\u001B[0m 23ms/step - accuracy: 0.8829 - auc: 0.9507 - loss: 0.2840 - val_accuracy: 0.8857 - val_auc: 0.9536 - val_loss: 0.2766\n",
      "Epoch 26/100\n",
      "\u001B[1m3973/3973\u001B[0m \u001B[32m━━━━━━━━━━━━━━━━━━━━\u001B[0m\u001B[37m\u001B[0m \u001B[1m94s\u001B[0m 24ms/step - accuracy: 0.8840 - auc: 0.9507 - loss: 0.2840 - val_accuracy: 0.8860 - val_auc: 0.9541 - val_loss: 0.2751\n",
      "Epoch 27/100\n",
      "\u001B[1m3973/3973\u001B[0m \u001B[32m━━━━━━━━━━━━━━━━━━━━\u001B[0m\u001B[37m\u001B[0m \u001B[1m94s\u001B[0m 24ms/step - accuracy: 0.8823 - auc: 0.9503 - loss: 0.2853 - val_accuracy: 0.8852 - val_auc: 0.9537 - val_loss: 0.2763\n",
      "Epoch 28/100\n",
      "\u001B[1m3973/3973\u001B[0m \u001B[32m━━━━━━━━━━━━━━━━━━━━\u001B[0m\u001B[37m\u001B[0m \u001B[1m89s\u001B[0m 22ms/step - accuracy: 0.8839 - auc: 0.9515 - loss: 0.2817 - val_accuracy: 0.8856 - val_auc: 0.9539 - val_loss: 0.2753\n",
      "Epoch 29/100\n",
      "\u001B[1m3973/3973\u001B[0m \u001B[32m━━━━━━━━━━━━━━━━━━━━\u001B[0m\u001B[37m\u001B[0m \u001B[1m88s\u001B[0m 22ms/step - accuracy: 0.8843 - auc: 0.9511 - loss: 0.2828 - val_accuracy: 0.8863 - val_auc: 0.9546 - val_loss: 0.2733\n",
      "Epoch 30/100\n",
      "\u001B[1m3973/3973\u001B[0m \u001B[32m━━━━━━━━━━━━━━━━━━━━\u001B[0m\u001B[37m\u001B[0m \u001B[1m88s\u001B[0m 22ms/step - accuracy: 0.8843 - auc: 0.9513 - loss: 0.2823 - val_accuracy: 0.8859 - val_auc: 0.9540 - val_loss: 0.2750\n",
      "Epoch 31/100\n",
      "\u001B[1m3973/3973\u001B[0m \u001B[32m━━━━━━━━━━━━━━━━━━━━\u001B[0m\u001B[37m\u001B[0m \u001B[1m88s\u001B[0m 22ms/step - accuracy: 0.8843 - auc: 0.9511 - loss: 0.2827 - val_accuracy: 0.8833 - val_auc: 0.9513 - val_loss: 0.2844\n",
      "Epoch 32/100\n",
      "\u001B[1m3973/3973\u001B[0m \u001B[32m━━━━━━━━━━━━━━━━━━━━\u001B[0m\u001B[37m\u001B[0m \u001B[1m88s\u001B[0m 22ms/step - accuracy: 0.8837 - auc: 0.9513 - loss: 0.2823 - val_accuracy: 0.8829 - val_auc: 0.9512 - val_loss: 0.2829\n",
      "Epoch 33/100\n",
      "\u001B[1m3973/3973\u001B[0m \u001B[32m━━━━━━━━━━━━━━━━━━━━\u001B[0m\u001B[37m\u001B[0m \u001B[1m89s\u001B[0m 22ms/step - accuracy: 0.8842 - auc: 0.9519 - loss: 0.2805 - val_accuracy: 0.8862 - val_auc: 0.9546 - val_loss: 0.2755\n",
      "Epoch 34/100\n",
      "\u001B[1m3973/3973\u001B[0m \u001B[32m━━━━━━━━━━━━━━━━━━━━\u001B[0m\u001B[37m\u001B[0m \u001B[1m1122s\u001B[0m 282ms/step - accuracy: 0.8837 - auc: 0.9512 - loss: 0.2823 - val_accuracy: 0.8854 - val_auc: 0.9538 - val_loss: 0.2760\n",
      "Epoch 35/100\n",
      "\u001B[1m3973/3973\u001B[0m \u001B[32m━━━━━━━━━━━━━━━━━━━━\u001B[0m\u001B[37m\u001B[0m \u001B[1m1918s\u001B[0m 483ms/step - accuracy: 0.8847 - auc: 0.9522 - loss: 0.2798 - val_accuracy: 0.8853 - val_auc: 0.9538 - val_loss: 0.2759\n",
      "Epoch 36/100\n",
      "\u001B[1m3973/3973\u001B[0m \u001B[32m━━━━━━━━━━━━━━━━━━━━\u001B[0m\u001B[37m\u001B[0m \u001B[1m1983s\u001B[0m 499ms/step - accuracy: 0.8840 - auc: 0.9522 - loss: 0.2798 - val_accuracy: 0.8817 - val_auc: 0.9526 - val_loss: 0.2794\n",
      "Epoch 37/100\n",
      "\u001B[1m3973/3973\u001B[0m \u001B[32m━━━━━━━━━━━━━━━━━━━━\u001B[0m\u001B[37m\u001B[0m \u001B[1m87s\u001B[0m 22ms/step - accuracy: 0.8847 - auc: 0.9517 - loss: 0.2811 - val_accuracy: 0.8871 - val_auc: 0.9547 - val_loss: 0.2730\n",
      "Epoch 38/100\n",
      "\u001B[1m3973/3973\u001B[0m \u001B[32m━━━━━━━━━━━━━━━━━━━━\u001B[0m\u001B[37m\u001B[0m \u001B[1m1045s\u001B[0m 263ms/step - accuracy: 0.8857 - auc: 0.9523 - loss: 0.2795 - val_accuracy: 0.8872 - val_auc: 0.9548 - val_loss: 0.2727\n",
      "Epoch 39/100\n",
      "\u001B[1m3973/3973\u001B[0m \u001B[32m━━━━━━━━━━━━━━━━━━━━\u001B[0m\u001B[37m\u001B[0m \u001B[1m87s\u001B[0m 22ms/step - accuracy: 0.8838 - auc: 0.9517 - loss: 0.2813 - val_accuracy: 0.8853 - val_auc: 0.9537 - val_loss: 0.2766\n",
      "Epoch 40/100\n",
      "\u001B[1m3973/3973\u001B[0m \u001B[32m━━━━━━━━━━━━━━━━━━━━\u001B[0m\u001B[37m\u001B[0m \u001B[1m239s\u001B[0m 60ms/step - accuracy: 0.8845 - auc: 0.9525 - loss: 0.2790 - val_accuracy: 0.8861 - val_auc: 0.9548 - val_loss: 0.2754\n",
      "Epoch 41/100\n",
      "\u001B[1m3973/3973\u001B[0m \u001B[32m━━━━━━━━━━━━━━━━━━━━\u001B[0m\u001B[37m\u001B[0m \u001B[1m990s\u001B[0m 249ms/step - accuracy: 0.8848 - auc: 0.9528 - loss: 0.2782 - val_accuracy: 0.8863 - val_auc: 0.9544 - val_loss: 0.2741\n",
      "Epoch 42/100\n",
      "\u001B[1m3973/3973\u001B[0m \u001B[32m━━━━━━━━━━━━━━━━━━━━\u001B[0m\u001B[37m\u001B[0m \u001B[1m87s\u001B[0m 22ms/step - accuracy: 0.8849 - auc: 0.9522 - loss: 0.2796 - val_accuracy: 0.8867 - val_auc: 0.9549 - val_loss: 0.2722\n",
      "Epoch 43/100\n",
      "\u001B[1m3973/3973\u001B[0m \u001B[32m━━━━━━━━━━━━━━━━━━━━\u001B[0m\u001B[37m\u001B[0m \u001B[1m1122s\u001B[0m 282ms/step - accuracy: 0.8853 - auc: 0.9526 - loss: 0.2786 - val_accuracy: 0.8824 - val_auc: 0.9523 - val_loss: 0.2807\n",
      "Epoch 44/100\n",
      "\u001B[1m3973/3973\u001B[0m \u001B[32m━━━━━━━━━━━━━━━━━━━━\u001B[0m\u001B[37m\u001B[0m \u001B[1m1144s\u001B[0m 288ms/step - accuracy: 0.8843 - auc: 0.9524 - loss: 0.2794 - val_accuracy: 0.8861 - val_auc: 0.9544 - val_loss: 0.2739\n",
      "Epoch 45/100\n",
      "\u001B[1m3973/3973\u001B[0m \u001B[32m━━━━━━━━━━━━━━━━━━━━\u001B[0m\u001B[37m\u001B[0m \u001B[1m246s\u001B[0m 62ms/step - accuracy: 0.8854 - auc: 0.9525 - loss: 0.2789 - val_accuracy: 0.8860 - val_auc: 0.9547 - val_loss: 0.2731\n",
      "Epoch 46/100\n",
      "\u001B[1m3973/3973\u001B[0m \u001B[32m━━━━━━━━━━━━━━━━━━━━\u001B[0m\u001B[37m\u001B[0m \u001B[1m87s\u001B[0m 22ms/step - accuracy: 0.8855 - auc: 0.9526 - loss: 0.2783 - val_accuracy: 0.8870 - val_auc: 0.9548 - val_loss: 0.2730\n",
      "Epoch 47/100\n",
      "\u001B[1m3973/3973\u001B[0m \u001B[32m━━━━━━━━━━━━━━━━━━━━\u001B[0m\u001B[37m\u001B[0m \u001B[1m991s\u001B[0m 249ms/step - accuracy: 0.8858 - auc: 0.9534 - loss: 0.2763 - val_accuracy: 0.8862 - val_auc: 0.9547 - val_loss: 0.2729\n",
      "Epoch 48/100\n",
      "\u001B[1m3973/3973\u001B[0m \u001B[32m━━━━━━━━━━━━━━━━━━━━\u001B[0m\u001B[37m\u001B[0m \u001B[1m1969s\u001B[0m 496ms/step - accuracy: 0.8856 - auc: 0.9529 - loss: 0.2777 - val_accuracy: 0.8870 - val_auc: 0.9550 - val_loss: 0.2722\n",
      "Epoch 49/100\n",
      "\u001B[1m3973/3973\u001B[0m \u001B[32m━━━━━━━━━━━━━━━━━━━━\u001B[0m\u001B[37m\u001B[0m \u001B[1m652s\u001B[0m 164ms/step - accuracy: 0.8846 - auc: 0.9523 - loss: 0.2793 - val_accuracy: 0.8860 - val_auc: 0.9539 - val_loss: 0.2761\n",
      "Epoch 50/100\n",
      "\u001B[1m3973/3973\u001B[0m \u001B[32m━━━━━━━━━━━━━━━━━━━━\u001B[0m\u001B[37m\u001B[0m \u001B[1m87s\u001B[0m 22ms/step - accuracy: 0.8858 - auc: 0.9523 - loss: 0.2794 - val_accuracy: 0.8870 - val_auc: 0.9551 - val_loss: 0.2719\n",
      "Epoch 51/100\n",
      "\u001B[1m3973/3973\u001B[0m \u001B[32m━━━━━━━━━━━━━━━━━━━━\u001B[0m\u001B[37m\u001B[0m \u001B[1m1124s\u001B[0m 283ms/step - accuracy: 0.8848 - auc: 0.9530 - loss: 0.2776 - val_accuracy: 0.8851 - val_auc: 0.9537 - val_loss: 0.2757\n",
      "Epoch 52/100\n",
      "\u001B[1m3973/3973\u001B[0m \u001B[32m━━━━━━━━━━━━━━━━━━━━\u001B[0m\u001B[37m\u001B[0m \u001B[1m88s\u001B[0m 22ms/step - accuracy: 0.8854 - auc: 0.9529 - loss: 0.2778 - val_accuracy: 0.8869 - val_auc: 0.9552 - val_loss: 0.2726\n",
      "Epoch 53/100\n",
      "\u001B[1m3973/3973\u001B[0m \u001B[32m━━━━━━━━━━━━━━━━━━━━\u001B[0m\u001B[37m\u001B[0m \u001B[1m998s\u001B[0m 251ms/step - accuracy: 0.8855 - auc: 0.9529 - loss: 0.2778 - val_accuracy: 0.8834 - val_auc: 0.9536 - val_loss: 0.2770\n",
      "Epoch 54/100\n",
      "\u001B[1m3973/3973\u001B[0m \u001B[32m━━━━━━━━━━━━━━━━━━━━\u001B[0m\u001B[37m\u001B[0m \u001B[1m336s\u001B[0m 85ms/step - accuracy: 0.8859 - auc: 0.9535 - loss: 0.2759 - val_accuracy: 0.8861 - val_auc: 0.9546 - val_loss: 0.2731\n",
      "Epoch 55/100\n",
      "\u001B[1m3973/3973\u001B[0m \u001B[32m━━━━━━━━━━━━━━━━━━━━\u001B[0m\u001B[37m\u001B[0m \u001B[1m96s\u001B[0m 24ms/step - accuracy: 0.8859 - auc: 0.9531 - loss: 0.2772 - val_accuracy: 0.8863 - val_auc: 0.9540 - val_loss: 0.2751\n",
      "Epoch 56/100\n",
      "\u001B[1m3973/3973\u001B[0m \u001B[32m━━━━━━━━━━━━━━━━━━━━\u001B[0m\u001B[37m\u001B[0m \u001B[1m95s\u001B[0m 24ms/step - accuracy: 0.8863 - auc: 0.9533 - loss: 0.2765 - val_accuracy: 0.8871 - val_auc: 0.9544 - val_loss: 0.2740\n",
      "Epoch 57/100\n",
      "\u001B[1m3973/3973\u001B[0m \u001B[32m━━━━━━━━━━━━━━━━━━━━\u001B[0m\u001B[37m\u001B[0m \u001B[1m95s\u001B[0m 24ms/step - accuracy: 0.8870 - auc: 0.9541 - loss: 0.2743 - val_accuracy: 0.8852 - val_auc: 0.9546 - val_loss: 0.2738\n",
      "Epoch 58/100\n",
      "\u001B[1m3973/3973\u001B[0m \u001B[32m━━━━━━━━━━━━━━━━━━━━\u001B[0m\u001B[37m\u001B[0m \u001B[1m97s\u001B[0m 24ms/step - accuracy: 0.8851 - auc: 0.9532 - loss: 0.2768 - val_accuracy: 0.8820 - val_auc: 0.9513 - val_loss: 0.2842\n",
      "Epoch 59/100\n",
      "\u001B[1m3973/3973\u001B[0m \u001B[32m━━━━━━━━━━━━━━━━━━━━\u001B[0m\u001B[37m\u001B[0m \u001B[1m95s\u001B[0m 24ms/step - accuracy: 0.8859 - auc: 0.9531 - loss: 0.2773 - val_accuracy: 0.8868 - val_auc: 0.9557 - val_loss: 0.2698\n",
      "Epoch 60/100\n",
      "\u001B[1m3973/3973\u001B[0m \u001B[32m━━━━━━━━━━━━━━━━━━━━\u001B[0m\u001B[37m\u001B[0m \u001B[1m95s\u001B[0m 24ms/step - accuracy: 0.8865 - auc: 0.9541 - loss: 0.2744 - val_accuracy: 0.8865 - val_auc: 0.9549 - val_loss: 0.2726\n",
      "Epoch 61/100\n",
      "\u001B[1m3973/3973\u001B[0m \u001B[32m━━━━━━━━━━━━━━━━━━━━\u001B[0m\u001B[37m\u001B[0m \u001B[1m94s\u001B[0m 24ms/step - accuracy: 0.8863 - auc: 0.9536 - loss: 0.2755 - val_accuracy: 0.8857 - val_auc: 0.9547 - val_loss: 0.2727\n",
      "Epoch 62/100\n",
      "\u001B[1m3973/3973\u001B[0m \u001B[32m━━━━━━━━━━━━━━━━━━━━\u001B[0m\u001B[37m\u001B[0m \u001B[1m95s\u001B[0m 24ms/step - accuracy: 0.8858 - auc: 0.9539 - loss: 0.2750 - val_accuracy: 0.8867 - val_auc: 0.9550 - val_loss: 0.2722\n",
      "Epoch 63/100\n",
      "\u001B[1m3973/3973\u001B[0m \u001B[32m━━━━━━━━━━━━━━━━━━━━\u001B[0m\u001B[37m\u001B[0m \u001B[1m95s\u001B[0m 24ms/step - accuracy: 0.8864 - auc: 0.9534 - loss: 0.2763 - val_accuracy: 0.8864 - val_auc: 0.9549 - val_loss: 0.2722\n",
      "Epoch 64/100\n",
      "\u001B[1m3973/3973\u001B[0m \u001B[32m━━━━━━━━━━━━━━━━━━━━\u001B[0m\u001B[37m\u001B[0m \u001B[1m95s\u001B[0m 24ms/step - accuracy: 0.8873 - auc: 0.9537 - loss: 0.2753 - val_accuracy: 0.8876 - val_auc: 0.9553 - val_loss: 0.2714\n",
      "Epoch 65/100\n",
      "\u001B[1m3973/3973\u001B[0m \u001B[32m━━━━━━━━━━━━━━━━━━━━\u001B[0m\u001B[37m\u001B[0m \u001B[1m96s\u001B[0m 24ms/step - accuracy: 0.8860 - auc: 0.9537 - loss: 0.2755 - val_accuracy: 0.8849 - val_auc: 0.9542 - val_loss: 0.2742\n",
      "Epoch 66/100\n",
      "\u001B[1m3973/3973\u001B[0m \u001B[32m━━━━━━━━━━━━━━━━━━━━\u001B[0m\u001B[37m\u001B[0m \u001B[1m97s\u001B[0m 24ms/step - accuracy: 0.8869 - auc: 0.9538 - loss: 0.2751 - val_accuracy: 0.8872 - val_auc: 0.9554 - val_loss: 0.2708\n",
      "Epoch 67/100\n",
      "\u001B[1m3973/3973\u001B[0m \u001B[32m━━━━━━━━━━━━━━━━━━━━\u001B[0m\u001B[37m\u001B[0m \u001B[1m94s\u001B[0m 24ms/step - accuracy: 0.8858 - auc: 0.9537 - loss: 0.2753 - val_accuracy: 0.8849 - val_auc: 0.9540 - val_loss: 0.2763\n",
      "Epoch 68/100\n",
      "\u001B[1m3973/3973\u001B[0m \u001B[32m━━━━━━━━━━━━━━━━━━━━\u001B[0m\u001B[37m\u001B[0m \u001B[1m95s\u001B[0m 24ms/step - accuracy: 0.8871 - auc: 0.9542 - loss: 0.2738 - val_accuracy: 0.8878 - val_auc: 0.9550 - val_loss: 0.2734\n",
      "Epoch 69/100\n",
      "\u001B[1m3973/3973\u001B[0m \u001B[32m━━━━━━━━━━━━━━━━━━━━\u001B[0m\u001B[37m\u001B[0m \u001B[1m96s\u001B[0m 24ms/step - accuracy: 0.8861 - auc: 0.9537 - loss: 0.2754 - val_accuracy: 0.8850 - val_auc: 0.9543 - val_loss: 0.2767\n"
     ]
    }
   ],
   "source": [
    "early_stopping = keras.callbacks.EarlyStopping(patience=10, restore_best_weights=True)\n",
    "history = jet_tag_model.fit(X_train, y_train, epochs=100, batch_size=64, validation_data=(X_val, y_val), callbacks=[early_stopping])   "
   ],
   "metadata": {
    "collapsed": false,
    "ExecuteTime": {
     "end_time": "2024-06-23T09:56:14.086172Z",
     "start_time": "2024-06-23T04:09:03.609597Z"
    }
   },
   "id": "e35731bba972f903",
   "execution_count": 15
  },
  {
   "cell_type": "code",
   "outputs": [
    {
     "name": "stdout",
     "output_type": "stream",
     "text": [
      "\u001B[1m7946/7946\u001B[0m \u001B[32m━━━━━━━━━━━━━━━━━━━━\u001B[0m\u001B[37m\u001B[0m \u001B[1m35s\u001B[0m 4ms/step\n",
      "\u001B[1m1403/1403\u001B[0m \u001B[32m━━━━━━━━━━━━━━━━━━━━\u001B[0m\u001B[37m\u001B[0m \u001B[1m6s\u001B[0m 4ms/step\n"
     ]
    }
   ],
   "source": [
    "# perfoming the prediction\n",
    "y_train_pred = jet_tag_model.predict(X_train)\n",
    "y_val_pred = jet_tag_model.predict(X_val)"
   ],
   "metadata": {
    "collapsed": false,
    "ExecuteTime": {
     "end_time": "2024-06-23T09:56:56.107007Z",
     "start_time": "2024-06-23T09:56:14.087610Z"
    }
   },
   "id": "b8387a989fb266f9",
   "execution_count": 16
  },
  {
   "cell_type": "code",
   "outputs": [
    {
     "name": "stdout",
     "output_type": "stream",
     "text": [
      "Trainnig set:\n",
      "Recall: 0.9108\n",
      "Precision: 0.8742\n",
      "Confusion Matrix:\n",
      "[[108837  16852]\n",
      " [ 11472 117093]]\n",
      "Validation set:\n",
      "Recall: 0.9077\n",
      "Precision: 0.8734\n",
      "Confusion Matrix:\n",
      "[[19197  2984]\n",
      " [ 2093 20595]]\n"
     ]
    }
   ],
   "source": [
    "print(\"Trainnig set:\")\n",
    "utilities.display_metrics(y_true=y_train[:, 0], y_pred=y_train_pred[:, 0] > 0.5)\n",
    "print(\"Validation set:\")\n",
    "utilities.display_metrics(y_true=y_val[:, 0], y_pred=y_val_pred[:, 0] > 0.5)"
   ],
   "metadata": {
    "collapsed": false,
    "ExecuteTime": {
     "end_time": "2024-06-23T09:56:56.350743Z",
     "start_time": "2024-06-23T09:56:56.107545Z"
    }
   },
   "id": "25ed25c6fcd807bb",
   "execution_count": 17
  },
  {
   "cell_type": "code",
   "outputs": [
    {
     "data": {
      "text/plain": "<Figure size 640x480 with 1 Axes>",
      "image/png": "[encoded data removed]"
     },
     "metadata": {},
     "output_type": "display_data"
    },
    {
     "name": "stdout",
     "output_type": "stream",
     "text": [
      "AUC: 0.9549\n"
     ]
    }
   ],
   "source": [
    "utilities.display_roc_curve(y_true=y_val[:, 0], y_score=y_val_pred[:, 0])"
   ],
   "metadata": {
    "collapsed": false,
    "ExecuteTime": {
     "end_time": "2024-06-23T09:56:56.426820Z",
     "start_time": "2024-06-23T09:56:56.351954Z"
    }
   },
   "id": "7192d7bb98726c73",
   "execution_count": 18
  },
  {
   "cell_type": "code",
   "outputs": [
    {
     "data": {
      "text/plain": "<Figure size 800x500 with 1 Axes>",
      "image/png": "[encoded data removed]"
     },
     "metadata": {},
     "output_type": "display_data"
    }
   ],
   "source": [
    "utilities.plot_hist_trainning(history)"
   ],
   "metadata": {
    "collapsed": false,
    "ExecuteTime": {
     "end_time": "2024-06-23T09:56:56.524303Z",
     "start_time": "2024-06-23T09:56:56.427737Z"
    }
   },
   "id": "c65000f669de79e0",
   "execution_count": 19
  },
  {
   "cell_type": "code",
   "outputs": [],
   "source": [
    "utilities.save_model(jet_tag_model, history, \"Top_Tagging_ParticleCloud_Final\")"
   ],
   "metadata": {
    "collapsed": false,
    "ExecuteTime": {
     "end_time": "2024-06-23T09:56:56.558009Z",
     "start_time": "2024-06-23T09:56:56.525356Z"
    }
   },
   "id": "210c4dd55b04e09f",
   "execution_count": 20
  }
 ],
 "metadata": {
  "kernelspec": {
   "display_name": "Python 3",
   "language": "python",
   "name": "python3"
  },
  "language_info": {
   "codemirror_mode": {
    "name": "ipython",
    "version": 2
   },
   "file_extension": ".py",
   "mimetype": "text/x-python",
   "name": "python",
   "nbconvert_exporter": "python",
   "pygments_lexer": "ipython2",
   "version": "2.7.6"
  }
 },
 "nbformat": 4,
 "nbformat_minor": 5
}
