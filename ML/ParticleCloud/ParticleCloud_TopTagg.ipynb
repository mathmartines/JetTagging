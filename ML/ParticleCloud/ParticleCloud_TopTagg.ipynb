{
 "cells": [
  {
   "cell_type": "code",
   "execution_count": 8,
   "id": "initial_id",
   "metadata": {
    "collapsed": true,
    "ExecuteTime": {
     "end_time": "2024-06-10T20:44:04.708720Z",
     "start_time": "2024-06-10T20:44:04.705144Z"
    }
   },
   "outputs": [],
   "source": [
    "import pandas as pd\n",
    "import tensorflow as tf\n",
    "from tensorflow import keras\n",
    "from src.ParticleCloud import EdgeConvolutionLayer, ChannelWiseGlobalAvaragePooling\n",
    "from src.Preprocessing import JetProcessingParticleCloud\n",
    "from src.Particle import ParticleType\n",
    "from sklearn.model_selection import train_test_split"
   ]
  },
  {
   "cell_type": "code",
   "outputs": [],
   "source": [
    "data_gluon = pd.read_csv('../../Data/g_jets.csv', header=None, sep=' ')[:500]\n",
    "data_quark = pd.read_csv('../../Data/q_jets.csv', header=None, sep=' ')[:500]\n",
    "data_top = pd.read_csv('../../Data/t_jets.csv', header=None, sep=' ')[:500]"
   ],
   "metadata": {
    "collapsed": false,
    "ExecuteTime": {
     "end_time": "2024-06-10T20:43:33.519573Z",
     "start_time": "2024-06-10T20:43:26.636144Z"
    }
   },
   "id": "300a49bd1ad9f904",
   "execution_count": 2
  },
  {
   "cell_type": "code",
   "outputs": [],
   "source": [
    "# joinning data frames\n",
    "all_jets = pd.concat([data_top, data_quark.loc[:int(len(data_quark)/2), :], data_gluon.loc[:int(len(data_quark)/2), :]], axis=0)\n",
    "all_jets.reset_index(drop=True, inplace=True)\n",
    "# defining the dictionary with the order of jets in the full data frame\n",
    "jets_order = {\n",
    "    ParticleType.Top: (0, len(data_top) - 1), \n",
    "    ParticleType.LightQuark: (len(data_top), len(all_jets) - 1),\n",
    "}"
   ],
   "metadata": {
    "collapsed": false,
    "ExecuteTime": {
     "end_time": "2024-06-10T20:43:33.524996Z",
     "start_time": "2024-06-10T20:43:33.520702Z"
    }
   },
   "id": "1cc1786c3cf3ad38",
   "execution_count": 3
  },
  {
   "cell_type": "code",
   "outputs": [],
   "source": [
    "jet_preprocessing = JetProcessingParticleCloud()\n",
    "X = jet_preprocessing.transform(X=all_jets.to_numpy(), y=jets_order)\n",
    "y = jet_preprocessing.jet_labels"
   ],
   "metadata": {
    "collapsed": false,
    "ExecuteTime": {
     "end_time": "2024-06-10T20:43:33.536716Z",
     "start_time": "2024-06-10T20:43:33.525623Z"
    }
   },
   "id": "93c1ad413de8705c",
   "execution_count": 4
  },
  {
   "cell_type": "code",
   "outputs": [
    {
     "name": "stdout",
     "output_type": "stream",
     "text": [
      "Size of the Training set: 723\n",
      "Size of the Validation set: 128\n",
      "Size of the Test set: 151\n"
     ]
    }
   ],
   "source": [
    "# Dividing the data into trainning, validation, and test\n",
    "# diving the set into trainning, validation, and test\n",
    "X_train, X_test, y_train, y_test = train_test_split(X, y, test_size=0.15, random_state=42)\n",
    "X_train, X_val, y_train, y_val = train_test_split(X_train, y_train, test_size=0.15, random_state=42)\n",
    "\n",
    "print(f\"Size of the Training set: {len(X_train)}\")\n",
    "print(f\"Size of the Validation set: {len(X_val)}\")\n",
    "print(f\"Size of the Test set: {len(X_test)}\")"
   ],
   "metadata": {
    "collapsed": false,
    "ExecuteTime": {
     "end_time": "2024-06-10T20:43:33.540625Z",
     "start_time": "2024-06-10T20:43:33.537867Z"
    }
   },
   "id": "da2d4aef098b04cb",
   "execution_count": 5
  },
  {
   "cell_type": "code",
   "outputs": [
    {
     "data": {
      "text/plain": "\u001B[1mModel: \"functional_2\"\u001B[0m\n",
      "text/html": "<pre style=\"white-space:pre;overflow-x:auto;line-height:normal;font-family:Menlo,'DejaVu Sans Mono',consolas,'Courier New',monospace\"><span style=\"font-weight: bold\">Model: \"functional_2\"</span>\n</pre>\n"
     },
     "metadata": {},
     "output_type": "display_data"
    },
    {
     "data": {
      "text/plain": "┏━━━━━━━━━━━━━━━━━━━━━━━━━━━━━━━━━┳━━━━━━━━━━━━━━━━━━━━━━━━┳━━━━━━━━━━━━━━━┓\n┃\u001B[1m \u001B[0m\u001B[1mLayer (type)                   \u001B[0m\u001B[1m \u001B[0m┃\u001B[1m \u001B[0m\u001B[1mOutput Shape          \u001B[0m\u001B[1m \u001B[0m┃\u001B[1m \u001B[0m\u001B[1m      Param #\u001B[0m\u001B[1m \u001B[0m┃\n┡━━━━━━━━━━━━━━━━━━━━━━━━━━━━━━━━━╇━━━━━━━━━━━━━━━━━━━━━━━━╇━━━━━━━━━━━━━━━┩\n│ input_layer_1 (\u001B[38;5;33mInputLayer\u001B[0m)      │ (\u001B[38;5;45mNone\u001B[0m, \u001B[38;5;34m30\u001B[0m, \u001B[38;5;34m3\u001B[0m)          │             \u001B[38;5;34m0\u001B[0m │\n├─────────────────────────────────┼────────────────────────┼───────────────┤\n│ edge_convolution_layer          │ (\u001B[38;5;45mNone\u001B[0m, \u001B[38;5;34m30\u001B[0m, \u001B[38;5;34m3\u001B[0m)          │            \u001B[38;5;34m63\u001B[0m │\n│ (\u001B[38;5;33mEdgeConvolutionLayer\u001B[0m)          │                        │               │\n└─────────────────────────────────┴────────────────────────┴───────────────┘\n",
      "text/html": "<pre style=\"white-space:pre;overflow-x:auto;line-height:normal;font-family:Menlo,'DejaVu Sans Mono',consolas,'Courier New',monospace\">┏━━━━━━━━━━━━━━━━━━━━━━━━━━━━━━━━━┳━━━━━━━━━━━━━━━━━━━━━━━━┳━━━━━━━━━━━━━━━┓\n┃<span style=\"font-weight: bold\"> Layer (type)                    </span>┃<span style=\"font-weight: bold\"> Output Shape           </span>┃<span style=\"font-weight: bold\">       Param # </span>┃\n┡━━━━━━━━━━━━━━━━━━━━━━━━━━━━━━━━━╇━━━━━━━━━━━━━━━━━━━━━━━━╇━━━━━━━━━━━━━━━┩\n│ input_layer_1 (<span style=\"color: #0087ff; text-decoration-color: #0087ff\">InputLayer</span>)      │ (<span style=\"color: #00d7ff; text-decoration-color: #00d7ff\">None</span>, <span style=\"color: #00af00; text-decoration-color: #00af00\">30</span>, <span style=\"color: #00af00; text-decoration-color: #00af00\">3</span>)          │             <span style=\"color: #00af00; text-decoration-color: #00af00\">0</span> │\n├─────────────────────────────────┼────────────────────────┼───────────────┤\n│ edge_convolution_layer          │ (<span style=\"color: #00d7ff; text-decoration-color: #00d7ff\">None</span>, <span style=\"color: #00af00; text-decoration-color: #00af00\">30</span>, <span style=\"color: #00af00; text-decoration-color: #00af00\">3</span>)          │            <span style=\"color: #00af00; text-decoration-color: #00af00\">63</span> │\n│ (<span style=\"color: #0087ff; text-decoration-color: #0087ff\">EdgeConvolutionLayer</span>)          │                        │               │\n└─────────────────────────────────┴────────────────────────┴───────────────┘\n</pre>\n"
     },
     "metadata": {},
     "output_type": "display_data"
    },
    {
     "data": {
      "text/plain": "\u001B[1m Total params: \u001B[0m\u001B[38;5;34m63\u001B[0m (252.00 B)\n",
      "text/html": "<pre style=\"white-space:pre;overflow-x:auto;line-height:normal;font-family:Menlo,'DejaVu Sans Mono',consolas,'Courier New',monospace\"><span style=\"font-weight: bold\"> Total params: </span><span style=\"color: #00af00; text-decoration-color: #00af00\">63</span> (252.00 B)\n</pre>\n"
     },
     "metadata": {},
     "output_type": "display_data"
    },
    {
     "data": {
      "text/plain": "\u001B[1m Trainable params: \u001B[0m\u001B[38;5;34m63\u001B[0m (252.00 B)\n",
      "text/html": "<pre style=\"white-space:pre;overflow-x:auto;line-height:normal;font-family:Menlo,'DejaVu Sans Mono',consolas,'Courier New',monospace\"><span style=\"font-weight: bold\"> Trainable params: </span><span style=\"color: #00af00; text-decoration-color: #00af00\">63</span> (252.00 B)\n</pre>\n"
     },
     "metadata": {},
     "output_type": "display_data"
    },
    {
     "data": {
      "text/plain": "\u001B[1m Non-trainable params: \u001B[0m\u001B[38;5;34m0\u001B[0m (0.00 B)\n",
      "text/html": "<pre style=\"white-space:pre;overflow-x:auto;line-height:normal;font-family:Menlo,'DejaVu Sans Mono',consolas,'Courier New',monospace\"><span style=\"font-weight: bold\"> Non-trainable params: </span><span style=\"color: #00af00; text-decoration-color: #00af00\">0</span> (0.00 B)\n</pre>\n"
     },
     "metadata": {},
     "output_type": "display_data"
    }
   ],
   "source": [
    "# first we need the MLP\n",
    "# just including one layer\n",
    "mlp_jets = keras.Sequential([\n",
    "    keras.layers.InputLayer(shape=[6]),\n",
    "    keras.layers.Dense(4, activation='relu'),\n",
    "    keras.layers.Dense(4, activation='relu'),\n",
    "    keras.layers.Dense(3, activation='relu')\n",
    "])\n",
    "\n",
    "# defining the EdgeConv layer\n",
    "edge_convolution_layer = EdgeConvolutionLayer(mlp=mlp_jets, k_neighbors=7, final_index_coord=2, max_number_particles=30)\n",
    "\n",
    "# Create the model\n",
    "input_data = keras.layers.Input(shape=(30, 3))\n",
    "edge_outputs = edge_convolution_layer(input_data)\n",
    "jet_tag_model = keras.models.Model(inputs=input_data, outputs=edge_outputs)\n",
    "\n",
    "jet_tag_model.summary()"
   ],
   "metadata": {
    "collapsed": false,
    "ExecuteTime": {
     "end_time": "2024-06-10T20:43:33.578615Z",
     "start_time": "2024-06-10T20:43:33.541097Z"
    }
   },
   "id": "f688efb2d5bb7c15",
   "execution_count": 6
  },
  {
   "cell_type": "code",
   "outputs": [],
   "source": [
    "pooling = ChannelWiseGlobalAvaragePooling()"
   ],
   "metadata": {
    "collapsed": false,
    "ExecuteTime": {
     "end_time": "2024-06-10T20:44:07.225432Z",
     "start_time": "2024-06-10T20:44:07.221292Z"
    }
   },
   "id": "90436aeb693ea1b1",
   "execution_count": 9
  },
  {
   "cell_type": "code",
   "outputs": [],
   "source": [
    "X_trans = edge_convolution_layer.call_on_sample(X[0])"
   ],
   "metadata": {
    "collapsed": false,
    "ExecuteTime": {
     "end_time": "2024-06-10T20:44:22.309895Z",
     "start_time": "2024-06-10T20:44:22.290072Z"
    }
   },
   "id": "33a4a6bfa753671a",
   "execution_count": 10
  },
  {
   "cell_type": "code",
   "outputs": [
    {
     "data": {
      "text/plain": "<tf.Tensor: shape=(30, 4), dtype=float32, numpy=\narray([[0.        , 0.        , 0.        , 1.        ],\n       [0.01648343, 0.        , 0.        , 1.        ],\n       [0.0171672 , 0.        , 0.        , 1.        ],\n       [0.02060091, 0.        , 0.        , 1.        ],\n       [0.03057958, 0.        , 0.        , 1.        ],\n       [0.04213989, 0.        , 0.        , 1.        ],\n       [0.04007984, 0.        , 0.        , 1.        ],\n       [0.03887902, 0.        , 0.        , 1.        ],\n       [0.0426135 , 0.        , 0.        , 1.        ],\n       [0.01885618, 0.        , 0.        , 1.        ],\n       [0.04646039, 0.        , 0.        , 1.        ],\n       [0.00140008, 0.        , 0.        , 1.        ],\n       [0.04768058, 0.        , 0.        , 1.        ],\n       [0.05582932, 0.        , 0.        , 1.        ],\n       [0.04763347, 0.        , 0.        , 1.        ],\n       [0.04483431, 0.        , 0.        , 1.        ],\n       [0.        , 0.        , 0.        , 1.        ],\n       [0.        , 0.        , 0.        , 1.        ],\n       [0.05209744, 0.        , 0.        , 1.        ],\n       [0.02123759, 0.        , 0.        , 1.        ],\n       [0.01546143, 0.        , 0.        , 1.        ],\n       [0.03326336, 0.        , 0.        , 1.        ],\n       [0.09945488, 0.        , 0.        , 1.        ],\n       [0.        , 0.        , 0.        , 1.        ],\n       [0.        , 0.        , 0.        , 1.        ],\n       [0.        , 0.        , 0.        , 0.        ],\n       [0.        , 0.        , 0.        , 0.        ],\n       [0.        , 0.        , 0.        , 0.        ],\n       [0.        , 0.        , 0.        , 0.        ],\n       [0.        , 0.        , 0.        , 0.        ]], dtype=float32)>"
     },
     "execution_count": 11,
     "metadata": {},
     "output_type": "execute_result"
    }
   ],
   "source": [
    "X_trans"
   ],
   "metadata": {
    "collapsed": false,
    "ExecuteTime": {
     "end_time": "2024-06-10T20:44:29.945084Z",
     "start_time": "2024-06-10T20:44:29.941134Z"
    }
   },
   "id": "39b196babc2f7df7",
   "execution_count": 11
  },
  {
   "cell_type": "code",
   "outputs": [
    {
     "data": {
      "text/plain": "<tf.Tensor: shape=(5, 3), dtype=float32, numpy=\narray([[0.0293101 , 0.        , 0.        ],\n       [0.00919116, 0.        , 0.        ],\n       [0.0106113 , 0.        , 0.        ],\n       [0.02302834, 0.        , 0.        ],\n       [0.02532112, 0.        , 0.        ]], dtype=float32)>"
     },
     "execution_count": 17,
     "metadata": {},
     "output_type": "execute_result"
    }
   ],
   "source": [
    "Xs = edge_convolution_layer.call(X[:5])\n",
    "pooling.call(Xs)"
   ],
   "metadata": {
    "collapsed": false,
    "ExecuteTime": {
     "end_time": "2024-06-10T20:46:30.914552Z",
     "start_time": "2024-06-10T20:46:30.871417Z"
    }
   },
   "id": "24b0f73e4694b0e4",
   "execution_count": 17
  },
  {
   "cell_type": "code",
   "outputs": [
    {
     "data": {
      "text/plain": "<tf.Tensor: shape=(5, 30, 4), dtype=float32, numpy=\narray([[[0.00000000e+00, 0.00000000e+00, 0.00000000e+00, 1.00000000e+00],\n        [1.64834317e-02, 0.00000000e+00, 0.00000000e+00, 1.00000000e+00],\n        [1.71671975e-02, 0.00000000e+00, 0.00000000e+00, 1.00000000e+00],\n        [2.06009150e-02, 0.00000000e+00, 0.00000000e+00, 1.00000000e+00],\n        [3.05795800e-02, 0.00000000e+00, 0.00000000e+00, 1.00000000e+00],\n        [4.21398915e-02, 0.00000000e+00, 0.00000000e+00, 1.00000000e+00],\n        [4.00798433e-02, 0.00000000e+00, 0.00000000e+00, 1.00000000e+00],\n        [3.88790183e-02, 0.00000000e+00, 0.00000000e+00, 1.00000000e+00],\n        [4.26135026e-02, 0.00000000e+00, 0.00000000e+00, 1.00000000e+00],\n        [1.88561808e-02, 0.00000000e+00, 0.00000000e+00, 1.00000000e+00],\n        [4.64603901e-02, 0.00000000e+00, 0.00000000e+00, 1.00000000e+00],\n        [1.40008144e-03, 0.00000000e+00, 0.00000000e+00, 1.00000000e+00],\n        [4.76805829e-02, 0.00000000e+00, 0.00000000e+00, 1.00000000e+00],\n        [5.58293238e-02, 0.00000000e+00, 0.00000000e+00, 1.00000000e+00],\n        [4.76334691e-02, 0.00000000e+00, 0.00000000e+00, 1.00000000e+00],\n        [4.48343083e-02, 0.00000000e+00, 0.00000000e+00, 1.00000000e+00],\n        [0.00000000e+00, 0.00000000e+00, 0.00000000e+00, 1.00000000e+00],\n        [0.00000000e+00, 0.00000000e+00, 0.00000000e+00, 1.00000000e+00],\n        [5.20974398e-02, 0.00000000e+00, 0.00000000e+00, 1.00000000e+00],\n        [2.12375857e-02, 0.00000000e+00, 0.00000000e+00, 1.00000000e+00],\n        [1.54614253e-02, 0.00000000e+00, 0.00000000e+00, 1.00000000e+00],\n        [3.32633592e-02, 0.00000000e+00, 0.00000000e+00, 1.00000000e+00],\n        [9.94548798e-02, 0.00000000e+00, 0.00000000e+00, 1.00000000e+00],\n        [0.00000000e+00, 0.00000000e+00, 0.00000000e+00, 1.00000000e+00],\n        [0.00000000e+00, 0.00000000e+00, 0.00000000e+00, 1.00000000e+00],\n        [0.00000000e+00, 0.00000000e+00, 0.00000000e+00, 0.00000000e+00],\n        [0.00000000e+00, 0.00000000e+00, 0.00000000e+00, 0.00000000e+00],\n        [0.00000000e+00, 0.00000000e+00, 0.00000000e+00, 0.00000000e+00],\n        [0.00000000e+00, 0.00000000e+00, 0.00000000e+00, 0.00000000e+00],\n        [0.00000000e+00, 0.00000000e+00, 0.00000000e+00, 0.00000000e+00]],\n\n       [[0.00000000e+00, 0.00000000e+00, 0.00000000e+00, 1.00000000e+00],\n        [0.00000000e+00, 0.00000000e+00, 0.00000000e+00, 1.00000000e+00],\n        [0.00000000e+00, 0.00000000e+00, 0.00000000e+00, 1.00000000e+00],\n        [1.49082486e-03, 0.00000000e+00, 0.00000000e+00, 1.00000000e+00],\n        [2.74754153e-03, 0.00000000e+00, 0.00000000e+00, 1.00000000e+00],\n        [2.79924809e-03, 0.00000000e+00, 0.00000000e+00, 1.00000000e+00],\n        [0.00000000e+00, 0.00000000e+00, 0.00000000e+00, 1.00000000e+00],\n        [9.24783945e-03, 0.00000000e+00, 0.00000000e+00, 1.00000000e+00],\n        [6.12564664e-03, 0.00000000e+00, 0.00000000e+00, 1.00000000e+00],\n        [1.63270102e-03, 0.00000000e+00, 0.00000000e+00, 1.00000000e+00],\n        [0.00000000e+00, 0.00000000e+00, 0.00000000e+00, 1.00000000e+00],\n        [9.29794181e-03, 0.00000000e+00, 0.00000000e+00, 1.00000000e+00],\n        [2.89485441e-03, 0.00000000e+00, 0.00000000e+00, 1.00000000e+00],\n        [1.86887030e-02, 0.00000000e+00, 0.00000000e+00, 1.00000000e+00],\n        [1.71303898e-02, 0.00000000e+00, 0.00000000e+00, 1.00000000e+00],\n        [2.14607231e-02, 0.00000000e+00, 0.00000000e+00, 1.00000000e+00],\n        [1.81794595e-02, 0.00000000e+00, 0.00000000e+00, 1.00000000e+00],\n        [1.98050756e-02, 0.00000000e+00, 0.00000000e+00, 1.00000000e+00],\n        [1.98528226e-02, 0.00000000e+00, 0.00000000e+00, 1.00000000e+00],\n        [1.95583254e-02, 0.00000000e+00, 0.00000000e+00, 1.00000000e+00],\n        [0.00000000e+00, 0.00000000e+00, 0.00000000e+00, 1.00000000e+00],\n        [0.00000000e+00, 0.00000000e+00, 0.00000000e+00, 1.00000000e+00],\n        [4.73677320e-03, 0.00000000e+00, 0.00000000e+00, 1.00000000e+00],\n        [2.14254297e-02, 0.00000000e+00, 0.00000000e+00, 1.00000000e+00],\n        [3.14874612e-02, 0.00000000e+00, 0.00000000e+00, 1.00000000e+00],\n        [1.92064941e-02, 0.00000000e+00, 0.00000000e+00, 1.00000000e+00],\n        [1.36319513e-03, 0.00000000e+00, 0.00000000e+00, 1.00000000e+00],\n        [1.24991871e-03, 0.00000000e+00, 0.00000000e+00, 1.00000000e+00],\n        [2.53535677e-02, 0.00000000e+00, 0.00000000e+00, 1.00000000e+00],\n        [0.00000000e+00, 0.00000000e+00, 0.00000000e+00, 1.00000000e+00]],\n\n       [[0.00000000e+00, 0.00000000e+00, 0.00000000e+00, 1.00000000e+00],\n        [0.00000000e+00, 0.00000000e+00, 0.00000000e+00, 1.00000000e+00],\n        [0.00000000e+00, 0.00000000e+00, 0.00000000e+00, 1.00000000e+00],\n        [0.00000000e+00, 0.00000000e+00, 0.00000000e+00, 1.00000000e+00],\n        [0.00000000e+00, 0.00000000e+00, 0.00000000e+00, 1.00000000e+00],\n        [0.00000000e+00, 0.00000000e+00, 0.00000000e+00, 1.00000000e+00],\n        [0.00000000e+00, 0.00000000e+00, 0.00000000e+00, 1.00000000e+00],\n        [1.05147045e-02, 0.00000000e+00, 0.00000000e+00, 1.00000000e+00],\n        [1.15240393e-02, 0.00000000e+00, 0.00000000e+00, 1.00000000e+00],\n        [2.07574498e-02, 0.00000000e+00, 0.00000000e+00, 1.00000000e+00],\n        [2.10411046e-02, 0.00000000e+00, 0.00000000e+00, 1.00000000e+00],\n        [0.00000000e+00, 0.00000000e+00, 0.00000000e+00, 1.00000000e+00],\n        [5.25215361e-03, 0.00000000e+00, 0.00000000e+00, 1.00000000e+00],\n        [1.18795577e-02, 0.00000000e+00, 0.00000000e+00, 1.00000000e+00],\n        [5.61844837e-03, 0.00000000e+00, 0.00000000e+00, 1.00000000e+00],\n        [1.28269326e-02, 0.00000000e+00, 0.00000000e+00, 1.00000000e+00],\n        [7.05705257e-03, 0.00000000e+00, 0.00000000e+00, 1.00000000e+00],\n        [1.11308629e-02, 0.00000000e+00, 0.00000000e+00, 1.00000000e+00],\n        [1.67415198e-02, 0.00000000e+00, 0.00000000e+00, 1.00000000e+00],\n        [2.37477068e-02, 0.00000000e+00, 0.00000000e+00, 1.00000000e+00],\n        [5.21159871e-03, 0.00000000e+00, 0.00000000e+00, 1.00000000e+00],\n        [1.08150551e-02, 0.00000000e+00, 0.00000000e+00, 1.00000000e+00],\n        [1.98438745e-02, 0.00000000e+00, 0.00000000e+00, 1.00000000e+00],\n        [2.01148796e-03, 0.00000000e+00, 0.00000000e+00, 1.00000000e+00],\n        [2.65791025e-02, 0.00000000e+00, 0.00000000e+00, 1.00000000e+00],\n        [2.75505651e-02, 0.00000000e+00, 0.00000000e+00, 1.00000000e+00],\n        [2.54289042e-02, 0.00000000e+00, 0.00000000e+00, 1.00000000e+00],\n        [1.19829094e-02, 0.00000000e+00, 0.00000000e+00, 1.00000000e+00],\n        [0.00000000e+00, 0.00000000e+00, 0.00000000e+00, 1.00000000e+00],\n        [3.08240615e-02, 0.00000000e+00, 0.00000000e+00, 1.00000000e+00]],\n\n       [[0.00000000e+00, 0.00000000e+00, 0.00000000e+00, 1.00000000e+00],\n        [0.00000000e+00, 0.00000000e+00, 0.00000000e+00, 1.00000000e+00],\n        [0.00000000e+00, 0.00000000e+00, 0.00000000e+00, 1.00000000e+00],\n        [1.21176159e-02, 0.00000000e+00, 0.00000000e+00, 1.00000000e+00],\n        [4.14910540e-02, 0.00000000e+00, 0.00000000e+00, 1.00000000e+00],\n        [2.68761511e-03, 0.00000000e+00, 0.00000000e+00, 1.00000000e+00],\n        [6.08563051e-02, 0.00000000e+00, 0.00000000e+00, 1.00000000e+00],\n        [1.71471934e-03, 0.00000000e+00, 0.00000000e+00, 1.00000000e+00],\n        [0.00000000e+00, 0.00000000e+00, 0.00000000e+00, 1.00000000e+00],\n        [6.69468865e-02, 0.00000000e+00, 0.00000000e+00, 1.00000000e+00],\n        [6.91112713e-04, 0.00000000e+00, 0.00000000e+00, 1.00000000e+00],\n        [6.97543547e-02, 0.00000000e+00, 0.00000000e+00, 1.00000000e+00],\n        [7.19014148e-04, 0.00000000e+00, 0.00000000e+00, 1.00000000e+00],\n        [1.44990729e-02, 0.00000000e+00, 0.00000000e+00, 1.00000000e+00],\n        [7.09623322e-02, 0.00000000e+00, 0.00000000e+00, 1.00000000e+00],\n        [2.04998869e-02, 0.00000000e+00, 0.00000000e+00, 1.00000000e+00],\n        [2.98389862e-03, 0.00000000e+00, 0.00000000e+00, 1.00000000e+00],\n        [2.51370715e-03, 0.00000000e+00, 0.00000000e+00, 1.00000000e+00],\n        [2.21896209e-02, 0.00000000e+00, 0.00000000e+00, 1.00000000e+00],\n        [1.91655755e-03, 0.00000000e+00, 0.00000000e+00, 1.00000000e+00],\n        [2.71405615e-02, 0.00000000e+00, 0.00000000e+00, 1.00000000e+00],\n        [5.42350188e-02, 0.00000000e+00, 0.00000000e+00, 1.00000000e+00],\n        [1.47901047e-02, 0.00000000e+00, 0.00000000e+00, 1.00000000e+00],\n        [1.52633833e-02, 0.00000000e+00, 0.00000000e+00, 1.00000000e+00],\n        [1.48799168e-02, 0.00000000e+00, 0.00000000e+00, 1.00000000e+00],\n        [2.93200202e-02, 0.00000000e+00, 0.00000000e+00, 1.00000000e+00],\n        [3.27286497e-02, 0.00000000e+00, 0.00000000e+00, 1.00000000e+00],\n        [1.13540292e-02, 0.00000000e+00, 0.00000000e+00, 1.00000000e+00],\n        [1.02501558e-02, 0.00000000e+00, 0.00000000e+00, 1.00000000e+00],\n        [8.83447155e-02, 0.00000000e+00, 0.00000000e+00, 1.00000000e+00]],\n\n       [[0.00000000e+00, 0.00000000e+00, 0.00000000e+00, 1.00000000e+00],\n        [0.00000000e+00, 0.00000000e+00, 0.00000000e+00, 1.00000000e+00],\n        [2.42646737e-03, 0.00000000e+00, 0.00000000e+00, 1.00000000e+00],\n        [0.00000000e+00, 0.00000000e+00, 0.00000000e+00, 1.00000000e+00],\n        [0.00000000e+00, 0.00000000e+00, 0.00000000e+00, 1.00000000e+00],\n        [2.47647963e-03, 0.00000000e+00, 0.00000000e+00, 1.00000000e+00],\n        [2.93800104e-02, 0.00000000e+00, 0.00000000e+00, 1.00000000e+00],\n        [6.05274877e-03, 0.00000000e+00, 0.00000000e+00, 1.00000000e+00],\n        [2.59110145e-02, 0.00000000e+00, 0.00000000e+00, 1.00000000e+00],\n        [6.68613240e-02, 0.00000000e+00, 0.00000000e+00, 1.00000000e+00],\n        [3.71562643e-03, 0.00000000e+00, 0.00000000e+00, 1.00000000e+00],\n        [4.26478358e-03, 0.00000000e+00, 0.00000000e+00, 1.00000000e+00],\n        [8.40718821e-02, 0.00000000e+00, 0.00000000e+00, 1.00000000e+00],\n        [1.00004505e-02, 0.00000000e+00, 0.00000000e+00, 1.00000000e+00],\n        [8.60393699e-03, 0.00000000e+00, 0.00000000e+00, 1.00000000e+00],\n        [4.99220612e-03, 0.00000000e+00, 0.00000000e+00, 1.00000000e+00],\n        [1.52944112e-02, 0.00000000e+00, 0.00000000e+00, 1.00000000e+00],\n        [9.09365993e-03, 0.00000000e+00, 0.00000000e+00, 1.00000000e+00],\n        [5.04373312e-02, 0.00000000e+00, 0.00000000e+00, 1.00000000e+00],\n        [3.70082967e-02, 0.00000000e+00, 0.00000000e+00, 1.00000000e+00],\n        [8.55032280e-02, 0.00000000e+00, 0.00000000e+00, 1.00000000e+00],\n        [1.03204353e-02, 0.00000000e+00, 0.00000000e+00, 1.00000000e+00],\n        [6.36230186e-02, 0.00000000e+00, 0.00000000e+00, 1.00000000e+00],\n        [1.28138829e-02, 0.00000000e+00, 0.00000000e+00, 1.00000000e+00],\n        [3.97734866e-02, 0.00000000e+00, 0.00000000e+00, 1.00000000e+00],\n        [7.90403485e-02, 0.00000000e+00, 0.00000000e+00, 1.00000000e+00],\n        [3.89404520e-02, 0.00000000e+00, 0.00000000e+00, 1.00000000e+00],\n        [7.52470409e-03, 0.00000000e+00, 0.00000000e+00, 1.00000000e+00],\n        [5.28765880e-02, 0.00000000e+00, 0.00000000e+00, 1.00000000e+00],\n        [8.62688757e-03, 0.00000000e+00, 0.00000000e+00, 1.00000000e+00]]],\n      dtype=float32)>"
     },
     "execution_count": 15,
     "metadata": {},
     "output_type": "execute_result"
    }
   ],
   "source": [
    "edge_convolution_layer.call(X[:5])"
   ],
   "metadata": {
    "collapsed": false,
    "ExecuteTime": {
     "end_time": "2024-06-10T20:46:17.010572Z",
     "start_time": "2024-06-10T20:46:16.923127Z"
    }
   },
   "id": "b712650a073e18fa",
   "execution_count": 15
  },
  {
   "cell_type": "code",
   "outputs": [],
   "source": [
    "jet_tag_model.compile(optimizer='adam', loss='crossentropy', metrics=['accuracy'])"
   ],
   "metadata": {
    "collapsed": false,
    "ExecuteTime": {
     "end_time": "2024-06-10T15:10:24.285859Z",
     "start_time": "2024-06-10T15:10:24.276284Z"
    }
   },
   "id": "d5624b5dd88e5b52",
   "execution_count": 10
  },
  {
   "cell_type": "code",
   "outputs": [
    {
     "name": "stdout",
     "output_type": "stream",
     "text": [
      "Epoch 1/20\n",
      "WARNING:tensorflow:From /opt/anaconda3/envs/PhD/lib/python3.11/site-packages/tensorflow/python/util/deprecation.py:660: calling map_fn_v2 (from tensorflow.python.ops.map_fn) with dtype is deprecated and will be removed in a future version.\n",
      "Instructions for updating:\n",
      "Use fn_output_signature instead\n"
     ]
    },
    {
     "ename": "OperatorNotAllowedInGraphError",
     "evalue": "Exception encountered when calling JetTagModel.call().\n\n\u001B[1min user code:\n\n    File \"/var/folders/pk/v5d5f4l54wn_4q25t5hcq06w0000gn/T/ipykernel_12131/2501383171.py\", line 9, in call  *\n        return self.edge_convolution_layer(inputs)\n    File \"/opt/anaconda3/envs/PhD/lib/python3.11/site-packages/keras/src/utils/traceback_utils.py\", line 122, in error_handler  **\n        raise e.with_traceback(filtered_tb) from None\n    File \"/Users/martines/Desktop/PhD/IA/IntroML/JetTagging/src/ParticleCloud.py\", line 19, in call\n        return tf.map_fn(self.call_on_sample, inputs, dtype=tf.float32)\n\n    OperatorNotAllowedInGraphError: Exception encountered when calling EdgeConvolutionLayerSimple.call().\n    \n    \u001B[1min user code:\n    \n        File \"/Users/martines/Desktop/PhD/IA/IntroML/JetTagging/src/ParticleCloud.py\", line 36, in call_on_sample  *\n            for neighbor_index, index_cloud in zip(self._find_neighbors(particle_index, coordinates),\n    \n        OperatorNotAllowedInGraphError: Iterating over a symbolic `tf.Tensor` is not allowed. You can attempt the following resolutions to the problem: If you are running in Graph mode, use Eager execution mode or decorate this function with @tf.function. If you are using AutoGraph, you can try decorating this function with @tf.function. If that does not work, then you may be using an unsupported feature or your source code may not be visible to AutoGraph. See https://github.com/tensorflow/tensorflow/blob/master/tensorflow/python/autograph/g3doc/reference/limitations.md#access-to-source-code for more information.\n    \u001B[0m\n    \n    Arguments received by EdgeConvolutionLayerSimple.call():\n      • inputs=tf.Tensor(shape=(None, 30, 3), dtype=float32)\n\u001B[0m\n\nArguments received by JetTagModel.call():\n  • inputs=tf.Tensor(shape=(None, 30, 3), dtype=float32)",
     "output_type": "error",
     "traceback": [
      "\u001B[0;31m---------------------------------------------------------------------------\u001B[0m",
      "\u001B[0;31mOperatorNotAllowedInGraphError\u001B[0m            Traceback (most recent call last)",
      "Cell \u001B[0;32mIn[11], line 2\u001B[0m\n\u001B[1;32m      1\u001B[0m early_stopping \u001B[38;5;241m=\u001B[39m keras\u001B[38;5;241m.\u001B[39mcallbacks\u001B[38;5;241m.\u001B[39mEarlyStopping(patience\u001B[38;5;241m=\u001B[39m\u001B[38;5;241m5\u001B[39m, restore_best_weights\u001B[38;5;241m=\u001B[39m\u001B[38;5;28;01mTrue\u001B[39;00m)\n\u001B[0;32m----> 2\u001B[0m jet_tag_model\u001B[38;5;241m.\u001B[39mfit(X_train, y_train, epochs\u001B[38;5;241m=\u001B[39m\u001B[38;5;241m20\u001B[39m, batch_size\u001B[38;5;241m=\u001B[39m\u001B[38;5;241m32\u001B[39m, validation_data\u001B[38;5;241m=\u001B[39m(X_val, y_val), callbacks\u001B[38;5;241m=\u001B[39m[early_stopping])\n",
      "File \u001B[0;32m/opt/anaconda3/envs/PhD/lib/python3.11/site-packages/keras/src/utils/traceback_utils.py:122\u001B[0m, in \u001B[0;36mfilter_traceback.<locals>.error_handler\u001B[0;34m(*args, **kwargs)\u001B[0m\n\u001B[1;32m    119\u001B[0m     filtered_tb \u001B[38;5;241m=\u001B[39m _process_traceback_frames(e\u001B[38;5;241m.\u001B[39m__traceback__)\n\u001B[1;32m    120\u001B[0m     \u001B[38;5;66;03m# To get the full stack trace, call:\u001B[39;00m\n\u001B[1;32m    121\u001B[0m     \u001B[38;5;66;03m# `keras.config.disable_traceback_filtering()`\u001B[39;00m\n\u001B[0;32m--> 122\u001B[0m     \u001B[38;5;28;01mraise\u001B[39;00m e\u001B[38;5;241m.\u001B[39mwith_traceback(filtered_tb) \u001B[38;5;28;01mfrom\u001B[39;00m \u001B[38;5;28;01mNone\u001B[39;00m\n\u001B[1;32m    123\u001B[0m \u001B[38;5;28;01mfinally\u001B[39;00m:\n\u001B[1;32m    124\u001B[0m     \u001B[38;5;28;01mdel\u001B[39;00m filtered_tb\n",
      "File \u001B[0;32m/opt/anaconda3/envs/PhD/lib/python3.11/site-packages/keras/src/utils/traceback_utils.py:122\u001B[0m, in \u001B[0;36mfilter_traceback.<locals>.error_handler\u001B[0;34m(*args, **kwargs)\u001B[0m\n\u001B[1;32m    119\u001B[0m     filtered_tb \u001B[38;5;241m=\u001B[39m _process_traceback_frames(e\u001B[38;5;241m.\u001B[39m__traceback__)\n\u001B[1;32m    120\u001B[0m     \u001B[38;5;66;03m# To get the full stack trace, call:\u001B[39;00m\n\u001B[1;32m    121\u001B[0m     \u001B[38;5;66;03m# `keras.config.disable_traceback_filtering()`\u001B[39;00m\n\u001B[0;32m--> 122\u001B[0m     \u001B[38;5;28;01mraise\u001B[39;00m e\u001B[38;5;241m.\u001B[39mwith_traceback(filtered_tb) \u001B[38;5;28;01mfrom\u001B[39;00m \u001B[38;5;28;01mNone\u001B[39;00m\n\u001B[1;32m    123\u001B[0m \u001B[38;5;28;01mfinally\u001B[39;00m:\n\u001B[1;32m    124\u001B[0m     \u001B[38;5;28;01mdel\u001B[39;00m filtered_tb\n",
      "\u001B[0;31mOperatorNotAllowedInGraphError\u001B[0m: Exception encountered when calling JetTagModel.call().\n\n\u001B[1min user code:\n\n    File \"/var/folders/pk/v5d5f4l54wn_4q25t5hcq06w0000gn/T/ipykernel_12131/2501383171.py\", line 9, in call  *\n        return self.edge_convolution_layer(inputs)\n    File \"/opt/anaconda3/envs/PhD/lib/python3.11/site-packages/keras/src/utils/traceback_utils.py\", line 122, in error_handler  **\n        raise e.with_traceback(filtered_tb) from None\n    File \"/Users/martines/Desktop/PhD/IA/IntroML/JetTagging/src/ParticleCloud.py\", line 19, in call\n        return tf.map_fn(self.call_on_sample, inputs, dtype=tf.float32)\n\n    OperatorNotAllowedInGraphError: Exception encountered when calling EdgeConvolutionLayerSimple.call().\n    \n    \u001B[1min user code:\n    \n        File \"/Users/martines/Desktop/PhD/IA/IntroML/JetTagging/src/ParticleCloud.py\", line 36, in call_on_sample  *\n            for neighbor_index, index_cloud in zip(self._find_neighbors(particle_index, coordinates),\n    \n        OperatorNotAllowedInGraphError: Iterating over a symbolic `tf.Tensor` is not allowed. You can attempt the following resolutions to the problem: If you are running in Graph mode, use Eager execution mode or decorate this function with @tf.function. If you are using AutoGraph, you can try decorating this function with @tf.function. If that does not work, then you may be using an unsupported feature or your source code may not be visible to AutoGraph. See https://github.com/tensorflow/tensorflow/blob/master/tensorflow/python/autograph/g3doc/reference/limitations.md#access-to-source-code for more information.\n    \u001B[0m\n    \n    Arguments received by EdgeConvolutionLayerSimple.call():\n      • inputs=tf.Tensor(shape=(None, 30, 3), dtype=float32)\n\u001B[0m\n\nArguments received by JetTagModel.call():\n  • inputs=tf.Tensor(shape=(None, 30, 3), dtype=float32)"
     ]
    }
   ],
   "source": [
    "early_stopping = keras.callbacks.EarlyStopping(patience=5, restore_best_weights=True)\n",
    "jet_tag_model.fit(X_train, y_train, epochs=20, batch_size=32, validation_data=(X_val, y_val), callbacks=[early_stopping])   "
   ],
   "metadata": {
    "collapsed": false,
    "ExecuteTime": {
     "end_time": "2024-06-10T15:10:27.386170Z",
     "start_time": "2024-06-10T15:10:26.906014Z"
    }
   },
   "id": "6f1dbdadcd857240",
   "execution_count": 11
  },
  {
   "cell_type": "code",
   "outputs": [
    {
     "name": "stdout",
     "output_type": "stream",
     "text": [
      "\u001B[1m7872/7872\u001B[0m \u001B[32m━━━━━━━━━━━━━━━━━━━━\u001B[0m\u001B[37m\u001B[0m \u001B[1m18s\u001B[0m 2ms/step\n",
      "\u001B[1m1635/1635\u001B[0m \u001B[32m━━━━━━━━━━━━━━━━━━━━\u001B[0m\u001B[37m\u001B[0m \u001B[1m4s\u001B[0m 2ms/step\n"
     ]
    }
   ],
   "source": [
    "# perfoming the prediction\n",
    "y_train_pred = jet_tag_model.predict(X_train)\n",
    "y_test_pred = jet_tag_model.predict(X_test)"
   ],
   "metadata": {
    "collapsed": false,
    "ExecuteTime": {
     "end_time": "2024-06-10T02:35:53.311152Z",
     "start_time": "2024-06-10T02:35:29.963036Z"
    }
   },
   "id": "734d4bf3ffb25b99",
   "execution_count": 9
  },
  {
   "cell_type": "code",
   "outputs": [],
   "source": [
    "from sklearn.metrics import recall_score, precision_score, confusion_matrix, precision_recall_curve, roc_curve, auc\n",
    "import matplotlib.pyplot as plt"
   ],
   "metadata": {
    "collapsed": false,
    "ExecuteTime": {
     "end_time": "2024-06-10T02:35:53.492247Z",
     "start_time": "2024-06-10T02:35:53.312288Z"
    }
   },
   "id": "7f9bb57f99b21698",
   "execution_count": 10
  },
  {
   "cell_type": "code",
   "outputs": [
    {
     "name": "stdout",
     "output_type": "stream",
     "text": [
      "Trainnig set:\n",
      "Recall for Top tagging: 0.88\n",
      "Precision for Top tagging: 0.83\n",
      "Confusion Matrix\n",
      "[[100471  22797]\n",
      " [ 14899 113714]]\n"
     ]
    }
   ],
   "source": [
    "print(\"Trainnig set:\")\n",
    "print(f\"Recall for Top tagging: {recall_score(y_train[:, 0], y_train_pred[:, 0] > 0.5):.2f}\")\n",
    "print(f\"Precision for Top tagging: {precision_score(y_train[:, 0], y_train_pred[:, 0] > 0.5):.2f}\")\n",
    "print(\"Confusion Matrix\")\n",
    "print(confusion_matrix(y_train[:, 0], y_train_pred[:, 0] > 0.5, labels=[0, 1]))"
   ],
   "metadata": {
    "collapsed": false,
    "ExecuteTime": {
     "end_time": "2024-06-10T02:35:53.699823Z",
     "start_time": "2024-06-10T02:35:53.492743Z"
    }
   },
   "id": "ca926247a201750",
   "execution_count": 11
  },
  {
   "cell_type": "code",
   "outputs": [
    {
     "name": "stdout",
     "output_type": "stream",
     "text": [
      "Test set:\n",
      "Recall for Top tagging: 0.88\n",
      "Precision for Top tagging: 0.83\n",
      "Confusion Matrix\n",
      "[[20824  4900]\n",
      " [ 3085 23485]]\n"
     ]
    }
   ],
   "source": [
    "print(\"Test set:\")\n",
    "print(f\"Recall for Top tagging: {recall_score(y_test[:, 0], y_test_pred[:, 0] > 0.5):.2f}\")\n",
    "print(f\"Precision for Top tagging: {precision_score(y_test[:, 0], y_test_pred[:, 0] > 0.5):.2f}\")\n",
    "print(\"Confusion Matrix\")\n",
    "print(confusion_matrix(y_test[:, 0], y_test_pred[:, 0] > 0.5, labels=[0, 1]))"
   ],
   "metadata": {
    "collapsed": false,
    "ExecuteTime": {
     "end_time": "2024-06-10T02:35:53.743893Z",
     "start_time": "2024-06-10T02:35:53.701169Z"
    }
   },
   "id": "1869da456ea474b0",
   "execution_count": 12
  },
  {
   "cell_type": "code",
   "outputs": [
    {
     "data": {
      "text/plain": "<Figure size 640x480 with 1 Axes>",
      "image/png": "[encoded data removed]"
     },
     "metadata": {},
     "output_type": "display_data"
    },
    {
     "name": "stdout",
     "output_type": "stream",
     "text": [
      "AUC: 0.91\n"
     ]
    }
   ],
   "source": [
    "# roc curve for top tagging \n",
    "fpr, tpr, thresholds = roc_curve(y_train[:, 0], y_train_pred[:, 0])\n",
    "plt.plot(fpr, tpr)\n",
    "plt.xlabel('FPR')\n",
    "plt.ylabel('TPR (Recall)')\n",
    "plt.show()\n",
    "print(f\"AUC: {auc(fpr, tpr):.2f}\")"
   ],
   "metadata": {
    "collapsed": false,
    "ExecuteTime": {
     "end_time": "2024-06-10T02:35:53.855194Z",
     "start_time": "2024-06-10T02:35:53.744626Z"
    }
   },
   "id": "cf522d8845c70490",
   "execution_count": 13
  },
  {
   "cell_type": "code",
   "outputs": [],
   "source": [],
   "metadata": {
    "collapsed": false
   },
   "id": "939edb671adac32d"
  }
 ],
 "metadata": {
  "kernelspec": {
   "display_name": "Python 3",
   "language": "python",
   "name": "python3"
  },
  "language_info": {
   "codemirror_mode": {
    "name": "ipython",
    "version": 2
   },
   "file_extension": ".py",
   "mimetype": "text/x-python",
   "name": "python",
   "nbconvert_exporter": "python",
   "pygments_lexer": "ipython2",
   "version": "2.7.6"
  }
 },
 "nbformat": 4,
 "nbformat_minor": 5
}
