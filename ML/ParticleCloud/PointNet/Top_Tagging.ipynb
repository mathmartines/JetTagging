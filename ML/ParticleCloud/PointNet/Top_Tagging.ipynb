{
 "cells": [
  {
   "cell_type": "code",
   "execution_count": 1,
   "id": "initial_id",
   "metadata": {
    "collapsed": true,
    "ExecuteTime": {
     "end_time": "2024-06-21T11:59:14.263586Z",
     "start_time": "2024-06-21T11:59:11.673034Z"
    }
   },
   "outputs": [],
   "source": [
    "from tensorflow import keras\n",
    "from src.ParticleNet.PointNet import PointNetLayer\n",
    "from src.ParticleNet.GlobalPooling import GlobalAveragePoolingLayer\n",
    "from utilities import utilities\n",
    "from ML.ParticleCloud.data_loaders import load_data_top_tagging"
   ]
  },
  {
   "cell_type": "markdown",
   "source": [
    "#### Loading the Data"
   ],
   "metadata": {
    "collapsed": false
   },
   "id": "9adae866d456f3cc"
  },
  {
   "cell_type": "code",
   "outputs": [],
   "source": [
    "X_train, y_train = load_data_top_tagging(top_quark_path=\"../../../Data/Trainning/t_jets.csv\", quark_data_path=\"../../../Data/Trainning/q_jets.csv\", gluon_data_path=\"../../../Data/Trainning/g_jets.csv\")\n",
    "X_val, y_val = load_data_top_tagging(top_quark_path=\"../../../Data/Validation/t_jets.csv\", quark_data_path=\"../../../Data/Validation/q_jets.csv\", gluon_data_path=\"../../../Data/Validation/g_jets.csv\")"
   ],
   "metadata": {
    "collapsed": false,
    "ExecuteTime": {
     "end_time": "2024-06-21T11:59:30.438168Z",
     "start_time": "2024-06-21T11:59:14.264574Z"
    }
   },
   "id": "a0e90288e9f7902e",
   "execution_count": 2
  },
  {
   "cell_type": "code",
   "outputs": [
    {
     "name": "stdout",
     "output_type": "stream",
     "text": [
      "Size of the Training set: 254254\n",
      "Size of the Validation set: 44869\n"
     ]
    }
   ],
   "source": [
    "print(f\"Size of the Training set: {len(X_train)}\")\n",
    "print(f\"Size of the Validation set: {len(X_val)}\")"
   ],
   "metadata": {
    "collapsed": false,
    "ExecuteTime": {
     "end_time": "2024-06-21T11:59:30.440797Z",
     "start_time": "2024-06-21T11:59:30.438883Z"
    }
   },
   "id": "4ef6b359d2ca78e8",
   "execution_count": 3
  },
  {
   "cell_type": "markdown",
   "source": [
    "#### Setting up the NN"
   ],
   "metadata": {
    "collapsed": false
   },
   "id": "27e0833ab49e08c9"
  },
  {
   "cell_type": "code",
   "outputs": [
    {
     "data": {
      "text/plain": "\u001B[1mModel: \"sequential_5\"\u001B[0m\n",
      "text/html": "<pre style=\"white-space:pre;overflow-x:auto;line-height:normal;font-family:Menlo,'DejaVu Sans Mono',consolas,'Courier New',monospace\"><span style=\"font-weight: bold\">Model: \"sequential_5\"</span>\n</pre>\n"
     },
     "metadata": {},
     "output_type": "display_data"
    },
    {
     "data": {
      "text/plain": "┏━━━━━━━━━━━━━━━━━━━━━━━━━━━━━━━━━┳━━━━━━━━━━━━━━━━━━━━━━━━┳━━━━━━━━━━━━━━━┓\n┃\u001B[1m \u001B[0m\u001B[1mLayer (type)                   \u001B[0m\u001B[1m \u001B[0m┃\u001B[1m \u001B[0m\u001B[1mOutput Shape          \u001B[0m\u001B[1m \u001B[0m┃\u001B[1m \u001B[0m\u001B[1m      Param #\u001B[0m\u001B[1m \u001B[0m┃\n┡━━━━━━━━━━━━━━━━━━━━━━━━━━━━━━━━━╇━━━━━━━━━━━━━━━━━━━━━━━━╇━━━━━━━━━━━━━━━┩\n│ point_net_layer_2               │ (\u001B[38;5;45mNone\u001B[0m, \u001B[38;5;34m30\u001B[0m, \u001B[38;5;34m33\u001B[0m)         │         \u001B[38;5;34m1,216\u001B[0m │\n│ (\u001B[38;5;33mPointNetLayer\u001B[0m)                 │                        │               │\n├─────────────────────────────────┼────────────────────────┼───────────────┤\n│ point_net_layer_3               │ (\u001B[38;5;45mNone\u001B[0m, \u001B[38;5;34m30\u001B[0m, \u001B[38;5;34m65\u001B[0m)         │         \u001B[38;5;34m6,272\u001B[0m │\n│ (\u001B[38;5;33mPointNetLayer\u001B[0m)                 │                        │               │\n├─────────────────────────────────┼────────────────────────┼───────────────┤\n│ global_average_pooling_layer_1  │ (\u001B[38;5;45mNone\u001B[0m, \u001B[38;5;34m64\u001B[0m)             │             \u001B[38;5;34m0\u001B[0m │\n│ (\u001B[38;5;33mGlobalAveragePoolingLayer\u001B[0m)     │                        │               │\n├─────────────────────────────────┼────────────────────────┼───────────────┤\n│ dense_10 (\u001B[38;5;33mDense\u001B[0m)                │ (\u001B[38;5;45mNone\u001B[0m, \u001B[38;5;34m128\u001B[0m)            │         \u001B[38;5;34m8,320\u001B[0m │\n├─────────────────────────────────┼────────────────────────┼───────────────┤\n│ dropout_1 (\u001B[38;5;33mDropout\u001B[0m)             │ (\u001B[38;5;45mNone\u001B[0m, \u001B[38;5;34m128\u001B[0m)            │             \u001B[38;5;34m0\u001B[0m │\n├─────────────────────────────────┼────────────────────────┼───────────────┤\n│ dense_11 (\u001B[38;5;33mDense\u001B[0m)                │ (\u001B[38;5;45mNone\u001B[0m, \u001B[38;5;34m2\u001B[0m)              │           \u001B[38;5;34m258\u001B[0m │\n└─────────────────────────────────┴────────────────────────┴───────────────┘\n",
      "text/html": "<pre style=\"white-space:pre;overflow-x:auto;line-height:normal;font-family:Menlo,'DejaVu Sans Mono',consolas,'Courier New',monospace\">┏━━━━━━━━━━━━━━━━━━━━━━━━━━━━━━━━━┳━━━━━━━━━━━━━━━━━━━━━━━━┳━━━━━━━━━━━━━━━┓\n┃<span style=\"font-weight: bold\"> Layer (type)                    </span>┃<span style=\"font-weight: bold\"> Output Shape           </span>┃<span style=\"font-weight: bold\">       Param # </span>┃\n┡━━━━━━━━━━━━━━━━━━━━━━━━━━━━━━━━━╇━━━━━━━━━━━━━━━━━━━━━━━━╇━━━━━━━━━━━━━━━┩\n│ point_net_layer_2               │ (<span style=\"color: #00d7ff; text-decoration-color: #00d7ff\">None</span>, <span style=\"color: #00af00; text-decoration-color: #00af00\">30</span>, <span style=\"color: #00af00; text-decoration-color: #00af00\">33</span>)         │         <span style=\"color: #00af00; text-decoration-color: #00af00\">1,216</span> │\n│ (<span style=\"color: #0087ff; text-decoration-color: #0087ff\">PointNetLayer</span>)                 │                        │               │\n├─────────────────────────────────┼────────────────────────┼───────────────┤\n│ point_net_layer_3               │ (<span style=\"color: #00d7ff; text-decoration-color: #00d7ff\">None</span>, <span style=\"color: #00af00; text-decoration-color: #00af00\">30</span>, <span style=\"color: #00af00; text-decoration-color: #00af00\">65</span>)         │         <span style=\"color: #00af00; text-decoration-color: #00af00\">6,272</span> │\n│ (<span style=\"color: #0087ff; text-decoration-color: #0087ff\">PointNetLayer</span>)                 │                        │               │\n├─────────────────────────────────┼────────────────────────┼───────────────┤\n│ global_average_pooling_layer_1  │ (<span style=\"color: #00d7ff; text-decoration-color: #00d7ff\">None</span>, <span style=\"color: #00af00; text-decoration-color: #00af00\">64</span>)             │             <span style=\"color: #00af00; text-decoration-color: #00af00\">0</span> │\n│ (<span style=\"color: #0087ff; text-decoration-color: #0087ff\">GlobalAveragePoolingLayer</span>)     │                        │               │\n├─────────────────────────────────┼────────────────────────┼───────────────┤\n│ dense_10 (<span style=\"color: #0087ff; text-decoration-color: #0087ff\">Dense</span>)                │ (<span style=\"color: #00d7ff; text-decoration-color: #00d7ff\">None</span>, <span style=\"color: #00af00; text-decoration-color: #00af00\">128</span>)            │         <span style=\"color: #00af00; text-decoration-color: #00af00\">8,320</span> │\n├─────────────────────────────────┼────────────────────────┼───────────────┤\n│ dropout_1 (<span style=\"color: #0087ff; text-decoration-color: #0087ff\">Dropout</span>)             │ (<span style=\"color: #00d7ff; text-decoration-color: #00d7ff\">None</span>, <span style=\"color: #00af00; text-decoration-color: #00af00\">128</span>)            │             <span style=\"color: #00af00; text-decoration-color: #00af00\">0</span> │\n├─────────────────────────────────┼────────────────────────┼───────────────┤\n│ dense_11 (<span style=\"color: #0087ff; text-decoration-color: #0087ff\">Dense</span>)                │ (<span style=\"color: #00d7ff; text-decoration-color: #00d7ff\">None</span>, <span style=\"color: #00af00; text-decoration-color: #00af00\">2</span>)              │           <span style=\"color: #00af00; text-decoration-color: #00af00\">258</span> │\n└─────────────────────────────────┴────────────────────────┴───────────────┘\n</pre>\n"
     },
     "metadata": {},
     "output_type": "display_data"
    },
    {
     "data": {
      "text/plain": "\u001B[1m Total params: \u001B[0m\u001B[38;5;34m16,066\u001B[0m (62.76 KB)\n",
      "text/html": "<pre style=\"white-space:pre;overflow-x:auto;line-height:normal;font-family:Menlo,'DejaVu Sans Mono',consolas,'Courier New',monospace\"><span style=\"font-weight: bold\"> Total params: </span><span style=\"color: #00af00; text-decoration-color: #00af00\">16,066</span> (62.76 KB)\n</pre>\n"
     },
     "metadata": {},
     "output_type": "display_data"
    },
    {
     "data": {
      "text/plain": "\u001B[1m Trainable params: \u001B[0m\u001B[38;5;34m16,066\u001B[0m (62.76 KB)\n",
      "text/html": "<pre style=\"white-space:pre;overflow-x:auto;line-height:normal;font-family:Menlo,'DejaVu Sans Mono',consolas,'Courier New',monospace\"><span style=\"font-weight: bold\"> Trainable params: </span><span style=\"color: #00af00; text-decoration-color: #00af00\">16,066</span> (62.76 KB)\n</pre>\n"
     },
     "metadata": {},
     "output_type": "display_data"
    },
    {
     "data": {
      "text/plain": "\u001B[1m Non-trainable params: \u001B[0m\u001B[38;5;34m0\u001B[0m (0.00 B)\n",
      "text/html": "<pre style=\"white-space:pre;overflow-x:auto;line-height:normal;font-family:Menlo,'DejaVu Sans Mono',consolas,'Courier New',monospace\"><span style=\"font-weight: bold\"> Non-trainable params: </span><span style=\"color: #00af00; text-decoration-color: #00af00\">0</span> (0.00 B)\n</pre>\n"
     },
     "metadata": {},
     "output_type": "display_data"
    }
   ],
   "source": [
    "# MLP for the first conv layer\n",
    "mlp_jets = keras.Sequential([\n",
    "    keras.layers.InputLayer(shape=[4]),\n",
    "    keras.layers.Dense(32),\n",
    "    keras.layers.LeakyReLU(negative_slope=0.2),\n",
    "    keras.layers.Dense(32),\n",
    "    keras.layers.LeakyReLU(negative_slope=0.2)\n",
    "])\n",
    "\n",
    "mlp_jets2 = keras.Sequential([\n",
    "    keras.layers.InputLayer(shape=[32]),\n",
    "    keras.layers.Dense(64),\n",
    "    keras.layers.LeakyReLU(negative_slope=0.2),\n",
    "    keras.layers.Dense(64),\n",
    "    keras.layers.LeakyReLU(negative_slope=0.2)\n",
    "])\n",
    "\n",
    "# MLP for the second convolutional layer\n",
    "jet_tag_model = keras.Sequential([\n",
    "    keras.layers.InputLayer(shape=(30, 5)),\n",
    "    PointNetLayer(mlp=mlp_jets, output_dim=32),\n",
    "    PointNetLayer(mlp=mlp_jets2, output_dim=64),\n",
    "    GlobalAveragePoolingLayer(),\n",
    "    keras.layers.Dense(128, activation='leaky_relu'),\n",
    "    keras.layers.Dropout(rate=0.1),\n",
    "    keras.layers.Dense(2, activation='softmax')\n",
    "])\n",
    "\n",
    "jet_tag_model.summary()"
   ],
   "metadata": {
    "collapsed": false,
    "ExecuteTime": {
     "end_time": "2024-06-21T12:24:47.203053Z",
     "start_time": "2024-06-21T12:24:47.172838Z"
    }
   },
   "id": "4c0ee8b86b2358c5",
   "execution_count": 15
  },
  {
   "cell_type": "code",
   "outputs": [],
   "source": [
    "jet_tag_model.compile(optimizer='adam', loss='categorical_crossentropy', metrics=['accuracy'])"
   ],
   "metadata": {
    "collapsed": false,
    "ExecuteTime": {
     "end_time": "2024-06-21T12:24:56.160083Z",
     "start_time": "2024-06-21T12:24:56.154021Z"
    }
   },
   "id": "5fb0e67c778798fa",
   "execution_count": 16
  },
  {
   "cell_type": "code",
   "outputs": [
    {
     "name": "stdout",
     "output_type": "stream",
     "text": [
      "Epoch 1/100\n",
      "\u001B[1m3973/3973\u001B[0m \u001B[32m━━━━━━━━━━━━━━━━━━━━\u001B[0m\u001B[37m\u001B[0m \u001B[1m14s\u001B[0m 3ms/step - accuracy: 0.8319 - loss: 0.3828 - val_accuracy: 0.8568 - val_loss: 0.3463\n",
      "Epoch 2/100\n",
      "\u001B[1m3973/3973\u001B[0m \u001B[32m━━━━━━━━━━━━━━━━━━━━\u001B[0m\u001B[37m\u001B[0m \u001B[1m12s\u001B[0m 3ms/step - accuracy: 0.8625 - loss: 0.3385 - val_accuracy: 0.8723 - val_loss: 0.3153\n",
      "Epoch 3/100\n",
      "\u001B[1m3973/3973\u001B[0m \u001B[32m━━━━━━━━━━━━━━━━━━━━\u001B[0m\u001B[37m\u001B[0m \u001B[1m11s\u001B[0m 3ms/step - accuracy: 0.8714 - loss: 0.3233 - val_accuracy: 0.8745 - val_loss: 0.3102\n",
      "Epoch 4/100\n",
      "\u001B[1m3973/3973\u001B[0m \u001B[32m━━━━━━━━━━━━━━━━━━━━\u001B[0m\u001B[37m\u001B[0m \u001B[1m11s\u001B[0m 3ms/step - accuracy: 0.8735 - loss: 0.3154 - val_accuracy: 0.8697 - val_loss: 0.3238\n",
      "Epoch 5/100\n",
      "\u001B[1m3973/3973\u001B[0m \u001B[32m━━━━━━━━━━━━━━━━━━━━\u001B[0m\u001B[37m\u001B[0m \u001B[1m12s\u001B[0m 3ms/step - accuracy: 0.8731 - loss: 0.3147 - val_accuracy: 0.8705 - val_loss: 0.3235\n",
      "Epoch 6/100\n",
      "\u001B[1m3973/3973\u001B[0m \u001B[32m━━━━━━━━━━━━━━━━━━━━\u001B[0m\u001B[37m\u001B[0m \u001B[1m11s\u001B[0m 3ms/step - accuracy: 0.8748 - loss: 0.3121 - val_accuracy: 0.8787 - val_loss: 0.2997\n",
      "Epoch 7/100\n",
      "\u001B[1m3973/3973\u001B[0m \u001B[32m━━━━━━━━━━━━━━━━━━━━\u001B[0m\u001B[37m\u001B[0m \u001B[1m11s\u001B[0m 3ms/step - accuracy: 0.8766 - loss: 0.3066 - val_accuracy: 0.8760 - val_loss: 0.3084\n",
      "Epoch 8/100\n",
      "\u001B[1m3973/3973\u001B[0m \u001B[32m━━━━━━━━━━━━━━━━━━━━\u001B[0m\u001B[37m\u001B[0m \u001B[1m11s\u001B[0m 3ms/step - accuracy: 0.8759 - loss: 0.3082 - val_accuracy: 0.8782 - val_loss: 0.3004\n",
      "Epoch 9/100\n",
      "\u001B[1m3973/3973\u001B[0m \u001B[32m━━━━━━━━━━━━━━━━━━━━\u001B[0m\u001B[37m\u001B[0m \u001B[1m11s\u001B[0m 3ms/step - accuracy: 0.8751 - loss: 0.3074 - val_accuracy: 0.8794 - val_loss: 0.2970\n",
      "Epoch 10/100\n",
      "\u001B[1m3973/3973\u001B[0m \u001B[32m━━━━━━━━━━━━━━━━━━━━\u001B[0m\u001B[37m\u001B[0m \u001B[1m11s\u001B[0m 3ms/step - accuracy: 0.8759 - loss: 0.3059 - val_accuracy: 0.8813 - val_loss: 0.2940\n",
      "Epoch 11/100\n",
      "\u001B[1m3973/3973\u001B[0m \u001B[32m━━━━━━━━━━━━━━━━━━━━\u001B[0m\u001B[37m\u001B[0m \u001B[1m11s\u001B[0m 3ms/step - accuracy: 0.8756 - loss: 0.3064 - val_accuracy: 0.8799 - val_loss: 0.2982\n",
      "Epoch 12/100\n",
      "\u001B[1m3973/3973\u001B[0m \u001B[32m━━━━━━━━━━━━━━━━━━━━\u001B[0m\u001B[37m\u001B[0m \u001B[1m12s\u001B[0m 3ms/step - accuracy: 0.8767 - loss: 0.3046 - val_accuracy: 0.8798 - val_loss: 0.2955\n",
      "Epoch 13/100\n",
      "\u001B[1m3973/3973\u001B[0m \u001B[32m━━━━━━━━━━━━━━━━━━━━\u001B[0m\u001B[37m\u001B[0m \u001B[1m11s\u001B[0m 3ms/step - accuracy: 0.8783 - loss: 0.3014 - val_accuracy: 0.8788 - val_loss: 0.3021\n",
      "Epoch 14/100\n",
      "\u001B[1m3973/3973\u001B[0m \u001B[32m━━━━━━━━━━━━━━━━━━━━\u001B[0m\u001B[37m\u001B[0m \u001B[1m12s\u001B[0m 3ms/step - accuracy: 0.8775 - loss: 0.3031 - val_accuracy: 0.8791 - val_loss: 0.2966\n",
      "Epoch 15/100\n",
      "\u001B[1m3973/3973\u001B[0m \u001B[32m━━━━━━━━━━━━━━━━━━━━\u001B[0m\u001B[37m\u001B[0m \u001B[1m11s\u001B[0m 3ms/step - accuracy: 0.8792 - loss: 0.3009 - val_accuracy: 0.8796 - val_loss: 0.2924\n",
      "Epoch 16/100\n",
      "\u001B[1m3973/3973\u001B[0m \u001B[32m━━━━━━━━━━━━━━━━━━━━\u001B[0m\u001B[37m\u001B[0m \u001B[1m12s\u001B[0m 3ms/step - accuracy: 0.8788 - loss: 0.2985 - val_accuracy: 0.8794 - val_loss: 0.2951\n",
      "Epoch 17/100\n",
      "\u001B[1m3973/3973\u001B[0m \u001B[32m━━━━━━━━━━━━━━━━━━━━\u001B[0m\u001B[37m\u001B[0m \u001B[1m11s\u001B[0m 3ms/step - accuracy: 0.8777 - loss: 0.3016 - val_accuracy: 0.8806 - val_loss: 0.2928\n",
      "Epoch 18/100\n",
      "\u001B[1m3973/3973\u001B[0m \u001B[32m━━━━━━━━━━━━━━━━━━━━\u001B[0m\u001B[37m\u001B[0m \u001B[1m11s\u001B[0m 3ms/step - accuracy: 0.8777 - loss: 0.3022 - val_accuracy: 0.8816 - val_loss: 0.2904\n",
      "Epoch 19/100\n",
      "\u001B[1m3973/3973\u001B[0m \u001B[32m━━━━━━━━━━━━━━━━━━━━\u001B[0m\u001B[37m\u001B[0m \u001B[1m11s\u001B[0m 3ms/step - accuracy: 0.8785 - loss: 0.3002 - val_accuracy: 0.8768 - val_loss: 0.2967\n",
      "Epoch 20/100\n",
      "\u001B[1m3973/3973\u001B[0m \u001B[32m━━━━━━━━━━━━━━━━━━━━\u001B[0m\u001B[37m\u001B[0m \u001B[1m12s\u001B[0m 3ms/step - accuracy: 0.8782 - loss: 0.3015 - val_accuracy: 0.8813 - val_loss: 0.2907\n",
      "Epoch 21/100\n",
      "\u001B[1m3973/3973\u001B[0m \u001B[32m━━━━━━━━━━━━━━━━━━━━\u001B[0m\u001B[37m\u001B[0m \u001B[1m11s\u001B[0m 3ms/step - accuracy: 0.8790 - loss: 0.2986 - val_accuracy: 0.8812 - val_loss: 0.2894\n",
      "Epoch 22/100\n",
      "\u001B[1m3973/3973\u001B[0m \u001B[32m━━━━━━━━━━━━━━━━━━━━\u001B[0m\u001B[37m\u001B[0m \u001B[1m11s\u001B[0m 3ms/step - accuracy: 0.8795 - loss: 0.2971 - val_accuracy: 0.8699 - val_loss: 0.3075\n",
      "Epoch 23/100\n",
      "\u001B[1m3973/3973\u001B[0m \u001B[32m━━━━━━━━━━━━━━━━━━━━\u001B[0m\u001B[37m\u001B[0m \u001B[1m12s\u001B[0m 3ms/step - accuracy: 0.8781 - loss: 0.3000 - val_accuracy: 0.8815 - val_loss: 0.2905\n",
      "Epoch 24/100\n",
      "\u001B[1m3973/3973\u001B[0m \u001B[32m━━━━━━━━━━━━━━━━━━━━\u001B[0m\u001B[37m\u001B[0m \u001B[1m11s\u001B[0m 3ms/step - accuracy: 0.8780 - loss: 0.2992 - val_accuracy: 0.8815 - val_loss: 0.2886\n",
      "Epoch 25/100\n",
      "\u001B[1m3973/3973\u001B[0m \u001B[32m━━━━━━━━━━━━━━━━━━━━\u001B[0m\u001B[37m\u001B[0m \u001B[1m11s\u001B[0m 3ms/step - accuracy: 0.8784 - loss: 0.3000 - val_accuracy: 0.8782 - val_loss: 0.2915\n",
      "Epoch 26/100\n",
      "\u001B[1m3973/3973\u001B[0m \u001B[32m━━━━━━━━━━━━━━━━━━━━\u001B[0m\u001B[37m\u001B[0m \u001B[1m11s\u001B[0m 3ms/step - accuracy: 0.8786 - loss: 0.2980 - val_accuracy: 0.8817 - val_loss: 0.2880\n",
      "Epoch 27/100\n",
      "\u001B[1m3973/3973\u001B[0m \u001B[32m━━━━━━━━━━━━━━━━━━━━\u001B[0m\u001B[37m\u001B[0m \u001B[1m11s\u001B[0m 3ms/step - accuracy: 0.8799 - loss: 0.2970 - val_accuracy: 0.8815 - val_loss: 0.2882\n",
      "Epoch 28/100\n",
      "\u001B[1m3973/3973\u001B[0m \u001B[32m━━━━━━━━━━━━━━━━━━━━\u001B[0m\u001B[37m\u001B[0m \u001B[1m11s\u001B[0m 3ms/step - accuracy: 0.8792 - loss: 0.2977 - val_accuracy: 0.8816 - val_loss: 0.2858\n",
      "Epoch 29/100\n",
      "\u001B[1m3973/3973\u001B[0m \u001B[32m━━━━━━━━━━━━━━━━━━━━\u001B[0m\u001B[37m\u001B[0m \u001B[1m11s\u001B[0m 3ms/step - accuracy: 0.8793 - loss: 0.2968 - val_accuracy: 0.8816 - val_loss: 0.2879\n",
      "Epoch 30/100\n",
      "\u001B[1m3973/3973\u001B[0m \u001B[32m━━━━━━━━━━━━━━━━━━━━\u001B[0m\u001B[37m\u001B[0m \u001B[1m11s\u001B[0m 3ms/step - accuracy: 0.8783 - loss: 0.2970 - val_accuracy: 0.8794 - val_loss: 0.2885\n",
      "Epoch 31/100\n",
      "\u001B[1m3973/3973\u001B[0m \u001B[32m━━━━━━━━━━━━━━━━━━━━\u001B[0m\u001B[37m\u001B[0m \u001B[1m11s\u001B[0m 3ms/step - accuracy: 0.8801 - loss: 0.2951 - val_accuracy: 0.8802 - val_loss: 0.2902\n",
      "Epoch 32/100\n",
      "\u001B[1m3973/3973\u001B[0m \u001B[32m━━━━━━━━━━━━━━━━━━━━\u001B[0m\u001B[37m\u001B[0m \u001B[1m11s\u001B[0m 3ms/step - accuracy: 0.8787 - loss: 0.2970 - val_accuracy: 0.8816 - val_loss: 0.2888\n",
      "Epoch 33/100\n",
      "\u001B[1m3973/3973\u001B[0m \u001B[32m━━━━━━━━━━━━━━━━━━━━\u001B[0m\u001B[37m\u001B[0m \u001B[1m11s\u001B[0m 3ms/step - accuracy: 0.8787 - loss: 0.2967 - val_accuracy: 0.8801 - val_loss: 0.2910\n",
      "Epoch 34/100\n",
      "\u001B[1m3973/3973\u001B[0m \u001B[32m━━━━━━━━━━━━━━━━━━━━\u001B[0m\u001B[37m\u001B[0m \u001B[1m11s\u001B[0m 3ms/step - accuracy: 0.8797 - loss: 0.2962 - val_accuracy: 0.8821 - val_loss: 0.2844\n",
      "Epoch 35/100\n",
      "\u001B[1m3973/3973\u001B[0m \u001B[32m━━━━━━━━━━━━━━━━━━━━\u001B[0m\u001B[37m\u001B[0m \u001B[1m12s\u001B[0m 3ms/step - accuracy: 0.8786 - loss: 0.2979 - val_accuracy: 0.8810 - val_loss: 0.2922\n",
      "Epoch 36/100\n",
      "\u001B[1m3973/3973\u001B[0m \u001B[32m━━━━━━━━━━━━━━━━━━━━\u001B[0m\u001B[37m\u001B[0m \u001B[1m11s\u001B[0m 3ms/step - accuracy: 0.8796 - loss: 0.2965 - val_accuracy: 0.8816 - val_loss: 0.2888\n",
      "Epoch 37/100\n",
      "\u001B[1m3973/3973\u001B[0m \u001B[32m━━━━━━━━━━━━━━━━━━━━\u001B[0m\u001B[37m\u001B[0m \u001B[1m12s\u001B[0m 3ms/step - accuracy: 0.8791 - loss: 0.2971 - val_accuracy: 0.8823 - val_loss: 0.2845\n",
      "Epoch 38/100\n",
      "\u001B[1m3973/3973\u001B[0m \u001B[32m━━━━━━━━━━━━━━━━━━━━\u001B[0m\u001B[37m\u001B[0m \u001B[1m11s\u001B[0m 3ms/step - accuracy: 0.8796 - loss: 0.2955 - val_accuracy: 0.8797 - val_loss: 0.2883\n",
      "Epoch 39/100\n",
      "\u001B[1m3973/3973\u001B[0m \u001B[32m━━━━━━━━━━━━━━━━━━━━\u001B[0m\u001B[37m\u001B[0m \u001B[1m12s\u001B[0m 3ms/step - accuracy: 0.8800 - loss: 0.2953 - val_accuracy: 0.8819 - val_loss: 0.2852\n",
      "Epoch 40/100\n",
      "\u001B[1m3973/3973\u001B[0m \u001B[32m━━━━━━━━━━━━━━━━━━━━\u001B[0m\u001B[37m\u001B[0m \u001B[1m11s\u001B[0m 3ms/step - accuracy: 0.8789 - loss: 0.2963 - val_accuracy: 0.8779 - val_loss: 0.2922\n",
      "Epoch 41/100\n",
      "\u001B[1m3973/3973\u001B[0m \u001B[32m━━━━━━━━━━━━━━━━━━━━\u001B[0m\u001B[37m\u001B[0m \u001B[1m11s\u001B[0m 3ms/step - accuracy: 0.8790 - loss: 0.2964 - val_accuracy: 0.8769 - val_loss: 0.3009\n",
      "Epoch 42/100\n",
      "\u001B[1m3973/3973\u001B[0m \u001B[32m━━━━━━━━━━━━━━━━━━━━\u001B[0m\u001B[37m\u001B[0m \u001B[1m11s\u001B[0m 3ms/step - accuracy: 0.8793 - loss: 0.2967 - val_accuracy: 0.8803 - val_loss: 0.2944\n",
      "Epoch 43/100\n",
      "\u001B[1m3973/3973\u001B[0m \u001B[32m━━━━━━━━━━━━━━━━━━━━\u001B[0m\u001B[37m\u001B[0m \u001B[1m11s\u001B[0m 3ms/step - accuracy: 0.8790 - loss: 0.2952 - val_accuracy: 0.8831 - val_loss: 0.2833\n",
      "Epoch 44/100\n",
      "\u001B[1m3973/3973\u001B[0m \u001B[32m━━━━━━━━━━━━━━━━━━━━\u001B[0m\u001B[37m\u001B[0m \u001B[1m12s\u001B[0m 3ms/step - accuracy: 0.8796 - loss: 0.2944 - val_accuracy: 0.8827 - val_loss: 0.2872\n",
      "Epoch 45/100\n",
      "\u001B[1m3973/3973\u001B[0m \u001B[32m━━━━━━━━━━━━━━━━━━━━\u001B[0m\u001B[37m\u001B[0m \u001B[1m11s\u001B[0m 3ms/step - accuracy: 0.8799 - loss: 0.2952 - val_accuracy: 0.8820 - val_loss: 0.2872\n",
      "Epoch 46/100\n",
      "\u001B[1m3973/3973\u001B[0m \u001B[32m━━━━━━━━━━━━━━━━━━━━\u001B[0m\u001B[37m\u001B[0m \u001B[1m12s\u001B[0m 3ms/step - accuracy: 0.8792 - loss: 0.2951 - val_accuracy: 0.8814 - val_loss: 0.2862\n",
      "Epoch 47/100\n",
      "\u001B[1m3973/3973\u001B[0m \u001B[32m━━━━━━━━━━━━━━━━━━━━\u001B[0m\u001B[37m\u001B[0m \u001B[1m12s\u001B[0m 3ms/step - accuracy: 0.8788 - loss: 0.2952 - val_accuracy: 0.8814 - val_loss: 0.2883\n",
      "Epoch 48/100\n",
      "\u001B[1m3973/3973\u001B[0m \u001B[32m━━━━━━━━━━━━━━━━━━━━\u001B[0m\u001B[37m\u001B[0m \u001B[1m11s\u001B[0m 3ms/step - accuracy: 0.8783 - loss: 0.2963 - val_accuracy: 0.8825 - val_loss: 0.2874\n",
      "Epoch 49/100\n",
      "\u001B[1m3973/3973\u001B[0m \u001B[32m━━━━━━━━━━━━━━━━━━━━\u001B[0m\u001B[37m\u001B[0m \u001B[1m12s\u001B[0m 3ms/step - accuracy: 0.8793 - loss: 0.2949 - val_accuracy: 0.8824 - val_loss: 0.2883\n",
      "Epoch 50/100\n",
      "\u001B[1m3973/3973\u001B[0m \u001B[32m━━━━━━━━━━━━━━━━━━━━\u001B[0m\u001B[37m\u001B[0m \u001B[1m12s\u001B[0m 3ms/step - accuracy: 0.8799 - loss: 0.2928 - val_accuracy: 0.8814 - val_loss: 0.2890\n",
      "Epoch 51/100\n",
      "\u001B[1m3973/3973\u001B[0m \u001B[32m━━━━━━━━━━━━━━━━━━━━\u001B[0m\u001B[37m\u001B[0m \u001B[1m11s\u001B[0m 3ms/step - accuracy: 0.8800 - loss: 0.2947 - val_accuracy: 0.8824 - val_loss: 0.2838\n",
      "Epoch 52/100\n",
      "\u001B[1m3973/3973\u001B[0m \u001B[32m━━━━━━━━━━━━━━━━━━━━\u001B[0m\u001B[37m\u001B[0m \u001B[1m12s\u001B[0m 3ms/step - accuracy: 0.8791 - loss: 0.2952 - val_accuracy: 0.8804 - val_loss: 0.2894\n",
      "Epoch 53/100\n",
      "\u001B[1m3973/3973\u001B[0m \u001B[32m━━━━━━━━━━━━━━━━━━━━\u001B[0m\u001B[37m\u001B[0m \u001B[1m12s\u001B[0m 3ms/step - accuracy: 0.8793 - loss: 0.2956 - val_accuracy: 0.8773 - val_loss: 0.2948\n",
      "Epoch 54/100\n",
      "\u001B[1m3973/3973\u001B[0m \u001B[32m━━━━━━━━━━━━━━━━━━━━\u001B[0m\u001B[37m\u001B[0m \u001B[1m12s\u001B[0m 3ms/step - accuracy: 0.8793 - loss: 0.2943 - val_accuracy: 0.8823 - val_loss: 0.2883\n",
      "Epoch 55/100\n",
      "\u001B[1m3973/3973\u001B[0m \u001B[32m━━━━━━━━━━━━━━━━━━━━\u001B[0m\u001B[37m\u001B[0m \u001B[1m11s\u001B[0m 3ms/step - accuracy: 0.8799 - loss: 0.2946 - val_accuracy: 0.8789 - val_loss: 0.2960\n",
      "Epoch 56/100\n",
      "\u001B[1m3973/3973\u001B[0m \u001B[32m━━━━━━━━━━━━━━━━━━━━\u001B[0m\u001B[37m\u001B[0m \u001B[1m12s\u001B[0m 3ms/step - accuracy: 0.8797 - loss: 0.2954 - val_accuracy: 0.8800 - val_loss: 0.2895\n",
      "Epoch 57/100\n",
      "\u001B[1m3973/3973\u001B[0m \u001B[32m━━━━━━━━━━━━━━━━━━━━\u001B[0m\u001B[37m\u001B[0m \u001B[1m12s\u001B[0m 3ms/step - accuracy: 0.8790 - loss: 0.2958 - val_accuracy: 0.8812 - val_loss: 0.2850\n",
      "Epoch 58/100\n",
      "\u001B[1m3973/3973\u001B[0m \u001B[32m━━━━━━━━━━━━━━━━━━━━\u001B[0m\u001B[37m\u001B[0m \u001B[1m12s\u001B[0m 3ms/step - accuracy: 0.8794 - loss: 0.2952 - val_accuracy: 0.8816 - val_loss: 0.2872\n",
      "Epoch 59/100\n",
      "\u001B[1m3973/3973\u001B[0m \u001B[32m━━━━━━━━━━━━━━━━━━━━\u001B[0m\u001B[37m\u001B[0m \u001B[1m12s\u001B[0m 3ms/step - accuracy: 0.8789 - loss: 0.2947 - val_accuracy: 0.8814 - val_loss: 0.2847\n",
      "Epoch 60/100\n",
      "\u001B[1m3973/3973\u001B[0m \u001B[32m━━━━━━━━━━━━━━━━━━━━\u001B[0m\u001B[37m\u001B[0m \u001B[1m12s\u001B[0m 3ms/step - accuracy: 0.8803 - loss: 0.2939 - val_accuracy: 0.8825 - val_loss: 0.2844\n",
      "Epoch 61/100\n",
      "\u001B[1m3973/3973\u001B[0m \u001B[32m━━━━━━━━━━━━━━━━━━━━\u001B[0m\u001B[37m\u001B[0m \u001B[1m12s\u001B[0m 3ms/step - accuracy: 0.8808 - loss: 0.2936 - val_accuracy: 0.8811 - val_loss: 0.2839\n",
      "Epoch 62/100\n",
      "\u001B[1m3973/3973\u001B[0m \u001B[32m━━━━━━━━━━━━━━━━━━━━\u001B[0m\u001B[37m\u001B[0m \u001B[1m12s\u001B[0m 3ms/step - accuracy: 0.8787 - loss: 0.2964 - val_accuracy: 0.8820 - val_loss: 0.2860\n",
      "Epoch 63/100\n",
      "\u001B[1m3973/3973\u001B[0m \u001B[32m━━━━━━━━━━━━━━━━━━━━\u001B[0m\u001B[37m\u001B[0m \u001B[1m12s\u001B[0m 3ms/step - accuracy: 0.8802 - loss: 0.2932 - val_accuracy: 0.8827 - val_loss: 0.2842\n",
      "Epoch 64/100\n",
      "\u001B[1m3973/3973\u001B[0m \u001B[32m━━━━━━━━━━━━━━━━━━━━\u001B[0m\u001B[37m\u001B[0m \u001B[1m12s\u001B[0m 3ms/step - accuracy: 0.8811 - loss: 0.2934 - val_accuracy: 0.8828 - val_loss: 0.2893\n",
      "Epoch 65/100\n",
      "\u001B[1m3973/3973\u001B[0m \u001B[32m━━━━━━━━━━━━━━━━━━━━\u001B[0m\u001B[37m\u001B[0m \u001B[1m12s\u001B[0m 3ms/step - accuracy: 0.8794 - loss: 0.2939 - val_accuracy: 0.8821 - val_loss: 0.2840\n",
      "Epoch 66/100\n",
      "\u001B[1m3973/3973\u001B[0m \u001B[32m━━━━━━━━━━━━━━━━━━━━\u001B[0m\u001B[37m\u001B[0m \u001B[1m12s\u001B[0m 3ms/step - accuracy: 0.8789 - loss: 0.2957 - val_accuracy: 0.8817 - val_loss: 0.2861\n",
      "Epoch 67/100\n",
      "\u001B[1m3973/3973\u001B[0m \u001B[32m━━━━━━━━━━━━━━━━━━━━\u001B[0m\u001B[37m\u001B[0m \u001B[1m12s\u001B[0m 3ms/step - accuracy: 0.8807 - loss: 0.2919 - val_accuracy: 0.8808 - val_loss: 0.2874\n",
      "Epoch 68/100\n",
      "\u001B[1m3973/3973\u001B[0m \u001B[32m━━━━━━━━━━━━━━━━━━━━\u001B[0m\u001B[37m\u001B[0m \u001B[1m12s\u001B[0m 3ms/step - accuracy: 0.8801 - loss: 0.2916 - val_accuracy: 0.8818 - val_loss: 0.2854\n",
      "Epoch 69/100\n",
      "\u001B[1m3973/3973\u001B[0m \u001B[32m━━━━━━━━━━━━━━━━━━━━\u001B[0m\u001B[37m\u001B[0m \u001B[1m12s\u001B[0m 3ms/step - accuracy: 0.8796 - loss: 0.2932 - val_accuracy: 0.8784 - val_loss: 0.2900\n",
      "Epoch 70/100\n",
      "\u001B[1m3973/3973\u001B[0m \u001B[32m━━━━━━━━━━━━━━━━━━━━\u001B[0m\u001B[37m\u001B[0m \u001B[1m13s\u001B[0m 3ms/step - accuracy: 0.8809 - loss: 0.2916 - val_accuracy: 0.8816 - val_loss: 0.2893\n",
      "Epoch 71/100\n",
      "\u001B[1m3973/3973\u001B[0m \u001B[32m━━━━━━━━━━━━━━━━━━━━\u001B[0m\u001B[37m\u001B[0m \u001B[1m12s\u001B[0m 3ms/step - accuracy: 0.8803 - loss: 0.2944 - val_accuracy: 0.8806 - val_loss: 0.2859\n",
      "Epoch 72/100\n",
      "\u001B[1m3973/3973\u001B[0m \u001B[32m━━━━━━━━━━━━━━━━━━━━\u001B[0m\u001B[37m\u001B[0m \u001B[1m12s\u001B[0m 3ms/step - accuracy: 0.8797 - loss: 0.2940 - val_accuracy: 0.8823 - val_loss: 0.2841\n",
      "Epoch 73/100\n",
      "\u001B[1m3973/3973\u001B[0m \u001B[32m━━━━━━━━━━━━━━━━━━━━\u001B[0m\u001B[37m\u001B[0m \u001B[1m12s\u001B[0m 3ms/step - accuracy: 0.8805 - loss: 0.2922 - val_accuracy: 0.8820 - val_loss: 0.2843\n",
      "Epoch 74/100\n",
      "\u001B[1m3973/3973\u001B[0m \u001B[32m━━━━━━━━━━━━━━━━━━━━\u001B[0m\u001B[37m\u001B[0m \u001B[1m13s\u001B[0m 3ms/step - accuracy: 0.8793 - loss: 0.2940 - val_accuracy: 0.8809 - val_loss: 0.2889\n",
      "Epoch 75/100\n",
      "\u001B[1m3973/3973\u001B[0m \u001B[32m━━━━━━━━━━━━━━━━━━━━\u001B[0m\u001B[37m\u001B[0m \u001B[1m12s\u001B[0m 3ms/step - accuracy: 0.8802 - loss: 0.2932 - val_accuracy: 0.8822 - val_loss: 0.2834\n",
      "Epoch 76/100\n",
      "\u001B[1m3973/3973\u001B[0m \u001B[32m━━━━━━━━━━━━━━━━━━━━\u001B[0m\u001B[37m\u001B[0m \u001B[1m12s\u001B[0m 3ms/step - accuracy: 0.8794 - loss: 0.2939 - val_accuracy: 0.8806 - val_loss: 0.2870\n",
      "Epoch 77/100\n",
      "\u001B[1m3973/3973\u001B[0m \u001B[32m━━━━━━━━━━━━━━━━━━━━\u001B[0m\u001B[37m\u001B[0m \u001B[1m12s\u001B[0m 3ms/step - accuracy: 0.8808 - loss: 0.2926 - val_accuracy: 0.8825 - val_loss: 0.2830\n",
      "Epoch 78/100\n",
      "\u001B[1m3973/3973\u001B[0m \u001B[32m━━━━━━━━━━━━━━━━━━━━\u001B[0m\u001B[37m\u001B[0m \u001B[1m13s\u001B[0m 3ms/step - accuracy: 0.8809 - loss: 0.2911 - val_accuracy: 0.8833 - val_loss: 0.2822\n",
      "Epoch 79/100\n",
      "\u001B[1m3973/3973\u001B[0m \u001B[32m━━━━━━━━━━━━━━━━━━━━\u001B[0m\u001B[37m\u001B[0m \u001B[1m11s\u001B[0m 3ms/step - accuracy: 0.8795 - loss: 0.2931 - val_accuracy: 0.8786 - val_loss: 0.2919\n",
      "Epoch 80/100\n",
      "\u001B[1m3973/3973\u001B[0m \u001B[32m━━━━━━━━━━━━━━━━━━━━\u001B[0m\u001B[37m\u001B[0m \u001B[1m12s\u001B[0m 3ms/step - accuracy: 0.8804 - loss: 0.2924 - val_accuracy: 0.8828 - val_loss: 0.2830\n",
      "Epoch 81/100\n",
      "\u001B[1m3973/3973\u001B[0m \u001B[32m━━━━━━━━━━━━━━━━━━━━\u001B[0m\u001B[37m\u001B[0m \u001B[1m12s\u001B[0m 3ms/step - accuracy: 0.8800 - loss: 0.2928 - val_accuracy: 0.8828 - val_loss: 0.2853\n",
      "Epoch 82/100\n",
      "\u001B[1m3973/3973\u001B[0m \u001B[32m━━━━━━━━━━━━━━━━━━━━\u001B[0m\u001B[37m\u001B[0m \u001B[1m12s\u001B[0m 3ms/step - accuracy: 0.8806 - loss: 0.2925 - val_accuracy: 0.8809 - val_loss: 0.2901\n",
      "Epoch 83/100\n",
      "\u001B[1m3973/3973\u001B[0m \u001B[32m━━━━━━━━━━━━━━━━━━━━\u001B[0m\u001B[37m\u001B[0m \u001B[1m12s\u001B[0m 3ms/step - accuracy: 0.8814 - loss: 0.2909 - val_accuracy: 0.8823 - val_loss: 0.2836\n",
      "Epoch 84/100\n",
      "\u001B[1m3973/3973\u001B[0m \u001B[32m━━━━━━━━━━━━━━━━━━━━\u001B[0m\u001B[37m\u001B[0m \u001B[1m12s\u001B[0m 3ms/step - accuracy: 0.8803 - loss: 0.2927 - val_accuracy: 0.8831 - val_loss: 0.2849\n",
      "Epoch 85/100\n",
      "\u001B[1m3973/3973\u001B[0m \u001B[32m━━━━━━━━━━━━━━━━━━━━\u001B[0m\u001B[37m\u001B[0m \u001B[1m12s\u001B[0m 3ms/step - accuracy: 0.8805 - loss: 0.2907 - val_accuracy: 0.8812 - val_loss: 0.2842\n",
      "Epoch 86/100\n",
      "\u001B[1m3973/3973\u001B[0m \u001B[32m━━━━━━━━━━━━━━━━━━━━\u001B[0m\u001B[37m\u001B[0m \u001B[1m12s\u001B[0m 3ms/step - accuracy: 0.8803 - loss: 0.2936 - val_accuracy: 0.8810 - val_loss: 0.2887\n",
      "Epoch 87/100\n",
      "\u001B[1m3973/3973\u001B[0m \u001B[32m━━━━━━━━━━━━━━━━━━━━\u001B[0m\u001B[37m\u001B[0m \u001B[1m12s\u001B[0m 3ms/step - accuracy: 0.8810 - loss: 0.2915 - val_accuracy: 0.8807 - val_loss: 0.2839\n",
      "Epoch 88/100\n",
      "\u001B[1m3973/3973\u001B[0m \u001B[32m━━━━━━━━━━━━━━━━━━━━\u001B[0m\u001B[37m\u001B[0m \u001B[1m12s\u001B[0m 3ms/step - accuracy: 0.8791 - loss: 0.2947 - val_accuracy: 0.8829 - val_loss: 0.2824\n",
      "Epoch 89/100\n",
      "\u001B[1m3973/3973\u001B[0m \u001B[32m━━━━━━━━━━━━━━━━━━━━\u001B[0m\u001B[37m\u001B[0m \u001B[1m12s\u001B[0m 3ms/step - accuracy: 0.8803 - loss: 0.2918 - val_accuracy: 0.8834 - val_loss: 0.2823\n",
      "Epoch 90/100\n",
      "\u001B[1m3973/3973\u001B[0m \u001B[32m━━━━━━━━━━━━━━━━━━━━\u001B[0m\u001B[37m\u001B[0m \u001B[1m12s\u001B[0m 3ms/step - accuracy: 0.8790 - loss: 0.2949 - val_accuracy: 0.8830 - val_loss: 0.2818\n",
      "Epoch 91/100\n",
      "\u001B[1m3973/3973\u001B[0m \u001B[32m━━━━━━━━━━━━━━━━━━━━\u001B[0m\u001B[37m\u001B[0m \u001B[1m11s\u001B[0m 3ms/step - accuracy: 0.8808 - loss: 0.2905 - val_accuracy: 0.8828 - val_loss: 0.2833\n",
      "Epoch 92/100\n",
      "\u001B[1m3973/3973\u001B[0m \u001B[32m━━━━━━━━━━━━━━━━━━━━\u001B[0m\u001B[37m\u001B[0m \u001B[1m12s\u001B[0m 3ms/step - accuracy: 0.8799 - loss: 0.2930 - val_accuracy: 0.8832 - val_loss: 0.2826\n",
      "Epoch 93/100\n",
      "\u001B[1m3973/3973\u001B[0m \u001B[32m━━━━━━━━━━━━━━━━━━━━\u001B[0m\u001B[37m\u001B[0m \u001B[1m11s\u001B[0m 3ms/step - accuracy: 0.8798 - loss: 0.2916 - val_accuracy: 0.8826 - val_loss: 0.2826\n",
      "Epoch 94/100\n",
      "\u001B[1m3973/3973\u001B[0m \u001B[32m━━━━━━━━━━━━━━━━━━━━\u001B[0m\u001B[37m\u001B[0m \u001B[1m12s\u001B[0m 3ms/step - accuracy: 0.8814 - loss: 0.2899 - val_accuracy: 0.8832 - val_loss: 0.2834\n",
      "Epoch 95/100\n",
      "\u001B[1m3973/3973\u001B[0m \u001B[32m━━━━━━━━━━━━━━━━━━━━\u001B[0m\u001B[37m\u001B[0m \u001B[1m12s\u001B[0m 3ms/step - accuracy: 0.8807 - loss: 0.2921 - val_accuracy: 0.8819 - val_loss: 0.2866\n",
      "Epoch 96/100\n",
      "\u001B[1m3973/3973\u001B[0m \u001B[32m━━━━━━━━━━━━━━━━━━━━\u001B[0m\u001B[37m\u001B[0m \u001B[1m12s\u001B[0m 3ms/step - accuracy: 0.8810 - loss: 0.2909 - val_accuracy: 0.8833 - val_loss: 0.2823\n",
      "Epoch 97/100\n",
      "\u001B[1m3973/3973\u001B[0m \u001B[32m━━━━━━━━━━━━━━━━━━━━\u001B[0m\u001B[37m\u001B[0m \u001B[1m12s\u001B[0m 3ms/step - accuracy: 0.8806 - loss: 0.2911 - val_accuracy: 0.8832 - val_loss: 0.2818\n",
      "Epoch 98/100\n",
      "\u001B[1m3973/3973\u001B[0m \u001B[32m━━━━━━━━━━━━━━━━━━━━\u001B[0m\u001B[37m\u001B[0m \u001B[1m12s\u001B[0m 3ms/step - accuracy: 0.8800 - loss: 0.2913 - val_accuracy: 0.8820 - val_loss: 0.2850\n",
      "Epoch 99/100\n",
      "\u001B[1m3973/3973\u001B[0m \u001B[32m━━━━━━━━━━━━━━━━━━━━\u001B[0m\u001B[37m\u001B[0m \u001B[1m12s\u001B[0m 3ms/step - accuracy: 0.8805 - loss: 0.2912 - val_accuracy: 0.8833 - val_loss: 0.2877\n",
      "Epoch 100/100\n",
      "\u001B[1m3973/3973\u001B[0m \u001B[32m━━━━━━━━━━━━━━━━━━━━\u001B[0m\u001B[37m\u001B[0m \u001B[1m12s\u001B[0m 3ms/step - accuracy: 0.8804 - loss: 0.2931 - val_accuracy: 0.8825 - val_loss: 0.2837\n"
     ]
    }
   ],
   "source": [
    "# early_stopping = keras.callbacks.EarlyStopping(patience=10, restore_best_weights=True)\n",
    "history = jet_tag_model.fit(X_train, y_train, epochs=100, batch_size=64, validation_data=(X_val, y_val))   "
   ],
   "metadata": {
    "collapsed": false,
    "ExecuteTime": {
     "end_time": "2024-06-21T12:44:31.121593Z",
     "start_time": "2024-06-21T12:24:58.013397Z"
    }
   },
   "id": "ed99b4ae7c2451e9",
   "execution_count": 17
  },
  {
   "cell_type": "code",
   "outputs": [
    {
     "name": "stdout",
     "output_type": "stream",
     "text": [
      "\u001B[1m7946/7946\u001B[0m \u001B[32m━━━━━━━━━━━━━━━━━━━━\u001B[0m\u001B[37m\u001B[0m \u001B[1m6s\u001B[0m 686us/step\n",
      "\u001B[1m1403/1403\u001B[0m \u001B[32m━━━━━━━━━━━━━━━━━━━━\u001B[0m\u001B[37m\u001B[0m \u001B[1m1s\u001B[0m 667us/step\n"
     ]
    }
   ],
   "source": [
    "# perfoming the prediction\n",
    "y_train_pred = jet_tag_model.predict(X_train)\n",
    "y_val_pred = jet_tag_model.predict(X_val)"
   ],
   "metadata": {
    "collapsed": false,
    "ExecuteTime": {
     "end_time": "2024-06-21T12:44:38.326137Z",
     "start_time": "2024-06-21T12:44:31.122367Z"
    }
   },
   "id": "77f2ff8871e0892d",
   "execution_count": 18
  },
  {
   "cell_type": "code",
   "outputs": [
    {
     "name": "stdout",
     "output_type": "stream",
     "text": [
      "Trainnig set:\n",
      "Recall: 0.9222\n",
      "Precision: 0.8602\n",
      "Confusion Matrix:\n",
      "[[106418  19271]\n",
      " [ 10006 118559]]\n",
      "Validation set:\n",
      "Recall: 0.9195\n",
      "Precision: 0.8604\n",
      "Confusion Matrix:\n",
      "[[18796  3385]\n",
      " [ 1826 20862]]\n"
     ]
    }
   ],
   "source": [
    "print(\"Trainnig set:\")\n",
    "utilities.display_metrics(y_true=y_train[:, 0], y_pred=y_train_pred[:, 0] > 0.5)\n",
    "print(\"Validation set:\")\n",
    "utilities.display_metrics(y_true=y_val[:, 0], y_pred=y_val_pred[:, 0] > 0.5)"
   ],
   "metadata": {
    "collapsed": false,
    "ExecuteTime": {
     "end_time": "2024-06-21T12:18:38.434588Z",
     "start_time": "2024-06-21T12:18:38.198379Z"
    }
   },
   "id": "42ab8e4db55a88d9",
   "execution_count": 8
  },
  {
   "cell_type": "code",
   "outputs": [
    {
     "data": {
      "text/plain": "<Figure size 640x480 with 1 Axes>",
      "image/png": "[encoded data removed]"
     },
     "metadata": {},
     "output_type": "display_data"
    },
    {
     "name": "stdout",
     "output_type": "stream",
     "text": [
      "AUC: 0.9522\n"
     ]
    }
   ],
   "source": [
    "utilities.display_roc_curve(y_true=y_val[:, 0], y_score=y_val_pred[:, 0])"
   ],
   "metadata": {
    "collapsed": false,
    "ExecuteTime": {
     "end_time": "2024-06-21T12:18:38.498043Z",
     "start_time": "2024-06-21T12:18:38.435700Z"
    }
   },
   "id": "7f8086fdac7fcaee",
   "execution_count": 9
  },
  {
   "cell_type": "code",
   "outputs": [
    {
     "data": {
      "text/plain": "<Figure size 800x500 with 1 Axes>",
      "image/png": "[encoded data removed]"
     },
     "metadata": {},
     "output_type": "display_data"
    }
   ],
   "source": [
    "utilities.plot_hist_trainning(history)"
   ],
   "metadata": {
    "collapsed": false,
    "ExecuteTime": {
     "end_time": "2024-06-21T12:18:38.565153Z",
     "start_time": "2024-06-21T12:18:38.498546Z"
    }
   },
   "id": "66aa3e3dc3de0f05",
   "execution_count": 10
  },
  {
   "cell_type": "code",
   "outputs": [],
   "source": [
    "utilities.save_model(jet_tag_model, history, \"Top_Tagging_PointNet\")"
   ],
   "metadata": {
    "collapsed": false,
    "ExecuteTime": {
     "end_time": "2024-06-21T12:18:38.590460Z",
     "start_time": "2024-06-21T12:18:38.565740Z"
    }
   },
   "id": "5744bf00ae8576ae",
   "execution_count": 11
  }
 ],
 "metadata": {
  "kernelspec": {
   "display_name": "Python 3",
   "language": "python",
   "name": "python3"
  },
  "language_info": {
   "codemirror_mode": {
    "name": "ipython",
    "version": 2
   },
   "file_extension": ".py",
   "mimetype": "text/x-python",
   "name": "python",
   "nbconvert_exporter": "python",
   "pygments_lexer": "ipython2",
   "version": "2.7.6"
  }
 },
 "nbformat": 4,
 "nbformat_minor": 5
}
