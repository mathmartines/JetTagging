{
 "cells": [
  {
   "cell_type": "code",
   "execution_count": 5,
   "id": "initial_id",
   "metadata": {
    "collapsed": true,
    "ExecuteTime": {
     "end_time": "2024-06-19T21:11:01.307210Z",
     "start_time": "2024-06-19T21:11:01.303365Z"
    }
   },
   "outputs": [],
   "source": [
    "from ML.EFPs.data_loaders import load_data_qg_tagging\n",
    "from sklearn.ensemble import AdaBoostClassifier\n",
    "from sklearn.tree import DecisionTreeClassifier\n",
    "import joblib\n",
    "import utilities.utilities as utilities"
   ]
  },
  {
   "cell_type": "markdown",
   "source": [
    "#### Loading the Dataset"
   ],
   "metadata": {
    "collapsed": false
   },
   "id": "e5d386341c851b4d"
  },
  {
   "cell_type": "code",
   "outputs": [],
   "source": [
    "root_data_folder = \"../../../Data\"\n",
    "X_train, y_train = load_data_qg_tagging(\n",
    "    quark_data_path=f\"{root_data_folder}/Trainning/q_jets_efps_d5_primed.npy\", \n",
    "    gluon_data_path=f\"{root_data_folder}/Trainning/g_jets_efps_d5_primed.npy\"\n",
    ")\n",
    "X_val, y_val = load_data_qg_tagging(\n",
    "    quark_data_path=f\"{root_data_folder}/Validation/q_jets_efps_d5_primed.npy\", \n",
    "    gluon_data_path=f\"{root_data_folder}/Validation/g_jets_efps_d5_primed.npy\"\n",
    ") \n",
    "best_features_set = [0, 1, 5, 6, 12, 17, 33, 42, 43, 48]"
   ],
   "metadata": {
    "collapsed": false,
    "ExecuteTime": {
     "end_time": "2024-06-19T21:16:40.731914Z",
     "start_time": "2024-06-19T21:16:40.606277Z"
    }
   },
   "id": "74cff096a1196401",
   "execution_count": 9
  },
  {
   "cell_type": "markdown",
   "source": [
    "#### Creating the Boosted Decision Tree"
   ],
   "metadata": {
    "collapsed": false
   },
   "id": "83981073366425e1"
  },
  {
   "cell_type": "code",
   "outputs": [
    {
     "data": {
      "text/plain": "AdaBoostClassifier(estimator=DecisionTreeClassifier(criterion='entropy',\n                                                    max_depth=5,\n                                                    min_samples_split=250),\n                   learning_rate=0.5)",
      "text/html": "<style>#sk-container-id-10 {color: black;}#sk-container-id-10 pre{padding: 0;}#sk-container-id-10 div.sk-toggleable {background-color: white;}#sk-container-id-10 label.sk-toggleable__label {cursor: pointer;display: block;width: 100%;margin-bottom: 0;padding: 0.3em;box-sizing: border-box;text-align: center;}#sk-container-id-10 label.sk-toggleable__label-arrow:before {content: \"▸\";float: left;margin-right: 0.25em;color: #696969;}#sk-container-id-10 label.sk-toggleable__label-arrow:hover:before {color: black;}#sk-container-id-10 div.sk-estimator:hover label.sk-toggleable__label-arrow:before {color: black;}#sk-container-id-10 div.sk-toggleable__content {max-height: 0;max-width: 0;overflow: hidden;text-align: left;background-color: #f0f8ff;}#sk-container-id-10 div.sk-toggleable__content pre {margin: 0.2em;color: black;border-radius: 0.25em;background-color: #f0f8ff;}#sk-container-id-10 input.sk-toggleable__control:checked~div.sk-toggleable__content {max-height: 200px;max-width: 100%;overflow: auto;}#sk-container-id-10 input.sk-toggleable__control:checked~label.sk-toggleable__label-arrow:before {content: \"▾\";}#sk-container-id-10 div.sk-estimator input.sk-toggleable__control:checked~label.sk-toggleable__label {background-color: #d4ebff;}#sk-container-id-10 div.sk-label input.sk-toggleable__control:checked~label.sk-toggleable__label {background-color: #d4ebff;}#sk-container-id-10 input.sk-hidden--visually {border: 0;clip: rect(1px 1px 1px 1px);clip: rect(1px, 1px, 1px, 1px);height: 1px;margin: -1px;overflow: hidden;padding: 0;position: absolute;width: 1px;}#sk-container-id-10 div.sk-estimator {font-family: monospace;background-color: #f0f8ff;border: 1px dotted black;border-radius: 0.25em;box-sizing: border-box;margin-bottom: 0.5em;}#sk-container-id-10 div.sk-estimator:hover {background-color: #d4ebff;}#sk-container-id-10 div.sk-parallel-item::after {content: \"\";width: 100%;border-bottom: 1px solid gray;flex-grow: 1;}#sk-container-id-10 div.sk-label:hover label.sk-toggleable__label {background-color: #d4ebff;}#sk-container-id-10 div.sk-serial::before {content: \"\";position: absolute;border-left: 1px solid gray;box-sizing: border-box;top: 0;bottom: 0;left: 50%;z-index: 0;}#sk-container-id-10 div.sk-serial {display: flex;flex-direction: column;align-items: center;background-color: white;padding-right: 0.2em;padding-left: 0.2em;position: relative;}#sk-container-id-10 div.sk-item {position: relative;z-index: 1;}#sk-container-id-10 div.sk-parallel {display: flex;align-items: stretch;justify-content: center;background-color: white;position: relative;}#sk-container-id-10 div.sk-item::before, #sk-container-id-10 div.sk-parallel-item::before {content: \"\";position: absolute;border-left: 1px solid gray;box-sizing: border-box;top: 0;bottom: 0;left: 50%;z-index: -1;}#sk-container-id-10 div.sk-parallel-item {display: flex;flex-direction: column;z-index: 1;position: relative;background-color: white;}#sk-container-id-10 div.sk-parallel-item:first-child::after {align-self: flex-end;width: 50%;}#sk-container-id-10 div.sk-parallel-item:last-child::after {align-self: flex-start;width: 50%;}#sk-container-id-10 div.sk-parallel-item:only-child::after {width: 0;}#sk-container-id-10 div.sk-dashed-wrapped {border: 1px dashed gray;margin: 0 0.4em 0.5em 0.4em;box-sizing: border-box;padding-bottom: 0.4em;background-color: white;}#sk-container-id-10 div.sk-label label {font-family: monospace;font-weight: bold;display: inline-block;line-height: 1.2em;}#sk-container-id-10 div.sk-label-container {text-align: center;}#sk-container-id-10 div.sk-container {/* jupyter's `normalize.less` sets `[hidden] { display: none; }` but bootstrap.min.css set `[hidden] { display: none !important; }` so we also need the `!important` here to be able to override the default hidden behavior on the sphinx rendered scikit-learn.org. See: https://github.com/scikit-learn/scikit-learn/issues/21755 */display: inline-block !important;position: relative;}#sk-container-id-10 div.sk-text-repr-fallback {display: none;}</style><div id=\"sk-container-id-10\" class=\"sk-top-container\"><div class=\"sk-text-repr-fallback\"><pre>AdaBoostClassifier(estimator=DecisionTreeClassifier(criterion=&#x27;entropy&#x27;,\n                                                    max_depth=5,\n                                                    min_samples_split=250),\n                   learning_rate=0.5)</pre><b>In a Jupyter environment, please rerun this cell to show the HTML representation or trust the notebook. <br />On GitHub, the HTML representation is unable to render, please try loading this page with nbviewer.org.</b></div><div class=\"sk-container\" hidden><div class=\"sk-item sk-dashed-wrapped\"><div class=\"sk-label-container\"><div class=\"sk-label sk-toggleable\"><input class=\"sk-toggleable__control sk-hidden--visually\" id=\"sk-estimator-id-28\" type=\"checkbox\" ><label for=\"sk-estimator-id-28\" class=\"sk-toggleable__label sk-toggleable__label-arrow\">AdaBoostClassifier</label><div class=\"sk-toggleable__content\"><pre>AdaBoostClassifier(estimator=DecisionTreeClassifier(criterion=&#x27;entropy&#x27;,\n                                                    max_depth=5,\n                                                    min_samples_split=250),\n                   learning_rate=0.5)</pre></div></div></div><div class=\"sk-parallel\"><div class=\"sk-parallel-item\"><div class=\"sk-item\"><div class=\"sk-label-container\"><div class=\"sk-label sk-toggleable\"><input class=\"sk-toggleable__control sk-hidden--visually\" id=\"sk-estimator-id-29\" type=\"checkbox\" ><label for=\"sk-estimator-id-29\" class=\"sk-toggleable__label sk-toggleable__label-arrow\">estimator: DecisionTreeClassifier</label><div class=\"sk-toggleable__content\"><pre>DecisionTreeClassifier(criterion=&#x27;entropy&#x27;, max_depth=5, min_samples_split=250)</pre></div></div></div><div class=\"sk-serial\"><div class=\"sk-item\"><div class=\"sk-estimator sk-toggleable\"><input class=\"sk-toggleable__control sk-hidden--visually\" id=\"sk-estimator-id-30\" type=\"checkbox\" ><label for=\"sk-estimator-id-30\" class=\"sk-toggleable__label sk-toggleable__label-arrow\">DecisionTreeClassifier</label><div class=\"sk-toggleable__content\"><pre>DecisionTreeClassifier(criterion=&#x27;entropy&#x27;, max_depth=5, min_samples_split=250)</pre></div></div></div></div></div></div></div></div></div></div>"
     },
     "execution_count": 50,
     "metadata": {},
     "output_type": "execute_result"
    }
   ],
   "source": [
    "# as a base estimator we use the decision tree for the quark-gluon tagging\n",
    "tree = DecisionTreeClassifier(criterion=\"entropy\", max_depth=5, min_samples_split=250)\n",
    "boosted_dt = AdaBoostClassifier(estimator=tree, learning_rate=0.5)\n",
    "# trainning using only the best feature set\n",
    "boosted_dt.fit(X_train[:, best_features_set], y_train)"
   ],
   "metadata": {
    "collapsed": false,
    "ExecuteTime": {
     "end_time": "2024-06-19T21:49:27.145690Z",
     "start_time": "2024-06-19T21:48:29.757467Z"
    }
   },
   "id": "a716592e71fd5c7f",
   "execution_count": 50
  },
  {
   "cell_type": "markdown",
   "source": [
    "#### Some quick checks"
   ],
   "metadata": {
    "collapsed": false
   },
   "id": "464c59e45a509cec"
  },
  {
   "cell_type": "code",
   "outputs": [
    {
     "name": "stdout",
     "output_type": "stream",
     "text": [
      "Recall: 0.7632\n",
      "Precision: 0.7937\n",
      "Confusion Matrix:\n",
      "[[18282  4318]\n",
      " [ 5153 16609]]\n"
     ]
    }
   ],
   "source": [
    "y_val_predict = boosted_dt.predict(X_val[:, best_features_set])\n",
    "utilities.display_metrics(y_val, y_val_predict)"
   ],
   "metadata": {
    "collapsed": false,
    "ExecuteTime": {
     "end_time": "2024-06-19T21:49:27.285021Z",
     "start_time": "2024-06-19T21:49:27.146620Z"
    }
   },
   "id": "8eee8963d67bf13a",
   "execution_count": 51
  },
  {
   "cell_type": "code",
   "outputs": [
    {
     "data": {
      "text/plain": "<Figure size 640x480 with 1 Axes>",
      "image/png": "[encoded data removed]"
     },
     "metadata": {},
     "output_type": "display_data"
    },
    {
     "name": "stdout",
     "output_type": "stream",
     "text": [
      "AUC: 0.8673\n"
     ]
    }
   ],
   "source": [
    "# roc curve on the validation set\n",
    "y_score = boosted_dt.predict_proba(X_val[:, best_features_set])\n",
    "utilities.display_roc_curve(y_val, y_score[:, 1])"
   ],
   "metadata": {
    "collapsed": false,
    "ExecuteTime": {
     "end_time": "2024-06-19T21:49:27.431275Z",
     "start_time": "2024-06-19T21:49:27.285604Z"
    }
   },
   "id": "7a06066ca3ccc87a",
   "execution_count": 52
  },
  {
   "cell_type": "markdown",
   "source": [
    "#### Saving the model"
   ],
   "metadata": {
    "collapsed": false
   },
   "id": "ccfc3312da5ab299"
  },
  {
   "cell_type": "code",
   "outputs": [],
   "source": [
    "with open(\"QuarkGluon_Tagging_BoostedDT.joblib\", \"wb\") as fo:\n",
    "    joblib.dump(boosted_dt, fo)"
   ],
   "metadata": {
    "collapsed": false,
    "ExecuteTime": {
     "end_time": "2024-06-19T21:51:36.191343Z",
     "start_time": "2024-06-19T21:51:36.176518Z"
    }
   },
   "id": "2064ebcc855ec39a",
   "execution_count": 58
  }
 ],
 "metadata": {
  "kernelspec": {
   "display_name": "Python 3",
   "language": "python",
   "name": "python3"
  },
  "language_info": {
   "codemirror_mode": {
    "name": "ipython",
    "version": 2
   },
   "file_extension": ".py",
   "mimetype": "text/x-python",
   "name": "python",
   "nbconvert_exporter": "python",
   "pygments_lexer": "ipython2",
   "version": "2.7.6"
  }
 },
 "nbformat": 4,
 "nbformat_minor": 5
}
