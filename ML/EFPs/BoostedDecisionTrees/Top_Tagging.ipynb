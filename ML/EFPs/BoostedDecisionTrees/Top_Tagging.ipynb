{
 "cells": [
  {
   "cell_type": "code",
   "execution_count": 1,
   "id": "initial_id",
   "metadata": {
    "collapsed": true,
    "ExecuteTime": {
     "end_time": "2024-06-23T17:07:58.438321Z",
     "start_time": "2024-06-23T17:07:57.542252Z"
    }
   },
   "outputs": [],
   "source": [
    "from ML.EFPs.data_loaders import load_data_top_tagging\n",
    "from sklearn.ensemble import AdaBoostClassifier\n",
    "from sklearn.tree import DecisionTreeClassifier\n",
    "import joblib\n",
    "import utilities.utilities as utilities"
   ]
  },
  {
   "cell_type": "markdown",
   "source": [
    "#### Loading the Dataset"
   ],
   "metadata": {
    "collapsed": false
   },
   "id": "8c34330e8b602b01"
  },
  {
   "cell_type": "code",
   "outputs": [],
   "source": [
    "root_data_folder = \"../../../Data\"\n",
    "X_train, y_train = load_data_top_tagging(\n",
    "    quark_data_path=f\"{root_data_folder}/Trainning/q_jets_efps_d5_primed.npy\", \n",
    "    gluon_data_path=f\"{root_data_folder}/Trainning/g_jets_efps_d5_primed.npy\",\n",
    "    top_data_path=f\"{root_data_folder}/Trainning/t_jets_efps_d5_primed.npy\"\n",
    ")\n",
    "X_val, y_val = load_data_top_tagging(\n",
    "    quark_data_path=f\"{root_data_folder}/Validation/q_jets_efps_d5_primed.npy\", \n",
    "    gluon_data_path=f\"{root_data_folder}/Validation/g_jets_efps_d5_primed.npy\",\n",
    "    top_data_path=f\"{root_data_folder}/Validation/t_jets_efps_d5_primed.npy\"\n",
    ")\n",
    "best_features_set = [0, 1, 3, 9, 11, 12, 15, 16, 18, 22, 28, 29, 34, 38, 39, 44, 45, 48]"
   ],
   "metadata": {
    "collapsed": false,
    "ExecuteTime": {
     "end_time": "2024-06-23T17:07:58.676400Z",
     "start_time": "2024-06-23T17:07:58.439226Z"
    }
   },
   "id": "440e443c18cc03de",
   "execution_count": 2
  },
  {
   "cell_type": "code",
   "outputs": [
    {
     "data": {
      "text/plain": "18"
     },
     "execution_count": 3,
     "metadata": {},
     "output_type": "execute_result"
    }
   ],
   "source": [
    "len(best_features_set)"
   ],
   "metadata": {
    "collapsed": false,
    "ExecuteTime": {
     "end_time": "2024-06-23T17:08:05.810289Z",
     "start_time": "2024-06-23T17:08:05.804253Z"
    }
   },
   "id": "a64cc742bf11e33d",
   "execution_count": 3
  },
  {
   "cell_type": "markdown",
   "source": [
    "#### Trainning the Boosted DT"
   ],
   "metadata": {
    "collapsed": false
   },
   "id": "2b173d5ebb0f620"
  },
  {
   "cell_type": "code",
   "outputs": [
    {
     "data": {
      "text/plain": "AdaBoostClassifier(estimator=DecisionTreeClassifier(criterion='entropy',\n                                                    max_depth=5,\n                                                    min_samples_split=300),\n                   learning_rate=0.5)",
      "text/html": "<style>#sk-container-id-2 {color: black;}#sk-container-id-2 pre{padding: 0;}#sk-container-id-2 div.sk-toggleable {background-color: white;}#sk-container-id-2 label.sk-toggleable__label {cursor: pointer;display: block;width: 100%;margin-bottom: 0;padding: 0.3em;box-sizing: border-box;text-align: center;}#sk-container-id-2 label.sk-toggleable__label-arrow:before {content: \"▸\";float: left;margin-right: 0.25em;color: #696969;}#sk-container-id-2 label.sk-toggleable__label-arrow:hover:before {color: black;}#sk-container-id-2 div.sk-estimator:hover label.sk-toggleable__label-arrow:before {color: black;}#sk-container-id-2 div.sk-toggleable__content {max-height: 0;max-width: 0;overflow: hidden;text-align: left;background-color: #f0f8ff;}#sk-container-id-2 div.sk-toggleable__content pre {margin: 0.2em;color: black;border-radius: 0.25em;background-color: #f0f8ff;}#sk-container-id-2 input.sk-toggleable__control:checked~div.sk-toggleable__content {max-height: 200px;max-width: 100%;overflow: auto;}#sk-container-id-2 input.sk-toggleable__control:checked~label.sk-toggleable__label-arrow:before {content: \"▾\";}#sk-container-id-2 div.sk-estimator input.sk-toggleable__control:checked~label.sk-toggleable__label {background-color: #d4ebff;}#sk-container-id-2 div.sk-label input.sk-toggleable__control:checked~label.sk-toggleable__label {background-color: #d4ebff;}#sk-container-id-2 input.sk-hidden--visually {border: 0;clip: rect(1px 1px 1px 1px);clip: rect(1px, 1px, 1px, 1px);height: 1px;margin: -1px;overflow: hidden;padding: 0;position: absolute;width: 1px;}#sk-container-id-2 div.sk-estimator {font-family: monospace;background-color: #f0f8ff;border: 1px dotted black;border-radius: 0.25em;box-sizing: border-box;margin-bottom: 0.5em;}#sk-container-id-2 div.sk-estimator:hover {background-color: #d4ebff;}#sk-container-id-2 div.sk-parallel-item::after {content: \"\";width: 100%;border-bottom: 1px solid gray;flex-grow: 1;}#sk-container-id-2 div.sk-label:hover label.sk-toggleable__label {background-color: #d4ebff;}#sk-container-id-2 div.sk-serial::before {content: \"\";position: absolute;border-left: 1px solid gray;box-sizing: border-box;top: 0;bottom: 0;left: 50%;z-index: 0;}#sk-container-id-2 div.sk-serial {display: flex;flex-direction: column;align-items: center;background-color: white;padding-right: 0.2em;padding-left: 0.2em;position: relative;}#sk-container-id-2 div.sk-item {position: relative;z-index: 1;}#sk-container-id-2 div.sk-parallel {display: flex;align-items: stretch;justify-content: center;background-color: white;position: relative;}#sk-container-id-2 div.sk-item::before, #sk-container-id-2 div.sk-parallel-item::before {content: \"\";position: absolute;border-left: 1px solid gray;box-sizing: border-box;top: 0;bottom: 0;left: 50%;z-index: -1;}#sk-container-id-2 div.sk-parallel-item {display: flex;flex-direction: column;z-index: 1;position: relative;background-color: white;}#sk-container-id-2 div.sk-parallel-item:first-child::after {align-self: flex-end;width: 50%;}#sk-container-id-2 div.sk-parallel-item:last-child::after {align-self: flex-start;width: 50%;}#sk-container-id-2 div.sk-parallel-item:only-child::after {width: 0;}#sk-container-id-2 div.sk-dashed-wrapped {border: 1px dashed gray;margin: 0 0.4em 0.5em 0.4em;box-sizing: border-box;padding-bottom: 0.4em;background-color: white;}#sk-container-id-2 div.sk-label label {font-family: monospace;font-weight: bold;display: inline-block;line-height: 1.2em;}#sk-container-id-2 div.sk-label-container {text-align: center;}#sk-container-id-2 div.sk-container {/* jupyter's `normalize.less` sets `[hidden] { display: none; }` but bootstrap.min.css set `[hidden] { display: none !important; }` so we also need the `!important` here to be able to override the default hidden behavior on the sphinx rendered scikit-learn.org. See: https://github.com/scikit-learn/scikit-learn/issues/21755 */display: inline-block !important;position: relative;}#sk-container-id-2 div.sk-text-repr-fallback {display: none;}</style><div id=\"sk-container-id-2\" class=\"sk-top-container\"><div class=\"sk-text-repr-fallback\"><pre>AdaBoostClassifier(estimator=DecisionTreeClassifier(criterion=&#x27;entropy&#x27;,\n                                                    max_depth=5,\n                                                    min_samples_split=300),\n                   learning_rate=0.5)</pre><b>In a Jupyter environment, please rerun this cell to show the HTML representation or trust the notebook. <br />On GitHub, the HTML representation is unable to render, please try loading this page with nbviewer.org.</b></div><div class=\"sk-container\" hidden><div class=\"sk-item sk-dashed-wrapped\"><div class=\"sk-label-container\"><div class=\"sk-label sk-toggleable\"><input class=\"sk-toggleable__control sk-hidden--visually\" id=\"sk-estimator-id-4\" type=\"checkbox\" ><label for=\"sk-estimator-id-4\" class=\"sk-toggleable__label sk-toggleable__label-arrow\">AdaBoostClassifier</label><div class=\"sk-toggleable__content\"><pre>AdaBoostClassifier(estimator=DecisionTreeClassifier(criterion=&#x27;entropy&#x27;,\n                                                    max_depth=5,\n                                                    min_samples_split=300),\n                   learning_rate=0.5)</pre></div></div></div><div class=\"sk-parallel\"><div class=\"sk-parallel-item\"><div class=\"sk-item\"><div class=\"sk-label-container\"><div class=\"sk-label sk-toggleable\"><input class=\"sk-toggleable__control sk-hidden--visually\" id=\"sk-estimator-id-5\" type=\"checkbox\" ><label for=\"sk-estimator-id-5\" class=\"sk-toggleable__label sk-toggleable__label-arrow\">estimator: DecisionTreeClassifier</label><div class=\"sk-toggleable__content\"><pre>DecisionTreeClassifier(criterion=&#x27;entropy&#x27;, max_depth=5, min_samples_split=300)</pre></div></div></div><div class=\"sk-serial\"><div class=\"sk-item\"><div class=\"sk-estimator sk-toggleable\"><input class=\"sk-toggleable__control sk-hidden--visually\" id=\"sk-estimator-id-6\" type=\"checkbox\" ><label for=\"sk-estimator-id-6\" class=\"sk-toggleable__label sk-toggleable__label-arrow\">DecisionTreeClassifier</label><div class=\"sk-toggleable__content\"><pre>DecisionTreeClassifier(criterion=&#x27;entropy&#x27;, max_depth=5, min_samples_split=300)</pre></div></div></div></div></div></div></div></div></div></div>"
     },
     "execution_count": 7,
     "metadata": {},
     "output_type": "execute_result"
    }
   ],
   "source": [
    "# as a base estimator we use the decision tree for the quark-gluon tagging\n",
    "tree = DecisionTreeClassifier(criterion=\"entropy\", max_depth=5, min_samples_split=300)\n",
    "boosted_dt = AdaBoostClassifier(estimator=tree, learning_rate=0.5)\n",
    "# trainning using only the best feature set\n",
    "boosted_dt.fit(X_train[:, best_features_set], y_train)"
   ],
   "metadata": {
    "collapsed": false,
    "ExecuteTime": {
     "end_time": "2024-06-19T22:00:48.541144Z",
     "start_time": "2024-06-19T21:59:09.872244Z"
    }
   },
   "id": "6cbc7a6e622dbc85",
   "execution_count": 7
  },
  {
   "cell_type": "markdown",
   "source": [
    "#### Some quick checks"
   ],
   "metadata": {
    "collapsed": false
   },
   "id": "ee039c9e3c843407"
  },
  {
   "cell_type": "code",
   "outputs": [
    {
     "name": "stdout",
     "output_type": "stream",
     "text": [
      "Recall: 0.9030\n",
      "Precision: 0.8736\n",
      "Confusion Matrix:\n",
      "[[19219  2963]\n",
      " [ 2201 20487]]\n"
     ]
    }
   ],
   "source": [
    "y_val_predict = boosted_dt.predict(X_val[:, best_features_set])\n",
    "utilities.display_metrics(y_val, y_val_predict)"
   ],
   "metadata": {
    "collapsed": false,
    "ExecuteTime": {
     "end_time": "2024-06-19T22:00:48.712674Z",
     "start_time": "2024-06-19T22:00:48.542069Z"
    }
   },
   "id": "5c7dbd254e3b466a",
   "execution_count": 8
  },
  {
   "cell_type": "code",
   "outputs": [
    {
     "data": {
      "text/plain": "<Figure size 640x480 with 1 Axes>",
      "image/png": "[encoded data removed]"
     },
     "metadata": {},
     "output_type": "display_data"
    },
    {
     "name": "stdout",
     "output_type": "stream",
     "text": [
      "AUC: 0.9530\n"
     ]
    }
   ],
   "source": [
    "# roc curve on the validation set\n",
    "y_score = boosted_dt.predict_proba(X_val[:, best_features_set])\n",
    "utilities.display_roc_curve(y_val, y_score[:, 1])"
   ],
   "metadata": {
    "collapsed": false,
    "ExecuteTime": {
     "end_time": "2024-06-19T22:02:47.836127Z",
     "start_time": "2024-06-19T22:02:47.673426Z"
    }
   },
   "id": "64d7c134e4db3fc9",
   "execution_count": 15
  },
  {
   "cell_type": "markdown",
   "source": [
    "#### Saving the model"
   ],
   "metadata": {
    "collapsed": false
   },
   "id": "ac711b65a4bacc5d"
  },
  {
   "cell_type": "code",
   "outputs": [],
   "source": [
    "with open(\"Top_Tagging_BoostedDT.joblib\", \"wb\") as fo:\n",
    "    joblib.dump(boosted_dt, fo)"
   ],
   "metadata": {
    "collapsed": false,
    "ExecuteTime": {
     "end_time": "2024-06-19T22:01:49.398918Z",
     "start_time": "2024-06-19T22:01:49.382882Z"
    }
   },
   "id": "bff67053389f996c",
   "execution_count": 12
  }
 ],
 "metadata": {
  "kernelspec": {
   "display_name": "Python 3",
   "language": "python",
   "name": "python3"
  },
  "language_info": {
   "codemirror_mode": {
    "name": "ipython",
    "version": 2
   },
   "file_extension": ".py",
   "mimetype": "text/x-python",
   "name": "python",
   "nbconvert_exporter": "python",
   "pygments_lexer": "ipython2",
   "version": "2.7.6"
  }
 },
 "nbformat": 4,
 "nbformat_minor": 5
}
