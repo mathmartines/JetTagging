{
 "cells": [
  {
   "cell_type": "code",
   "execution_count": 30,
   "id": "initial_id",
   "metadata": {
    "collapsed": true,
    "ExecuteTime": {
     "end_time": "2024-05-31T20:58:15.715515Z",
     "start_time": "2024-05-31T20:58:15.694872Z"
    }
   },
   "outputs": [],
   "source": [
    "import numpy as np\n",
    "from src.Preprocessing import create_labels_single_column\n",
    "from src.Particle import ParticleType\n",
    "import matplotlib.pyplot as plt\n",
    "from sklearn.utils import shuffle\n",
    "from sklearn.model_selection import train_test_split\n",
    "from sklearn.preprocessing import StandardScaler\n",
    "from sklearn.linear_model import LogisticRegression\n",
    "from sklearn.metrics import recall_score, precision_score, confusion_matrix, precision_recall_curve, roc_curve, auc\n",
    "from sklearn.model_selection import cross_val_predict"
   ]
  },
  {
   "cell_type": "code",
   "outputs": [
    {
     "name": "stdout",
     "output_type": "stream",
     "text": [
      "Number of Top Jets: 177945\n",
      "Number of Gluon Jets: 177252\n",
      "Number of LightQuark Jets: 170679\n"
     ]
    }
   ],
   "source": [
    "# loading the data\n",
    "efps_top = np.load(\"../../Data/t_jets_efp_d5.npy\")\n",
    "efps_gluon = np.load(\"../../Data/g_jets_efp_d5.npy\")\n",
    "efps_quark = np.load(\"../../Data/q_jets_efp_d5.npy\")\n",
    "\n",
    "print(f\"Number of Top Jets: {efps_top.shape[0]}\")\n",
    "print(f\"Number of Gluon Jets: {efps_gluon.shape[0]}\")\n",
    "print(f\"Number of LightQuark Jets: {efps_quark.shape[0]}\")"
   ],
   "metadata": {
    "collapsed": false,
    "ExecuteTime": {
     "end_time": "2024-05-31T20:58:16.185625Z",
     "start_time": "2024-05-31T20:58:16.078181Z"
    }
   },
   "id": "72b93b026b948c4d",
   "execution_count": 31
  },
  {
   "cell_type": "code",
   "outputs": [],
   "source": [
    "# joinning the data \n",
    "# half of the data represents Top jets, the other half represents non-top quark jets\n",
    "X = np.vstack((efps_top, efps_gluon[: int(efps_gluon.shape[0]/2)], efps_quark[: int(efps_quark.shape[0]/2)]))\n",
    "y = create_labels_single_column(jet_inputs={ParticleType.Gluon: (efps_top.shape[0], X.shape[0] - 1), ParticleType.Top: (0, efps_top.shape[0] - 1)})\n",
    "# shuffling the data\n",
    "X, y = shuffle(X, y, random_state=42)"
   ],
   "metadata": {
    "collapsed": false,
    "ExecuteTime": {
     "end_time": "2024-05-31T20:58:16.576343Z",
     "start_time": "2024-05-31T20:58:16.408746Z"
    }
   },
   "id": "abcb6f4eaca48a85",
   "execution_count": 32
  },
  {
   "cell_type": "code",
   "outputs": [],
   "source": [
    "# Let us use the StandardScaler to leave each feature with the same order of magniture\n",
    "scaler = StandardScaler()\n",
    "X = scaler.fit_transform(X)"
   ],
   "metadata": {
    "collapsed": false,
    "ExecuteTime": {
     "end_time": "2024-05-31T20:58:17.470746Z",
     "start_time": "2024-05-31T20:58:17.038742Z"
    }
   },
   "id": "bc826ece29885d6f",
   "execution_count": 33
  },
  {
   "cell_type": "code",
   "outputs": [
    {
     "name": "stdout",
     "output_type": "stream",
     "text": [
      "Size of the Training set: 254254\n",
      "Size of the Validation set: 44869\n",
      "Size of the Test set: 52787\n"
     ]
    }
   ],
   "source": [
    "# Dividing the data into trainning, validation, and test\n",
    "# diving the set into trainning, validation, and test\n",
    "X_train, X_test, y_train, y_test = train_test_split(X, y, test_size=0.15, random_state=42)\n",
    "X_train, X_val, y_train, y_val = train_test_split(X_train, y_train, test_size=0.15, random_state=42)\n",
    "\n",
    "print(f\"Size of the Training set: {X_train.shape[0]}\")\n",
    "print(f\"Size of the Validation set: {X_val.shape[0]}\")\n",
    "print(f\"Size of the Test set: {X_test.shape[0]}\")"
   ],
   "metadata": {
    "collapsed": false,
    "ExecuteTime": {
     "end_time": "2024-05-31T20:58:17.838317Z",
     "start_time": "2024-05-31T20:58:17.567353Z"
    }
   },
   "id": "3877f8d53a6b9469",
   "execution_count": 34
  },
  {
   "cell_type": "code",
   "outputs": [
    {
     "name": "stdout",
     "output_type": "stream",
     "text": [
      "Coefficients: 4.48, 5.25, -0.49, -0.98, 0.53, -1.49, -0.44, -0.63, 0.37, 0.02, 0.34, -3.06, 2.86, 0.13, 2.49, -1.63, -0.24, -0.16, 0.16, -1.63, 0.64, 0.21, -0.12, -0.12, 0.21, 0.56, 1.12, 0.80, 0.45, 0.18, -1.49, -1.72, -2.75, -0.39, 0.07, 0.15, -0.06, -0.08, 0.30, 0.14, -0.30, -0.42, 0.09, -0.71, -1.13, -1.65, 0.77, 0.15, -0.11, -0.43, -0.78, -0.41, -0.39, -2.39, 0.33, -0.21, 0.91, -0.31, 0.30, -1.20, 0.86, 0.32, 1.12, -0.01, 0.03, 1.14, -0.10, 0.34, 0.16, -1.08, 0.23, 0.40, 0.54, 0.81, 0.08, -0.02, -0.33, -0.34, -1.37, 0.41, 0.02, 0.06, 0.22, 0.10, 0.00, 0.79, 0.10, -0.30, -0.06, 0.06, -0.02, 0.32, 0.17, 0.61, 0.73, 0.47, -0.12, 0.38, -0.05, 0.20, -0.15\n",
      "Intercept -0.047\n"
     ]
    }
   ],
   "source": [
    "# defining the model\n",
    "# d <= 5\n",
    "# l2, C = 0.04, solver = lbfgs\n",
    "# l1, C = 0.0005, solver = saga\n",
    "# d <= 7\n",
    "# l2, C = 0.01, solver = lbfgs\n",
    "log_reg = LogisticRegression(penalty='l2', C=0.04, solver='lbfgs', max_iter=500)\n",
    "log_reg.fit(X_train, y_train)\n",
    "\n",
    "coefs = ', '.join([f'{val:.2f}' for val in log_reg.coef_[0]])\n",
    "print(f\"Coefficients:\", coefs)\n",
    "print(f\"Intercept {log_reg.intercept_[0]:.3f}\")"
   ],
   "metadata": {
    "collapsed": false,
    "ExecuteTime": {
     "end_time": "2024-05-31T20:58:49.403979Z",
     "start_time": "2024-05-31T20:58:18.496921Z"
    }
   },
   "id": "161ebc11142d18ad",
   "execution_count": 35
  },
  {
   "cell_type": "code",
   "outputs": [
    {
     "name": "stdout",
     "output_type": "stream",
     "text": [
      "Non-vanishing coefficients indices:\n",
      "[ 0  1  5 11 12 14 15 19 26 30 31 32 44 45 53 59 62 65 69 78]\n"
     ]
    }
   ],
   "source": [
    "print(\"Non-vanishing coefficients indices:\")\n",
    "best_efps = np.where(abs(log_reg.coef_[0]) > 1)[0]\n",
    "print(best_efps)"
   ],
   "metadata": {
    "collapsed": false,
    "ExecuteTime": {
     "end_time": "2024-05-31T20:58:49.410789Z",
     "start_time": "2024-05-31T20:58:49.407539Z"
    }
   },
   "id": "d9a0dcfe38e724a3",
   "execution_count": 36
  },
  {
   "cell_type": "code",
   "outputs": [
    {
     "name": "stdout",
     "output_type": "stream",
     "text": [
      "Trainnig set:\n",
      "Recall for Top tagging: 0.89\n",
      "Precision for Top tagging: 0.85\n",
      "Confusion Matrix\n",
      "[[105035  20498]\n",
      " [ 14312 114409]]\n"
     ]
    }
   ],
   "source": [
    "# Tranning set\n",
    "y_train_predict = log_reg.predict(X_train)\n",
    "\n",
    "print(\"Trainnig set:\")\n",
    "print(f\"Recall for Top tagging: {recall_score(y_train, y_train_predict):.2f}\")\n",
    "print(f\"Precision for Top tagging: {precision_score(y_train, y_train_predict):.2f}\")\n",
    "print(\"Confusion Matrix\")\n",
    "print(confusion_matrix(y_train, y_train_predict, labels=[0, 1]))"
   ],
   "metadata": {
    "collapsed": false,
    "ExecuteTime": {
     "end_time": "2024-05-31T20:58:49.985168Z",
     "start_time": "2024-05-31T20:58:49.412249Z"
    }
   },
   "id": "ccb7e0feaf2c22d",
   "execution_count": 37
  },
  {
   "cell_type": "code",
   "outputs": [
    {
     "name": "stdout",
     "output_type": "stream",
     "text": [
      "Validation set:\n",
      "Recall for Top tagging: 0.89\n",
      "Precision for Top tagging: 0.85\n",
      "Confusion Matrix\n",
      "[[18718  3536]\n",
      " [ 2476 20139]]\n"
     ]
    }
   ],
   "source": [
    "y_val_predict = log_reg.predict(X_val)\n",
    "\n",
    "print(\"Validation set:\")\n",
    "print(f\"Recall for Top tagging: {recall_score(y_val, y_val_predict):.2f}\")\n",
    "print(f\"Precision for Top tagging: {precision_score(y_val, y_val_predict):.2f}\")\n",
    "print(\"Confusion Matrix\")\n",
    "print(confusion_matrix(y_val, y_val_predict, labels=[0, 1]))"
   ],
   "metadata": {
    "collapsed": false,
    "ExecuteTime": {
     "end_time": "2024-05-31T20:58:50.207259Z",
     "start_time": "2024-05-31T20:58:49.990289Z"
    }
   },
   "id": "88354c4fdfb07be3",
   "execution_count": 38
  },
  {
   "cell_type": "code",
   "outputs": [
    {
     "name": "stdout",
     "output_type": "stream",
     "text": [
      "Test set:\n",
      "Recall for Top tagging: 0.89\n",
      "Precision for Top tagging: 0.85\n",
      "Confusion Matrix\n",
      "[[21930  4248]\n",
      " [ 2912 23697]]\n"
     ]
    }
   ],
   "source": [
    "# Test set\n",
    "y_test_predict = log_reg.predict(X_test)\n",
    "\n",
    "print(\"Test set:\")\n",
    "print(f\"Recall for Top tagging: {recall_score(y_test, y_test_predict):.2f}\")\n",
    "print(f\"Precision for Top tagging: {precision_score(y_test, y_test_predict):.2f}\")\n",
    "print(\"Confusion Matrix\")\n",
    "print(confusion_matrix(y_test, y_test_predict, labels=[0, 1]))"
   ],
   "metadata": {
    "collapsed": false,
    "ExecuteTime": {
     "end_time": "2024-05-31T20:58:50.386554Z",
     "start_time": "2024-05-31T20:58:50.209131Z"
    }
   },
   "id": "6d1ca708b6c98016",
   "execution_count": 39
  },
  {
   "cell_type": "code",
   "outputs": [],
   "source": [
    "# evaluating the probabilities of each sample in the trainning data using \n",
    "# K-fold cross validation - it returns the probability of the sample in each class\n",
    "y_probabilities = cross_val_predict(log_reg, X_train, y_train, cv=6, method='predict_proba')"
   ],
   "metadata": {
    "collapsed": false,
    "ExecuteTime": {
     "end_time": "2024-05-31T21:01:05.648698Z",
     "start_time": "2024-05-31T20:58:50.389386Z"
    }
   },
   "id": "7cabc263132a21ca",
   "execution_count": 40
  },
  {
   "cell_type": "code",
   "outputs": [
    {
     "data": {
      "text/plain": "[]"
     },
     "execution_count": 41,
     "metadata": {},
     "output_type": "execute_result"
    },
    {
     "data": {
      "text/plain": "<Figure size 640x480 with 1 Axes>",
      "image/png": "[encoded data removed]"
     },
     "metadata": {},
     "output_type": "display_data"
    }
   ],
   "source": [
    "y_score = y_probabilities[:, 1]\n",
    "precision, recall, thresholds = precision_recall_curve(y_train, y_score)\n",
    "plt.plot(thresholds, precision[:-1], label='Precision', color='green')\n",
    "plt.plot(thresholds, recall[:-1], label='Recall', color='red')\n",
    "plt.legend(loc='best')\n",
    "plt.plot()"
   ],
   "metadata": {
    "collapsed": false,
    "ExecuteTime": {
     "end_time": "2024-05-31T21:01:06.584990Z",
     "start_time": "2024-05-31T21:01:05.653251Z"
    }
   },
   "id": "8693e1212b7f10ab",
   "execution_count": 41
  },
  {
   "cell_type": "code",
   "outputs": [
    {
     "data": {
      "text/plain": "<Figure size 640x480 with 1 Axes>",
      "image/png": "[encoded data removed]"
     },
     "metadata": {},
     "output_type": "display_data"
    },
    {
     "name": "stdout",
     "output_type": "stream",
     "text": [
      "AUC: 0.94\n"
     ]
    }
   ],
   "source": [
    "# roc curve for top tagging \n",
    "fpr, tpr, thresholds = roc_curve(y_train, y_score)\n",
    "plt.plot(fpr, tpr)\n",
    "plt.xlabel('FPR')\n",
    "plt.ylabel('TPR (Recall)')\n",
    "plt.show()\n",
    "print(f\"AUC: {auc(fpr, tpr):.2f}\")"
   ],
   "metadata": {
    "collapsed": false,
    "ExecuteTime": {
     "end_time": "2024-05-31T21:01:06.841608Z",
     "start_time": "2024-05-31T21:01:06.586429Z"
    }
   },
   "id": "39f151b2e88516",
   "execution_count": 42
  }
 ],
 "metadata": {
  "kernelspec": {
   "display_name": "Python 3",
   "language": "python",
   "name": "python3"
  },
  "language_info": {
   "codemirror_mode": {
    "name": "ipython",
    "version": 2
   },
   "file_extension": ".py",
   "mimetype": "text/x-python",
   "name": "python",
   "nbconvert_exporter": "python",
   "pygments_lexer": "ipython2",
   "version": "2.7.6"
  }
 },
 "nbformat": 4,
 "nbformat_minor": 5
}
