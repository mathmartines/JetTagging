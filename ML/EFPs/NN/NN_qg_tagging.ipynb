{
 "cells": [
  {
   "cell_type": "code",
   "execution_count": 1,
   "id": "c3486fba-0593-4513-8d92-bcc6a385bb9a",
   "metadata": {},
   "outputs": [],
   "source": [
    "import os\n",
    "import shutil\n",
    "\n",
    "# Remover o diretório __pycache__ se existir\n",
    "if os.path.exists('__pycache__'):\n",
    "    shutil.rmtree('__pycache__')"
   ]
  },
  {
   "cell_type": "code",
   "execution_count": 2,
   "id": "a3f86b80-3677-46e3-bb80-e48e0c154897",
   "metadata": {},
   "outputs": [
    {
     "name": "stderr",
     "output_type": "stream",
     "text": [
      "2024-06-22 18:40:42.900041: I tensorflow/core/util/port.cc:110] oneDNN custom operations are on. You may see slightly different numerical results due to floating-point round-off errors from different computation orders. To turn them off, set the environment variable `TF_ENABLE_ONEDNN_OPTS=0`.\n",
      "2024-06-22 18:40:42.988412: I tensorflow/core/platform/cpu_feature_guard.cc:182] This TensorFlow binary is optimized to use available CPU instructions in performance-critical operations.\n",
      "To enable the following instructions: AVX2 AVX512F AVX512_VNNI FMA, in other operations, rebuild TensorFlow with the appropriate compiler flags.\n"
     ]
    }
   ],
   "source": [
    "import numpy as np\n",
    "import sys\n",
    "import matplotlib.pyplot as plt\n",
    "import pandas as pd\n",
    "import tensorflow as tf\n",
    "from tensorflow.keras.models import Sequential\n",
    "from tensorflow.keras.layers import Dense, Dropout, GlobalAveragePooling1D, Conv1D\n",
    "from sklearn.preprocessing import StandardScaler, MinMaxScaler\n",
    "from tensorflow.keras.optimizers import Adam\n",
    "from tensorflow.keras.metrics import AUC\n",
    "from sklearn.metrics import confusion_matrix, recall_score, precision_score, precision_recall_curve, roc_curve, classification_report, auc\n",
    "from tensorflow.keras.callbacks import EarlyStopping\n",
    "from tensorflow.keras.utils import to_categorical\n",
    "from sklearn.model_selection import train_test_split\n",
    "import sys\n",
    "sys.path.append('/eos/home-i03/m/mdemelop/SWAN_projects/ML/Seminario')\n",
    "\n",
    "import os\n",
    "from particle_types import ParticleType\n",
    "from jet_labels import create_labels_single_column, ParticleType\n",
    "from models import model_efp, build_model_a, build_model_b, build_model_a_wBN\n",
    "from sklearn.utils import shuffle\n",
    "from utilities import save_model\n",
    "from data_loaders import  load_data_qg_tagging,  load_data_qg_tagging_wR"
   ]
  },
  {
   "cell_type": "code",
   "execution_count": 3,
   "id": "fe09d3ed-57a5-4867-8c0c-7746797355a3",
   "metadata": {},
   "outputs": [],
   "source": [
    "root_data_folder = '/eos/home-i03/m/mdemelop/SWAN_projects/ML/Seminario/Data/'"
   ]
  },
  {
   "cell_type": "code",
   "execution_count": 15,
   "id": "faec1d75-259c-438d-9834-1d8ace242743",
   "metadata": {},
   "outputs": [
    {
     "name": "stdout",
     "output_type": "stream",
     "text": [
      "Loading trainning data...\n",
      "Loading validation data...\n",
      "Loading testing data...\n",
      "Ok\n"
     ]
    }
   ],
   "source": [
    "# Calculating X_train, y_train, X_val, y_val, X_test and y_test \n",
    "# Loads the data for the QuarkGluon-tagging and shuffle by load_data_top_tagging\n",
    "\n",
    "\n",
    "# Without mean DeltaRij as add feature \n",
    "# X_train, y_train = load_data_qg_tagging(\n",
    "#     quark_data_path=f\"{root_data_folder}/Trainning/q_jets_efps_d5_primed.npy\", \n",
    "#     gluon_data_path=f\"{root_data_folder}/Trainning/g_jets_efps_d5_primed.npy\")\n",
    "\n",
    "# X_val, y_val = load_data_qg_tagging(\n",
    "#     quark_data_path=f\"{root_data_folder}/Validation/q_jets_efps_d5_primed.npy\", \n",
    "#     gluon_data_path=f\"{root_data_folder}/Validation/g_jets_efps_d5_primed.npy\")\n",
    "\n",
    "\n",
    "# X_test, y_test = load_data_qg_tagging(\n",
    "#     quark_data_path=f\"{root_data_folder}/Test/q_jets_efps_d5_primed.npy\", \n",
    "#     gluon_data_path=f\"{root_data_folder}/Test/g_jets_efps_d5_primed.npy\")\n",
    "\n",
    "\n",
    "\n",
    "# With mean DeltaRij as add feature\n",
    "\n",
    "print(\"Loading trainning data...\")\n",
    "X_train, y_train = load_data_qg_tagging_wR(\n",
    "    quark_data_path=f\"{root_data_folder}/Trainning/q_jets_efps_d5_primed.npy\", \n",
    "    gluon_data_path=f\"{root_data_folder}/Trainning/g_jets_efps_d5_primed.npy\",\n",
    "    mean_deltaRij_quark_path=f\"{root_data_folder}/Trainning/mean_deltaRij_q.npy\",\n",
    "    mean_deltaRij_gluon_path=f\"{root_data_folder}/Trainning/mean_deltaRij_g.npy\")\n",
    "\n",
    "print(\"Loading validation data...\")\n",
    "X_val, y_val = load_data_qg_tagging_wR(\n",
    "    quark_data_path=f\"{root_data_folder}/Validation/q_jets_efps_d5_primed.npy\", \n",
    "    gluon_data_path=f\"{root_data_folder}/Validation/g_jets_efps_d5_primed.npy\",\n",
    "    mean_deltaRij_quark_path=f\"{root_data_folder}/Validation/mean_deltaRij_q.npy\",\n",
    "    mean_deltaRij_gluon_path=f\"{root_data_folder}/Validation/mean_deltaRij_g.npy\")\n",
    "\n",
    "print(\"Loading testing data...\")\n",
    "X_test, y_test = load_data_qg_tagging_wR(\n",
    "    quark_data_path=f\"{root_data_folder}/Test/q_jets_efps_d5_primed.npy\", \n",
    "    gluon_data_path=f\"{root_data_folder}/Test/g_jets_efps_d5_primed.npy\",\n",
    "    mean_deltaRij_quark_path=f\"{root_data_folder}/Test/mean_deltaRij_q.npy\",\n",
    "    mean_deltaRij_gluon_path=f\"{root_data_folder}/Test/mean_deltaRij_g.npy\")\n",
    "\n",
    "\n",
    "\n",
    "\n",
    "print('Ok')"
   ]
  },
  {
   "cell_type": "code",
   "execution_count": 16,
   "id": "26fa6875-5cd8-43a7-b514-56920b1bc317",
   "metadata": {},
   "outputs": [
    {
     "name": "stdout",
     "output_type": "stream",
     "text": [
      "Training set size: 251379\n",
      "Validation set size: 44362\n",
      "Test set size: 52190\n",
      "X_train.shape[1]: 55\n"
     ]
    }
   ],
   "source": [
    "# Normalize the data (example using StandardScaler)\n",
    "scaler = StandardScaler()\n",
    "X_train_scaled = scaler.fit_transform(X_train)\n",
    "X_val_scaled = scaler.transform(X_val)\n",
    "X_test_scaled = scaler.transform(X_test)\n",
    "\n",
    "# Expand the dimension of inputs to the format expected by Conv1D model\n",
    "X_train_scaled = np.expand_dims(X_train_scaled, axis=-1)\n",
    "X_val_scaled = np.expand_dims(X_val_scaled, axis=-1)\n",
    "X_test_scaled = np.expand_dims(X_test_scaled, axis=-1)\n",
    "\n",
    "\n",
    "\n",
    "# train -> used for training the model\n",
    "# val -> used for validation, tuning hyperparameters, and evaluating model performance during training\n",
    "# test -> test set, used for evaluating the final model performance\n",
    "\n",
    "# Checking sizes of the datasets\n",
    "print(f'Training set size: {X_train_scaled.shape[0]}')\n",
    "print(f'Validation set size: {X_val_scaled.shape[0]}')\n",
    "print(f'Test set size: {X_test_scaled.shape[0]}')\n",
    "print(f'X_train.shape[1]:', X_train_scaled.shape[1])"
   ]
  },
  {
   "cell_type": "code",
   "execution_count": 23,
   "id": "cce1f824-d220-45ea-9381-7277056674c4",
   "metadata": {},
   "outputs": [
    {
     "name": "stdout",
     "output_type": "stream",
     "text": [
      "Epoch 1/100\n",
      "5028/5028 [==============================] - 53s 10ms/step - loss: 0.6320 - accuracy: 0.6206 - auc_3: 0.6808 - val_loss: 0.4816 - val_accuracy: 0.7694 - val_auc_3: 0.8525\n",
      "Epoch 2/100\n",
      "5028/5028 [==============================] - 50s 10ms/step - loss: 0.4397 - accuracy: 0.7997 - auc_3: 0.8774 - val_loss: 0.4399 - val_accuracy: 0.8021 - val_auc_3: 0.8830\n",
      "Epoch 3/100\n",
      "5028/5028 [==============================] - 48s 10ms/step - loss: 0.4277 - accuracy: 0.8063 - auc_3: 0.8845 - val_loss: 0.4262 - val_accuracy: 0.8063 - val_auc_3: 0.8861\n",
      "Epoch 4/100\n",
      "5028/5028 [==============================] - 49s 10ms/step - loss: 0.4239 - accuracy: 0.8083 - auc_3: 0.8867 - val_loss: 0.4227 - val_accuracy: 0.8091 - val_auc_3: 0.8881\n",
      "Epoch 5/100\n",
      "5028/5028 [==============================] - 49s 10ms/step - loss: 0.4221 - accuracy: 0.8091 - auc_3: 0.8876 - val_loss: 0.4255 - val_accuracy: 0.8082 - val_auc_3: 0.8872\n",
      "Epoch 6/100\n",
      "5028/5028 [==============================] - 48s 10ms/step - loss: 0.4206 - accuracy: 0.8096 - auc_3: 0.8885 - val_loss: 0.4271 - val_accuracy: 0.8066 - val_auc_3: 0.8862\n",
      "Epoch 7/100\n",
      "5028/5028 [==============================] - 47s 9ms/step - loss: 0.4191 - accuracy: 0.8107 - auc_3: 0.8893 - val_loss: 0.4206 - val_accuracy: 0.8099 - val_auc_3: 0.8897\n",
      "Epoch 8/100\n",
      "5028/5028 [==============================] - 47s 9ms/step - loss: 0.4183 - accuracy: 0.8103 - auc_3: 0.8898 - val_loss: 0.4229 - val_accuracy: 0.8090 - val_auc_3: 0.8893\n",
      "Epoch 9/100\n",
      "5028/5028 [==============================] - 49s 10ms/step - loss: 0.4174 - accuracy: 0.8110 - auc_3: 0.8902 - val_loss: 0.4180 - val_accuracy: 0.8111 - val_auc_3: 0.8902\n",
      "Epoch 10/100\n",
      "5028/5028 [==============================] - 48s 10ms/step - loss: 0.4167 - accuracy: 0.8113 - auc_3: 0.8905 - val_loss: 0.4268 - val_accuracy: 0.8089 - val_auc_3: 0.8898\n",
      "Epoch 11/100\n",
      "5028/5028 [==============================] - 48s 9ms/step - loss: 0.4161 - accuracy: 0.8117 - auc_3: 0.8909 - val_loss: 0.4166 - val_accuracy: 0.8109 - val_auc_3: 0.8910\n",
      "Epoch 12/100\n",
      "5028/5028 [==============================] - 48s 10ms/step - loss: 0.4154 - accuracy: 0.8123 - auc_3: 0.8913 - val_loss: 0.4190 - val_accuracy: 0.8101 - val_auc_3: 0.8901\n",
      "Epoch 13/100\n",
      "5028/5028 [==============================] - 48s 10ms/step - loss: 0.4150 - accuracy: 0.8123 - auc_3: 0.8915 - val_loss: 0.4192 - val_accuracy: 0.8110 - val_auc_3: 0.8912\n",
      "Epoch 14/100\n",
      "5028/5028 [==============================] - 49s 10ms/step - loss: 0.4145 - accuracy: 0.8126 - auc_3: 0.8918 - val_loss: 0.4175 - val_accuracy: 0.8115 - val_auc_3: 0.8905\n",
      "Epoch 15/100\n",
      "5028/5028 [==============================] - 50s 10ms/step - loss: 0.4137 - accuracy: 0.8130 - auc_3: 0.8922 - val_loss: 0.4195 - val_accuracy: 0.8104 - val_auc_3: 0.8911\n",
      "Epoch 16/100\n",
      "5028/5028 [==============================] - 50s 10ms/step - loss: 0.4135 - accuracy: 0.8130 - auc_3: 0.8923 - val_loss: 0.4178 - val_accuracy: 0.8109 - val_auc_3: 0.8914\n",
      "Epoch 17/100\n",
      "5028/5028 [==============================] - 50s 10ms/step - loss: 0.4135 - accuracy: 0.8133 - auc_3: 0.8924 - val_loss: 0.4157 - val_accuracy: 0.8112 - val_auc_3: 0.8913\n",
      "Epoch 18/100\n",
      "5028/5028 [==============================] - 50s 10ms/step - loss: 0.4129 - accuracy: 0.8133 - auc_3: 0.8926 - val_loss: 0.4168 - val_accuracy: 0.8132 - val_auc_3: 0.8910\n",
      "Epoch 19/100\n",
      "5028/5028 [==============================] - 50s 10ms/step - loss: 0.4128 - accuracy: 0.8137 - auc_3: 0.8927 - val_loss: 0.4161 - val_accuracy: 0.8120 - val_auc_3: 0.8914\n",
      "Epoch 20/100\n",
      "5028/5028 [==============================] - 50s 10ms/step - loss: 0.4125 - accuracy: 0.8135 - auc_3: 0.8928 - val_loss: 0.4148 - val_accuracy: 0.8132 - val_auc_3: 0.8919\n",
      "Epoch 21/100\n",
      "5028/5028 [==============================] - 47s 9ms/step - loss: 0.4122 - accuracy: 0.8143 - auc_3: 0.8930 - val_loss: 0.4247 - val_accuracy: 0.8098 - val_auc_3: 0.8917\n",
      "Epoch 22/100\n",
      "5028/5028 [==============================] - 48s 10ms/step - loss: 0.4116 - accuracy: 0.8144 - auc_3: 0.8933 - val_loss: 0.4145 - val_accuracy: 0.8136 - val_auc_3: 0.8918\n",
      "Epoch 23/100\n",
      "5028/5028 [==============================] - 49s 10ms/step - loss: 0.4119 - accuracy: 0.8140 - auc_3: 0.8932 - val_loss: 0.4170 - val_accuracy: 0.8119 - val_auc_3: 0.8914\n",
      "Epoch 24/100\n",
      "5028/5028 [==============================] - 48s 10ms/step - loss: 0.4113 - accuracy: 0.8146 - auc_3: 0.8935 - val_loss: 0.4157 - val_accuracy: 0.8125 - val_auc_3: 0.8915\n",
      "Epoch 25/100\n",
      "5028/5028 [==============================] - 48s 10ms/step - loss: 0.4110 - accuracy: 0.8143 - auc_3: 0.8936 - val_loss: 0.4136 - val_accuracy: 0.8121 - val_auc_3: 0.8923\n",
      "Epoch 26/100\n",
      "5028/5028 [==============================] - 48s 9ms/step - loss: 0.4107 - accuracy: 0.8145 - auc_3: 0.8938 - val_loss: 0.4136 - val_accuracy: 0.8126 - val_auc_3: 0.8925\n",
      "Epoch 27/100\n",
      "5028/5028 [==============================] - 49s 10ms/step - loss: 0.4104 - accuracy: 0.8154 - auc_3: 0.8940 - val_loss: 0.4176 - val_accuracy: 0.8113 - val_auc_3: 0.8930\n",
      "Epoch 28/100\n",
      "5028/5028 [==============================] - 50s 10ms/step - loss: 0.4107 - accuracy: 0.8144 - auc_3: 0.8938 - val_loss: 0.4138 - val_accuracy: 0.8137 - val_auc_3: 0.8922\n",
      "Epoch 29/100\n",
      "5028/5028 [==============================] - 49s 10ms/step - loss: 0.4099 - accuracy: 0.8151 - auc_3: 0.8942 - val_loss: 0.4143 - val_accuracy: 0.8132 - val_auc_3: 0.8924\n",
      "Epoch 30/100\n",
      "5028/5028 [==============================] - 44s 9ms/step - loss: 0.4101 - accuracy: 0.8150 - auc_3: 0.8941 - val_loss: 0.4139 - val_accuracy: 0.8125 - val_auc_3: 0.8924\n",
      "Epoch 31/100\n",
      "5028/5028 [==============================] - 45s 9ms/step - loss: 0.4100 - accuracy: 0.8160 - auc_3: 0.8942 - val_loss: 0.4197 - val_accuracy: 0.8106 - val_auc_3: 0.8916\n",
      "Epoch 32/100\n",
      "5028/5028 [==============================] - 44s 9ms/step - loss: 0.4100 - accuracy: 0.8152 - auc_3: 0.8942 - val_loss: 0.4126 - val_accuracy: 0.8142 - val_auc_3: 0.8932\n",
      "Epoch 33/100\n",
      "5028/5028 [==============================] - 44s 9ms/step - loss: 0.4095 - accuracy: 0.8157 - auc_3: 0.8946 - val_loss: 0.4162 - val_accuracy: 0.8130 - val_auc_3: 0.8932\n",
      "Epoch 34/100\n",
      "5028/5028 [==============================] - 44s 9ms/step - loss: 0.4094 - accuracy: 0.8155 - auc_3: 0.8945 - val_loss: 0.4171 - val_accuracy: 0.8120 - val_auc_3: 0.8906\n",
      "Epoch 35/100\n",
      "5028/5028 [==============================] - 44s 9ms/step - loss: 0.4092 - accuracy: 0.8155 - auc_3: 0.8946 - val_loss: 0.4171 - val_accuracy: 0.8141 - val_auc_3: 0.8920\n",
      "Epoch 36/100\n",
      "5028/5028 [==============================] - 43s 9ms/step - loss: 0.4086 - accuracy: 0.8162 - auc_3: 0.8949 - val_loss: 0.4158 - val_accuracy: 0.8111 - val_auc_3: 0.8926\n",
      "Epoch 37/100\n",
      "5028/5028 [==============================] - 45s 9ms/step - loss: 0.4090 - accuracy: 0.8159 - auc_3: 0.8948 - val_loss: 0.4130 - val_accuracy: 0.8126 - val_auc_3: 0.8926\n",
      "Epoch 38/100\n",
      "5028/5028 [==============================] - 47s 9ms/step - loss: 0.4084 - accuracy: 0.8166 - auc_3: 0.8950 - val_loss: 0.4180 - val_accuracy: 0.8128 - val_auc_3: 0.8921\n",
      "Epoch 39/100\n",
      "5028/5028 [==============================] - 45s 9ms/step - loss: 0.4082 - accuracy: 0.8165 - auc_3: 0.8951 - val_loss: 0.4137 - val_accuracy: 0.8143 - val_auc_3: 0.8926\n",
      "Epoch 40/100\n",
      "5028/5028 [==============================] - 44s 9ms/step - loss: 0.4085 - accuracy: 0.8157 - auc_3: 0.8950 - val_loss: 0.4123 - val_accuracy: 0.8137 - val_auc_3: 0.8930\n",
      "Epoch 41/100\n",
      "5028/5028 [==============================] - 44s 9ms/step - loss: 0.4243 - accuracy: 0.8164 - auc_3: 0.8954 - val_loss: 0.4137 - val_accuracy: 0.8138 - val_auc_3: 0.8932\n",
      "Epoch 42/100\n",
      "5028/5028 [==============================] - 43s 8ms/step - loss: 0.4066 - accuracy: 0.8170 - auc_3: 0.8960 - val_loss: 0.4149 - val_accuracy: 0.8136 - val_auc_3: 0.8929\n",
      "Epoch 43/100\n",
      "5028/5028 [==============================] - 43s 9ms/step - loss: 0.4077 - accuracy: 0.8166 - auc_3: 0.8955 - val_loss: 0.4136 - val_accuracy: 0.8144 - val_auc_3: 0.8928\n",
      "Epoch 44/100\n",
      "5028/5028 [==============================] - 44s 9ms/step - loss: 0.4078 - accuracy: 0.8162 - auc_3: 0.8953 - val_loss: 0.4155 - val_accuracy: 0.8122 - val_auc_3: 0.8933\n",
      "Epoch 45/100\n",
      "5028/5028 [==============================] - 44s 9ms/step - loss: 0.4072 - accuracy: 0.8167 - auc_3: 0.8957 - val_loss: 0.4115 - val_accuracy: 0.8137 - val_auc_3: 0.8935\n",
      "Epoch 46/100\n",
      "5028/5028 [==============================] - 46s 9ms/step - loss: 0.4107 - accuracy: 0.8163 - auc_3: 0.8953 - val_loss: 0.4154 - val_accuracy: 0.8138 - val_auc_3: 0.8930\n",
      "Epoch 47/100\n",
      "5028/5028 [==============================] - 44s 9ms/step - loss: 0.4071 - accuracy: 0.8164 - auc_3: 0.8957 - val_loss: 0.4152 - val_accuracy: 0.8136 - val_auc_3: 0.8921\n",
      "Epoch 48/100\n",
      "5028/5028 [==============================] - 44s 9ms/step - loss: 0.4070 - accuracy: 0.8170 - auc_3: 0.8958 - val_loss: 0.4218 - val_accuracy: 0.8144 - val_auc_3: 0.8932\n",
      "Epoch 49/100\n",
      "5028/5028 [==============================] - 44s 9ms/step - loss: 0.4070 - accuracy: 0.8169 - auc_3: 0.8958 - val_loss: 0.4146 - val_accuracy: 0.8134 - val_auc_3: 0.8922\n",
      "Epoch 50/100\n",
      "5028/5028 [==============================] - 44s 9ms/step - loss: 0.4067 - accuracy: 0.8168 - auc_3: 0.8960 - val_loss: 0.4140 - val_accuracy: 0.8143 - val_auc_3: 0.8930\n",
      "Epoch 51/100\n",
      "5028/5028 [==============================] - 44s 9ms/step - loss: 0.4067 - accuracy: 0.8174 - auc_3: 0.8959 - val_loss: 0.4162 - val_accuracy: 0.8134 - val_auc_3: 0.8924\n",
      "Epoch 52/100\n",
      "5028/5028 [==============================] - 44s 9ms/step - loss: 0.4064 - accuracy: 0.8172 - auc_3: 0.8961 - val_loss: 0.4145 - val_accuracy: 0.8148 - val_auc_3: 0.8930\n",
      "Epoch 53/100\n",
      "5028/5028 [==============================] - 44s 9ms/step - loss: 0.4064 - accuracy: 0.8173 - auc_3: 0.8962 - val_loss: 0.4156 - val_accuracy: 0.8134 - val_auc_3: 0.8918\n",
      "Epoch 54/100\n",
      "5028/5028 [==============================] - 45s 9ms/step - loss: 0.4065 - accuracy: 0.8168 - auc_3: 0.8961 - val_loss: 0.4168 - val_accuracy: 0.8134 - val_auc_3: 0.8929\n",
      "Epoch 55/100\n",
      "5028/5028 [==============================] - 43s 9ms/step - loss: 0.4062 - accuracy: 0.8170 - auc_3: 0.8964 - val_loss: 0.4186 - val_accuracy: 0.8148 - val_auc_3: 0.8930\n",
      "1631/1631 [==============================] - 6s 4ms/step - loss: 0.4128 - accuracy: 0.8143 - auc_3: 0.8926\n",
      "Test accuracy: 0.8143\n",
      "Test AUC: 0.8926\n"
     ]
    }
   ],
   "source": [
    "# Build and compile the model\n",
    "input_shape = (X_train_scaled.shape[1], X_train_scaled.shape[2])\n",
    "model_a = build_model_a(input_shape)\n",
    "\n",
    "#binary_crossentropy for model a \n",
    "#categorical_crossentropy for model b \n",
    "model_a.compile(Adam(learning_rate=0.001), loss='binary_crossentropy', metrics=['accuracy', tf.keras.metrics.AUC()])\n",
    "\n",
    "# Configure early stopping\n",
    "early_stopping = EarlyStopping(monitor='val_loss', patience=10, restore_best_weights=True)\n",
    "\n",
    "# Train the model\n",
    "history = model_a.fit(\n",
    "    X_train_scaled, y_train,\n",
    "    epochs=100,  # Definir o número total de épocas desejadas\n",
    "    batch_size=50,\n",
    "    validation_data=(X_val_scaled, y_val),\n",
    "    callbacks=[early_stopping],\n",
    "    verbose=1\n",
    ")\n",
    "\n",
    "# Evaluate the model on the test set\n",
    "test_loss, test_accuracy, test_auc = model_a.evaluate(X_test_scaled, y_test)\n",
    "print(f'Test accuracy: {test_accuracy:.4f}')\n",
    "print(f'Test AUC: {test_auc:.4f}')\n",
    "\n",
    "# Save the model \n",
    "save_model(model_a, history, 'qg_model_a_wR')"
   ]
  },
  {
   "cell_type": "code",
   "execution_count": 24,
   "id": "5fca41ab-0556-409a-aa6c-743bc5d39396",
   "metadata": {},
   "outputs": [
    {
     "data": {
      "image/png": "[encoded data removed]",
      "text/plain": [
       "<Figure size 864x288 with 2 Axes>"
      ]
     },
     "metadata": {
      "needs_background": "light"
     },
     "output_type": "display_data"
    }
   ],
   "source": [
    "# Plotting loss during training\n",
    "plt.figure(figsize=(12, 4))\n",
    "plt.subplot(1, 2, 1)\n",
    "plt.plot(history.history['loss'], label='Training')\n",
    "plt.plot(history.history['val_loss'], label='Validation')\n",
    "plt.title('Loss during Training and Validation')\n",
    "plt.xlabel('Epoch')\n",
    "plt.ylabel('Loss')\n",
    "plt.ylim(0., 1.)\n",
    "plt.legend()\n",
    "\n",
    "# Plotting accuracy during training\n",
    "plt.subplot(1, 2, 2)\n",
    "plt.plot(history.history['accuracy'], label='Training')\n",
    "plt.plot(history.history['val_accuracy'], label='Validation')\n",
    "plt.title('Accuracy during Training and Validation')\n",
    "plt.xlabel('Epoch')\n",
    "plt.ylabel('Accuracy')\n",
    "plt.ylim(0., 1.)\n",
    "plt.legend()\n",
    "\n",
    "plt.show()"
   ]
  },
  {
   "cell_type": "code",
   "execution_count": 25,
   "id": "3cdd5182-0dd5-4040-9a9c-cfe19c3a7d00",
   "metadata": {},
   "outputs": [
    {
     "name": "stdout",
     "output_type": "stream",
     "text": [
      "1631/1631 [==============================] - 4s 3ms/step\n",
      "Classification Report - Test Set\n",
      "              precision    recall  f1-score   support\n",
      "\n",
      "       Quark       0.80      0.84      0.82     26588\n",
      "       Gluon       0.82      0.78      0.80     25602\n",
      "\n",
      "    accuracy                           0.81     52190\n",
      "   macro avg       0.81      0.81      0.81     52190\n",
      "weighted avg       0.81      0.81      0.81     52190\n",
      "\n"
     ]
    }
   ],
   "source": [
    "# Classification report on the test set\n",
    "y_pred = (model_a_wBN.predict(X_test_scaled) > 0.5).astype(\"int32\")\n",
    "print(\"Classification Report - Test Set\")\n",
    "print(classification_report(y_test, y_pred, target_names=['Quark', 'Gluon']))"
   ]
  },
  {
   "cell_type": "code",
   "execution_count": 26,
   "id": "a312fba8-5869-40a0-a66d-3fa826749dd0",
   "metadata": {},
   "outputs": [
    {
     "name": "stdout",
     "output_type": "stream",
     "text": [
      "7856/7856 [==============================] - 20s 3ms/step\n",
      "Classification Report - Train Set\n",
      "              precision    recall  f1-score   support\n",
      "\n",
      "       Quark       0.80      0.84      0.82    128064\n",
      "       Gluon       0.83      0.78      0.80    123315\n",
      "\n",
      "    accuracy                           0.81    251379\n",
      "   macro avg       0.81      0.81      0.81    251379\n",
      "weighted avg       0.81      0.81      0.81    251379\n",
      "\n"
     ]
    }
   ],
   "source": [
    "# Classification report on the test set\n",
    "y_pred = (model_a_wBN.predict(X_train_scaled) > 0.5).astype(\"int32\")\n",
    "print(\"Classification Report - Train Set\")\n",
    "print(classification_report(y_train, y_pred, target_names=['Quark', 'Gluon']))"
   ]
  },
  {
   "cell_type": "code",
   "execution_count": 27,
   "id": "1473077b-0712-4cd9-b9f4-78bb01656e49",
   "metadata": {},
   "outputs": [
    {
     "name": "stdout",
     "output_type": "stream",
     "text": [
      "1631/1631 [==============================] - 4s 3ms/step\n"
     ]
    },
    {
     "data": {
      "image/png": "[encoded data removed]",
      "text/plain": [
       "<Figure size 432x288 with 1 Axes>"
      ]
     },
     "metadata": {
      "needs_background": "light"
     },
     "output_type": "display_data"
    }
   ],
   "source": [
    "# Predicted probabilities on the test set\n",
    "y_pred_prob_test = model_a_wBN.predict(X_test_scaled).ravel()\n",
    "\n",
    "# ROC curve and AUC on the test set\n",
    "fpr_test, tpr_test, thresholds_test = roc_curve(y_test, y_pred_prob_test)\n",
    "roc_auc_test = auc(fpr_test, tpr_test)\n",
    "\n",
    "# Plotting ROC curve for the test set\n",
    "plt.figure()\n",
    "plt.plot(fpr_test, tpr_test, color='darkorange', lw=2, label=f'ROC curve (area = {roc_auc_test:.4f})')\n",
    "plt.plot([0, 1], [0, 1], color='navy', lw=2, linestyle='--')\n",
    "plt.xlim([0.0, 1.0])\n",
    "plt.ylim([0.0, 1.05])\n",
    "plt.xlabel('False Positive Rate')\n",
    "plt.ylabel('True Positive Rate')\n",
    "plt.title('Receiver Operating Characteristic - Test Set')\n",
    "plt.legend(loc='lower right')\n",
    "plt.show()\n"
   ]
  },
  {
   "cell_type": "code",
   "execution_count": null,
   "id": "0d69b6ed-630b-4bf9-8634-8d478f302a1b",
   "metadata": {},
   "outputs": [],
   "source": [
    "# Predicted probabilities on the validation set\n",
    "y_pred_prob_vl = model_a_wBN.predict(X_test_scaled).ravel()\n",
    "\n",
    "# ROC curve and AUC on the test set\n",
    "fpr_test, tpr_test, thresholds_test = roc_curve(y_test, y_pred_prob_test)\n",
    "roc_auc_test = auc(fpr_test, tpr_test)\n",
    "\n",
    "# Plotting ROC curve for the test set\n",
    "plt.figure()\n",
    "plt.plot(fpr_test, tpr_test, color='darkorange', lw=2, label=f'ROC curve (area = {roc_auc_test:.4f})')\n",
    "plt.plot([0, 1], [0, 1], color='navy', lw=2, linestyle='--')\n",
    "plt.xlim([0.0, 1.0])\n",
    "plt.ylim([0.0, 1.05])\n",
    "plt.xlabel('False Positive Rate')\n",
    "plt.ylabel('True Positive Rate')\n",
    "plt.title('Receiver Operating Characteristic - Test Set')\n",
    "plt.legend(loc='lower right')\n",
    "plt.show()"
   ]
  },
  {
   "cell_type": "code",
   "execution_count": 28,
   "id": "d830d1a0-ab0b-4fc5-8b8e-f3f8fcd9bab3",
   "metadata": {},
   "outputs": [
    {
     "name": "stdout",
     "output_type": "stream",
     "text": [
      "7856/7856 [==============================] - 20s 3ms/step\n"
     ]
    },
    {
     "data": {
      "image/png": "[encoded data removed]",
      "text/plain": [
       "<Figure size 432x288 with 1 Axes>"
      ]
     },
     "metadata": {
      "needs_background": "light"
     },
     "output_type": "display_data"
    }
   ],
   "source": [
    "# Predicted probabilities on the training set\n",
    "y_pred_prob_train = model_a_wBN.predict(X_train_scaled).ravel()\n",
    "\n",
    "# ROC curve and AUC on the training set\n",
    "fpr_train, tpr_train, thresholds_train = roc_curve(y_train, y_pred_prob_train)\n",
    "roc_auc_train = auc(fpr_train, tpr_train)\n",
    "\n",
    "# Plotting ROC curve for the training set\n",
    "plt.figure()\n",
    "plt.plot(fpr_train, tpr_train, color='darkorange', lw=2, label=f'ROC curve (area = {roc_auc_train:.4f})')\n",
    "plt.plot([0, 1], [0, 1], color='navy', lw=2, linestyle='--')\n",
    "plt.xlim([0.0, 1.0])\n",
    "plt.ylim([0.0, 1.05])\n",
    "plt.xlabel('False Positive Rate')\n",
    "plt.ylabel('True Positive Rate')\n",
    "plt.title('Receiver Operating Characteristic - Training Set')\n",
    "plt.legend(loc='lower right')\n",
    "plt.show()"
   ]
  },
  {
   "cell_type": "code",
   "execution_count": null,
   "id": "4b10b980-caa1-4d0d-939b-98a18eeb3eab",
   "metadata": {},
   "outputs": [],
   "source": []
  }
 ],
 "metadata": {
  "kernelspec": {
   "display_name": "Python 3",
   "language": "python",
   "name": "python3"
  },
  "language_info": {
   "codemirror_mode": {
    "name": "ipython",
    "version": 3
   },
   "file_extension": ".py",
   "mimetype": "text/x-python",
   "name": "python",
   "nbconvert_exporter": "python",
   "pygments_lexer": "ipython3",
   "version": "3.9.12"
  }
 },
 "nbformat": 4,
 "nbformat_minor": 5
}
