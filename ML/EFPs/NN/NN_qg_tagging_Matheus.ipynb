{
 "cells": [
  {
   "cell_type": "code",
   "execution_count": 29,
   "id": "a3f86b80-3677-46e3-bb80-e48e0c154897",
   "metadata": {
    "ExecuteTime": {
     "end_time": "2024-06-23T13:33:11.189334Z",
     "start_time": "2024-06-23T13:33:11.187402Z"
    }
   },
   "outputs": [],
   "source": [
    "import numpy as np\n",
    "from utilities import utilities\n",
    "import keras\n",
    "from sklearn.preprocessing import StandardScaler\n",
    "from tensorflow.keras.optimizers import Adam\n",
    "from ML.EFPs.data_loaders import load_data_qg_tagging_wR"
   ]
  },
  {
   "cell_type": "code",
   "execution_count": 18,
   "id": "faec1d75-259c-438d-9834-1d8ace242743",
   "metadata": {
    "ExecuteTime": {
     "end_time": "2024-06-23T13:29:25.915466Z",
     "start_time": "2024-06-23T13:29:25.822139Z"
    }
   },
   "outputs": [],
   "source": [
    "# Conjunto de treinamento\n",
    "X_train, y_train = load_data_qg_tagging_wR(\n",
    "    quark_data_path=f\"../../../Data/Trainning/q_jets_efps_d5_primed.npy\", \n",
    "    gluon_data_path=f\"../../../Data/Trainning/g_jets_efps_d5_primed.npy\",\n",
    "    mean_deltaRij_quark_path=f\"../../../Data/Trainning/mean_deltaRij_q.npy\",\n",
    "    mean_deltaRij_gluon_path=f\"../../../Data/Trainning/mean_deltaRij_g.npy\",\n",
    ")\n",
    "\n",
    "# Conjunto de validação\n",
    "X_val, y_val = load_data_qg_tagging_wR(\n",
    "    quark_data_path=f\"../../../Data/Validation/q_jets_efps_d5_primed.npy\", \n",
    "    gluon_data_path=f\"../../../Data/Validation/g_jets_efps_d5_primed.npy\",\n",
    "    mean_deltaRij_quark_path=f\"../../../Data/Validation/mean_deltaRij_q.npy\",\n",
    "    mean_deltaRij_gluon_path=f\"../../../Data/Validation/mean_deltaRij_g.npy\",\n",
    ")"
   ]
  },
  {
   "cell_type": "code",
   "execution_count": 19,
   "id": "26fa6875-5cd8-43a7-b514-56920b1bc317",
   "metadata": {
    "ExecuteTime": {
     "end_time": "2024-06-23T13:29:29.083963Z",
     "start_time": "2024-06-23T13:29:28.987618Z"
    }
   },
   "outputs": [],
   "source": [
    "# Normalize the data (example using StandardScaler)\n",
    "scaler = StandardScaler()\n",
    "X_train = scaler.fit_transform(X_train)\n",
    "X_val = scaler.transform(X_val)\n",
    "\n",
    "\n",
    "# Expand the dimension of inputs to the format expected by Conv1D model\n",
    "X_train = np.expand_dims(X_train, axis=-1)\n",
    "X_val = np.expand_dims(X_val, axis=-1)"
   ]
  },
  {
   "cell_type": "code",
   "outputs": [
    {
     "data": {
      "text/plain": "(251379, 55, 1)"
     },
     "execution_count": 20,
     "metadata": {},
     "output_type": "execute_result"
    }
   ],
   "source": [
    "X_train.shape"
   ],
   "metadata": {
    "collapsed": false,
    "ExecuteTime": {
     "end_time": "2024-06-23T13:29:29.566466Z",
     "start_time": "2024-06-23T13:29:29.562873Z"
    }
   },
   "id": "77f610cddd33218f",
   "execution_count": 20
  },
  {
   "cell_type": "markdown",
   "source": [
    "#### Constructing the NN"
   ],
   "metadata": {
    "collapsed": false
   },
   "id": "ce6d8453388acbcc"
  },
  {
   "cell_type": "code",
   "outputs": [
    {
     "data": {
      "text/plain": "\u001B[1mModel: \"sequential_2\"\u001B[0m\n",
      "text/html": "<pre style=\"white-space:pre;overflow-x:auto;line-height:normal;font-family:Menlo,'DejaVu Sans Mono',consolas,'Courier New',monospace\"><span style=\"font-weight: bold\">Model: \"sequential_2\"</span>\n</pre>\n"
     },
     "metadata": {},
     "output_type": "display_data"
    },
    {
     "data": {
      "text/plain": "┏━━━━━━━━━━━━━━━━━━━━━━━━━━━━━━━━━┳━━━━━━━━━━━━━━━━━━━━━━━━┳━━━━━━━━━━━━━━━┓\n┃\u001B[1m \u001B[0m\u001B[1mLayer (type)                   \u001B[0m\u001B[1m \u001B[0m┃\u001B[1m \u001B[0m\u001B[1mOutput Shape          \u001B[0m\u001B[1m \u001B[0m┃\u001B[1m \u001B[0m\u001B[1m      Param #\u001B[0m\u001B[1m \u001B[0m┃\n┡━━━━━━━━━━━━━━━━━━━━━━━━━━━━━━━━━╇━━━━━━━━━━━━━━━━━━━━━━━━╇━━━━━━━━━━━━━━━┩\n│ conv1d_16 (\u001B[38;5;33mConv1D\u001B[0m)              │ (\u001B[38;5;45mNone\u001B[0m, \u001B[38;5;34m40\u001B[0m, \u001B[38;5;34m64\u001B[0m)         │         \u001B[38;5;34m1,088\u001B[0m │\n├─────────────────────────────────┼────────────────────────┼───────────────┤\n│ conv1d_17 (\u001B[38;5;33mConv1D\u001B[0m)              │ (\u001B[38;5;45mNone\u001B[0m, \u001B[38;5;34m40\u001B[0m, \u001B[38;5;34m64\u001B[0m)         │         \u001B[38;5;34m4,160\u001B[0m │\n├─────────────────────────────────┼────────────────────────┼───────────────┤\n│ conv1d_18 (\u001B[38;5;33mConv1D\u001B[0m)              │ (\u001B[38;5;45mNone\u001B[0m, \u001B[38;5;34m40\u001B[0m, \u001B[38;5;34m64\u001B[0m)         │         \u001B[38;5;34m4,160\u001B[0m │\n├─────────────────────────────────┼────────────────────────┼───────────────┤\n│ conv1d_19 (\u001B[38;5;33mConv1D\u001B[0m)              │ (\u001B[38;5;45mNone\u001B[0m, \u001B[38;5;34m25\u001B[0m, \u001B[38;5;34m128\u001B[0m)        │       \u001B[38;5;34m131,200\u001B[0m │\n├─────────────────────────────────┼────────────────────────┼───────────────┤\n│ conv1d_20 (\u001B[38;5;33mConv1D\u001B[0m)              │ (\u001B[38;5;45mNone\u001B[0m, \u001B[38;5;34m25\u001B[0m, \u001B[38;5;34m128\u001B[0m)        │        \u001B[38;5;34m16,512\u001B[0m │\n├─────────────────────────────────┼────────────────────────┼───────────────┤\n│ conv1d_21 (\u001B[38;5;33mConv1D\u001B[0m)              │ (\u001B[38;5;45mNone\u001B[0m, \u001B[38;5;34m10\u001B[0m, \u001B[38;5;34m128\u001B[0m)        │       \u001B[38;5;34m262,272\u001B[0m │\n├─────────────────────────────────┼────────────────────────┼───────────────┤\n│ conv1d_22 (\u001B[38;5;33mConv1D\u001B[0m)              │ (\u001B[38;5;45mNone\u001B[0m, \u001B[38;5;34m10\u001B[0m, \u001B[38;5;34m256\u001B[0m)        │        \u001B[38;5;34m33,024\u001B[0m │\n├─────────────────────────────────┼────────────────────────┼───────────────┤\n│ conv1d_23 (\u001B[38;5;33mConv1D\u001B[0m)              │ (\u001B[38;5;45mNone\u001B[0m, \u001B[38;5;34m10\u001B[0m, \u001B[38;5;34m256\u001B[0m)        │        \u001B[38;5;34m65,792\u001B[0m │\n├─────────────────────────────────┼────────────────────────┼───────────────┤\n│ global_average_pooling1d_2      │ (\u001B[38;5;45mNone\u001B[0m, \u001B[38;5;34m256\u001B[0m)            │             \u001B[38;5;34m0\u001B[0m │\n│ (\u001B[38;5;33mGlobalAveragePooling1D\u001B[0m)        │                        │               │\n├─────────────────────────────────┼────────────────────────┼───────────────┤\n│ dense_4 (\u001B[38;5;33mDense\u001B[0m)                 │ (\u001B[38;5;45mNone\u001B[0m, \u001B[38;5;34m256\u001B[0m)            │        \u001B[38;5;34m65,792\u001B[0m │\n├─────────────────────────────────┼────────────────────────┼───────────────┤\n│ dropout_2 (\u001B[38;5;33mDropout\u001B[0m)             │ (\u001B[38;5;45mNone\u001B[0m, \u001B[38;5;34m256\u001B[0m)            │             \u001B[38;5;34m0\u001B[0m │\n├─────────────────────────────────┼────────────────────────┼───────────────┤\n│ dense_5 (\u001B[38;5;33mDense\u001B[0m)                 │ (\u001B[38;5;45mNone\u001B[0m, \u001B[38;5;34m1\u001B[0m)              │           \u001B[38;5;34m257\u001B[0m │\n└─────────────────────────────────┴────────────────────────┴───────────────┘\n",
      "text/html": "<pre style=\"white-space:pre;overflow-x:auto;line-height:normal;font-family:Menlo,'DejaVu Sans Mono',consolas,'Courier New',monospace\">┏━━━━━━━━━━━━━━━━━━━━━━━━━━━━━━━━━┳━━━━━━━━━━━━━━━━━━━━━━━━┳━━━━━━━━━━━━━━━┓\n┃<span style=\"font-weight: bold\"> Layer (type)                    </span>┃<span style=\"font-weight: bold\"> Output Shape           </span>┃<span style=\"font-weight: bold\">       Param # </span>┃\n┡━━━━━━━━━━━━━━━━━━━━━━━━━━━━━━━━━╇━━━━━━━━━━━━━━━━━━━━━━━━╇━━━━━━━━━━━━━━━┩\n│ conv1d_16 (<span style=\"color: #0087ff; text-decoration-color: #0087ff\">Conv1D</span>)              │ (<span style=\"color: #00d7ff; text-decoration-color: #00d7ff\">None</span>, <span style=\"color: #00af00; text-decoration-color: #00af00\">40</span>, <span style=\"color: #00af00; text-decoration-color: #00af00\">64</span>)         │         <span style=\"color: #00af00; text-decoration-color: #00af00\">1,088</span> │\n├─────────────────────────────────┼────────────────────────┼───────────────┤\n│ conv1d_17 (<span style=\"color: #0087ff; text-decoration-color: #0087ff\">Conv1D</span>)              │ (<span style=\"color: #00d7ff; text-decoration-color: #00d7ff\">None</span>, <span style=\"color: #00af00; text-decoration-color: #00af00\">40</span>, <span style=\"color: #00af00; text-decoration-color: #00af00\">64</span>)         │         <span style=\"color: #00af00; text-decoration-color: #00af00\">4,160</span> │\n├─────────────────────────────────┼────────────────────────┼───────────────┤\n│ conv1d_18 (<span style=\"color: #0087ff; text-decoration-color: #0087ff\">Conv1D</span>)              │ (<span style=\"color: #00d7ff; text-decoration-color: #00d7ff\">None</span>, <span style=\"color: #00af00; text-decoration-color: #00af00\">40</span>, <span style=\"color: #00af00; text-decoration-color: #00af00\">64</span>)         │         <span style=\"color: #00af00; text-decoration-color: #00af00\">4,160</span> │\n├─────────────────────────────────┼────────────────────────┼───────────────┤\n│ conv1d_19 (<span style=\"color: #0087ff; text-decoration-color: #0087ff\">Conv1D</span>)              │ (<span style=\"color: #00d7ff; text-decoration-color: #00d7ff\">None</span>, <span style=\"color: #00af00; text-decoration-color: #00af00\">25</span>, <span style=\"color: #00af00; text-decoration-color: #00af00\">128</span>)        │       <span style=\"color: #00af00; text-decoration-color: #00af00\">131,200</span> │\n├─────────────────────────────────┼────────────────────────┼───────────────┤\n│ conv1d_20 (<span style=\"color: #0087ff; text-decoration-color: #0087ff\">Conv1D</span>)              │ (<span style=\"color: #00d7ff; text-decoration-color: #00d7ff\">None</span>, <span style=\"color: #00af00; text-decoration-color: #00af00\">25</span>, <span style=\"color: #00af00; text-decoration-color: #00af00\">128</span>)        │        <span style=\"color: #00af00; text-decoration-color: #00af00\">16,512</span> │\n├─────────────────────────────────┼────────────────────────┼───────────────┤\n│ conv1d_21 (<span style=\"color: #0087ff; text-decoration-color: #0087ff\">Conv1D</span>)              │ (<span style=\"color: #00d7ff; text-decoration-color: #00d7ff\">None</span>, <span style=\"color: #00af00; text-decoration-color: #00af00\">10</span>, <span style=\"color: #00af00; text-decoration-color: #00af00\">128</span>)        │       <span style=\"color: #00af00; text-decoration-color: #00af00\">262,272</span> │\n├─────────────────────────────────┼────────────────────────┼───────────────┤\n│ conv1d_22 (<span style=\"color: #0087ff; text-decoration-color: #0087ff\">Conv1D</span>)              │ (<span style=\"color: #00d7ff; text-decoration-color: #00d7ff\">None</span>, <span style=\"color: #00af00; text-decoration-color: #00af00\">10</span>, <span style=\"color: #00af00; text-decoration-color: #00af00\">256</span>)        │        <span style=\"color: #00af00; text-decoration-color: #00af00\">33,024</span> │\n├─────────────────────────────────┼────────────────────────┼───────────────┤\n│ conv1d_23 (<span style=\"color: #0087ff; text-decoration-color: #0087ff\">Conv1D</span>)              │ (<span style=\"color: #00d7ff; text-decoration-color: #00d7ff\">None</span>, <span style=\"color: #00af00; text-decoration-color: #00af00\">10</span>, <span style=\"color: #00af00; text-decoration-color: #00af00\">256</span>)        │        <span style=\"color: #00af00; text-decoration-color: #00af00\">65,792</span> │\n├─────────────────────────────────┼────────────────────────┼───────────────┤\n│ global_average_pooling1d_2      │ (<span style=\"color: #00d7ff; text-decoration-color: #00d7ff\">None</span>, <span style=\"color: #00af00; text-decoration-color: #00af00\">256</span>)            │             <span style=\"color: #00af00; text-decoration-color: #00af00\">0</span> │\n│ (<span style=\"color: #0087ff; text-decoration-color: #0087ff\">GlobalAveragePooling1D</span>)        │                        │               │\n├─────────────────────────────────┼────────────────────────┼───────────────┤\n│ dense_4 (<span style=\"color: #0087ff; text-decoration-color: #0087ff\">Dense</span>)                 │ (<span style=\"color: #00d7ff; text-decoration-color: #00d7ff\">None</span>, <span style=\"color: #00af00; text-decoration-color: #00af00\">256</span>)            │        <span style=\"color: #00af00; text-decoration-color: #00af00\">65,792</span> │\n├─────────────────────────────────┼────────────────────────┼───────────────┤\n│ dropout_2 (<span style=\"color: #0087ff; text-decoration-color: #0087ff\">Dropout</span>)             │ (<span style=\"color: #00d7ff; text-decoration-color: #00d7ff\">None</span>, <span style=\"color: #00af00; text-decoration-color: #00af00\">256</span>)            │             <span style=\"color: #00af00; text-decoration-color: #00af00\">0</span> │\n├─────────────────────────────────┼────────────────────────┼───────────────┤\n│ dense_5 (<span style=\"color: #0087ff; text-decoration-color: #0087ff\">Dense</span>)                 │ (<span style=\"color: #00d7ff; text-decoration-color: #00d7ff\">None</span>, <span style=\"color: #00af00; text-decoration-color: #00af00\">1</span>)              │           <span style=\"color: #00af00; text-decoration-color: #00af00\">257</span> │\n└─────────────────────────────────┴────────────────────────┴───────────────┘\n</pre>\n"
     },
     "metadata": {},
     "output_type": "display_data"
    },
    {
     "data": {
      "text/plain": "\u001B[1m Total params: \u001B[0m\u001B[38;5;34m584,257\u001B[0m (2.23 MB)\n",
      "text/html": "<pre style=\"white-space:pre;overflow-x:auto;line-height:normal;font-family:Menlo,'DejaVu Sans Mono',consolas,'Courier New',monospace\"><span style=\"font-weight: bold\"> Total params: </span><span style=\"color: #00af00; text-decoration-color: #00af00\">584,257</span> (2.23 MB)\n</pre>\n"
     },
     "metadata": {},
     "output_type": "display_data"
    },
    {
     "data": {
      "text/plain": "\u001B[1m Trainable params: \u001B[0m\u001B[38;5;34m584,257\u001B[0m (2.23 MB)\n",
      "text/html": "<pre style=\"white-space:pre;overflow-x:auto;line-height:normal;font-family:Menlo,'DejaVu Sans Mono',consolas,'Courier New',monospace\"><span style=\"font-weight: bold\"> Trainable params: </span><span style=\"color: #00af00; text-decoration-color: #00af00\">584,257</span> (2.23 MB)\n</pre>\n"
     },
     "metadata": {},
     "output_type": "display_data"
    },
    {
     "data": {
      "text/plain": "\u001B[1m Non-trainable params: \u001B[0m\u001B[38;5;34m0\u001B[0m (0.00 B)\n",
      "text/html": "<pre style=\"white-space:pre;overflow-x:auto;line-height:normal;font-family:Menlo,'DejaVu Sans Mono',consolas,'Courier New',monospace\"><span style=\"font-weight: bold\"> Non-trainable params: </span><span style=\"color: #00af00; text-decoration-color: #00af00\">0</span> (0.00 B)\n</pre>\n"
     },
     "metadata": {},
     "output_type": "display_data"
    }
   ],
   "source": [
    "model = keras.Sequential([\n",
    "    keras.layers.InputLayer(shape=(55, 1)),\n",
    "    # camadas de convolução\n",
    "    keras.layers.Conv1D(64, 16, activation='relu'),\n",
    "    keras.layers.Conv1D(64, 1, activation='relu'),\n",
    "    keras.layers.Conv1D(64, 1, activation='relu'),\n",
    "    keras.layers.Conv1D(128, 16, activation='relu'),\n",
    "    keras.layers.Conv1D(128, 1, activation='relu'),\n",
    "    keras.layers.Conv1D(128, 16, activation='relu'),\n",
    "    keras.layers.Conv1D(256, 1, activation='relu'),\n",
    "    keras.layers.Conv1D(256, 1, activation='relu'),\n",
    "    # pooling\n",
    "    keras.layers.GlobalAveragePooling1D(),\n",
    "    keras.layers.Dense(256, activation='relu'),\n",
    "    keras.layers.Dropout(0.1),\n",
    "    keras.layers.Dense(1, activation='sigmoid')\n",
    "])\n",
    "\n",
    "model.summary()"
   ],
   "metadata": {
    "collapsed": false,
    "ExecuteTime": {
     "end_time": "2024-06-23T13:29:41.420532Z",
     "start_time": "2024-06-23T13:29:41.379755Z"
    }
   },
   "id": "6a374bcff5233312",
   "execution_count": 21
  },
  {
   "cell_type": "code",
   "outputs": [],
   "source": [
    "model.compile(optimizer=Adam(learning_rate=0.001), loss='binary_crossentropy', metrics=['accuracy', \"auc\"])"
   ],
   "metadata": {
    "collapsed": false,
    "ExecuteTime": {
     "end_time": "2024-06-23T13:29:43.280072Z",
     "start_time": "2024-06-23T13:29:43.275207Z"
    }
   },
   "id": "6ffdbae55a720317",
   "execution_count": 22
  },
  {
   "cell_type": "code",
   "outputs": [
    {
     "name": "stdout",
     "output_type": "stream",
     "text": [
      "\u001B[1m5028/5028\u001B[0m \u001B[32m━━━━━━━━━━━━━━━━━━━━\u001B[0m\u001B[37m\u001B[0m \u001B[1m128s\u001B[0m 25ms/step - accuracy: 0.6554 - auc: 0.7217 - loss: 0.5877 - val_accuracy: 0.8034 - val_auc: 0.8840 - val_loss: 0.4318\n"
     ]
    }
   ],
   "source": [
    "early_stopping = keras.callbacks.EarlyStopping(patience=10, restore_best_weights=True)\n",
    "history = model.fit(X_train, y_train, epochs=1, batch_size=50, validation_data=(X_val, y_val), callbacks=[early_stopping])"
   ],
   "metadata": {
    "collapsed": false,
    "ExecuteTime": {
     "end_time": "2024-06-23T13:31:51.133972Z",
     "start_time": "2024-06-23T13:29:43.552955Z"
    }
   },
   "id": "2f4b56cf9da9c61e",
   "execution_count": 23
  },
  {
   "cell_type": "code",
   "execution_count": 25,
   "id": "4b10b980-caa1-4d0d-939b-98a18eeb3eab",
   "metadata": {
    "ExecuteTime": {
     "end_time": "2024-06-23T13:32:30.030990Z",
     "start_time": "2024-06-23T13:31:58.067031Z"
    }
   },
   "outputs": [
    {
     "name": "stdout",
     "output_type": "stream",
     "text": [
      "\u001B[1m7856/7856\u001B[0m \u001B[32m━━━━━━━━━━━━━━━━━━━━\u001B[0m\u001B[37m\u001B[0m \u001B[1m26s\u001B[0m 3ms/step\n",
      "\u001B[1m1387/1387\u001B[0m \u001B[32m━━━━━━━━━━━━━━━━━━━━\u001B[0m\u001B[37m\u001B[0m \u001B[1m5s\u001B[0m 4ms/step\n"
     ]
    }
   ],
   "source": [
    "# perfoming the prediction\n",
    "y_train_pred = model.predict(X_train)\n",
    "y_val_pred = model.predict(X_val)"
   ]
  },
  {
   "cell_type": "code",
   "outputs": [
    {
     "name": "stdout",
     "output_type": "stream",
     "text": [
      "Trainnig set:\n",
      "Recall: 0.7685\n",
      "Precision: 0.8230\n",
      "Confusion Matrix:\n",
      "[[107677  20387]\n",
      " [ 28552  94763]]\n",
      "Validation set:\n",
      "Recall: 0.7658\n",
      "Precision: 0.8213\n",
      "Confusion Matrix:\n",
      "[[18974  3626]\n",
      " [ 5097 16665]]\n"
     ]
    }
   ],
   "source": [
    "print(\"Trainnig set:\")\n",
    "utilities.display_metrics(y_true=y_train, y_pred=y_train_pred > 0.5)\n",
    "print(\"Validation set:\")\n",
    "utilities.display_metrics(y_true=y_val, y_pred=y_val_pred > 0.5)"
   ],
   "metadata": {
    "collapsed": false,
    "ExecuteTime": {
     "end_time": "2024-06-23T13:33:15.577947Z",
     "start_time": "2024-06-23T13:33:15.322239Z"
    }
   },
   "id": "bf973d8acba9a34a",
   "execution_count": 30
  },
  {
   "cell_type": "code",
   "outputs": [
    {
     "data": {
      "text/plain": "<Figure size 640x480 with 1 Axes>",
      "image/png": "[encoded data removed]"
     },
     "metadata": {},
     "output_type": "display_data"
    },
    {
     "name": "stdout",
     "output_type": "stream",
     "text": [
      "AUC: 0.8840\n"
     ]
    }
   ],
   "source": [
    "utilities.display_roc_curve(y_true=y_val, y_score=y_val_pred)"
   ],
   "metadata": {
    "collapsed": false,
    "ExecuteTime": {
     "end_time": "2024-06-23T13:33:18.673948Z",
     "start_time": "2024-06-23T13:33:18.604746Z"
    }
   },
   "id": "a975aa347669b277",
   "execution_count": 31
  },
  {
   "cell_type": "code",
   "outputs": [
    {
     "data": {
      "text/plain": "<Figure size 800x500 with 1 Axes>",
      "image/png": "[encoded data removed]"
     },
     "metadata": {},
     "output_type": "display_data"
    }
   ],
   "source": [
    "utilities.plot_hist_trainning(history)"
   ],
   "metadata": {
    "collapsed": false,
    "ExecuteTime": {
     "end_time": "2024-06-23T13:33:22.313001Z",
     "start_time": "2024-06-23T13:33:22.232067Z"
    }
   },
   "id": "e9a0c1fbd5338208",
   "execution_count": 32
  },
  {
   "cell_type": "code",
   "outputs": [],
   "source": [
    "utilities.save_model(model, history, \"NN_EFPs_QG_Tagging\")"
   ],
   "metadata": {
    "collapsed": false,
    "ExecuteTime": {
     "end_time": "2024-06-23T13:33:26.176096Z",
     "start_time": "2024-06-23T13:33:26.147729Z"
    }
   },
   "id": "b3dd6afc990b1b93",
   "execution_count": 33
  },
  {
   "cell_type": "code",
   "outputs": [],
   "source": [
    "test = keras.saving.load_model(\"NN_EFPs_QG_Tagging.keras\")"
   ],
   "metadata": {
    "collapsed": false,
    "ExecuteTime": {
     "end_time": "2024-06-23T13:33:44.711021Z",
     "start_time": "2024-06-23T13:33:44.614184Z"
    }
   },
   "id": "c114a6dd60c6f61d",
   "execution_count": 34
  },
  {
   "cell_type": "code",
   "outputs": [
    {
     "name": "stdout",
     "output_type": "stream",
     "text": [
      "\u001B[1m1/1\u001B[0m \u001B[32m━━━━━━━━━━━━━━━━━━━━\u001B[0m\u001B[37m\u001B[0m \u001B[1m0s\u001B[0m 47ms/step\n"
     ]
    },
    {
     "data": {
      "text/plain": "array([[0.9653694]], dtype=float32)"
     },
     "execution_count": 35,
     "metadata": {},
     "output_type": "execute_result"
    }
   ],
   "source": [
    "test.predict(X_train[:1])"
   ],
   "metadata": {
    "collapsed": false,
    "ExecuteTime": {
     "end_time": "2024-06-23T13:33:53.921201Z",
     "start_time": "2024-06-23T13:33:53.856047Z"
    }
   },
   "id": "11fb1f8c05a7ff3e",
   "execution_count": 35
  },
  {
   "cell_type": "code",
   "outputs": [],
   "source": [],
   "metadata": {
    "collapsed": false
   },
   "id": "4bd7a3937f7f8ea2"
  }
 ],
 "metadata": {
  "kernelspec": {
   "display_name": "Python 3",
   "language": "python",
   "name": "python3"
  },
  "language_info": {
   "codemirror_mode": {
    "name": "ipython",
    "version": 3
   },
   "file_extension": ".py",
   "mimetype": "text/x-python",
   "name": "python",
   "nbconvert_exporter": "python",
   "pygments_lexer": "ipython3",
   "version": "3.9.12"
  }
 },
 "nbformat": 4,
 "nbformat_minor": 5
}
