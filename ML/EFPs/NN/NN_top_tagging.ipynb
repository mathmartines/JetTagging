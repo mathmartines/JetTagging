{
 "cells": [
  {
   "cell_type": "code",
   "execution_count": 1,
   "id": "62988e04-923f-4bb0-bd2b-942d24f2faaa",
   "metadata": {},
   "outputs": [],
   "source": [
    "import os\n",
    "import shutil\n",
    "\n",
    "# Remover o diretório __pycache__ se existir\n",
    "if os.path.exists('__pycache__'):\n",
    "    shutil.rmtree('__pycache__')"
   ]
  },
  {
   "cell_type": "code",
   "execution_count": 2,
   "id": "6fb88810-a412-48f3-9121-d07fd150366a",
   "metadata": {},
   "outputs": [
    {
     "name": "stderr",
     "output_type": "stream",
     "text": [
      "2024-06-22 18:27:42.314749: I tensorflow/core/util/port.cc:110] oneDNN custom operations are on. You may see slightly different numerical results due to floating-point round-off errors from different computation orders. To turn them off, set the environment variable `TF_ENABLE_ONEDNN_OPTS=0`.\n",
      "2024-06-22 18:27:42.387303: I tensorflow/core/platform/cpu_feature_guard.cc:182] This TensorFlow binary is optimized to use available CPU instructions in performance-critical operations.\n",
      "To enable the following instructions: AVX2 AVX512F AVX512_VNNI FMA, in other operations, rebuild TensorFlow with the appropriate compiler flags.\n"
     ]
    }
   ],
   "source": [
    "import numpy as np\n",
    "import sys\n",
    "import matplotlib.pyplot as plt\n",
    "import pandas as pd\n",
    "import tensorflow as tf\n",
    "from tensorflow.keras.models import Sequential\n",
    "from tensorflow.keras.layers import Dense, Dropout, GlobalAveragePooling1D, Conv1D\n",
    "from sklearn.preprocessing import StandardScaler, MinMaxScaler\n",
    "from tensorflow.keras.optimizers import Adam\n",
    "from tensorflow.keras.metrics import AUC\n",
    "from sklearn.metrics import confusion_matrix, recall_score, precision_score, precision_recall_curve, roc_curve, classification_report, auc\n",
    "from tensorflow.keras.callbacks import EarlyStopping\n",
    "from tensorflow.keras.utils import to_categorical\n",
    "from sklearn.model_selection import train_test_split\n",
    "import os\n",
    "import sys\n",
    "sys.path.append('/eos/home-i03/m/mdemelop/SWAN_projects/ML/Seminario')\n",
    "\n",
    "from particle_types import ParticleType\n",
    "from jet_labels import create_labels_single_column, ParticleType\n",
    "from models import model_efp, build_model_a, build_model_b, build_model_a_wBN\n",
    "from sklearn.utils import shuffle\n",
    "from utilities import save_model\n",
    "from data_loaders import load_data_top_tagging, load_data_top_tagging_wR"
   ]
  },
  {
   "cell_type": "code",
   "execution_count": 3,
   "id": "80cb9ca1-72af-4c2d-81a1-0a2c313d8f77",
   "metadata": {},
   "outputs": [],
   "source": [
    "root_data_folder = '/eos/home-i03/m/mdemelop/SWAN_projects/ML/Seminario/Data/'"
   ]
  },
  {
   "cell_type": "code",
   "execution_count": 15,
   "id": "d3ee0fbf-b876-42d4-819a-e776239302a6",
   "metadata": {},
   "outputs": [
    {
     "name": "stdout",
     "output_type": "stream",
     "text": [
      "Loading trainning data...\n",
      "Loading validation data...\n",
      "Loading testing data...\n",
      "OK\n"
     ]
    }
   ],
   "source": [
    "# Calculating X_train, y_train, X_val, y_val, X_test and y_test \n",
    "# Loads the data for the Top-tagging, take half of the quark and \n",
    "# gluons datasets and shuffle by load_data_top_tagging\n",
    "\n",
    "\n",
    "# Without mean DeltaRij as add feature \n",
    "# X_train, y_train = load_data_top_tagging(\n",
    "#     quark_data_path=f\"{root_data_folder}/Trainning/q_jets_efps_d5_primed.npy\", \n",
    "#     gluon_data_path=f\"{root_data_folder}/Trainning/g_jets_efps_d5_primed.npy\",\n",
    "#     top_data_path=f\"{root_data_folder}/Trainning/t_jets_efps_d5_primed.npy\")\n",
    "\n",
    "# X_val, y_val = load_data_top_tagging(\n",
    "#     quark_data_path=f\"{root_data_folder}/Validation/q_jets_efps_d5_primed.npy\", \n",
    "#     gluon_data_path=f\"{root_data_folder}/Validation/g_jets_efps_d5_primed.npy\",\n",
    "#     top_data_path=f\"{root_data_folder}/Validation/t_jets_efps_d5_primed.npy\")\n",
    "\n",
    "\n",
    "# X_test, y_test = load_data_top_tagging(\n",
    "#     quark_data_path=f\"{root_data_folder}/Test/q_jets_efps_d5_primed.npy\", \n",
    "#     gluon_data_path=f\"{root_data_folder}/Test/g_jets_efps_d5_primed.npy\",\n",
    "#     top_data_path=f\"{root_data_folder}/Test/t_jets_efps_d5_primed.npy\")\n",
    "\n",
    "\n",
    "\n",
    "# With mean DeltaRij as add feature _wRwNconst\n",
    "\n",
    "print(\"Loading trainning data...\")\n",
    "X_train, y_train = load_data_top_tagging_wR(\n",
    "    quark_data_path=f\"{root_data_folder}/Trainning/q_jets_efps_d5_primed.npy\", \n",
    "    gluon_data_path=f\"{root_data_folder}/Trainning/g_jets_efps_d5_primed.npy\",\n",
    "    top_data_path=f\"{root_data_folder}/Trainning/t_jets_efps_d5_primed.npy\",\n",
    "    mean_deltaRij_quark_path=f\"{root_data_folder}/Trainning/mean_deltaRij_q.npy\",\n",
    "    mean_deltaRij_gluon_path=f\"{root_data_folder}/Trainning/mean_deltaRij_g.npy\",\n",
    "    mean_deltaRij_top_path=f\"{root_data_folder}/Trainning/mean_deltaRij_t.npy\")\n",
    "\n",
    "print(\"Loading validation data...\")\n",
    "X_val, y_val = load_data_top_tagging_wR(\n",
    "    quark_data_path=f\"{root_data_folder}/Validation/q_jets_efps_d5_primed.npy\", \n",
    "    gluon_data_path=f\"{root_data_folder}/Validation/g_jets_efps_d5_primed.npy\",\n",
    "    top_data_path=f\"{root_data_folder}/Validation/t_jets_efps_d5_primed.npy\",\n",
    "    mean_deltaRij_quark_path=f\"{root_data_folder}/Validation/mean_deltaRij_q.npy\",\n",
    "    mean_deltaRij_gluon_path=f\"{root_data_folder}/Validation/mean_deltaRij_g.npy\",\n",
    "    mean_deltaRij_top_path=f\"{root_data_folder}/Validation/mean_deltaRij_t.npy\")\n",
    "\n",
    "print(\"Loading testing data...\")\n",
    "X_test, y_test = load_data_top_tagging_wR(\n",
    "    quark_data_path=f\"{root_data_folder}/Test/q_jets_efps_d5_primed.npy\", \n",
    "    gluon_data_path=f\"{root_data_folder}/Test/g_jets_efps_d5_primed.npy\",\n",
    "    top_data_path=f\"{root_data_folder}/Test/t_jets_efps_d5_primed.npy\",\n",
    "    mean_deltaRij_quark_path=f\"{root_data_folder}/Test/mean_deltaRij_q.npy\",\n",
    "    mean_deltaRij_gluon_path=f\"{root_data_folder}/Test/mean_deltaRij_g.npy\",\n",
    "    mean_deltaRij_top_path=f\"{root_data_folder}/Test/mean_deltaRij_t.npy\")\n",
    "\n",
    "\n",
    "\n",
    "\n",
    "\n",
    "print('OK')"
   ]
  },
  {
   "cell_type": "code",
   "execution_count": 16,
   "id": "fb6affea-50d8-4db5-aec5-cd2d7df6eb7f",
   "metadata": {},
   "outputs": [
    {
     "name": "stdout",
     "output_type": "stream",
     "text": [
      "Training set size: 254256\n",
      "Validation set size: 44871\n",
      "Test set size: 52789\n",
      "X_train.shape[1]: 55\n",
      "Shape of data_array: (123315, 54)\n",
      "X_train.shape: (254256, 55, 1)\n"
     ]
    }
   ],
   "source": [
    "\n",
    "# Assuming y_train, y_val, y_test are your label arrays\n",
    "# Convert labels to categorical (one-hot encoding)\n",
    "# just for b model\n",
    "#y_train_categorical = to_categorical(y_train)\n",
    "#y_val_categorical = to_categorical(y_val)\n",
    "#y_test_categorical = to_categorical(y_test)\n",
    "\n",
    "\n",
    "\n",
    "# Normalize the data (example using StandardScaler)\n",
    "scaler = StandardScaler()\n",
    "X_train_scaled = scaler.fit_transform(X_train)\n",
    "X_val_scaled = scaler.transform(X_val)\n",
    "X_test_scaled = scaler.transform(X_test)\n",
    "\n",
    "# Expand the dimension of inputs to the format expected by Conv1D model\n",
    "X_train_scaled = np.expand_dims(X_train_scaled, axis=-1)\n",
    "X_val_scaled = np.expand_dims(X_val_scaled, axis=-1)\n",
    "X_test_scaled = np.expand_dims(X_test_scaled, axis=-1)\n",
    "\n",
    "\n",
    "\n",
    "# train -> used for training the model\n",
    "# val -> used for validation, tuning hyperparameters, and evaluating model performance during training\n",
    "# test -> test set, used for evaluating the final model performance\n",
    "\n",
    "# Checking sizes of the datasets\n",
    "print(f'Training set size: {X_train_scaled.shape[0]}')\n",
    "print(f'Validation set size: {X_val_scaled.shape[0]}')\n",
    "print(f'Test set size: {X_test_scaled.shape[0]}')\n",
    "print(f'X_train.shape[1]:', X_train_scaled.shape[1])\n",
    "\n",
    "quark_data_path=f\"{root_data_folder}/Trainning/q_jets_efps_d5_primed.npy\"\n",
    "data_array = np.load(quark_data_path)\n",
    "array_shape = data_array.shape\n",
    "\n",
    "print(\"Shape of data_array:\", array_shape)\n",
    "print(f'X_train.shape:', X_train_scaled.shape)"
   ]
  },
  {
   "cell_type": "code",
   "execution_count": 17,
   "id": "f9be3d35-7177-4dc6-b965-3f902de20996",
   "metadata": {},
   "outputs": [
    {
     "name": "stdout",
     "output_type": "stream",
     "text": [
      "Epoch 1/100\n"
     ]
    },
    {
     "name": "stderr",
     "output_type": "stream",
     "text": [
      "2024-06-22 20:28:45.491797: W tensorflow/tsl/framework/bfc_allocator.cc:296] Allocator (GPU_0_bfc) ran out of memory trying to allocate 1.45GiB with freed_by_count=0. The caller indicates that this is not a failure, but this may mean that there could be performance gains if more memory were available.\n",
      "2024-06-22 20:28:45.496630: W tensorflow/tsl/framework/bfc_allocator.cc:296] Allocator (GPU_0_bfc) ran out of memory trying to allocate 1.45GiB with freed_by_count=0. The caller indicates that this is not a failure, but this may mean that there could be performance gains if more memory were available.\n"
     ]
    },
    {
     "name": "stdout",
     "output_type": "stream",
     "text": [
      "5086/5086 [==============================] - ETA: 0s - loss: 0.2688 - accuracy: 0.8917 - auc_3: 0.9552"
     ]
    },
    {
     "name": "stderr",
     "output_type": "stream",
     "text": [
      "2024-06-22 20:29:46.618179: W tensorflow/tsl/framework/bfc_allocator.cc:296] Allocator (GPU_0_bfc) ran out of memory trying to allocate 1.10GiB with freed_by_count=0. The caller indicates that this is not a failure, but this may mean that there could be performance gains if more memory were available.\n"
     ]
    },
    {
     "name": "stdout",
     "output_type": "stream",
     "text": [
      "5086/5086 [==============================] - 71s 12ms/step - loss: 0.2688 - accuracy: 0.8917 - auc_3: 0.9552 - val_loss: 0.2439 - val_accuracy: 0.9017 - val_auc_3: 0.9695\n",
      "Epoch 2/100\n",
      "5086/5086 [==============================] - 66s 13ms/step - loss: 0.2274 - accuracy: 0.9097 - auc_3: 0.9679 - val_loss: 0.2171 - val_accuracy: 0.9133 - val_auc_3: 0.9707\n",
      "Epoch 3/100\n",
      "5086/5086 [==============================] - 63s 12ms/step - loss: 0.2217 - accuracy: 0.9122 - auc_3: 0.9694 - val_loss: 0.2287 - val_accuracy: 0.9103 - val_auc_3: 0.9701\n",
      "Epoch 4/100\n",
      "5086/5086 [==============================] - 62s 12ms/step - loss: 0.2193 - accuracy: 0.9132 - auc_3: 0.9701 - val_loss: 0.2176 - val_accuracy: 0.9126 - val_auc_3: 0.9718\n",
      "Epoch 5/100\n",
      "5086/5086 [==============================] - 63s 12ms/step - loss: 0.2168 - accuracy: 0.9135 - auc_3: 0.9708 - val_loss: 0.2115 - val_accuracy: 0.9151 - val_auc_3: 0.9723\n",
      "Epoch 6/100\n",
      "5086/5086 [==============================] - 62s 12ms/step - loss: 0.2153 - accuracy: 0.9140 - auc_3: 0.9712 - val_loss: 0.2095 - val_accuracy: 0.9150 - val_auc_3: 0.9729\n",
      "Epoch 7/100\n",
      "5086/5086 [==============================] - 63s 12ms/step - loss: 0.2144 - accuracy: 0.9149 - auc_3: 0.9714 - val_loss: 0.2251 - val_accuracy: 0.9147 - val_auc_3: 0.9724\n",
      "Epoch 8/100\n",
      "5086/5086 [==============================] - 65s 13ms/step - loss: 0.2134 - accuracy: 0.9150 - auc_3: 0.9717 - val_loss: 0.2081 - val_accuracy: 0.9158 - val_auc_3: 0.9732\n",
      "Epoch 9/100\n",
      "5086/5086 [==============================] - 64s 13ms/step - loss: 0.2123 - accuracy: 0.9155 - auc_3: 0.9720 - val_loss: 0.2122 - val_accuracy: 0.9156 - val_auc_3: 0.9727\n",
      "Epoch 10/100\n",
      "5086/5086 [==============================] - 59s 12ms/step - loss: 0.2120 - accuracy: 0.9153 - auc_3: 0.9721 - val_loss: 0.2077 - val_accuracy: 0.9166 - val_auc_3: 0.9733\n",
      "Epoch 11/100\n",
      "5086/5086 [==============================] - 57s 11ms/step - loss: 0.2108 - accuracy: 0.9161 - auc_3: 0.9724 - val_loss: 0.2080 - val_accuracy: 0.9153 - val_auc_3: 0.9732\n",
      "Epoch 12/100\n",
      "5086/5086 [==============================] - 59s 12ms/step - loss: 0.2104 - accuracy: 0.9160 - auc_3: 0.9725 - val_loss: 0.2114 - val_accuracy: 0.9146 - val_auc_3: 0.9730\n",
      "Epoch 13/100\n",
      "5086/5086 [==============================] - 59s 12ms/step - loss: 0.2098 - accuracy: 0.9164 - auc_3: 0.9727 - val_loss: 0.2090 - val_accuracy: 0.9158 - val_auc_3: 0.9731\n",
      "Epoch 14/100\n",
      "5086/5086 [==============================] - 58s 11ms/step - loss: 0.2095 - accuracy: 0.9161 - auc_3: 0.9727 - val_loss: 0.2073 - val_accuracy: 0.9165 - val_auc_3: 0.9734\n",
      "Epoch 15/100\n",
      "5086/5086 [==============================] - 57s 11ms/step - loss: 0.2093 - accuracy: 0.9165 - auc_3: 0.9728 - val_loss: 0.2074 - val_accuracy: 0.9156 - val_auc_3: 0.9733\n",
      "Epoch 16/100\n",
      "5086/5086 [==============================] - 57s 11ms/step - loss: 0.2085 - accuracy: 0.9172 - auc_3: 0.9730 - val_loss: 0.2069 - val_accuracy: 0.9164 - val_auc_3: 0.9735\n",
      "Epoch 17/100\n",
      "5086/5086 [==============================] - 61s 12ms/step - loss: 0.2081 - accuracy: 0.9167 - auc_3: 0.9731 - val_loss: 0.2082 - val_accuracy: 0.9162 - val_auc_3: 0.9732\n",
      "Epoch 18/100\n",
      "5086/5086 [==============================] - 62s 12ms/step - loss: 0.2077 - accuracy: 0.9171 - auc_3: 0.9732 - val_loss: 0.2088 - val_accuracy: 0.9176 - val_auc_3: 0.9740\n",
      "Epoch 19/100\n",
      "5086/5086 [==============================] - 62s 12ms/step - loss: 0.2076 - accuracy: 0.9174 - auc_3: 0.9732 - val_loss: 0.2093 - val_accuracy: 0.9162 - val_auc_3: 0.9731\n",
      "Epoch 20/100\n",
      "5086/5086 [==============================] - 63s 12ms/step - loss: 0.2070 - accuracy: 0.9173 - auc_3: 0.9734 - val_loss: 0.2084 - val_accuracy: 0.9157 - val_auc_3: 0.9734\n",
      "Epoch 21/100\n",
      "5086/5086 [==============================] - 62s 12ms/step - loss: 0.2069 - accuracy: 0.9177 - auc_3: 0.9734 - val_loss: 0.2101 - val_accuracy: 0.9146 - val_auc_3: 0.9732\n",
      "Epoch 22/100\n",
      "5086/5086 [==============================] - 61s 12ms/step - loss: 0.2063 - accuracy: 0.9177 - auc_3: 0.9736 - val_loss: 0.2063 - val_accuracy: 0.9175 - val_auc_3: 0.9738\n",
      "Epoch 23/100\n",
      "5086/5086 [==============================] - 61s 12ms/step - loss: 0.2061 - accuracy: 0.9174 - auc_3: 0.9736 - val_loss: 0.2140 - val_accuracy: 0.9128 - val_auc_3: 0.9726\n",
      "Epoch 24/100\n",
      "5086/5086 [==============================] - 62s 12ms/step - loss: 0.2057 - accuracy: 0.9179 - auc_3: 0.9738 - val_loss: 0.2057 - val_accuracy: 0.9180 - val_auc_3: 0.9737\n",
      "Epoch 25/100\n",
      "5086/5086 [==============================] - 60s 12ms/step - loss: 0.2055 - accuracy: 0.9178 - auc_3: 0.9739 - val_loss: 0.2062 - val_accuracy: 0.9175 - val_auc_3: 0.9739\n",
      "Epoch 26/100\n",
      "5086/5086 [==============================] - 61s 12ms/step - loss: 0.2049 - accuracy: 0.9179 - auc_3: 0.9740 - val_loss: 0.2062 - val_accuracy: 0.9170 - val_auc_3: 0.9739\n",
      "Epoch 27/100\n",
      "5086/5086 [==============================] - 61s 12ms/step - loss: 0.2047 - accuracy: 0.9184 - auc_3: 0.9740 - val_loss: 0.2079 - val_accuracy: 0.9164 - val_auc_3: 0.9732\n",
      "Epoch 28/100\n",
      "5086/5086 [==============================] - 62s 12ms/step - loss: 0.2043 - accuracy: 0.9186 - auc_3: 0.9741 - val_loss: 0.2065 - val_accuracy: 0.9172 - val_auc_3: 0.9737\n",
      "Epoch 29/100\n",
      "5086/5086 [==============================] - 64s 12ms/step - loss: 0.2040 - accuracy: 0.9186 - auc_3: 0.9742 - val_loss: 0.2055 - val_accuracy: 0.9173 - val_auc_3: 0.9739\n",
      "Epoch 30/100\n",
      "5086/5086 [==============================] - 64s 13ms/step - loss: 0.2041 - accuracy: 0.9185 - auc_3: 0.9742 - val_loss: 0.2093 - val_accuracy: 0.9153 - val_auc_3: 0.9728\n",
      "Epoch 31/100\n",
      "5086/5086 [==============================] - 62s 12ms/step - loss: 0.2035 - accuracy: 0.9186 - auc_3: 0.9743 - val_loss: 0.2058 - val_accuracy: 0.9169 - val_auc_3: 0.9738\n",
      "Epoch 32/100\n",
      "5086/5086 [==============================] - 63s 12ms/step - loss: 0.2030 - accuracy: 0.9190 - auc_3: 0.9744 - val_loss: 0.2056 - val_accuracy: 0.9177 - val_auc_3: 0.9739\n",
      "Epoch 33/100\n",
      "5086/5086 [==============================] - 61s 12ms/step - loss: 0.2025 - accuracy: 0.9189 - auc_3: 0.9746 - val_loss: 0.2081 - val_accuracy: 0.9172 - val_auc_3: 0.9735\n",
      "Epoch 34/100\n",
      "5086/5086 [==============================] - 60s 12ms/step - loss: 0.2025 - accuracy: 0.9190 - auc_3: 0.9746 - val_loss: 0.2082 - val_accuracy: 0.9163 - val_auc_3: 0.9735\n",
      "Epoch 35/100\n",
      "5086/5086 [==============================] - 61s 12ms/step - loss: 0.2022 - accuracy: 0.9189 - auc_3: 0.9747 - val_loss: 0.2096 - val_accuracy: 0.9173 - val_auc_3: 0.9733\n",
      "Epoch 36/100\n",
      "5086/5086 [==============================] - 62s 12ms/step - loss: 0.2015 - accuracy: 0.9196 - auc_3: 0.9748 - val_loss: 0.2067 - val_accuracy: 0.9170 - val_auc_3: 0.9735\n",
      "Epoch 37/100\n",
      "5086/5086 [==============================] - 61s 12ms/step - loss: 0.2011 - accuracy: 0.9198 - auc_3: 0.9749 - val_loss: 0.2105 - val_accuracy: 0.9168 - val_auc_3: 0.9732\n",
      "Epoch 38/100\n",
      "5086/5086 [==============================] - 64s 13ms/step - loss: 0.2008 - accuracy: 0.9199 - auc_3: 0.9750 - val_loss: 0.2072 - val_accuracy: 0.9160 - val_auc_3: 0.9736\n",
      "Epoch 39/100\n",
      "5086/5086 [==============================] - 62s 12ms/step - loss: 0.2004 - accuracy: 0.9200 - auc_3: 0.9751 - val_loss: 0.2067 - val_accuracy: 0.9168 - val_auc_3: 0.9735\n",
      "1650/1650 [==============================] - 7s 4ms/step - loss: 0.2081 - accuracy: 0.9168 - auc_3: 0.9733\n",
      "Test accuracy: 0.9168\n",
      "Test AUC: 0.9733\n"
     ]
    }
   ],
   "source": [
    "# Build and compile the model\n",
    "input_shape = (X_train_scaled.shape[1], X_train_scaled.shape[2])\n",
    "model_a_wBN = build_model_a_wBN(input_shape)\n",
    "\n",
    "##binary_crossentropy for model a \n",
    "#categorical_crossentropy for model b \n",
    "model_a_wBN.compile(Adam(learning_rate=0.001), loss='binary_crossentropy', metrics=['accuracy', tf.keras.metrics.AUC()])\n",
    "\n",
    "# Configure early stopping\n",
    "early_stopping = EarlyStopping(monitor='val_loss', patience=10, restore_best_weights=True)\n",
    "\n",
    "# Train the model\n",
    "history = model_a_wBN.fit(\n",
    "    #X_train_scaled, y_train_categorical, #just for b model\n",
    "    X_train_scaled, y_train,\n",
    "    epochs=100,  # Definir o número total de épocas desejadas\n",
    "    batch_size=50,\n",
    "    #validation_data=(X_val_scaled, y_val_categorical), #just for b model\n",
    "    validation_data=(X_val_scaled, y_val),\n",
    "    callbacks=[early_stopping],\n",
    "    verbose=1\n",
    ")\n",
    "\n",
    "# Evaluate the model on the test set\n",
    "#test_loss, test_accuracy, test_auc = model_b.evaluate(X_test_scaled, y_test)\n",
    "test_loss, test_accuracy, test_auc = model_a_wBN.evaluate(X_test_scaled, y_test) # b model\n",
    "print(f'Test accuracy: {test_accuracy:.4f}')\n",
    "print(f'Test AUC: {test_auc:.4f}')\n",
    "\n",
    "# Save the model \n",
    "save_model(model_a_wBN, history, 'top_model_a_wBN_wR')"
   ]
  },
  {
   "cell_type": "code",
   "execution_count": 23,
   "id": "958d24c2-47b6-4b24-bc26-72575318e16c",
   "metadata": {},
   "outputs": [
    {
     "data": {
      "image/png": "[encoded data removed]",
      "text/plain": [
       "<Figure size 864x288 with 2 Axes>"
      ]
     },
     "metadata": {
      "needs_background": "light"
     },
     "output_type": "display_data"
    }
   ],
   "source": [
    "# Plotting loss during training\n",
    "plt.figure(figsize=(12, 4))\n",
    "plt.subplot(1, 2, 1)\n",
    "plt.plot(history.history['loss'], label='Training')\n",
    "plt.plot(history.history['val_loss'], label='Validation')\n",
    "plt.title('Loss during Training and Validation')\n",
    "plt.xlabel('Epoch')\n",
    "plt.ylabel('Loss')\n",
    "plt.ylim(0., 1.)\n",
    "plt.legend()\n",
    "\n",
    "# Plotting accuracy during training\n",
    "plt.subplot(1, 2, 2)\n",
    "plt.plot(history.history['accuracy'], label='Training')\n",
    "plt.plot(history.history['val_accuracy'], label='Validation')\n",
    "plt.title('Accuracy during Training and Validation')\n",
    "plt.xlabel('Epoch')\n",
    "plt.ylabel('Accuracy')\n",
    "plt.ylim(0., 1.)\n",
    "plt.legend()\n",
    "\n",
    "plt.show()"
   ]
  },
  {
   "cell_type": "code",
   "execution_count": null,
   "id": "9fe5497e-7a78-4203-83c6-ab793cf384e0",
   "metadata": {},
   "outputs": [
    {
     "name": "stdout",
     "output_type": "stream",
     "text": [
      "1125/1650 [===================>..........] - ETA: 1s"
     ]
    }
   ],
   "source": [
    "# Classification report on the test set\n",
    "y_pred = (model_a_wBN.predict(X_test_scaled) > 0.5).astype(\"int32\")\n",
    "print(\"Classification Report - Test Set\")\n",
    "print(classification_report(y_test, y_pred, target_names=[\"Not Top\", \"Top\"]))\n"
   ]
  },
  {
   "cell_type": "code",
   "execution_count": null,
   "id": "d00cbbc1-cad0-4fc6-98d4-a4993a7765b3",
   "metadata": {},
   "outputs": [],
   "source": [
    "# Predictions on the training set\n",
    "y_pred_train = (model_a_wBN.predict(X_train_scaled) > 0.5).astype(\"int32\")\n",
    "print(\"Classification Report - Training Set\")\n",
    "print(classification_report(y_train, y_pred_train, target_names=[\"Not Top\", \"Top\"]))\n"
   ]
  },
  {
   "cell_type": "code",
   "execution_count": null,
   "id": "83672e54-e1ff-4b12-ae4e-ad902d87b61f",
   "metadata": {},
   "outputs": [],
   "source": [
    "# Predicted probabilities on the test set\n",
    "y_pred_prob_test = model_a_wBN.predict(X_test_scaled).ravel()\n",
    "\n",
    "# ROC curve and AUC on the test set\n",
    "fpr_test, tpr_test, thresholds_test = roc_curve(y_test, y_pred_prob_test)\n",
    "roc_auc_test = auc(fpr_test, tpr_test)\n",
    "\n",
    "# Plotting ROC curve for the test set\n",
    "plt.figure()\n",
    "plt.plot(fpr_test, tpr_test, color='darkorange', lw=2, label=f'ROC curve (area = {roc_auc_test:.4f})')\n",
    "plt.plot([0, 1], [0, 1], color='navy', lw=2, linestyle='--')\n",
    "plt.xlim([0.0, 1.0])\n",
    "plt.ylim([0.0, 1.05])\n",
    "plt.xlabel('False Positive Rate')\n",
    "plt.ylabel('True Positive Rate')\n",
    "plt.title('Receiver Operating Characteristic - Test Set')\n",
    "plt.legend(loc='lower right')\n",
    "plt.show()\n"
   ]
  },
  {
   "cell_type": "code",
   "execution_count": null,
   "id": "2da6ea25-d281-4e66-a6a8-60c7a14ca839",
   "metadata": {},
   "outputs": [],
   "source": [
    "# Predicted probabilities on the training set\n",
    "y_pred_prob_train = model_a_wBN.predict(X_train_scaled).ravel()\n",
    "\n",
    "# ROC curve and AUC on the training set\n",
    "fpr_train, tpr_train, thresholds_train = roc_curve(y_train, y_pred_prob_train)\n",
    "roc_auc_train = auc(fpr_train, tpr_train)\n",
    "\n",
    "# Plotting ROC curve for the training set\n",
    "plt.figure()\n",
    "plt.plot(fpr_train, tpr_train, color='darkorange', lw=2, label=f'ROC curve (area = {roc_auc_train:.4f})')\n",
    "plt.plot([0, 1], [0, 1], color='navy', lw=2, linestyle='--')\n",
    "plt.xlim([0.0, 1.0])\n",
    "plt.ylim([0.0, 1.05])\n",
    "plt.xlabel('False Positive Rate')\n",
    "plt.ylabel('True Positive Rate')\n",
    "plt.title('Receiver Operating Characteristic - Training Set')\n",
    "plt.legend(loc='lower right')\n",
    "plt.show()"
   ]
  },
  {
   "cell_type": "code",
   "execution_count": null,
   "id": "e113abd9-959a-4cdb-b8d9-baa321aa0cb1",
   "metadata": {},
   "outputs": [],
   "source": []
  }
 ],
 "metadata": {
  "kernelspec": {
   "display_name": "Python 3",
   "language": "python",
   "name": "python3"
  },
  "language_info": {
   "codemirror_mode": {
    "name": "ipython",
    "version": 3
   },
   "file_extension": ".py",
   "mimetype": "text/x-python",
   "name": "python",
   "nbconvert_exporter": "python",
   "pygments_lexer": "ipython3",
   "version": "3.9.12"
  }
 },
 "nbformat": 4,
 "nbformat_minor": 5
}
