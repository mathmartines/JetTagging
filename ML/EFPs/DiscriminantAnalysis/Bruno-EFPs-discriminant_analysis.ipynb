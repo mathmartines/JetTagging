{
 "cells": [
  {
   "metadata": {},
   "cell_type": "markdown",
   "source": "# Preprocessing data",
   "id": "c717a3dfbf625613"
  },
  {
   "metadata": {
    "ExecuteTime": {
     "end_time": "2024-06-22T15:57:46.870427Z",
     "start_time": "2024-06-22T15:57:45.171625Z"
    }
   },
   "cell_type": "code",
   "source": [
    "# importando bibliotecas\n",
    "import numpy as np\n",
    "import matplotlib.pyplot as plt\n",
    "import seaborn as sns\n",
    "from sklearn import metrics\n",
    "from sklearn.discriminant_analysis import LinearDiscriminantAnalysis, QuadraticDiscriminantAnalysis\n",
    "from sklearn.decomposition import PCA"
   ],
   "id": "a56fa8af75af9ba",
   "outputs": [],
   "execution_count": 1
  },
  {
   "metadata": {},
   "cell_type": "markdown",
   "source": "## Visualization",
   "id": "652f6b1074532b11"
  },
  {
   "metadata": {
    "ExecuteTime": {
     "end_time": "2024-06-22T15:57:46.878551Z",
     "start_time": "2024-06-22T15:57:46.870427Z"
    }
   },
   "cell_type": "code",
   "source": [
    "# # carregando base de dados de treinamento\n",
    "# EFPg_train = np.load(\"../../../Data/DataJetTagging/Trainning/g_jets_efps_d5_primed.npy\")\n",
    "# EFPq_train = np.load(\"../../../Data/DataJetTagging/Trainning/q_jets_efps_d5_primed.npy\")\n",
    "# EFPt_train = np.load(\"../../../Data/DataJetTagging/Trainning/t_jets_efps_d5_primed.npy\")"
   ],
   "id": "98d9e58d1adeed5e",
   "outputs": [],
   "execution_count": 2
  },
  {
   "metadata": {
    "ExecuteTime": {
     "end_time": "2024-06-22T15:57:46.888514Z",
     "start_time": "2024-06-22T15:57:46.880053Z"
    }
   },
   "cell_type": "code",
   "source": [
    "# dataset = EFPg_train # escolhendo o conjunto de dados que vamos visualizar\n",
    "# column_index = 40 # escolhendo o índice da coluna"
   ],
   "id": "b078042ac16d7b0c",
   "outputs": [],
   "execution_count": 3
  },
  {
   "metadata": {
    "ExecuteTime": {
     "end_time": "2024-06-22T15:57:46.900100Z",
     "start_time": "2024-06-22T15:57:46.890738Z"
    }
   },
   "cell_type": "code",
   "source": [
    "# data = dataset[:, column_index] # valores da coluna\n",
    "# data_log = np.log(data) # logarithmic-scaling\n",
    "# \n",
    "# nbins = 50 # número de bins no histograma\n",
    "# \n",
    "# fig, axes = plt.subplots(1, 2, figsize=(15, 5), gridspec_kw={'width_ratios': [1, 1]})\n",
    "# fig.subplots_adjust(wspace=0.3)\n",
    "# \n",
    "# # histograma - sem normalizar\n",
    "# axes[0].hist(data, bins=nbins, density=True, alpha=0.6, color='g', edgecolor='black')\n",
    "# axes[0].set_ylabel(\"Frequency\")\n",
    "# axes[0].set_xlabel(\"Value\")\n",
    "# axes[0].set_title(f'Histogram for Column {column_index} of the dataset')\n",
    "# \n",
    "# # histograma - normalizando\n",
    "# axes[1].hist(data_log, bins=nbins, density=True, alpha=0.6, color='g', edgecolor='black')\n",
    "# axes[1].set_ylabel(\"Frequency\")\n",
    "# axes[1].set_xlabel(\"Value\")\n",
    "# axes[1].set_title(f'Histogram for log(Column {column_index}) of the dataset')\n",
    "# \n",
    "# plt.show()"
   ],
   "id": "3ca7e96ac47a7f08",
   "outputs": [],
   "execution_count": 4
  },
  {
   "metadata": {},
   "cell_type": "markdown",
   "source": "## Partitioning and Splitting",
   "id": "3e8f55950bd6aa1c"
  },
  {
   "metadata": {
    "ExecuteTime": {
     "end_time": "2024-06-22T15:57:46.910073Z",
     "start_time": "2024-06-22T15:57:46.900100Z"
    }
   },
   "cell_type": "code",
   "source": [
    "# # escolhendo se vamos fazer top tagging ou quark/gluon tagging\n",
    "# tagging = \"qg\""
   ],
   "id": "4d5c328bab54c2ae",
   "outputs": [],
   "execution_count": 5
  },
  {
   "metadata": {
    "ExecuteTime": {
     "end_time": "2024-06-22T15:57:46.920135Z",
     "start_time": "2024-06-22T15:57:46.910073Z"
    }
   },
   "cell_type": "code",
   "source": [
    "# from ML.EFPs.split import split\n",
    "# \n",
    "# X_train, X_val, X_test, y_train, y_val, y_test = split(tagging)"
   ],
   "id": "b4a5c6acb8d3406f",
   "outputs": [],
   "execution_count": 6
  },
  {
   "metadata": {
    "ExecuteTime": {
     "end_time": "2024-06-22T15:57:46.932336Z",
     "start_time": "2024-06-22T15:57:46.920135Z"
    }
   },
   "cell_type": "code",
   "source": [
    "# # convertendo y de arrays para dataframes\n",
    "# y_train = y_train.reshape(-1,1)\n",
    "# y_val = y_val.reshape(-1,1)\n",
    "# y_test = y_test.reshape(-1,1)"
   ],
   "id": "a32e17257542b6c2",
   "outputs": [],
   "execution_count": 7
  },
  {
   "metadata": {},
   "cell_type": "markdown",
   "source": "## Normalization",
   "id": "7456afa0e33efe40"
  },
  {
   "metadata": {
    "ExecuteTime": {
     "end_time": "2024-06-22T15:57:46.944251Z",
     "start_time": "2024-06-22T15:57:46.932336Z"
    }
   },
   "cell_type": "code",
   "source": [
    "# # escolhendo a normalização\n",
    "# n = 0"
   ],
   "id": "be047ea2604cb4e3",
   "outputs": [],
   "execution_count": 8
  },
  {
   "metadata": {
    "ExecuteTime": {
     "end_time": "2024-06-22T15:57:46.975238Z",
     "start_time": "2024-06-22T15:57:46.945710Z"
    }
   },
   "cell_type": "code",
   "source": [
    "# from src.Preprocessing.norm import norm\n",
    "# \n",
    "# X_train, X_val, X_test = norm(n,X_train), norm(n,X_val), norm(n,X_test)"
   ],
   "id": "7d0bcbd39b36fea2",
   "outputs": [],
   "execution_count": 9
  },
  {
   "metadata": {},
   "cell_type": "markdown",
   "source": "# Dimensionality reduction",
   "id": "76bf59119ab9e226"
  },
  {
   "metadata": {
    "ExecuteTime": {
     "end_time": "2024-06-22T15:57:46.983740Z",
     "start_time": "2024-06-22T15:57:46.975238Z"
    }
   },
   "cell_type": "code",
   "source": [
    "# # conjuntos onde vamos aplicar o PCA:\n",
    "# X = np.concatenate((X_train, X_val, X_test), axis=0)\n",
    "# \n",
    "# pca = PCA()\n",
    "# pca.fit(X)\n",
    "# explainability = pca.explained_variance_ratio_.cumsum()\n",
    "# factors = range(1,len(pca.explained_variance_ratio_)+1)\n",
    "# plt.scatter(factors,explainability)\n",
    "# # plt.hlines(0.9,0,20,'r')\n",
    "# plt.xlabel('Número de componentes')\n",
    "# plt.ylabel('Explicabilidade dos dados')\n",
    "# print('Explicabilidade da primeira componente principal (PC1):', explainability[0].round(3))\n",
    "# print('Explicabilidade da segunda componente principal (PC2):', explainability[1].round(3))"
   ],
   "id": "753cdd237e2f14e0",
   "outputs": [],
   "execution_count": 10
  },
  {
   "metadata": {
    "ExecuteTime": {
     "end_time": "2024-06-22T15:57:46.994659Z",
     "start_time": "2024-06-22T15:57:46.983740Z"
    }
   },
   "cell_type": "code",
   "source": [
    "# # coeficientes da PC1\n",
    "# pca.components_[0]"
   ],
   "id": "21f00509656664ed",
   "outputs": [],
   "execution_count": 11
  },
  {
   "metadata": {
    "ExecuteTime": {
     "end_time": "2024-06-22T15:57:47.004528Z",
     "start_time": "2024-06-22T15:57:46.995164Z"
    }
   },
   "cell_type": "code",
   "source": [
    "# # coeficientes da PC2\n",
    "# pca.components_[1]"
   ],
   "id": "43b7a770a5a9d3c0",
   "outputs": [],
   "execution_count": 12
  },
  {
   "metadata": {
    "ExecuteTime": {
     "end_time": "2024-06-22T15:57:47.018357Z",
     "start_time": "2024-06-22T15:57:47.004528Z"
    }
   },
   "cell_type": "code",
   "source": [
    "# X_pca = pca.transform(X) # variáveis preditoras no espaço das PCs\n",
    "# N = 20 # número de PCs que vamos pegar\n",
    "# X_pca = X_pca[:,:N] # pegando as N primeiras PCs"
   ],
   "id": "56bf7d37b7970391",
   "outputs": [],
   "execution_count": 13
  },
  {
   "metadata": {
    "ExecuteTime": {
     "end_time": "2024-06-22T15:57:47.027321Z",
     "start_time": "2024-06-22T15:57:47.019362Z"
    }
   },
   "cell_type": "code",
   "source": [
    "# # executar essa célula para rodar o modelo utilizando apenas as PCs\n",
    "# X_train, X_val, X_test = X_pca[:len(X_train)], X_pca[len(X_train):len(X_train)+len(X_val)], X_pca[len(X_train)+len(X_val):]"
   ],
   "id": "a187e0088d87cdcb",
   "outputs": [],
   "execution_count": 14
  },
  {
   "metadata": {},
   "cell_type": "markdown",
   "source": "# Model",
   "id": "ebe430d56ffe8613"
  },
  {
   "metadata": {
    "ExecuteTime": {
     "end_time": "2024-06-22T15:57:47.035729Z",
     "start_time": "2024-06-22T15:57:47.027321Z"
    }
   },
   "cell_type": "code",
   "source": [
    "# # NÃO EXECUTAR ESSA CÉLULA SE 0 MODELO NÃO POSSUIR intercept_ OU coef_\n",
    "# \n",
    "# # intercept\n",
    "# print('Intercept:', model.intercept_[0])\n",
    "# \n",
    "# # weights\n",
    "# coef = model.coef_[0]\n",
    "# sns.barplot (x=np.arange(1, len(coef)+1), y=coef)\n",
    "# plt.xlabel(\"EFPs\")\n",
    "# plt.ylabel(\"Fitted weights\")\n",
    "# plt.title(\"Weights - LinearDiscriminantAnalysis\");"
   ],
   "id": "1e21fbcdf10bbf35",
   "outputs": [],
   "execution_count": 15
  },
  {
   "metadata": {},
   "cell_type": "markdown",
   "source": "# Performance metrics",
   "id": "bf5b310df9af0176"
  },
  {
   "metadata": {
    "ExecuteTime": {
     "end_time": "2024-06-22T15:57:47.067354Z",
     "start_time": "2024-06-22T15:57:47.035729Z"
    }
   },
   "cell_type": "code",
   "source": [
    "from ML.EFPs.split import split\n",
    "from src.Preprocessing.norm import norm\n",
    "\n",
    "def performance_metrics(tagging, n, set, model):\n",
    "    # tagging = \"top\", \"qg\"\n",
    "    # n = 0, 1, 2, 3, 4, 5    \n",
    "    # set = \"train\", \"val\", \"test\"\n",
    "    # model = LinearDiscriminantAnalysis(), QuadraticDiscriminantAnalysis(tol=1.0e-6)\n",
    "    \n",
    "    # Partitioning and Splitting\n",
    "    X_train, X_val, X_test, y_train, y_val, y_test = split(tagging)\n",
    "    \n",
    "    # convertendo y de arrays para dataframes\n",
    "    y_train = y_train.reshape(-1,1)\n",
    "    y_val = y_val.reshape(-1,1)\n",
    "    y_test = y_test.reshape(-1,1)\n",
    "    \n",
    "    # Normalization\n",
    "    X_train, X_val, X_test = norm(n,X_train), norm(n,X_val), norm(n,X_test)\n",
    "    \n",
    "    # escolhendo qual conjunto vamos avaliar\n",
    "    if set == \"train\":\n",
    "        X_set, y_set = X_train, y_train\n",
    "    elif set== \"val\":\n",
    "        X_set, y_set = X_val, y_val\n",
    "    else: # set == \"test\"\n",
    "        X_set, y_set = X_test, y_test\n",
    "    \n",
    "    model.fit(X_train, y_train.ravel())\n",
    "    y_pred = model.predict(X_set)\n",
    "    # Classification Report\n",
    "#    print('Classification Report:\\n',metrics.classification_report(y_set.ravel(), y_pred, digits=3))\n",
    "    \n",
    "    # Confusion Matrix\n",
    "#    print('Confusion Matrix:\\n',metrics.confusion_matrix(y_set.ravel(), y_pred, normalize='all').round(2))\n",
    "    \n",
    "    y_predproba = model.predict_proba(X_set)[:, -1]\n",
    "    # ROC curve\n",
    "    fpr, tpr, _ = metrics.roc_curve(y_set.ravel(), y_predproba)\n",
    "    roc_auc = metrics.roc_auc_score(y_set.ravel(), y_predproba)\n",
    "#    display = metrics.RocCurveDisplay(fpr=fpr, tpr=tpr, roc_auc=roc_auc)\n",
    "#    display.plot()\n",
    "#    plt.plot([0,1],[0,1],'r--')\n",
    "#    plt.show()\n",
    "    return metrics.accuracy_score(y_set.ravel(), y_pred), roc_auc"
   ],
   "id": "ab3f2cf2645b35d7",
   "outputs": [],
   "execution_count": 16
  },
  {
   "metadata": {
    "ExecuteTime": {
     "end_time": "2024-06-22T15:57:47.075187Z",
     "start_time": "2024-06-22T15:57:47.067354Z"
    }
   },
   "cell_type": "code",
   "source": [
    "# parameter ranges\n",
    "tagging_values = [\"top\", \"qg\"]\n",
    "n_values = [0, 1, 2, 3, 4, 5]\n",
    "set_values = [\"train\", \"val\", \"test\"]\n",
    "model_values = [LinearDiscriminantAnalysis(), QuadraticDiscriminantAnalysis(tol=1.0e-6)]"
   ],
   "id": "30c9a9bbfa1d25e",
   "outputs": [],
   "execution_count": 17
  },
  {
   "metadata": {
    "ExecuteTime": {
     "end_time": "2024-06-22T15:57:47.083917Z",
     "start_time": "2024-06-22T15:57:47.075187Z"
    }
   },
   "cell_type": "code",
   "source": [
    "import itertools\n",
    "\n",
    "# combinations of parameters\n",
    "param_combinations = list(itertools.product(tagging_values, n_values, set_values, model_values))"
   ],
   "id": "a68882eeb47443b0",
   "outputs": [],
   "execution_count": 18
  },
  {
   "metadata": {
    "ExecuteTime": {
     "end_time": "2024-06-22T16:01:52.406036Z",
     "start_time": "2024-06-22T15:57:47.083917Z"
    }
   },
   "cell_type": "code",
   "source": [
    "# Loop to execute the notebook with varying parameters\n",
    "accuracy_AUC = []\n",
    "\n",
    "for i, (tagging, n, set, model) in enumerate(param_combinations):\n",
    "    accuracy, AUC = performance_metrics(tagging, n, set, model)\n",
    "    print(tagging,'---',n,'---',set,'---',model)\n",
    "    print('accuracy:',round(accuracy,3),', AUC:',AUC.round(3))\n",
    "    print('=======================================================================')\n",
    "    accuracy_AUC.append([[tagging, n, set, model],[accuracy,AUC]])"
   ],
   "id": "84f61b841ff09c1b",
   "outputs": [
    {
     "name": "stdout",
     "output_type": "stream",
     "text": [
      "top --- 0 --- train --- LinearDiscriminantAnalysis()\n",
      "accuracy: 0.884 , AUC: 0.95\n",
      "=======================================================================\n",
      "top --- 0 --- train --- QuadraticDiscriminantAnalysis(tol=1e-06)\n",
      "accuracy: 0.809 , AUC: 0.935\n",
      "=======================================================================\n",
      "top --- 0 --- val --- LinearDiscriminantAnalysis()\n",
      "accuracy: 0.885 , AUC: 0.951\n",
      "=======================================================================\n",
      "top --- 0 --- val --- QuadraticDiscriminantAnalysis(tol=1e-06)\n",
      "accuracy: 0.811 , AUC: 0.936\n",
      "=======================================================================\n",
      "top --- 0 --- test --- LinearDiscriminantAnalysis()\n",
      "accuracy: 0.883 , AUC: 0.95\n",
      "=======================================================================\n",
      "top --- 0 --- test --- QuadraticDiscriminantAnalysis(tol=1e-06)\n",
      "accuracy: 0.809 , AUC: 0.936\n",
      "=======================================================================\n",
      "top --- 1 --- train --- LinearDiscriminantAnalysis()\n",
      "accuracy: 0.884 , AUC: 0.95\n",
      "=======================================================================\n",
      "top --- 1 --- train --- QuadraticDiscriminantAnalysis(tol=1e-06)\n",
      "accuracy: 0.809 , AUC: 0.935\n",
      "=======================================================================\n",
      "top --- 1 --- val --- LinearDiscriminantAnalysis()\n",
      "accuracy: 0.539 , AUC: 0.328\n",
      "=======================================================================\n",
      "top --- 1 --- val --- QuadraticDiscriminantAnalysis(tol=1e-06)\n",
      "accuracy: 0.595 , AUC: 0.602\n",
      "=======================================================================\n",
      "top --- 1 --- test --- LinearDiscriminantAnalysis()\n",
      "accuracy: 0.782 , AUC: 0.913\n",
      "=======================================================================\n",
      "top --- 1 --- test --- QuadraticDiscriminantAnalysis(tol=1e-06)\n",
      "accuracy: 0.609 , AUC: 0.616\n",
      "=======================================================================\n",
      "top --- 2 --- train --- LinearDiscriminantAnalysis()\n",
      "accuracy: 0.884 , AUC: 0.95\n",
      "=======================================================================\n",
      "top --- 2 --- train --- QuadraticDiscriminantAnalysis(tol=1e-06)\n",
      "accuracy: 0.809 , AUC: 0.935\n",
      "=======================================================================\n",
      "top --- 2 --- val --- LinearDiscriminantAnalysis()\n",
      "accuracy: 0.885 , AUC: 0.951\n",
      "=======================================================================\n",
      "top --- 2 --- val --- QuadraticDiscriminantAnalysis(tol=1e-06)\n",
      "accuracy: 0.811 , AUC: 0.934\n",
      "=======================================================================\n",
      "top --- 2 --- test --- LinearDiscriminantAnalysis()\n",
      "accuracy: 0.883 , AUC: 0.95\n",
      "=======================================================================\n",
      "top --- 2 --- test --- QuadraticDiscriminantAnalysis(tol=1e-06)\n",
      "accuracy: 0.809 , AUC: 0.936\n",
      "=======================================================================\n",
      "top --- 3 --- train --- LinearDiscriminantAnalysis()\n",
      "accuracy: 0.877 , AUC: 0.945\n",
      "=======================================================================\n",
      "top --- 3 --- train --- QuadraticDiscriminantAnalysis(tol=1e-06)\n",
      "accuracy: 0.842 , AUC: 0.924\n",
      "=======================================================================\n",
      "top --- 3 --- val --- LinearDiscriminantAnalysis()\n",
      "accuracy: 0.878 , AUC: 0.947\n",
      "=======================================================================\n",
      "top --- 3 --- val --- QuadraticDiscriminantAnalysis(tol=1e-06)\n",
      "accuracy: 0.843 , AUC: 0.926\n",
      "=======================================================================\n",
      "top --- 3 --- test --- LinearDiscriminantAnalysis()\n",
      "accuracy: 0.876 , AUC: 0.946\n",
      "=======================================================================\n",
      "top --- 3 --- test --- QuadraticDiscriminantAnalysis(tol=1e-06)\n",
      "accuracy: 0.843 , AUC: 0.924\n",
      "=======================================================================\n",
      "top --- 4 --- train --- LinearDiscriminantAnalysis()\n",
      "accuracy: 0.877 , AUC: 0.945\n",
      "=======================================================================\n",
      "top --- 4 --- train --- QuadraticDiscriminantAnalysis(tol=1e-06)\n",
      "accuracy: 0.842 , AUC: 0.924\n",
      "=======================================================================\n",
      "top --- 4 --- val --- LinearDiscriminantAnalysis()\n",
      "accuracy: 0.864 , AUC: 0.94\n",
      "=======================================================================\n",
      "top --- 4 --- val --- QuadraticDiscriminantAnalysis(tol=1e-06)\n",
      "accuracy: 0.494 , AUC: 0.5\n",
      "=======================================================================\n",
      "top --- 4 --- test --- LinearDiscriminantAnalysis()\n",
      "accuracy: 0.494 , AUC: 0.209\n",
      "=======================================================================\n",
      "top --- 4 --- test --- QuadraticDiscriminantAnalysis(tol=1e-06)\n",
      "accuracy: 0.725 , AUC: 0.723\n",
      "=======================================================================\n",
      "top --- 5 --- train --- LinearDiscriminantAnalysis()\n",
      "accuracy: 0.877 , AUC: 0.945\n",
      "=======================================================================\n",
      "top --- 5 --- train --- QuadraticDiscriminantAnalysis(tol=1e-06)\n",
      "accuracy: 0.842 , AUC: 0.924\n",
      "=======================================================================\n",
      "top --- 5 --- val --- LinearDiscriminantAnalysis()\n",
      "accuracy: 0.878 , AUC: 0.947\n",
      "=======================================================================\n",
      "top --- 5 --- val --- QuadraticDiscriminantAnalysis(tol=1e-06)\n",
      "accuracy: 0.844 , AUC: 0.926\n",
      "=======================================================================\n",
      "top --- 5 --- test --- LinearDiscriminantAnalysis()\n",
      "accuracy: 0.876 , AUC: 0.946\n",
      "=======================================================================\n",
      "top --- 5 --- test --- QuadraticDiscriminantAnalysis(tol=1e-06)\n",
      "accuracy: 0.844 , AUC: 0.925\n",
      "=======================================================================\n",
      "qg --- 0 --- train --- LinearDiscriminantAnalysis()\n",
      "accuracy: 0.759 , AUC: 0.844\n",
      "=======================================================================\n",
      "qg --- 0 --- train --- QuadraticDiscriminantAnalysis(tol=1e-06)\n",
      "accuracy: 0.619 , AUC: 0.819\n",
      "=======================================================================\n",
      "qg --- 0 --- val --- LinearDiscriminantAnalysis()\n",
      "accuracy: 0.756 , AUC: 0.843\n",
      "=======================================================================\n",
      "qg --- 0 --- val --- QuadraticDiscriminantAnalysis(tol=1e-06)\n",
      "accuracy: 0.618 , AUC: 0.818\n",
      "=======================================================================\n",
      "qg --- 0 --- test --- LinearDiscriminantAnalysis()\n",
      "accuracy: 0.755 , AUC: 0.841\n",
      "=======================================================================\n",
      "qg --- 0 --- test --- QuadraticDiscriminantAnalysis(tol=1e-06)\n",
      "accuracy: 0.617 , AUC: 0.816\n",
      "=======================================================================\n",
      "qg --- 1 --- train --- LinearDiscriminantAnalysis()\n",
      "accuracy: 0.759 , AUC: 0.844\n",
      "=======================================================================\n",
      "qg --- 1 --- train --- QuadraticDiscriminantAnalysis(tol=1e-06)\n",
      "accuracy: 0.619 , AUC: 0.819\n",
      "=======================================================================\n",
      "qg --- 1 --- val --- LinearDiscriminantAnalysis()\n",
      "accuracy: 0.63 , AUC: 0.613\n",
      "=======================================================================\n",
      "qg --- 1 --- val --- QuadraticDiscriminantAnalysis(tol=1e-06)\n",
      "accuracy: 0.498 , AUC: 0.498\n",
      "=======================================================================\n",
      "qg --- 1 --- test --- LinearDiscriminantAnalysis()\n",
      "accuracy: 0.639 , AUC: 0.621\n",
      "=======================================================================\n",
      "qg --- 1 --- test --- QuadraticDiscriminantAnalysis(tol=1e-06)\n",
      "accuracy: 0.497 , AUC: 0.467\n",
      "=======================================================================\n",
      "qg --- 2 --- train --- LinearDiscriminantAnalysis()\n",
      "accuracy: 0.759 , AUC: 0.844\n",
      "=======================================================================\n",
      "qg --- 2 --- train --- QuadraticDiscriminantAnalysis(tol=1e-06)\n",
      "accuracy: 0.619 , AUC: 0.819\n",
      "=======================================================================\n",
      "qg --- 2 --- val --- LinearDiscriminantAnalysis()\n",
      "accuracy: 0.757 , AUC: 0.842\n",
      "=======================================================================\n",
      "qg --- 2 --- val --- QuadraticDiscriminantAnalysis(tol=1e-06)\n",
      "accuracy: 0.619 , AUC: 0.801\n",
      "=======================================================================\n",
      "qg --- 2 --- test --- LinearDiscriminantAnalysis()\n",
      "accuracy: 0.754 , AUC: 0.838\n",
      "=======================================================================\n",
      "qg --- 2 --- test --- QuadraticDiscriminantAnalysis(tol=1e-06)\n",
      "accuracy: 0.619 , AUC: 0.783\n",
      "=======================================================================\n",
      "qg --- 3 --- train --- LinearDiscriminantAnalysis()\n",
      "accuracy: 0.781 , AUC: 0.858\n",
      "=======================================================================\n",
      "qg --- 3 --- train --- QuadraticDiscriminantAnalysis(tol=1e-06)\n",
      "accuracy: 0.741 , AUC: 0.802\n",
      "=======================================================================\n",
      "qg --- 3 --- val --- LinearDiscriminantAnalysis()\n",
      "accuracy: 0.781 , AUC: 0.858\n",
      "=======================================================================\n",
      "qg --- 3 --- val --- QuadraticDiscriminantAnalysis(tol=1e-06)\n",
      "accuracy: 0.742 , AUC: 0.803\n",
      "=======================================================================\n",
      "qg --- 3 --- test --- LinearDiscriminantAnalysis()\n",
      "accuracy: 0.779 , AUC: 0.856\n",
      "=======================================================================\n",
      "qg --- 3 --- test --- QuadraticDiscriminantAnalysis(tol=1e-06)\n",
      "accuracy: 0.74 , AUC: 0.799\n",
      "=======================================================================\n",
      "qg --- 4 --- train --- LinearDiscriminantAnalysis()\n",
      "accuracy: 0.781 , AUC: 0.858\n",
      "=======================================================================\n",
      "qg --- 4 --- train --- QuadraticDiscriminantAnalysis(tol=1e-06)\n",
      "accuracy: 0.741 , AUC: 0.802\n",
      "=======================================================================\n",
      "qg --- 4 --- val --- LinearDiscriminantAnalysis()\n",
      "accuracy: 0.509 , AUC: 0.585\n",
      "=======================================================================\n",
      "qg --- 4 --- val --- QuadraticDiscriminantAnalysis(tol=1e-06)\n",
      "accuracy: 0.588 , AUC: 0.592\n",
      "=======================================================================\n",
      "qg --- 4 --- test --- LinearDiscriminantAnalysis()\n",
      "accuracy: 0.51 , AUC: 0.671\n",
      "=======================================================================\n",
      "qg --- 4 --- test --- QuadraticDiscriminantAnalysis(tol=1e-06)\n",
      "accuracy: 0.491 , AUC: 0.5\n",
      "=======================================================================\n",
      "qg --- 5 --- train --- LinearDiscriminantAnalysis()\n",
      "accuracy: 0.781 , AUC: 0.858\n",
      "=======================================================================\n",
      "qg --- 5 --- train --- QuadraticDiscriminantAnalysis(tol=1e-06)\n",
      "accuracy: 0.741 , AUC: 0.802\n",
      "=======================================================================\n",
      "qg --- 5 --- val --- LinearDiscriminantAnalysis()\n",
      "accuracy: 0.78 , AUC: 0.858\n",
      "=======================================================================\n",
      "qg --- 5 --- val --- QuadraticDiscriminantAnalysis(tol=1e-06)\n",
      "accuracy: 0.741 , AUC: 0.803\n",
      "=======================================================================\n",
      "qg --- 5 --- test --- LinearDiscriminantAnalysis()\n",
      "accuracy: 0.778 , AUC: 0.856\n",
      "=======================================================================\n",
      "qg --- 5 --- test --- QuadraticDiscriminantAnalysis(tol=1e-06)\n",
      "accuracy: 0.74 , AUC: 0.799\n",
      "=======================================================================\n"
     ]
    }
   ],
   "execution_count": 19
  },
  {
   "metadata": {
    "ExecuteTime": {
     "end_time": "2024-06-22T16:01:52.428635Z",
     "start_time": "2024-06-22T16:01:52.406036Z"
    }
   },
   "cell_type": "code",
   "source": "accuracy_AUC",
   "id": "c5ec3101222dbb63",
   "outputs": [
    {
     "data": {
      "text/plain": [
       "[[['top', 0, 'train', LinearDiscriminantAnalysis()],\n",
       "  [0.8838449588012035, 0.9495337507038542]],\n",
       " [['top', 0, 'train', QuadraticDiscriminantAnalysis(tol=1e-06)],\n",
       "  [0.809006705866158, 0.93503328043852]],\n",
       " [['top', 0, 'val', LinearDiscriminantAnalysis()],\n",
       "  [0.8851125473590372, 0.9510731852367876]],\n",
       " [['top', 0, 'val', QuadraticDiscriminantAnalysis(tol=1e-06)],\n",
       "  [0.810786717182973, 0.9362490214304817]],\n",
       " [['top', 0, 'test', LinearDiscriminantAnalysis()],\n",
       "  [0.8834583617488824, 0.9500268056581684]],\n",
       " [['top', 0, 'test', QuadraticDiscriminantAnalysis(tol=1e-06)],\n",
       "  [0.8086307494127454, 0.9358786931098012]],\n",
       " [['top', 1, 'train', LinearDiscriminantAnalysis()],\n",
       "  [0.8838449588012035, 0.9495337507038542]],\n",
       " [['top', 1, 'train', QuadraticDiscriminantAnalysis(tol=1e-06)],\n",
       "  [0.809006705866158, 0.93503328043852]],\n",
       " [['top', 1, 'val', LinearDiscriminantAnalysis()],\n",
       "  [0.5390238466681524, 0.32760799824480613]],\n",
       " [['top', 1, 'val', QuadraticDiscriminantAnalysis(tol=1e-06)],\n",
       "  [0.5948963672832628, 0.6022644996390929]],\n",
       " [['top', 1, 'test', LinearDiscriminantAnalysis()],\n",
       "  [0.7821285140562249, 0.91250852237776]],\n",
       " [['top', 1, 'test', QuadraticDiscriminantAnalysis(tol=1e-06)],\n",
       "  [0.6086421156323407, 0.6163204837665865]],\n",
       " [['top', 2, 'train', LinearDiscriminantAnalysis()],\n",
       "  [0.8838449588012035, 0.9495337507038542]],\n",
       " [['top', 2, 'train', QuadraticDiscriminantAnalysis(tol=1e-06)],\n",
       "  [0.809006705866158, 0.93503328043852]],\n",
       " [['top', 2, 'val', LinearDiscriminantAnalysis()],\n",
       "  [0.8850679741475374, 0.9510629937913293]],\n",
       " [['top', 2, 'val', QuadraticDiscriminantAnalysis(tol=1e-06)],\n",
       "  [0.8112324492979719, 0.9340769271445137]],\n",
       " [['top', 2, 'test', LinearDiscriminantAnalysis()],\n",
       "  [0.8834394180495567, 0.9500623678466524]],\n",
       " [['top', 2, 'test', QuadraticDiscriminantAnalysis(tol=1e-06)],\n",
       "  [0.8088201864060014, 0.935544317231478]],\n",
       " [['top', 3, 'train', LinearDiscriminantAnalysis()],\n",
       "  [0.8772020215924957, 0.945265963283136]],\n",
       " [['top', 3, 'train', QuadraticDiscriminantAnalysis(tol=1e-06)],\n",
       "  [0.8420404711805077, 0.9244527814831438]],\n",
       " [['top', 3, 'val', LinearDiscriminantAnalysis()],\n",
       "  [0.8777802540673055, 0.946549498863041]],\n",
       " [['top', 3, 'val', QuadraticDiscriminantAnalysis(tol=1e-06)],\n",
       "  [0.8427679964341431, 0.9255557014296016]],\n",
       " [['top', 3, 'test', LinearDiscriminantAnalysis()],\n",
       "  [0.8764113055997576, 0.946024482405418]],\n",
       " [['top', 3, 'test', QuadraticDiscriminantAnalysis(tol=1e-06)],\n",
       "  [0.8428241266954611, 0.9243981732356561]],\n",
       " [['top', 4, 'train', LinearDiscriminantAnalysis()],\n",
       "  [0.8772020215924957, 0.945265963283136]],\n",
       " [['top', 4, 'train', QuadraticDiscriminantAnalysis(tol=1e-06)],\n",
       "  [0.8420404711805077, 0.9244527815140857]],\n",
       " [['top', 4, 'val', LinearDiscriminantAnalysis()],\n",
       "  [0.8644082906173389, 0.9397061111412077]],\n",
       " [['top', 4, 'val', QuadraticDiscriminantAnalysis(tol=1e-06)],\n",
       "  [0.4943614887452641, 0.5]],\n",
       " [['top', 4, 'test', LinearDiscriminantAnalysis()],\n",
       "  [0.4943547776009699, 0.20917605474370163]],\n",
       " [['top', 4, 'test', QuadraticDiscriminantAnalysis(tol=1e-06)],\n",
       "  [0.7253353034780632, 0.7233476091068789]],\n",
       " [['top', 5, 'train', LinearDiscriminantAnalysis()],\n",
       "  [0.8772020215924957, 0.945265963283136]],\n",
       " [['top', 5, 'train', QuadraticDiscriminantAnalysis(tol=1e-06)],\n",
       "  [0.8420404711805077, 0.9244527814831438]],\n",
       " [['top', 5, 'val', LinearDiscriminantAnalysis()],\n",
       "  [0.8777356808558057, 0.9465125461800244]],\n",
       " [['top', 5, 'val', QuadraticDiscriminantAnalysis(tol=1e-06)],\n",
       "  [0.8442166258078895, 0.9263571883736148]],\n",
       " [['top', 5, 'test', LinearDiscriminantAnalysis()],\n",
       "  [0.8763165871031295, 0.946035561223735]],\n",
       " [['top', 5, 'test', QuadraticDiscriminantAnalysis(tol=1e-06)],\n",
       "  [0.8441880730469046, 0.9250688932519777]],\n",
       " [['qg', 0, 'train', LinearDiscriminantAnalysis()],\n",
       "  [0.7585200036598124, 0.8440902328910962]],\n",
       " [['qg', 0, 'train', QuadraticDiscriminantAnalysis(tol=1e-06)],\n",
       "  [0.6194073490625709, 0.8192229382384387]],\n",
       " [['qg', 0, 'val', LinearDiscriminantAnalysis()],\n",
       "  [0.756413146386547, 0.8429658562908633]],\n",
       " [['qg', 0, 'val', QuadraticDiscriminantAnalysis(tol=1e-06)],\n",
       "  [0.6179162346152112, 0.8178657711379664]],\n",
       " [['qg', 0, 'test', LinearDiscriminantAnalysis()],\n",
       "  [0.7545890017244683, 0.8414246564510842]],\n",
       " [['qg', 0, 'test', QuadraticDiscriminantAnalysis(tol=1e-06)],\n",
       "  [0.6167273424027592, 0.816078610421954]],\n",
       " [['qg', 1, 'train', LinearDiscriminantAnalysis()],\n",
       "  [0.7585200036598124, 0.8440902328910962]],\n",
       " [['qg', 1, 'train', QuadraticDiscriminantAnalysis(tol=1e-06)],\n",
       "  [0.6194073490625709, 0.8192229382384387]],\n",
       " [['qg', 1, 'val', LinearDiscriminantAnalysis()],\n",
       "  [0.6295928948198909, 0.6134235998773538]],\n",
       " [['qg', 1, 'val', QuadraticDiscriminantAnalysis(tol=1e-06)],\n",
       "  [0.4981290293494432, 0.4975393140840615]],\n",
       " [['qg', 1, 'test', LinearDiscriminantAnalysis()],\n",
       "  [0.6392603947116305, 0.6207296937260912]],\n",
       " [['qg', 1, 'test', QuadraticDiscriminantAnalysis(tol=1e-06)],\n",
       "  [0.4972216899789232, 0.4672038908323026]],\n",
       " [['qg', 2, 'train', LinearDiscriminantAnalysis()],\n",
       "  [0.7585200036598124, 0.8440902328910962]],\n",
       " [['qg', 2, 'train', QuadraticDiscriminantAnalysis(tol=1e-06)],\n",
       "  [0.6194073490625709, 0.8192229382384387]],\n",
       " [['qg', 2, 'val', LinearDiscriminantAnalysis()],\n",
       "  [0.7567512736125512, 0.8418275462708806]],\n",
       " [['qg', 2, 'val', QuadraticDiscriminantAnalysis(tol=1e-06)],\n",
       "  [0.6191334926288264, 0.8005382545526707]],\n",
       " [['qg', 2, 'test', LinearDiscriminantAnalysis()],\n",
       "  [0.7536884460624641, 0.8379433898197479]],\n",
       " [['qg', 2, 'test', QuadraticDiscriminantAnalysis(tol=1e-06)],\n",
       "  [0.6191799195248132, 0.7830886304720792]],\n",
       " [['qg', 3, 'train', LinearDiscriminantAnalysis()],\n",
       "  [0.7809642014647206, 0.8580920093844534]],\n",
       " [['qg', 3, 'train', QuadraticDiscriminantAnalysis(tol=1e-06)],\n",
       "  [0.7409807501819962, 0.8016795021008634]],\n",
       " [['qg', 3, 'val', LinearDiscriminantAnalysis()],\n",
       "  [0.7806005139533835, 0.8582920907028815]],\n",
       " [['qg', 3, 'val', QuadraticDiscriminantAnalysis(tol=1e-06)],\n",
       "  [0.7416707993327623, 0.8028496077436271]],\n",
       " [['qg', 3, 'test', LinearDiscriminantAnalysis()],\n",
       "  [0.7790572906687104, 0.8562305070757891]],\n",
       " [['qg', 3, 'test', QuadraticDiscriminantAnalysis(tol=1e-06)],\n",
       "  [0.7401417896148688, 0.7993353800084751]],\n",
       " [['qg', 4, 'train', LinearDiscriminantAnalysis()],\n",
       "  [0.7809642014647206, 0.8580920095110981]],\n",
       " [['qg', 4, 'train', QuadraticDiscriminantAnalysis(tol=1e-06)],\n",
       "  [0.7409807501819962, 0.8016795021008634]],\n",
       " [['qg', 4, 'val', LinearDiscriminantAnalysis()],\n",
       "  [0.5094450205130517, 0.5852971933702735]],\n",
       " [['qg', 4, 'val', QuadraticDiscriminantAnalysis(tol=1e-06)],\n",
       "  [0.5879807042063027, 0.5919806029101633]],\n",
       " [['qg', 4, 'test', LinearDiscriminantAnalysis()],\n",
       "  [0.5095037363479594, 0.6709434573848959]],\n",
       " [['qg', 4, 'test', QuadraticDiscriminantAnalysis(tol=1e-06)],\n",
       "  [0.4905537459283388, 0.5]],\n",
       " [['qg', 5, 'train', LinearDiscriminantAnalysis()],\n",
       "  [0.7809642014647206, 0.8580920094477757]],\n",
       " [['qg', 5, 'train', QuadraticDiscriminantAnalysis(tol=1e-06)],\n",
       "  [0.7409807501819962, 0.8016795021008634]],\n",
       " [['qg', 5, 'val', LinearDiscriminantAnalysis()],\n",
       "  [0.7803074703575131, 0.8575847645445133]],\n",
       " [['qg', 5, 'val', QuadraticDiscriminantAnalysis(tol=1e-06)],\n",
       "  [0.741355213921825, 0.8029617785894549]],\n",
       " [['qg', 5, 'test', LinearDiscriminantAnalysis()],\n",
       "  [0.7778501628664495, 0.8557850460240414]],\n",
       " [['qg', 5, 'test', QuadraticDiscriminantAnalysis(tol=1e-06)],\n",
       "  [0.7402567541674651, 0.7988778293023242]]]"
      ]
     },
     "execution_count": 20,
     "metadata": {},
     "output_type": "execute_result"
    }
   ],
   "execution_count": 20
  },
  {
   "metadata": {
    "ExecuteTime": {
     "end_time": "2024-06-22T16:34:14.383185Z",
     "start_time": "2024-06-22T16:34:14.378264Z"
    }
   },
   "cell_type": "code",
   "source": [
    "accuracy_AUC_top = [item for item in accuracy_AUC if 'top' in item[0]]\n",
    "accuracy_AUC_qg = [item for item in accuracy_AUC if 'qg' in item[0]]"
   ],
   "id": "a987a1e459284823",
   "outputs": [],
   "execution_count": 75
  },
  {
   "metadata": {
    "ExecuteTime": {
     "end_time": "2024-06-22T16:34:15.817334Z",
     "start_time": "2024-06-22T16:34:15.811580Z"
    }
   },
   "cell_type": "code",
   "source": [
    "accuracy_AUC_top_quad = accuracy_AUC_top[1::2]\n",
    "accuracy_AUC_qg_quad = accuracy_AUC_qg[1::2]\n",
    "# não precisa definir accuracy_AUC_top_lin e accuracy_AUC_qg_lin porque os melhores já são todos com modelo linear"
   ],
   "id": "ee70790001fd50e6",
   "outputs": [],
   "execution_count": 76
  },
  {
   "metadata": {
    "ExecuteTime": {
     "end_time": "2024-06-22T16:48:08.367871Z",
     "start_time": "2024-06-22T16:48:08.355429Z"
    }
   },
   "cell_type": "code",
   "source": [
    "for set in ['train','val','test']:\n",
    "    print('Maior acurácia:',max( [item for item in accuracy_AUC_top_quad if set in item[0]] , key=lambda x: x[1][0]))\n",
    "    print('Maior AUC     :',max( [item for item in accuracy_AUC_top_quad if set in item[0]] , key=lambda x: x[1][1]))"
   ],
   "id": "5130adaa9b58fb32",
   "outputs": [
    {
     "name": "stdout",
     "output_type": "stream",
     "text": [
      "Maior acurácia: [['top', 3, 'train', QuadraticDiscriminantAnalysis(tol=1e-06)], [0.8420404711805077, 0.9244527814831438]]\n",
      "Maior AUC     : [['top', 0, 'train', QuadraticDiscriminantAnalysis(tol=1e-06)], [0.809006705866158, 0.93503328043852]]\n",
      "Maior acurácia: [['top', 5, 'val', QuadraticDiscriminantAnalysis(tol=1e-06)], [0.8442166258078895, 0.9263571883736148]]\n",
      "Maior AUC     : [['top', 0, 'val', QuadraticDiscriminantAnalysis(tol=1e-06)], [0.810786717182973, 0.9362490214304817]]\n",
      "Maior acurácia: [['top', 5, 'test', QuadraticDiscriminantAnalysis(tol=1e-06)], [0.8441880730469046, 0.9250688932519777]]\n",
      "Maior AUC     : [['top', 0, 'test', QuadraticDiscriminantAnalysis(tol=1e-06)], [0.8086307494127454, 0.9358786931098012]]\n"
     ]
    }
   ],
   "execution_count": 85
  },
  {
   "metadata": {
    "ExecuteTime": {
     "end_time": "2024-06-22T16:48:21.124018Z",
     "start_time": "2024-06-22T16:48:21.115703Z"
    }
   },
   "cell_type": "code",
   "source": [
    "for set in ['train','val','test']:\n",
    "    print('Maior acurácia:',max( [item for item in accuracy_AUC_qg_quad if set in item[0]] , key=lambda x: x[1][0]))\n",
    "    print('Maior AUC     :',max( [item for item in accuracy_AUC_qg_quad if set in item[0]] , key=lambda x: x[1][1]))"
   ],
   "id": "ab2d1de350b4e2c",
   "outputs": [
    {
     "name": "stdout",
     "output_type": "stream",
     "text": [
      "Maior acurácia: [['qg', 3, 'train', QuadraticDiscriminantAnalysis(tol=1e-06)], [0.7409807501819962, 0.8016795021008634]]\n",
      "Maior AUC     : [['qg', 0, 'train', QuadraticDiscriminantAnalysis(tol=1e-06)], [0.6194073490625709, 0.8192229382384387]]\n",
      "Maior acurácia: [['qg', 3, 'val', QuadraticDiscriminantAnalysis(tol=1e-06)], [0.7416707993327623, 0.8028496077436271]]\n",
      "Maior AUC     : [['qg', 0, 'val', QuadraticDiscriminantAnalysis(tol=1e-06)], [0.6179162346152112, 0.8178657711379664]]\n",
      "Maior acurácia: [['qg', 5, 'test', QuadraticDiscriminantAnalysis(tol=1e-06)], [0.7402567541674651, 0.7988778293023242]]\n",
      "Maior AUC     : [['qg', 0, 'test', QuadraticDiscriminantAnalysis(tol=1e-06)], [0.6167273424027592, 0.816078610421954]]\n"
     ]
    }
   ],
   "execution_count": 86
  },
  {
   "metadata": {},
   "cell_type": "markdown",
   "source": "# Saving the models",
   "id": "d224fc3a651052ad"
  },
  {
   "metadata": {
    "ExecuteTime": {
     "end_time": "2024-06-22T21:30:27.723433Z",
     "start_time": "2024-06-22T21:30:24.971170Z"
    }
   },
   "cell_type": "code",
   "source": [
    "from ML.EFPs.split import split\n",
    "from src.Preprocessing.norm import norm\n",
    "import joblib\n",
    "\n",
    "# choosing the model\n",
    "tagging = \"qg\" # \"top\", \"qg\"\n",
    "n = 5 # 0, 1, 2, 3, 4, 5    \n",
    "model = QuadraticDiscriminantAnalysis(tol=1.0e-6) # LinearDiscriminantAnalysis(), QuadraticDiscriminantAnalysis(tol=1.0e-6)\n",
    "\n",
    "# Partitioning and Splitting\n",
    "X_train, X_val, X_test, y_train, y_val, y_test = split(tagging)\n",
    "    \n",
    "# convertendo y de arrays para dataframes\n",
    "y_train = y_train.reshape(-1,1)\n",
    "y_val = y_val.reshape(-1,1)\n",
    "y_test = y_test.reshape(-1,1)\n",
    "    \n",
    "# Normalization\n",
    "X_train, X_val, X_test = norm(n,X_train), norm(n,X_val), norm(n,X_test)\n",
    "\n",
    "# training the model\n",
    "model.fit(X_train, y_train.ravel())\n",
    "\n",
    "# Save the trained model to a file\n",
    "joblib_file = \"QuadraticDiscriminant_qg_n5.pkl\"\n",
    "joblib.dump(model, joblib_file)"
   ],
   "id": "eead754eaabcca32",
   "outputs": [
    {
     "data": {
      "text/plain": [
       "['QuadraticDiscriminant_qg_n5.pkl']"
      ]
     },
     "execution_count": 102,
     "metadata": {},
     "output_type": "execute_result"
    }
   ],
   "execution_count": 102
  },
  {
   "metadata": {},
   "cell_type": "markdown",
   "source": "# Loading the models",
   "id": "99d824f3aafec017"
  },
  {
   "metadata": {
    "ExecuteTime": {
     "end_time": "2024-06-22T21:15:16.100221Z",
     "start_time": "2024-06-22T21:15:15.972032Z"
    }
   },
   "cell_type": "code",
   "source": "loaded_lda = joblib.load(\"LinearDiscriminant_top_0.pkl\")",
   "id": "209185c3a35a56c8",
   "outputs": [],
   "execution_count": 89
  },
  {
   "metadata": {
    "ExecuteTime": {
     "end_time": "2024-06-22T21:15:29.217185Z",
     "start_time": "2024-06-22T21:15:28.746943Z"
    }
   },
   "cell_type": "code",
   "source": "loaded_lda.predict(X_test)",
   "id": "6c835c2c81fa8d1f",
   "outputs": [
    {
     "data": {
      "text/plain": [
       "array([1., 1., 0., ..., 1., 0., 1.])"
      ]
     },
     "execution_count": 90,
     "metadata": {},
     "output_type": "execute_result"
    }
   ],
   "execution_count": 90
  }
 ],
 "metadata": {
  "kernelspec": {
   "display_name": "Python 3",
   "language": "python",
   "name": "python3"
  },
  "language_info": {
   "codemirror_mode": {
    "name": "ipython",
    "version": 2
   },
   "file_extension": ".py",
   "mimetype": "text/x-python",
   "name": "python",
   "nbconvert_exporter": "python",
   "pygments_lexer": "ipython2",
   "version": "2.7.6"
  }
 },
 "nbformat": 4,
 "nbformat_minor": 5
}
