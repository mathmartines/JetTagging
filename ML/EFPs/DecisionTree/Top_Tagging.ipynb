{
 "cells": [
  {
   "cell_type": "code",
   "execution_count": 2,
   "id": "initial_id",
   "metadata": {
    "collapsed": true,
    "ExecuteTime": {
     "end_time": "2024-06-18T13:15:55.136176Z",
     "start_time": "2024-06-18T13:15:55.132682Z"
    }
   },
   "outputs": [],
   "source": [
    "from ML.EFPs.data_loaders import load_data_top_tagging\n",
    "from sklearn.tree import DecisionTreeClassifier\n",
    "from sklearn.model_selection import GridSearchCV\n",
    "import pandas as pd\n",
    "import joblib\n",
    "import utilities.utilities as utilities"
   ]
  },
  {
   "cell_type": "markdown",
   "source": [
    "#### Loading the Dataset"
   ],
   "metadata": {
    "collapsed": false
   },
   "id": "81b36fc1a5ad7cef"
  },
  {
   "cell_type": "code",
   "outputs": [],
   "source": [
    "root_data_folder = \"../../../Data\"\n",
    "X_train, y_train = load_data_top_tagging(\n",
    "    quark_data_path=f\"{root_data_folder}/Trainning/q_jets_efps_d5_primed.npy\", \n",
    "    gluon_data_path=f\"{root_data_folder}/Trainning/g_jets_efps_d5_primed.npy\",\n",
    "    top_data_path=f\"{root_data_folder}/Trainning/t_jets_efps_d5_primed.npy\"\n",
    ")\n",
    "X_val, y_val = load_data_top_tagging(\n",
    "    quark_data_path=f\"{root_data_folder}/Validation/q_jets_efps_d5_primed.npy\", \n",
    "    gluon_data_path=f\"{root_data_folder}/Validation/g_jets_efps_d5_primed.npy\",\n",
    "    top_data_path=f\"{root_data_folder}/Validation/t_jets_efps_d5_primed.npy\"\n",
    ")"
   ],
   "metadata": {
    "collapsed": false,
    "ExecuteTime": {
     "end_time": "2024-06-18T13:16:47.793141Z",
     "start_time": "2024-06-18T13:16:47.607433Z"
    }
   },
   "id": "724945a5c2b0fab9",
   "execution_count": 3
  },
  {
   "cell_type": "markdown",
   "source": [
    "#### Trainning the DT"
   ],
   "metadata": {
    "collapsed": false
   },
   "id": "fdf7fd860ec9a5e8"
  },
  {
   "cell_type": "code",
   "outputs": [
    {
     "name": "stdout",
     "output_type": "stream",
     "text": [
      "Fitting 5 folds for each of 3 candidates, totalling 15 fits\n",
      "[CV 1/5] END max_depth=10, min_samples_split=250;, score=(train=0.887, test=0.882) total time=   7.8s\n",
      "[CV 2/5] END max_depth=10, min_samples_split=250;, score=(train=0.887, test=0.880) total time=   7.8s\n",
      "[CV 3/5] END max_depth=10, min_samples_split=250;, score=(train=0.887, test=0.880) total time=   7.8s\n",
      "[CV 4/5] END max_depth=10, min_samples_split=250;, score=(train=0.887, test=0.883) total time=   7.8s\n",
      "[CV 5/5] END max_depth=10, min_samples_split=250;, score=(train=0.887, test=0.883) total time=   7.8s\n",
      "[CV 1/5] END max_depth=10, min_samples_split=275;, score=(train=0.887, test=0.882) total time=   7.8s\n",
      "[CV 2/5] END max_depth=10, min_samples_split=275;, score=(train=0.887, test=0.880) total time=   7.8s\n",
      "[CV 3/5] END max_depth=10, min_samples_split=275;, score=(train=0.887, test=0.880) total time=   7.8s\n",
      "[CV 4/5] END max_depth=10, min_samples_split=275;, score=(train=0.887, test=0.883) total time=   7.8s\n",
      "[CV 5/5] END max_depth=10, min_samples_split=275;, score=(train=0.887, test=0.883) total time=   7.8s\n",
      "[CV 1/5] END max_depth=10, min_samples_split=300;, score=(train=0.887, test=0.882) total time=   7.8s\n",
      "[CV 2/5] END max_depth=10, min_samples_split=300;, score=(train=0.887, test=0.880) total time=   7.8s\n",
      "[CV 3/5] END max_depth=10, min_samples_split=300;, score=(train=0.886, test=0.880) total time=   7.8s\n",
      "[CV 4/5] END max_depth=10, min_samples_split=300;, score=(train=0.886, test=0.883) total time=   7.9s\n",
      "[CV 5/5] END max_depth=10, min_samples_split=300;, score=(train=0.886, test=0.883) total time=   7.8s\n"
     ]
    },
    {
     "data": {
      "text/plain": "GridSearchCV(estimator=DecisionTreeClassifier(criterion='entropy'),\n             param_grid={'max_depth': [10],\n                         'min_samples_split': [250, 275, 300]},\n             return_train_score=True, verbose=3)",
      "text/html": "<style>#sk-container-id-3 {color: black;}#sk-container-id-3 pre{padding: 0;}#sk-container-id-3 div.sk-toggleable {background-color: white;}#sk-container-id-3 label.sk-toggleable__label {cursor: pointer;display: block;width: 100%;margin-bottom: 0;padding: 0.3em;box-sizing: border-box;text-align: center;}#sk-container-id-3 label.sk-toggleable__label-arrow:before {content: \"▸\";float: left;margin-right: 0.25em;color: #696969;}#sk-container-id-3 label.sk-toggleable__label-arrow:hover:before {color: black;}#sk-container-id-3 div.sk-estimator:hover label.sk-toggleable__label-arrow:before {color: black;}#sk-container-id-3 div.sk-toggleable__content {max-height: 0;max-width: 0;overflow: hidden;text-align: left;background-color: #f0f8ff;}#sk-container-id-3 div.sk-toggleable__content pre {margin: 0.2em;color: black;border-radius: 0.25em;background-color: #f0f8ff;}#sk-container-id-3 input.sk-toggleable__control:checked~div.sk-toggleable__content {max-height: 200px;max-width: 100%;overflow: auto;}#sk-container-id-3 input.sk-toggleable__control:checked~label.sk-toggleable__label-arrow:before {content: \"▾\";}#sk-container-id-3 div.sk-estimator input.sk-toggleable__control:checked~label.sk-toggleable__label {background-color: #d4ebff;}#sk-container-id-3 div.sk-label input.sk-toggleable__control:checked~label.sk-toggleable__label {background-color: #d4ebff;}#sk-container-id-3 input.sk-hidden--visually {border: 0;clip: rect(1px 1px 1px 1px);clip: rect(1px, 1px, 1px, 1px);height: 1px;margin: -1px;overflow: hidden;padding: 0;position: absolute;width: 1px;}#sk-container-id-3 div.sk-estimator {font-family: monospace;background-color: #f0f8ff;border: 1px dotted black;border-radius: 0.25em;box-sizing: border-box;margin-bottom: 0.5em;}#sk-container-id-3 div.sk-estimator:hover {background-color: #d4ebff;}#sk-container-id-3 div.sk-parallel-item::after {content: \"\";width: 100%;border-bottom: 1px solid gray;flex-grow: 1;}#sk-container-id-3 div.sk-label:hover label.sk-toggleable__label {background-color: #d4ebff;}#sk-container-id-3 div.sk-serial::before {content: \"\";position: absolute;border-left: 1px solid gray;box-sizing: border-box;top: 0;bottom: 0;left: 50%;z-index: 0;}#sk-container-id-3 div.sk-serial {display: flex;flex-direction: column;align-items: center;background-color: white;padding-right: 0.2em;padding-left: 0.2em;position: relative;}#sk-container-id-3 div.sk-item {position: relative;z-index: 1;}#sk-container-id-3 div.sk-parallel {display: flex;align-items: stretch;justify-content: center;background-color: white;position: relative;}#sk-container-id-3 div.sk-item::before, #sk-container-id-3 div.sk-parallel-item::before {content: \"\";position: absolute;border-left: 1px solid gray;box-sizing: border-box;top: 0;bottom: 0;left: 50%;z-index: -1;}#sk-container-id-3 div.sk-parallel-item {display: flex;flex-direction: column;z-index: 1;position: relative;background-color: white;}#sk-container-id-3 div.sk-parallel-item:first-child::after {align-self: flex-end;width: 50%;}#sk-container-id-3 div.sk-parallel-item:last-child::after {align-self: flex-start;width: 50%;}#sk-container-id-3 div.sk-parallel-item:only-child::after {width: 0;}#sk-container-id-3 div.sk-dashed-wrapped {border: 1px dashed gray;margin: 0 0.4em 0.5em 0.4em;box-sizing: border-box;padding-bottom: 0.4em;background-color: white;}#sk-container-id-3 div.sk-label label {font-family: monospace;font-weight: bold;display: inline-block;line-height: 1.2em;}#sk-container-id-3 div.sk-label-container {text-align: center;}#sk-container-id-3 div.sk-container {/* jupyter's `normalize.less` sets `[hidden] { display: none; }` but bootstrap.min.css set `[hidden] { display: none !important; }` so we also need the `!important` here to be able to override the default hidden behavior on the sphinx rendered scikit-learn.org. See: https://github.com/scikit-learn/scikit-learn/issues/21755 */display: inline-block !important;position: relative;}#sk-container-id-3 div.sk-text-repr-fallback {display: none;}</style><div id=\"sk-container-id-3\" class=\"sk-top-container\"><div class=\"sk-text-repr-fallback\"><pre>GridSearchCV(estimator=DecisionTreeClassifier(criterion=&#x27;entropy&#x27;),\n             param_grid={&#x27;max_depth&#x27;: [10],\n                         &#x27;min_samples_split&#x27;: [250, 275, 300]},\n             return_train_score=True, verbose=3)</pre><b>In a Jupyter environment, please rerun this cell to show the HTML representation or trust the notebook. <br />On GitHub, the HTML representation is unable to render, please try loading this page with nbviewer.org.</b></div><div class=\"sk-container\" hidden><div class=\"sk-item sk-dashed-wrapped\"><div class=\"sk-label-container\"><div class=\"sk-label sk-toggleable\"><input class=\"sk-toggleable__control sk-hidden--visually\" id=\"sk-estimator-id-7\" type=\"checkbox\" ><label for=\"sk-estimator-id-7\" class=\"sk-toggleable__label sk-toggleable__label-arrow\">GridSearchCV</label><div class=\"sk-toggleable__content\"><pre>GridSearchCV(estimator=DecisionTreeClassifier(criterion=&#x27;entropy&#x27;),\n             param_grid={&#x27;max_depth&#x27;: [10],\n                         &#x27;min_samples_split&#x27;: [250, 275, 300]},\n             return_train_score=True, verbose=3)</pre></div></div></div><div class=\"sk-parallel\"><div class=\"sk-parallel-item\"><div class=\"sk-item\"><div class=\"sk-label-container\"><div class=\"sk-label sk-toggleable\"><input class=\"sk-toggleable__control sk-hidden--visually\" id=\"sk-estimator-id-8\" type=\"checkbox\" ><label for=\"sk-estimator-id-8\" class=\"sk-toggleable__label sk-toggleable__label-arrow\">estimator: DecisionTreeClassifier</label><div class=\"sk-toggleable__content\"><pre>DecisionTreeClassifier(criterion=&#x27;entropy&#x27;)</pre></div></div></div><div class=\"sk-serial\"><div class=\"sk-item\"><div class=\"sk-estimator sk-toggleable\"><input class=\"sk-toggleable__control sk-hidden--visually\" id=\"sk-estimator-id-9\" type=\"checkbox\" ><label for=\"sk-estimator-id-9\" class=\"sk-toggleable__label sk-toggleable__label-arrow\">DecisionTreeClassifier</label><div class=\"sk-toggleable__content\"><pre>DecisionTreeClassifier(criterion=&#x27;entropy&#x27;)</pre></div></div></div></div></div></div></div></div></div></div>"
     },
     "execution_count": 8,
     "metadata": {},
     "output_type": "execute_result"
    }
   ],
   "source": [
    "# First we perform a grid search to look for the best hiperparamers for the model\n",
    "model = DecisionTreeClassifier(criterion=\"entropy\")\n",
    "\n",
    "# first search - Best result: max_depth=10 min_samples_split=200\n",
    "# first search - Best result: max_depth=10 min_samples_split=250\n",
    "params_for_search = {\n",
    "    # 1. [5, 10, 20, 30],\n",
    "    # 2. [8, 9, 10, 11, 12]\n",
    "    # 3. [10]\n",
    "    \"max_depth\": [10],\n",
    "    # 1. [100, 150, 200],\n",
    "    # 2. [200, 250]\n",
    "    # 3. [250, 275, 300]\n",
    "    \"min_samples_split\": [250, 275, 300]\n",
    "}\n",
    "\n",
    "grid_search = GridSearchCV(model, params_for_search, return_train_score=True, verbose=3)\n",
    "grid_search.fit(X_train, y_train)"
   ],
   "metadata": {
    "collapsed": false,
    "ExecuteTime": {
     "end_time": "2024-06-18T13:40:43.919713Z",
     "start_time": "2024-06-18T13:38:36.223209Z"
    }
   },
   "id": "fab74cc90ec7a861",
   "execution_count": 8
  },
  {
   "cell_type": "code",
   "outputs": [
    {
     "data": {
      "text/plain": "                                        params  mean_test_score\n2  {'max_depth': 10, 'min_samples_split': 300}         0.881662\n1  {'max_depth': 10, 'min_samples_split': 275}         0.881517\n0  {'max_depth': 10, 'min_samples_split': 250}         0.881434",
      "text/html": "<div>\n<style scoped>\n    .dataframe tbody tr th:only-of-type {\n        vertical-align: middle;\n    }\n\n    .dataframe tbody tr th {\n        vertical-align: top;\n    }\n\n    .dataframe thead th {\n        text-align: right;\n    }\n</style>\n<table border=\"1\" class=\"dataframe\">\n  <thead>\n    <tr style=\"text-align: right;\">\n      <th></th>\n      <th>params</th>\n      <th>mean_test_score</th>\n    </tr>\n  </thead>\n  <tbody>\n    <tr>\n      <th>2</th>\n      <td>{'max_depth': 10, 'min_samples_split': 300}</td>\n      <td>0.881662</td>\n    </tr>\n    <tr>\n      <th>1</th>\n      <td>{'max_depth': 10, 'min_samples_split': 275}</td>\n      <td>0.881517</td>\n    </tr>\n    <tr>\n      <th>0</th>\n      <td>{'max_depth': 10, 'min_samples_split': 250}</td>\n      <td>0.881434</td>\n    </tr>\n  </tbody>\n</table>\n</div>"
     },
     "execution_count": 9,
     "metadata": {},
     "output_type": "execute_result"
    }
   ],
   "source": [
    "pd.DataFrame(grid_search.cv_results_)[['params', 'mean_test_score']].sort_values(by=['mean_test_score'], ascending=False)"
   ],
   "metadata": {
    "collapsed": false,
    "ExecuteTime": {
     "end_time": "2024-06-18T13:40:43.925500Z",
     "start_time": "2024-06-18T13:40:43.920549Z"
    }
   },
   "id": "6303e050ff4ae7fd",
   "execution_count": 9
  },
  {
   "cell_type": "markdown",
   "source": [
    "###### Trainning the best tree (not needed, but good to train over the entire dataset and check it in the validation set)"
   ],
   "metadata": {
    "collapsed": false
   },
   "id": "a5dfc85f942d66b7"
  },
  {
   "cell_type": "code",
   "outputs": [
    {
     "data": {
      "text/plain": "DecisionTreeClassifier(criterion='entropy', max_depth=10, min_samples_split=300)",
      "text/html": "<style>#sk-container-id-4 {color: black;}#sk-container-id-4 pre{padding: 0;}#sk-container-id-4 div.sk-toggleable {background-color: white;}#sk-container-id-4 label.sk-toggleable__label {cursor: pointer;display: block;width: 100%;margin-bottom: 0;padding: 0.3em;box-sizing: border-box;text-align: center;}#sk-container-id-4 label.sk-toggleable__label-arrow:before {content: \"▸\";float: left;margin-right: 0.25em;color: #696969;}#sk-container-id-4 label.sk-toggleable__label-arrow:hover:before {color: black;}#sk-container-id-4 div.sk-estimator:hover label.sk-toggleable__label-arrow:before {color: black;}#sk-container-id-4 div.sk-toggleable__content {max-height: 0;max-width: 0;overflow: hidden;text-align: left;background-color: #f0f8ff;}#sk-container-id-4 div.sk-toggleable__content pre {margin: 0.2em;color: black;border-radius: 0.25em;background-color: #f0f8ff;}#sk-container-id-4 input.sk-toggleable__control:checked~div.sk-toggleable__content {max-height: 200px;max-width: 100%;overflow: auto;}#sk-container-id-4 input.sk-toggleable__control:checked~label.sk-toggleable__label-arrow:before {content: \"▾\";}#sk-container-id-4 div.sk-estimator input.sk-toggleable__control:checked~label.sk-toggleable__label {background-color: #d4ebff;}#sk-container-id-4 div.sk-label input.sk-toggleable__control:checked~label.sk-toggleable__label {background-color: #d4ebff;}#sk-container-id-4 input.sk-hidden--visually {border: 0;clip: rect(1px 1px 1px 1px);clip: rect(1px, 1px, 1px, 1px);height: 1px;margin: -1px;overflow: hidden;padding: 0;position: absolute;width: 1px;}#sk-container-id-4 div.sk-estimator {font-family: monospace;background-color: #f0f8ff;border: 1px dotted black;border-radius: 0.25em;box-sizing: border-box;margin-bottom: 0.5em;}#sk-container-id-4 div.sk-estimator:hover {background-color: #d4ebff;}#sk-container-id-4 div.sk-parallel-item::after {content: \"\";width: 100%;border-bottom: 1px solid gray;flex-grow: 1;}#sk-container-id-4 div.sk-label:hover label.sk-toggleable__label {background-color: #d4ebff;}#sk-container-id-4 div.sk-serial::before {content: \"\";position: absolute;border-left: 1px solid gray;box-sizing: border-box;top: 0;bottom: 0;left: 50%;z-index: 0;}#sk-container-id-4 div.sk-serial {display: flex;flex-direction: column;align-items: center;background-color: white;padding-right: 0.2em;padding-left: 0.2em;position: relative;}#sk-container-id-4 div.sk-item {position: relative;z-index: 1;}#sk-container-id-4 div.sk-parallel {display: flex;align-items: stretch;justify-content: center;background-color: white;position: relative;}#sk-container-id-4 div.sk-item::before, #sk-container-id-4 div.sk-parallel-item::before {content: \"\";position: absolute;border-left: 1px solid gray;box-sizing: border-box;top: 0;bottom: 0;left: 50%;z-index: -1;}#sk-container-id-4 div.sk-parallel-item {display: flex;flex-direction: column;z-index: 1;position: relative;background-color: white;}#sk-container-id-4 div.sk-parallel-item:first-child::after {align-self: flex-end;width: 50%;}#sk-container-id-4 div.sk-parallel-item:last-child::after {align-self: flex-start;width: 50%;}#sk-container-id-4 div.sk-parallel-item:only-child::after {width: 0;}#sk-container-id-4 div.sk-dashed-wrapped {border: 1px dashed gray;margin: 0 0.4em 0.5em 0.4em;box-sizing: border-box;padding-bottom: 0.4em;background-color: white;}#sk-container-id-4 div.sk-label label {font-family: monospace;font-weight: bold;display: inline-block;line-height: 1.2em;}#sk-container-id-4 div.sk-label-container {text-align: center;}#sk-container-id-4 div.sk-container {/* jupyter's `normalize.less` sets `[hidden] { display: none; }` but bootstrap.min.css set `[hidden] { display: none !important; }` so we also need the `!important` here to be able to override the default hidden behavior on the sphinx rendered scikit-learn.org. See: https://github.com/scikit-learn/scikit-learn/issues/21755 */display: inline-block !important;position: relative;}#sk-container-id-4 div.sk-text-repr-fallback {display: none;}</style><div id=\"sk-container-id-4\" class=\"sk-top-container\"><div class=\"sk-text-repr-fallback\"><pre>DecisionTreeClassifier(criterion=&#x27;entropy&#x27;, max_depth=10, min_samples_split=300)</pre><b>In a Jupyter environment, please rerun this cell to show the HTML representation or trust the notebook. <br />On GitHub, the HTML representation is unable to render, please try loading this page with nbviewer.org.</b></div><div class=\"sk-container\" hidden><div class=\"sk-item\"><div class=\"sk-estimator sk-toggleable\"><input class=\"sk-toggleable__control sk-hidden--visually\" id=\"sk-estimator-id-10\" type=\"checkbox\" checked><label for=\"sk-estimator-id-10\" class=\"sk-toggleable__label sk-toggleable__label-arrow\">DecisionTreeClassifier</label><div class=\"sk-toggleable__content\"><pre>DecisionTreeClassifier(criterion=&#x27;entropy&#x27;, max_depth=10, min_samples_split=300)</pre></div></div></div></div></div>"
     },
     "execution_count": 10,
     "metadata": {},
     "output_type": "execute_result"
    }
   ],
   "source": [
    "# trainning a tree with max_depth equal to 9 and min_samples_split equal to 250\n",
    "tree = DecisionTreeClassifier(criterion=\"entropy\", max_depth=10, min_samples_split=300)\n",
    "tree.fit(X_train, y_train)"
   ],
   "metadata": {
    "collapsed": false,
    "ExecuteTime": {
     "end_time": "2024-06-18T13:41:46.217976Z",
     "start_time": "2024-06-18T13:41:36.245839Z"
    }
   },
   "id": "e368192e81708360",
   "execution_count": 10
  },
  {
   "cell_type": "code",
   "outputs": [
    {
     "data": {
      "text/plain": "array([2.47643165e-02, 8.37911198e-01, 5.10424833e-03, 1.03379448e-02,\n       5.48807433e-03, 5.16139100e-03, 1.16373835e-03, 7.81561906e-04,\n       3.26149140e-04, 5.80214962e-04, 1.05630393e-04, 2.42634911e-04,\n       8.30865678e-02, 1.63025946e-03, 8.82198002e-04, 5.29708377e-03,\n       1.32153038e-03, 1.93631511e-04, 5.17278910e-04, 5.14277386e-04,\n       1.13716600e-03, 4.05241849e-04, 1.47216450e-04, 4.29368716e-05,\n       8.27615203e-05, 1.29966175e-04, 4.42616304e-05, 3.22612022e-04,\n       5.68642793e-04, 3.91636681e-04, 3.23238492e-05, 6.77734644e-05,\n       4.65805514e-04, 1.22199923e-04, 2.88346731e-03, 4.19741318e-03,\n       1.54442591e-04, 0.00000000e+00, 6.87848528e-05, 0.00000000e+00,\n       0.00000000e+00, 1.18811310e-04, 0.00000000e+00, 1.13748351e-04,\n       6.74881835e-05, 8.06355403e-04, 0.00000000e+00, 4.17557048e-04,\n       1.15688933e-03, 6.23719236e-04, 0.00000000e+00, 2.08480854e-05,\n       0.00000000e+00, 0.00000000e+00])"
     },
     "execution_count": 11,
     "metadata": {},
     "output_type": "execute_result"
    }
   ],
   "source": [
    "tree.feature_importances_"
   ],
   "metadata": {
    "collapsed": false,
    "ExecuteTime": {
     "end_time": "2024-06-18T13:41:53.868951Z",
     "start_time": "2024-06-18T13:41:53.864774Z"
    }
   },
   "id": "91e3ca4bbe7c338e",
   "execution_count": 11
  },
  {
   "cell_type": "markdown",
   "source": [
    "#### Some quick checks"
   ],
   "metadata": {
    "collapsed": false
   },
   "id": "6294cd0cd6fafea0"
  },
  {
   "cell_type": "code",
   "outputs": [
    {
     "name": "stdout",
     "output_type": "stream",
     "text": [
      "Recall: 0.9101\n",
      "Precision: 0.8640\n",
      "Confusion Matrix:\n",
      "[[18932  3250]\n",
      " [ 2040 20648]]\n"
     ]
    }
   ],
   "source": [
    "y_val_predict = tree.predict(X_val)\n",
    "utilities.display_metrics(y_val, y_val_predict)"
   ],
   "metadata": {
    "collapsed": false,
    "ExecuteTime": {
     "end_time": "2024-06-18T13:42:30.309487Z",
     "start_time": "2024-06-18T13:42:30.247471Z"
    }
   },
   "id": "fd04ee7c937c4280",
   "execution_count": 12
  },
  {
   "cell_type": "code",
   "outputs": [
    {
     "data": {
      "text/plain": "<Figure size 640x480 with 1 Axes>",
      "image/png": "[encoded data removed]"
     },
     "metadata": {},
     "output_type": "display_data"
    },
    {
     "name": "stdout",
     "output_type": "stream",
     "text": [
      "AUC: 0.9501\n"
     ]
    }
   ],
   "source": [
    "# roc curve on the validation set\n",
    "y_score = tree.predict_proba(X_val)\n",
    "utilities.display_roc_curve(y_val, y_score[:, 1])"
   ],
   "metadata": {
    "collapsed": false,
    "ExecuteTime": {
     "end_time": "2024-06-18T13:42:40.177587Z",
     "start_time": "2024-06-18T13:42:40.101328Z"
    }
   },
   "id": "7ce9977f663926f4",
   "execution_count": 13
  },
  {
   "cell_type": "markdown",
   "source": [
    "#### Saving the Model"
   ],
   "metadata": {
    "collapsed": false
   },
   "id": "a7a7af47c3d8270e"
  },
  {
   "cell_type": "code",
   "outputs": [],
   "source": [
    "with open(\"Top_Tagging_DT.joblib\", \"wb\") as fo:\n",
    "    joblib.dump(tree, fo)"
   ],
   "metadata": {
    "collapsed": false,
    "ExecuteTime": {
     "end_time": "2024-06-18T13:43:22.412509Z",
     "start_time": "2024-06-18T13:43:22.408064Z"
    }
   },
   "id": "30adaff875aaf30",
   "execution_count": 14
  }
 ],
 "metadata": {
  "kernelspec": {
   "display_name": "Python 3",
   "language": "python",
   "name": "python3"
  },
  "language_info": {
   "codemirror_mode": {
    "name": "ipython",
    "version": 2
   },
   "file_extension": ".py",
   "mimetype": "text/x-python",
   "name": "python",
   "nbconvert_exporter": "python",
   "pygments_lexer": "ipython2",
   "version": "2.7.6"
  }
 },
 "nbformat": 4,
 "nbformat_minor": 5
}
