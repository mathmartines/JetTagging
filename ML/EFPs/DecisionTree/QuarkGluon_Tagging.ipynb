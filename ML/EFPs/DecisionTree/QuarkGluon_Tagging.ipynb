{
 "cells": [
  {
   "cell_type": "code",
   "execution_count": 9,
   "id": "initial_id",
   "metadata": {
    "collapsed": true,
    "ExecuteTime": {
     "end_time": "2024-06-18T12:49:37.219256Z",
     "start_time": "2024-06-18T12:49:37.216116Z"
    }
   },
   "outputs": [],
   "source": [
    "from ML.EFPs.data_loaders import load_data_qg_tagging\n",
    "from sklearn.tree import DecisionTreeClassifier\n",
    "from sklearn.model_selection import GridSearchCV\n",
    "import pandas as pd\n",
    "import joblib\n",
    "import utilities.utilities as utilities"
   ]
  },
  {
   "cell_type": "markdown",
   "source": [
    "#### Loading the Dataset"
   ],
   "metadata": {
    "collapsed": false
   },
   "id": "c48f56dbb9ec291a"
  },
  {
   "cell_type": "code",
   "outputs": [],
   "source": [
    "root_data_folder = \"../../../Data\"\n",
    "X_train, y_train = load_data_qg_tagging(\n",
    "    quark_data_path=f\"{root_data_folder}/Trainning/q_jets_efps_d5_primed.npy\", \n",
    "    gluon_data_path=f\"{root_data_folder}/Trainning/g_jets_efps_d5_primed.npy\"\n",
    ")\n",
    "X_val, y_val = load_data_qg_tagging(\n",
    "    quark_data_path=f\"{root_data_folder}/Validation/q_jets_efps_d5_primed.npy\", \n",
    "    gluon_data_path=f\"{root_data_folder}/Validation/g_jets_efps_d5_primed.npy\"\n",
    ")"
   ],
   "metadata": {
    "collapsed": false,
    "ExecuteTime": {
     "end_time": "2024-06-18T12:49:38.976254Z",
     "start_time": "2024-06-18T12:49:38.894613Z"
    }
   },
   "id": "f6f4a601fb0142e1",
   "execution_count": 10
  },
  {
   "cell_type": "markdown",
   "source": [
    "#### Creating the Decision Tree"
   ],
   "metadata": {
    "collapsed": false
   },
   "id": "4943c1644bab0506"
  },
  {
   "cell_type": "markdown",
   "source": [
    "###### Grid Search to find the best hyperparameters"
   ],
   "metadata": {
    "collapsed": false
   },
   "id": "356e3c9c5ab1c3ae"
  },
  {
   "cell_type": "code",
   "outputs": [
    {
     "name": "stdout",
     "output_type": "stream",
     "text": [
      "Fitting 5 folds for each of 3 candidates, totalling 15 fits\n",
      "[CV 1/5] END max_depth=9, min_samples_split=200;, score=(train=0.792, test=0.789) total time=   6.8s\n",
      "[CV 2/5] END max_depth=9, min_samples_split=200;, score=(train=0.793, test=0.782) total time=   6.9s\n",
      "[CV 3/5] END max_depth=9, min_samples_split=200;, score=(train=0.793, test=0.786) total time=   6.9s\n",
      "[CV 4/5] END max_depth=9, min_samples_split=200;, score=(train=0.793, test=0.787) total time=   7.1s\n",
      "[CV 5/5] END max_depth=9, min_samples_split=200;, score=(train=0.793, test=0.787) total time=   6.9s\n",
      "[CV 1/5] END max_depth=9, min_samples_split=250;, score=(train=0.792, test=0.789) total time=   6.9s\n",
      "[CV 2/5] END max_depth=9, min_samples_split=250;, score=(train=0.793, test=0.782) total time=   6.9s\n",
      "[CV 3/5] END max_depth=9, min_samples_split=250;, score=(train=0.793, test=0.786) total time=   7.0s\n",
      "[CV 4/5] END max_depth=9, min_samples_split=250;, score=(train=0.793, test=0.787) total time=   7.0s\n",
      "[CV 5/5] END max_depth=9, min_samples_split=250;, score=(train=0.793, test=0.787) total time=   7.1s\n",
      "[CV 1/5] END max_depth=9, min_samples_split=300;, score=(train=0.792, test=0.789) total time=   6.9s\n",
      "[CV 2/5] END max_depth=9, min_samples_split=300;, score=(train=0.793, test=0.782) total time=   7.1s\n",
      "[CV 3/5] END max_depth=9, min_samples_split=300;, score=(train=0.793, test=0.786) total time=   7.1s\n",
      "[CV 4/5] END max_depth=9, min_samples_split=300;, score=(train=0.793, test=0.787) total time=   7.1s\n",
      "[CV 5/5] END max_depth=9, min_samples_split=300;, score=(train=0.793, test=0.786) total time=   7.1s\n"
     ]
    },
    {
     "data": {
      "text/plain": "GridSearchCV(estimator=DecisionTreeClassifier(criterion='entropy'),\n             param_grid={'max_depth': [9],\n                         'min_samples_split': [200, 250, 300]},\n             return_train_score=True, verbose=3)",
      "text/html": "<style>#sk-container-id-2 {color: black;}#sk-container-id-2 pre{padding: 0;}#sk-container-id-2 div.sk-toggleable {background-color: white;}#sk-container-id-2 label.sk-toggleable__label {cursor: pointer;display: block;width: 100%;margin-bottom: 0;padding: 0.3em;box-sizing: border-box;text-align: center;}#sk-container-id-2 label.sk-toggleable__label-arrow:before {content: \"▸\";float: left;margin-right: 0.25em;color: #696969;}#sk-container-id-2 label.sk-toggleable__label-arrow:hover:before {color: black;}#sk-container-id-2 div.sk-estimator:hover label.sk-toggleable__label-arrow:before {color: black;}#sk-container-id-2 div.sk-toggleable__content {max-height: 0;max-width: 0;overflow: hidden;text-align: left;background-color: #f0f8ff;}#sk-container-id-2 div.sk-toggleable__content pre {margin: 0.2em;color: black;border-radius: 0.25em;background-color: #f0f8ff;}#sk-container-id-2 input.sk-toggleable__control:checked~div.sk-toggleable__content {max-height: 200px;max-width: 100%;overflow: auto;}#sk-container-id-2 input.sk-toggleable__control:checked~label.sk-toggleable__label-arrow:before {content: \"▾\";}#sk-container-id-2 div.sk-estimator input.sk-toggleable__control:checked~label.sk-toggleable__label {background-color: #d4ebff;}#sk-container-id-2 div.sk-label input.sk-toggleable__control:checked~label.sk-toggleable__label {background-color: #d4ebff;}#sk-container-id-2 input.sk-hidden--visually {border: 0;clip: rect(1px 1px 1px 1px);clip: rect(1px, 1px, 1px, 1px);height: 1px;margin: -1px;overflow: hidden;padding: 0;position: absolute;width: 1px;}#sk-container-id-2 div.sk-estimator {font-family: monospace;background-color: #f0f8ff;border: 1px dotted black;border-radius: 0.25em;box-sizing: border-box;margin-bottom: 0.5em;}#sk-container-id-2 div.sk-estimator:hover {background-color: #d4ebff;}#sk-container-id-2 div.sk-parallel-item::after {content: \"\";width: 100%;border-bottom: 1px solid gray;flex-grow: 1;}#sk-container-id-2 div.sk-label:hover label.sk-toggleable__label {background-color: #d4ebff;}#sk-container-id-2 div.sk-serial::before {content: \"\";position: absolute;border-left: 1px solid gray;box-sizing: border-box;top: 0;bottom: 0;left: 50%;z-index: 0;}#sk-container-id-2 div.sk-serial {display: flex;flex-direction: column;align-items: center;background-color: white;padding-right: 0.2em;padding-left: 0.2em;position: relative;}#sk-container-id-2 div.sk-item {position: relative;z-index: 1;}#sk-container-id-2 div.sk-parallel {display: flex;align-items: stretch;justify-content: center;background-color: white;position: relative;}#sk-container-id-2 div.sk-item::before, #sk-container-id-2 div.sk-parallel-item::before {content: \"\";position: absolute;border-left: 1px solid gray;box-sizing: border-box;top: 0;bottom: 0;left: 50%;z-index: -1;}#sk-container-id-2 div.sk-parallel-item {display: flex;flex-direction: column;z-index: 1;position: relative;background-color: white;}#sk-container-id-2 div.sk-parallel-item:first-child::after {align-self: flex-end;width: 50%;}#sk-container-id-2 div.sk-parallel-item:last-child::after {align-self: flex-start;width: 50%;}#sk-container-id-2 div.sk-parallel-item:only-child::after {width: 0;}#sk-container-id-2 div.sk-dashed-wrapped {border: 1px dashed gray;margin: 0 0.4em 0.5em 0.4em;box-sizing: border-box;padding-bottom: 0.4em;background-color: white;}#sk-container-id-2 div.sk-label label {font-family: monospace;font-weight: bold;display: inline-block;line-height: 1.2em;}#sk-container-id-2 div.sk-label-container {text-align: center;}#sk-container-id-2 div.sk-container {/* jupyter's `normalize.less` sets `[hidden] { display: none; }` but bootstrap.min.css set `[hidden] { display: none !important; }` so we also need the `!important` here to be able to override the default hidden behavior on the sphinx rendered scikit-learn.org. See: https://github.com/scikit-learn/scikit-learn/issues/21755 */display: inline-block !important;position: relative;}#sk-container-id-2 div.sk-text-repr-fallback {display: none;}</style><div id=\"sk-container-id-2\" class=\"sk-top-container\"><div class=\"sk-text-repr-fallback\"><pre>GridSearchCV(estimator=DecisionTreeClassifier(criterion=&#x27;entropy&#x27;),\n             param_grid={&#x27;max_depth&#x27;: [9],\n                         &#x27;min_samples_split&#x27;: [200, 250, 300]},\n             return_train_score=True, verbose=3)</pre><b>In a Jupyter environment, please rerun this cell to show the HTML representation or trust the notebook. <br />On GitHub, the HTML representation is unable to render, please try loading this page with nbviewer.org.</b></div><div class=\"sk-container\" hidden><div class=\"sk-item sk-dashed-wrapped\"><div class=\"sk-label-container\"><div class=\"sk-label sk-toggleable\"><input class=\"sk-toggleable__control sk-hidden--visually\" id=\"sk-estimator-id-2\" type=\"checkbox\" ><label for=\"sk-estimator-id-2\" class=\"sk-toggleable__label sk-toggleable__label-arrow\">GridSearchCV</label><div class=\"sk-toggleable__content\"><pre>GridSearchCV(estimator=DecisionTreeClassifier(criterion=&#x27;entropy&#x27;),\n             param_grid={&#x27;max_depth&#x27;: [9],\n                         &#x27;min_samples_split&#x27;: [200, 250, 300]},\n             return_train_score=True, verbose=3)</pre></div></div></div><div class=\"sk-parallel\"><div class=\"sk-parallel-item\"><div class=\"sk-item\"><div class=\"sk-label-container\"><div class=\"sk-label sk-toggleable\"><input class=\"sk-toggleable__control sk-hidden--visually\" id=\"sk-estimator-id-3\" type=\"checkbox\" ><label for=\"sk-estimator-id-3\" class=\"sk-toggleable__label sk-toggleable__label-arrow\">estimator: DecisionTreeClassifier</label><div class=\"sk-toggleable__content\"><pre>DecisionTreeClassifier(criterion=&#x27;entropy&#x27;)</pre></div></div></div><div class=\"sk-serial\"><div class=\"sk-item\"><div class=\"sk-estimator sk-toggleable\"><input class=\"sk-toggleable__control sk-hidden--visually\" id=\"sk-estimator-id-4\" type=\"checkbox\" ><label for=\"sk-estimator-id-4\" class=\"sk-toggleable__label sk-toggleable__label-arrow\">DecisionTreeClassifier</label><div class=\"sk-toggleable__content\"><pre>DecisionTreeClassifier(criterion=&#x27;entropy&#x27;)</pre></div></div></div></div></div></div></div></div></div></div>"
     },
     "execution_count": 11,
     "metadata": {},
     "output_type": "execute_result"
    }
   ],
   "source": [
    "# First we perform a grid search to look for the best hiperparamers for the model\n",
    "model = DecisionTreeClassifier(criterion=\"entropy\")\n",
    "\n",
    "# first search - Best result: max_depth=10 min_samples_split=100\n",
    "# second search - Best result: max_depth=10 min_samples_split=200\n",
    "# third search - Best result: max_depth=9 min_samples_split=200\n",
    "# fourth search - Best result: max_depth=9 min_samples_split=250\n",
    "params_for_search = {\n",
    "    # 1. [10, 20, 30, 40],\n",
    "    # 2. [5, 10, 15],\n",
    "    # 3. [8, 9, 10, 11, 12]\n",
    "    # 4. [9]\n",
    "    \"max_depth\": [9],\n",
    "    # 1. [10, 20, 30, 40, 50, 100],\n",
    "    # 2. [100, 125, 150, 200],\n",
    "    # 3. [200]\n",
    "    # 4. [200, 250, 300]\n",
    "    \"min_samples_split\": [200, 250, 300]\n",
    "}\n",
    "\n",
    "grid_search = GridSearchCV(model, params_for_search, return_train_score=True, verbose=3)\n",
    "grid_search.fit(X_train, y_train)"
   ],
   "metadata": {
    "collapsed": false,
    "ExecuteTime": {
     "end_time": "2024-06-18T12:51:43.643260Z",
     "start_time": "2024-06-18T12:49:49.119021Z"
    }
   },
   "id": "8ea5477d8217a405",
   "execution_count": 11
  },
  {
   "cell_type": "code",
   "outputs": [
    {
     "data": {
      "text/plain": "                                       params  mean_test_score\n2  {'max_depth': 9, 'min_samples_split': 300}         0.786287\n1  {'max_depth': 9, 'min_samples_split': 250}         0.786283\n0  {'max_depth': 9, 'min_samples_split': 200}         0.786187",
      "text/html": "<div>\n<style scoped>\n    .dataframe tbody tr th:only-of-type {\n        vertical-align: middle;\n    }\n\n    .dataframe tbody tr th {\n        vertical-align: top;\n    }\n\n    .dataframe thead th {\n        text-align: right;\n    }\n</style>\n<table border=\"1\" class=\"dataframe\">\n  <thead>\n    <tr style=\"text-align: right;\">\n      <th></th>\n      <th>params</th>\n      <th>mean_test_score</th>\n    </tr>\n  </thead>\n  <tbody>\n    <tr>\n      <th>2</th>\n      <td>{'max_depth': 9, 'min_samples_split': 300}</td>\n      <td>0.786287</td>\n    </tr>\n    <tr>\n      <th>1</th>\n      <td>{'max_depth': 9, 'min_samples_split': 250}</td>\n      <td>0.786283</td>\n    </tr>\n    <tr>\n      <th>0</th>\n      <td>{'max_depth': 9, 'min_samples_split': 200}</td>\n      <td>0.786187</td>\n    </tr>\n  </tbody>\n</table>\n</div>"
     },
     "execution_count": 12,
     "metadata": {},
     "output_type": "execute_result"
    }
   ],
   "source": [
    "pd.DataFrame(grid_search.cv_results_)[['params', 'mean_test_score']].sort_values(by=['mean_test_score'], ascending=False)"
   ],
   "metadata": {
    "collapsed": false,
    "ExecuteTime": {
     "end_time": "2024-06-18T12:51:43.654242Z",
     "start_time": "2024-06-18T12:51:43.644313Z"
    }
   },
   "id": "53d66a9662771fa7",
   "execution_count": 12
  },
  {
   "cell_type": "markdown",
   "source": [
    "###### Trainning the best tree (not needed, but good to train over the entire dataset and check it in the validation set)"
   ],
   "metadata": {
    "collapsed": false
   },
   "id": "ca2ea77496194637"
  },
  {
   "cell_type": "code",
   "outputs": [
    {
     "data": {
      "text/plain": "DecisionTreeClassifier(criterion='entropy', max_depth=9, min_samples_split=250)",
      "text/html": "<style>#sk-container-id-6 {color: black;}#sk-container-id-6 pre{padding: 0;}#sk-container-id-6 div.sk-toggleable {background-color: white;}#sk-container-id-6 label.sk-toggleable__label {cursor: pointer;display: block;width: 100%;margin-bottom: 0;padding: 0.3em;box-sizing: border-box;text-align: center;}#sk-container-id-6 label.sk-toggleable__label-arrow:before {content: \"▸\";float: left;margin-right: 0.25em;color: #696969;}#sk-container-id-6 label.sk-toggleable__label-arrow:hover:before {color: black;}#sk-container-id-6 div.sk-estimator:hover label.sk-toggleable__label-arrow:before {color: black;}#sk-container-id-6 div.sk-toggleable__content {max-height: 0;max-width: 0;overflow: hidden;text-align: left;background-color: #f0f8ff;}#sk-container-id-6 div.sk-toggleable__content pre {margin: 0.2em;color: black;border-radius: 0.25em;background-color: #f0f8ff;}#sk-container-id-6 input.sk-toggleable__control:checked~div.sk-toggleable__content {max-height: 200px;max-width: 100%;overflow: auto;}#sk-container-id-6 input.sk-toggleable__control:checked~label.sk-toggleable__label-arrow:before {content: \"▾\";}#sk-container-id-6 div.sk-estimator input.sk-toggleable__control:checked~label.sk-toggleable__label {background-color: #d4ebff;}#sk-container-id-6 div.sk-label input.sk-toggleable__control:checked~label.sk-toggleable__label {background-color: #d4ebff;}#sk-container-id-6 input.sk-hidden--visually {border: 0;clip: rect(1px 1px 1px 1px);clip: rect(1px, 1px, 1px, 1px);height: 1px;margin: -1px;overflow: hidden;padding: 0;position: absolute;width: 1px;}#sk-container-id-6 div.sk-estimator {font-family: monospace;background-color: #f0f8ff;border: 1px dotted black;border-radius: 0.25em;box-sizing: border-box;margin-bottom: 0.5em;}#sk-container-id-6 div.sk-estimator:hover {background-color: #d4ebff;}#sk-container-id-6 div.sk-parallel-item::after {content: \"\";width: 100%;border-bottom: 1px solid gray;flex-grow: 1;}#sk-container-id-6 div.sk-label:hover label.sk-toggleable__label {background-color: #d4ebff;}#sk-container-id-6 div.sk-serial::before {content: \"\";position: absolute;border-left: 1px solid gray;box-sizing: border-box;top: 0;bottom: 0;left: 50%;z-index: 0;}#sk-container-id-6 div.sk-serial {display: flex;flex-direction: column;align-items: center;background-color: white;padding-right: 0.2em;padding-left: 0.2em;position: relative;}#sk-container-id-6 div.sk-item {position: relative;z-index: 1;}#sk-container-id-6 div.sk-parallel {display: flex;align-items: stretch;justify-content: center;background-color: white;position: relative;}#sk-container-id-6 div.sk-item::before, #sk-container-id-6 div.sk-parallel-item::before {content: \"\";position: absolute;border-left: 1px solid gray;box-sizing: border-box;top: 0;bottom: 0;left: 50%;z-index: -1;}#sk-container-id-6 div.sk-parallel-item {display: flex;flex-direction: column;z-index: 1;position: relative;background-color: white;}#sk-container-id-6 div.sk-parallel-item:first-child::after {align-self: flex-end;width: 50%;}#sk-container-id-6 div.sk-parallel-item:last-child::after {align-self: flex-start;width: 50%;}#sk-container-id-6 div.sk-parallel-item:only-child::after {width: 0;}#sk-container-id-6 div.sk-dashed-wrapped {border: 1px dashed gray;margin: 0 0.4em 0.5em 0.4em;box-sizing: border-box;padding-bottom: 0.4em;background-color: white;}#sk-container-id-6 div.sk-label label {font-family: monospace;font-weight: bold;display: inline-block;line-height: 1.2em;}#sk-container-id-6 div.sk-label-container {text-align: center;}#sk-container-id-6 div.sk-container {/* jupyter's `normalize.less` sets `[hidden] { display: none; }` but bootstrap.min.css set `[hidden] { display: none !important; }` so we also need the `!important` here to be able to override the default hidden behavior on the sphinx rendered scikit-learn.org. See: https://github.com/scikit-learn/scikit-learn/issues/21755 */display: inline-block !important;position: relative;}#sk-container-id-6 div.sk-text-repr-fallback {display: none;}</style><div id=\"sk-container-id-6\" class=\"sk-top-container\"><div class=\"sk-text-repr-fallback\"><pre>DecisionTreeClassifier(criterion=&#x27;entropy&#x27;, max_depth=9, min_samples_split=250)</pre><b>In a Jupyter environment, please rerun this cell to show the HTML representation or trust the notebook. <br />On GitHub, the HTML representation is unable to render, please try loading this page with nbviewer.org.</b></div><div class=\"sk-container\" hidden><div class=\"sk-item\"><div class=\"sk-estimator sk-toggleable\"><input class=\"sk-toggleable__control sk-hidden--visually\" id=\"sk-estimator-id-8\" type=\"checkbox\" checked><label for=\"sk-estimator-id-8\" class=\"sk-toggleable__label sk-toggleable__label-arrow\">DecisionTreeClassifier</label><div class=\"sk-toggleable__content\"><pre>DecisionTreeClassifier(criterion=&#x27;entropy&#x27;, max_depth=9, min_samples_split=250)</pre></div></div></div></div></div>"
     },
     "execution_count": 26,
     "metadata": {},
     "output_type": "execute_result"
    }
   ],
   "source": [
    "# trainning a tree with max_depth equal to 9 and min_samples_split equal to 250\n",
    "tree = DecisionTreeClassifier(criterion=\"entropy\", max_depth=9, min_samples_split=250)\n",
    "tree.fit(X_train, y_train)"
   ],
   "metadata": {
    "collapsed": false,
    "ExecuteTime": {
     "end_time": "2024-06-18T13:01:13.300527Z",
     "start_time": "2024-06-18T13:01:04.759822Z"
    }
   },
   "id": "3876c981ceb026b5",
   "execution_count": 26
  },
  {
   "cell_type": "code",
   "outputs": [
    {
     "data": {
      "text/plain": "array([8.51976244e-01, 1.11035029e-01, 1.74483862e-03, 7.42011492e-03,\n       7.51722481e-03, 3.85077784e-03, 9.35248845e-04, 1.14719154e-03,\n       3.90146638e-04, 5.64070176e-04, 6.71958858e-04, 1.15844497e-04,\n       3.83976015e-03, 3.90066853e-04, 7.52728634e-04, 1.14596668e-04,\n       2.46778850e-03, 1.95222837e-04, 0.00000000e+00, 1.75135877e-04,\n       2.55719572e-04, 2.05327736e-04, 0.00000000e+00, 0.00000000e+00,\n       2.55954284e-04, 4.37566020e-04, 0.00000000e+00, 4.16924005e-04,\n       0.00000000e+00, 0.00000000e+00, 0.00000000e+00, 0.00000000e+00,\n       2.91566537e-04, 9.50535098e-05, 5.16377037e-04, 1.41745854e-04,\n       0.00000000e+00, 0.00000000e+00, 0.00000000e+00, 1.51388097e-04,\n       0.00000000e+00, 0.00000000e+00, 0.00000000e+00, 1.09763764e-04,\n       7.83845168e-05, 0.00000000e+00, 0.00000000e+00, 0.00000000e+00,\n       1.74023935e-03, 0.00000000e+00, 0.00000000e+00, 0.00000000e+00,\n       0.00000000e+00, 0.00000000e+00])"
     },
     "execution_count": 28,
     "metadata": {},
     "output_type": "execute_result"
    }
   ],
   "source": [
    "tree.feature_importances_"
   ],
   "metadata": {
    "collapsed": false,
    "ExecuteTime": {
     "end_time": "2024-06-18T13:01:22.325027Z",
     "start_time": "2024-06-18T13:01:22.320755Z"
    }
   },
   "id": "fbb08d42525533ae",
   "execution_count": 28
  },
  {
   "cell_type": "markdown",
   "source": [
    "#### Some quick checks"
   ],
   "metadata": {
    "collapsed": false
   },
   "id": "45d2d19a02665cfd"
  },
  {
   "cell_type": "code",
   "outputs": [
    {
     "name": "stdout",
     "output_type": "stream",
     "text": [
      "Recall: 0.7697\n",
      "Precision: 0.7885\n",
      "Confusion Matrix:\n",
      "[[18106  4494]\n",
      " [ 5012 16750]]\n"
     ]
    }
   ],
   "source": [
    "y_val_predict = tree.predict(X_val)\n",
    "utilities.display_metrics(y_val, y_val_predict)"
   ],
   "metadata": {
    "collapsed": false,
    "ExecuteTime": {
     "end_time": "2024-06-18T13:01:29.555149Z",
     "start_time": "2024-06-18T13:01:29.492960Z"
    }
   },
   "id": "ffde11bda005f44e",
   "execution_count": 29
  },
  {
   "cell_type": "code",
   "outputs": [
    {
     "data": {
      "text/plain": "<Figure size 640x480 with 1 Axes>",
      "image/png": "[encoded data removed]"
     },
     "metadata": {},
     "output_type": "display_data"
    },
    {
     "name": "stdout",
     "output_type": "stream",
     "text": [
      "AUC: 0.8657\n"
     ]
    }
   ],
   "source": [
    "# roc curve on the validation set\n",
    "y_score = tree.predict_proba(X_val)\n",
    "utilities.display_roc_curve(y_val, y_score[:, 1])"
   ],
   "metadata": {
    "collapsed": false,
    "ExecuteTime": {
     "end_time": "2024-06-18T13:01:34.960659Z",
     "start_time": "2024-06-18T13:01:34.898101Z"
    }
   },
   "id": "87ada3776be4b763",
   "execution_count": 30
  },
  {
   "cell_type": "markdown",
   "source": [
    "#### Saving Model"
   ],
   "metadata": {
    "collapsed": false
   },
   "id": "9567a7039f53081"
  },
  {
   "cell_type": "code",
   "outputs": [],
   "source": [
    "with open(\"QuarkGluon_Tagging_DT.joblib\", \"wb\") as fo:\n",
    "    joblib.dump(tree, fo)"
   ],
   "metadata": {
    "collapsed": false,
    "ExecuteTime": {
     "end_time": "2024-06-18T13:02:48.207140Z",
     "start_time": "2024-06-18T13:02:48.202333Z"
    }
   },
   "id": "ac8d72a9bbc5566d",
   "execution_count": 31
  }
 ],
 "metadata": {
  "kernelspec": {
   "display_name": "Python 3",
   "language": "python",
   "name": "python3"
  },
  "language_info": {
   "codemirror_mode": {
    "name": "ipython",
    "version": 2
   },
   "file_extension": ".py",
   "mimetype": "text/x-python",
   "name": "python",
   "nbconvert_exporter": "python",
   "pygments_lexer": "ipython2",
   "version": "2.7.6"
  }
 },
 "nbformat": 4,
 "nbformat_minor": 5
}
