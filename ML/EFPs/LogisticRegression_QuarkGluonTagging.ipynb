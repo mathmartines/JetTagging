{
 "cells": [
  {
   "cell_type": "code",
   "execution_count": 13,
   "id": "initial_id",
   "metadata": {
    "collapsed": true,
    "ExecuteTime": {
     "end_time": "2024-05-31T21:00:16.860377Z",
     "start_time": "2024-05-31T21:00:16.856678Z"
    }
   },
   "outputs": [],
   "source": [
    "import numpy as np\n",
    "from src.Preprocessing import create_labels_single_column\n",
    "from src.Particle import ParticleType\n",
    "import matplotlib.pyplot as plt\n",
    "from sklearn.utils import shuffle\n",
    "from sklearn.model_selection import train_test_split\n",
    "from sklearn.preprocessing import StandardScaler\n",
    "from sklearn.linear_model import LogisticRegression\n",
    "from sklearn.metrics import recall_score, precision_score, confusion_matrix, precision_recall_curve, roc_curve, auc\n",
    "from sklearn.model_selection import cross_val_predict"
   ]
  },
  {
   "cell_type": "code",
   "outputs": [
    {
     "name": "stdout",
     "output_type": "stream",
     "text": [
      "Number of Gluon Jets: 177252\n",
      "Number of LightQuark Jets: 170679\n"
     ]
    }
   ],
   "source": [
    "# loading the data\n",
    "efps_gluon = np.load(\"../../Data/g_jets_efp_d5.npy\")\n",
    "efps_quark = np.load(\"../../Data/q_jets_efp_d5.npy\")\n",
    "\n",
    "print(f\"Number of Gluon Jets: {efps_gluon.shape[0]}\")\n",
    "print(f\"Number of LightQuark Jets: {efps_quark.shape[0]}\")"
   ],
   "metadata": {
    "collapsed": false,
    "ExecuteTime": {
     "end_time": "2024-05-31T21:00:16.992945Z",
     "start_time": "2024-05-31T21:00:16.861867Z"
    }
   },
   "id": "3f34e42a88f879c9",
   "execution_count": 14
  },
  {
   "cell_type": "code",
   "outputs": [],
   "source": [
    "# joinning the data \n",
    "# half of the data represents Top jets, the other half represents non-top quark jets\n",
    "X = np.vstack((efps_quark, efps_gluon))\n",
    "y = create_labels_single_column(jet_inputs={ParticleType.Gluon: (efps_quark.shape[0], X.shape[0] - 1), ParticleType.LightQuark: (0, efps_quark.shape[0] - 1)})\n",
    "# shuffling the data\n",
    "X, y = shuffle(X, y, random_state=42)"
   ],
   "metadata": {
    "collapsed": false,
    "ExecuteTime": {
     "end_time": "2024-05-31T21:00:17.182252Z",
     "start_time": "2024-05-31T21:00:16.994529Z"
    }
   },
   "id": "179605a85f15a377",
   "execution_count": 15
  },
  {
   "cell_type": "code",
   "outputs": [],
   "source": [
    "# Let us use the StandardScaler to leave each feature with the same order of magniture\n",
    "scaler = StandardScaler()\n",
    "X = scaler.fit_transform(X)"
   ],
   "metadata": {
    "collapsed": false,
    "ExecuteTime": {
     "end_time": "2024-05-31T21:00:17.595031Z",
     "start_time": "2024-05-31T21:00:17.183480Z"
    }
   },
   "id": "38ff604882f8f6b7",
   "execution_count": 16
  },
  {
   "cell_type": "code",
   "outputs": [
    {
     "name": "stdout",
     "output_type": "stream",
     "text": [
      "Size of the Training set: 251379\n",
      "Size of the Validation set: 44362\n",
      "Size of the Test set: 52190\n"
     ]
    }
   ],
   "source": [
    "# Dividing the data into trainning, validation, and test\n",
    "# diving the set into trainning, validation, and test\n",
    "X_train, X_test, y_train, y_test = train_test_split(X, y, test_size=0.15, random_state=42)\n",
    "X_train, X_val, y_train, y_val = train_test_split(X_train, y_train, test_size=0.15, random_state=42)\n",
    "\n",
    "print(f\"Size of the Training set: {X_train.shape[0]}\")\n",
    "print(f\"Size of the Validation set: {X_val.shape[0]}\")\n",
    "print(f\"Size of the Test set: {X_test.shape[0]}\")"
   ],
   "metadata": {
    "collapsed": false,
    "ExecuteTime": {
     "end_time": "2024-05-31T21:00:17.912259Z",
     "start_time": "2024-05-31T21:00:17.611574Z"
    }
   },
   "id": "7ab0b21dd92452ab",
   "execution_count": 17
  },
  {
   "cell_type": "code",
   "outputs": [
    {
     "name": "stdout",
     "output_type": "stream",
     "text": [
      "Coefficients: -3.96, 3.09, -0.18, -0.61, 0.57, 1.61, -0.17, -0.76, -0.54, 0.23, 0.25, -0.59, -0.21, -0.50, 0.19, 0.15, -0.59, 0.18, 0.10, -0.02, -0.18, -0.81, 0.13, -0.26, 0.30, 0.06, 0.18, 0.79, -0.28, 0.02, -0.38, -0.08, -0.07, -0.38, 0.15, -0.29, -0.04, -0.24, 0.37, -0.08, 0.05, 0.06, -0.05, 0.30, -0.14, -0.13, 0.20, 0.29, -0.16, 0.26, -0.02, -0.00, 0.01, 1.55, 0.35, -0.51, -0.08, 0.13, 0.22, 0.33, -0.03, -0.41, 0.22, 0.15, 0.10, 0.26, 0.03, 0.03, 0.09, 0.42, -0.33, -0.16, -0.04, -0.20, -0.16, 0.12, 0.04, 0.01, -0.10, 0.13, 0.09, 0.07, 0.04, 0.17, 0.11, -0.15, -0.28, 0.01, -0.02, 0.04, 0.01, 0.08, 0.07, -0.04, -0.31, 0.05, -0.10, -0.00, -0.05, -0.12, -0.22\n",
      "Intercept -0.047\n"
     ]
    }
   ],
   "source": [
    "# defining the model\n",
    "# l2, C = 0.04, solver = lbfgs\n",
    "# l1, C = 0.0005, solver = saga\n",
    "log_reg = LogisticRegression(penalty='l2', C=0.01, solver='lbfgs', max_iter=500)\n",
    "log_reg.fit(X_train, y_train)\n",
    "\n",
    "coefs = ', '.join([f'{val:.2f}' for val in log_reg.coef_[0]])\n",
    "print(f\"Coefficients:\", coefs)\n",
    "print(f\"Intercept {log_reg.intercept_[0]:.3f}\")"
   ],
   "metadata": {
    "collapsed": false,
    "ExecuteTime": {
     "end_time": "2024-05-31T21:00:41.783609Z",
     "start_time": "2024-05-31T21:00:17.927816Z"
    }
   },
   "id": "baf2a2f574433e9e",
   "execution_count": 18
  },
  {
   "cell_type": "code",
   "outputs": [
    {
     "name": "stdout",
     "output_type": "stream",
     "text": [
      "Non-vanishing coefficients indices:\n",
      "[ 0  1  5 53]\n"
     ]
    }
   ],
   "source": [
    "print(\"Non-vanishing coefficients indices:\")\n",
    "best_efps = np.where(abs(log_reg.coef_[0]) > 1)[0]\n",
    "print(best_efps)"
   ],
   "metadata": {
    "collapsed": false,
    "ExecuteTime": {
     "end_time": "2024-05-31T21:00:41.790890Z",
     "start_time": "2024-05-31T21:00:41.787186Z"
    }
   },
   "id": "b355a4cad1bde520",
   "execution_count": 19
  },
  {
   "cell_type": "code",
   "outputs": [
    {
     "name": "stdout",
     "output_type": "stream",
     "text": [
      "Trainnig set:\n",
      "Recall for Top tagging: 0.65\n",
      "Precision for Top tagging: 0.66\n",
      "Confusion Matrix\n",
      "[[86114 41920]\n",
      " [42662 80683]]\n"
     ]
    }
   ],
   "source": [
    "# Tranning set\n",
    "y_train_predict = log_reg.predict(X_train)\n",
    "\n",
    "print(\"Trainnig set:\")\n",
    "print(f\"Recall for Top tagging: {recall_score(y_train, y_train_predict):.2f}\")\n",
    "print(f\"Precision for Top tagging: {precision_score(y_train, y_train_predict):.2f}\")\n",
    "print(\"Confusion Matrix\")\n",
    "print(confusion_matrix(y_train, y_train_predict, labels=[0, 1]))"
   ],
   "metadata": {
    "collapsed": false,
    "ExecuteTime": {
     "end_time": "2024-05-31T21:00:42.422833Z",
     "start_time": "2024-05-31T21:00:41.792529Z"
    }
   },
   "id": "15a819c1d40cd3c1",
   "execution_count": 20
  },
  {
   "cell_type": "code",
   "outputs": [
    {
     "name": "stdout",
     "output_type": "stream",
     "text": [
      "Validation set:\n",
      "Recall for Top tagging: 0.66\n",
      "Precision for Top tagging: 0.66\n",
      "Confusion Matrix\n",
      "[[15213  7373]\n",
      " [ 7503 14273]]\n"
     ]
    }
   ],
   "source": [
    "y_val_predict = log_reg.predict(X_val)\n",
    "\n",
    "print(\"Validation set:\")\n",
    "print(f\"Recall for Top tagging: {recall_score(y_val, y_val_predict):.2f}\")\n",
    "print(f\"Precision for Top tagging: {precision_score(y_val, y_val_predict):.2f}\")\n",
    "print(\"Confusion Matrix\")\n",
    "print(confusion_matrix(y_val, y_val_predict, labels=[0, 1]))"
   ],
   "metadata": {
    "collapsed": false,
    "ExecuteTime": {
     "end_time": "2024-05-31T21:00:42.653747Z",
     "start_time": "2024-05-31T21:00:42.424203Z"
    }
   },
   "id": "358af741b477132a",
   "execution_count": 21
  },
  {
   "cell_type": "code",
   "outputs": [],
   "source": [
    "# evaluating the probabilities of each sample in the trainning data using \n",
    "# K-fold cross validation - it returns the probability of the sample in each class\n",
    "y_probabilities = cross_val_predict(log_reg, X_train, y_train, cv=6, method='predict_proba')"
   ],
   "metadata": {
    "collapsed": false,
    "ExecuteTime": {
     "end_time": "2024-05-31T21:01:32.929791Z",
     "start_time": "2024-05-31T21:00:42.656451Z"
    }
   },
   "id": "21f7a25e0f76db27",
   "execution_count": 22
  },
  {
   "cell_type": "code",
   "outputs": [
    {
     "data": {
      "text/plain": "<Figure size 640x480 with 1 Axes>",
      "image/png": "[encoded data removed]"
     },
     "metadata": {},
     "output_type": "display_data"
    },
    {
     "name": "stdout",
     "output_type": "stream",
     "text": [
      "AUC: 0.73\n"
     ]
    }
   ],
   "source": [
    "y_score = y_probabilities[:, 1]\n",
    "plt.plot()\n",
    "# roc curve for top tagging \n",
    "fpr, tpr, thresholds = roc_curve(y_train, y_score)\n",
    "plt.plot(fpr, tpr)\n",
    "plt.xlabel('FPR')\n",
    "plt.ylabel('TPR (Recall)')\n",
    "plt.show()\n",
    "print(f\"AUC: {auc(fpr, tpr):.2f}\")"
   ],
   "metadata": {
    "collapsed": false,
    "ExecuteTime": {
     "end_time": "2024-05-31T21:01:33.086953Z",
     "start_time": "2024-05-31T21:01:32.938293Z"
    }
   },
   "id": "fa1263d7f408bd7d",
   "execution_count": 23
  }
 ],
 "metadata": {
  "kernelspec": {
   "display_name": "Python 3",
   "language": "python",
   "name": "python3"
  },
  "language_info": {
   "codemirror_mode": {
    "name": "ipython",
    "version": 2
   },
   "file_extension": ".py",
   "mimetype": "text/x-python",
   "name": "python",
   "nbconvert_exporter": "python",
   "pygments_lexer": "ipython2",
   "version": "2.7.6"
  }
 },
 "nbformat": 4,
 "nbformat_minor": 5
}
