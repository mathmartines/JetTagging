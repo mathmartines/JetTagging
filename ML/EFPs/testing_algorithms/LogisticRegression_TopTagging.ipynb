{
 "cells": [
  {
   "cell_type": "code",
   "execution_count": 1,
   "id": "initial_id",
   "metadata": {
    "collapsed": true,
    "ExecuteTime": {
     "end_time": "2024-06-03T00:23:08.372017Z",
     "start_time": "2024-06-03T00:23:07.497082Z"
    }
   },
   "outputs": [],
   "source": [
    "import numpy as np\n",
    "from src.Preprocessing import create_labels_single_column\n",
    "from src.Particle import ParticleType\n",
    "import matplotlib.pyplot as plt\n",
    "from sklearn.utils import shuffle\n",
    "from sklearn.model_selection import train_test_split\n",
    "from sklearn.preprocessing import StandardScaler\n",
    "from sklearn.linear_model import LogisticRegression\n",
    "from sklearn.metrics import recall_score, precision_score, confusion_matrix, precision_recall_curve, roc_curve, auc\n",
    "from sklearn.model_selection import cross_val_predict"
   ]
  },
  {
   "cell_type": "code",
   "outputs": [
    {
     "name": "stdout",
     "output_type": "stream",
     "text": [
      "Number of Top Jets: 177945\n",
      "Number of Gluon Jets: 177252\n",
      "Number of LightQuark Jets: 170679\n"
     ]
    }
   ],
   "source": [
    "# loading the data\n",
    "efps_top = np.load(\"../../../Data/t_efps_d5_primed.npy\")\n",
    "efps_gluon = np.load(\"../../../Data/g_efps_d5_primed.npy\")\n",
    "efps_quark = np.load(\"../../../Data/q_efps_d5_primed.npy\")\n",
    "\n",
    "print(f\"Number of Top Jets: {efps_top.shape[0]}\")\n",
    "print(f\"Number of Gluon Jets: {efps_gluon.shape[0]}\")\n",
    "print(f\"Number of LightQuark Jets: {efps_quark.shape[0]}\")"
   ],
   "metadata": {
    "collapsed": false,
    "ExecuteTime": {
     "end_time": "2024-06-03T00:23:08.408479Z",
     "start_time": "2024-06-03T00:23:08.372871Z"
    }
   },
   "id": "72b93b026b948c4d",
   "execution_count": 2
  },
  {
   "cell_type": "code",
   "outputs": [],
   "source": [
    "# joinning the data \n",
    "# half of the data represents Top jets, the other half represents non-top quark jets\n",
    "X = np.vstack((efps_top, efps_gluon[: int(efps_gluon.shape[0]/2)], efps_quark[: int(efps_quark.shape[0]/2)]))\n",
    "y = create_labels_single_column(jet_inputs={ParticleType.Gluon: (efps_top.shape[0], X.shape[0] - 1), ParticleType.Top: (0, efps_top.shape[0] - 1)})\n",
    "# shuffling the data\n",
    "X, y = shuffle(X, y, random_state=42)"
   ],
   "metadata": {
    "collapsed": false,
    "ExecuteTime": {
     "end_time": "2024-06-03T00:23:09.359788Z",
     "start_time": "2024-06-03T00:23:09.251675Z"
    }
   },
   "id": "abcb6f4eaca48a85",
   "execution_count": 3
  },
  {
   "cell_type": "code",
   "outputs": [],
   "source": [
    "# Let us use the StandardScaler to leave each feature with the same order of magniture\n",
    "scaler = StandardScaler()\n",
    "X = scaler.fit_transform(X)"
   ],
   "metadata": {
    "collapsed": false,
    "ExecuteTime": {
     "end_time": "2024-06-03T00:23:12.086593Z",
     "start_time": "2024-06-03T00:23:11.945126Z"
    }
   },
   "id": "bc826ece29885d6f",
   "execution_count": 4
  },
  {
   "cell_type": "code",
   "outputs": [
    {
     "name": "stdout",
     "output_type": "stream",
     "text": [
      "Size of the Training set: 254254\n",
      "Size of the Validation set: 44869\n",
      "Size of the Test set: 52787\n"
     ]
    }
   ],
   "source": [
    "# Dividing the data into trainning, validation, and test\n",
    "# diving the set into trainning, validation, and test\n",
    "X_train, X_test, y_train, y_test = train_test_split(X, y, test_size=0.15, random_state=42)\n",
    "X_train, X_val, y_train, y_val = train_test_split(X_train, y_train, test_size=0.15, random_state=42)\n",
    "\n",
    "print(f\"Size of the Training set: {X_train.shape[0]}\")\n",
    "print(f\"Size of the Validation set: {X_val.shape[0]}\")\n",
    "print(f\"Size of the Test set: {X_test.shape[0]}\")"
   ],
   "metadata": {
    "collapsed": false,
    "ExecuteTime": {
     "end_time": "2024-06-03T00:23:12.790105Z",
     "start_time": "2024-06-03T00:23:12.685684Z"
    }
   },
   "id": "3877f8d53a6b9469",
   "execution_count": 5
  },
  {
   "cell_type": "code",
   "outputs": [
    {
     "name": "stdout",
     "output_type": "stream",
     "text": [
      "Coefficients: 3.48, 0.00, 0.00, -0.01, 0.00, 0.00, 0.00, 0.00, 0.00, 0.00, 0.00, 0.00, 0.00, 0.00, 0.92, 0.00, 0.00, 0.00, 0.00, 0.00, 0.00, 0.00, 0.00, 0.00, 0.00, 0.00, 0.00, 0.00, 0.00, 0.00, 0.00, -1.89, 0.00, 0.00, 0.00, 0.00, 0.00, 0.00, 0.00, 0.00, 0.00, 0.00, 0.11, 0.00, 0.00, 0.00, 0.00, 0.02, 0.00, 0.00, 0.00, 0.00, 0.00\n",
      "Intercept 0.034\n"
     ]
    }
   ],
   "source": [
    "# defining the model\n",
    "# d <= 5\n",
    "# l2, C = 0.04, solver = lbfgs\n",
    "# l1, C = 0.001, solver = saga\n",
    "# d <= 7\n",
    "# l2, C = 0.01, solver = lbfgs\n",
    "log_reg = LogisticRegression(penalty='l1', C=0.001, solver='saga', max_iter=500)\n",
    "log_reg.fit(X_train, y_train)\n",
    "\n",
    "coefs = ', '.join([f'{val:.2f}' for val in log_reg.coef_[0]])\n",
    "print(f\"Coefficients:\", coefs)\n",
    "print(f\"Intercept {log_reg.intercept_[0]:.3f}\")"
   ],
   "metadata": {
    "collapsed": false,
    "ExecuteTime": {
     "end_time": "2024-06-03T00:27:42.165687Z",
     "start_time": "2024-06-03T00:27:30.479728Z"
    }
   },
   "id": "161ebc11142d18ad",
   "execution_count": 24
  },
  {
   "cell_type": "code",
   "outputs": [
    {
     "name": "stdout",
     "output_type": "stream",
     "text": [
      "Non-vanishing coefficients indices:\n",
      "[ 0  3 14 31 42 47]\n"
     ]
    }
   ],
   "source": [
    "print(\"Non-vanishing coefficients indices:\")\n",
    "best_efps = np.where(abs(log_reg.coef_[0]) > 0)[0]\n",
    "print(best_efps)"
   ],
   "metadata": {
    "collapsed": false,
    "ExecuteTime": {
     "end_time": "2024-06-03T00:27:43.828289Z",
     "start_time": "2024-06-03T00:27:43.824678Z"
    }
   },
   "id": "d9a0dcfe38e724a3",
   "execution_count": 25
  },
  {
   "cell_type": "code",
   "outputs": [
    {
     "name": "stdout",
     "output_type": "stream",
     "text": [
      "Trainnig set:\n",
      "Recall for Top tagging: 0.89\n",
      "Precision for Top tagging: 0.87\n",
      "Confusion Matrix\n",
      "[[108217  17316]\n",
      " [ 14213 114508]]\n"
     ]
    }
   ],
   "source": [
    "# Tranning set\n",
    "y_train_predict = log_reg.predict(X_train)\n",
    "\n",
    "print(\"Trainnig set:\")\n",
    "print(f\"Recall for Top tagging: {recall_score(y_train, y_train_predict):.2f}\")\n",
    "print(f\"Precision for Top tagging: {precision_score(y_train, y_train_predict):.2f}\")\n",
    "print(\"Confusion Matrix\")\n",
    "print(confusion_matrix(y_train, y_train_predict, labels=[0, 1]))"
   ],
   "metadata": {
    "collapsed": false,
    "ExecuteTime": {
     "end_time": "2024-06-03T00:27:25.124730Z",
     "start_time": "2024-06-03T00:27:24.807875Z"
    }
   },
   "id": "ccb7e0feaf2c22d",
   "execution_count": 23
  },
  {
   "cell_type": "code",
   "outputs": [
    {
     "name": "stdout",
     "output_type": "stream",
     "text": [
      "Validation set:\n",
      "Recall for Top tagging: 0.89\n",
      "Precision for Top tagging: 0.87\n",
      "Confusion Matrix\n",
      "[[19242  3012]\n",
      " [ 2436 20179]]\n"
     ]
    }
   ],
   "source": [
    "y_val_predict = log_reg.predict(X_val)\n",
    "\n",
    "print(\"Validation set:\")\n",
    "print(f\"Recall for Top tagging: {recall_score(y_val, y_val_predict):.2f}\")\n",
    "print(f\"Precision for Top tagging: {precision_score(y_val, y_val_predict):.2f}\")\n",
    "print(\"Confusion Matrix\")\n",
    "print(confusion_matrix(y_val, y_val_predict, labels=[0, 1]))"
   ],
   "metadata": {
    "collapsed": false,
    "ExecuteTime": {
     "end_time": "2024-06-03T00:26:31.966830Z",
     "start_time": "2024-06-03T00:26:31.869517Z"
    }
   },
   "id": "88354c4fdfb07be3",
   "execution_count": 19
  },
  {
   "cell_type": "code",
   "outputs": [
    {
     "name": "stdout",
     "output_type": "stream",
     "text": [
      "Test set:\n",
      "Recall for Top tagging: 0.89\n",
      "Precision for Top tagging: 0.87\n",
      "Confusion Matrix\n",
      "[[22611  3567]\n",
      " [ 2846 23763]]\n"
     ]
    }
   ],
   "source": [
    "# Test set\n",
    "y_test_predict = log_reg.predict(X_test)\n",
    "\n",
    "print(\"Test set:\")\n",
    "print(f\"Recall for Top tagging: {recall_score(y_test, y_test_predict):.2f}\")\n",
    "print(f\"Precision for Top tagging: {precision_score(y_test, y_test_predict):.2f}\")\n",
    "print(\"Confusion Matrix\")\n",
    "print(confusion_matrix(y_test, y_test_predict, labels=[0, 1]))"
   ],
   "metadata": {
    "collapsed": false,
    "ExecuteTime": {
     "end_time": "2024-06-03T00:26:32.045920Z",
     "start_time": "2024-06-03T00:26:31.974982Z"
    }
   },
   "id": "6d1ca708b6c98016",
   "execution_count": 20
  },
  {
   "cell_type": "code",
   "outputs": [],
   "source": [
    "# evaluating the probabilities of each sample in the trainning data using \n",
    "# K-fold cross validation - it returns the probability of the sample in each class\n",
    "y_probabilities = cross_val_predict(log_reg, X_train, y_train, cv=6, method='predict_proba')"
   ],
   "metadata": {
    "collapsed": false,
    "ExecuteTime": {
     "end_time": "2024-06-03T00:25:19.648455Z",
     "start_time": "2024-06-03T00:24:32.416946Z"
    }
   },
   "id": "7cabc263132a21ca",
   "execution_count": 13
  },
  {
   "cell_type": "code",
   "outputs": [
    {
     "data": {
      "text/plain": "[]"
     },
     "execution_count": 14,
     "metadata": {},
     "output_type": "execute_result"
    },
    {
     "data": {
      "text/plain": "<Figure size 640x480 with 1 Axes>",
      "image/png": "[encoded data removed]"
     },
     "metadata": {},
     "output_type": "display_data"
    }
   ],
   "source": [
    "y_score = y_probabilities[:, 1]\n",
    "precision, recall, thresholds = precision_recall_curve(y_train, y_score)\n",
    "plt.plot(thresholds, precision[:-1], label='Precision', color='green')\n",
    "plt.plot(thresholds, recall[:-1], label='Recall', color='red')\n",
    "plt.legend(loc='best')\n",
    "plt.plot()"
   ],
   "metadata": {
    "collapsed": false,
    "ExecuteTime": {
     "end_time": "2024-06-03T00:25:20.209930Z",
     "start_time": "2024-06-03T00:25:19.653396Z"
    }
   },
   "id": "8693e1212b7f10ab",
   "execution_count": 14
  },
  {
   "cell_type": "code",
   "outputs": [
    {
     "data": {
      "text/plain": "<Figure size 640x480 with 1 Axes>",
      "image/png": "[encoded data removed]"
     },
     "metadata": {},
     "output_type": "display_data"
    },
    {
     "name": "stdout",
     "output_type": "stream",
     "text": [
      "AUC: 0.95\n"
     ]
    }
   ],
   "source": [
    "# roc curve for top tagging \n",
    "fpr, tpr, thresholds = roc_curve(y_train, y_score)\n",
    "plt.plot(fpr, tpr)\n",
    "plt.xlabel('FPR')\n",
    "plt.ylabel('TPR (Recall)')\n",
    "plt.show()\n",
    "print(f\"AUC: {auc(fpr, tpr):.2f}\")"
   ],
   "metadata": {
    "collapsed": false,
    "ExecuteTime": {
     "end_time": "2024-06-03T00:25:20.300082Z",
     "start_time": "2024-06-03T00:25:20.210589Z"
    }
   },
   "id": "39f151b2e88516",
   "execution_count": 15
  }
 ],
 "metadata": {
  "kernelspec": {
   "display_name": "Python 3",
   "language": "python",
   "name": "python3"
  },
  "language_info": {
   "codemirror_mode": {
    "name": "ipython",
    "version": 2
   },
   "file_extension": ".py",
   "mimetype": "text/x-python",
   "name": "python",
   "nbconvert_exporter": "python",
   "pygments_lexer": "ipython2",
   "version": "2.7.6"
  }
 },
 "nbformat": 4,
 "nbformat_minor": 5
}
