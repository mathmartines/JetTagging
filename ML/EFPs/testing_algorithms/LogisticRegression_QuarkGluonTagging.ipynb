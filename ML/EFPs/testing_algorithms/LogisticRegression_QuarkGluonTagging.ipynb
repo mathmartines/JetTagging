{
 "cells": [
  {
   "cell_type": "code",
   "execution_count": 1,
   "id": "initial_id",
   "metadata": {
    "collapsed": true,
    "ExecuteTime": {
     "end_time": "2024-06-03T00:31:58.176888Z",
     "start_time": "2024-06-03T00:31:57.215145Z"
    }
   },
   "outputs": [],
   "source": [
    "import numpy as np\n",
    "from src.Preprocessing import create_labels_single_column\n",
    "from src.Particle import ParticleType\n",
    "import matplotlib.pyplot as plt\n",
    "from sklearn.utils import shuffle\n",
    "from sklearn.model_selection import train_test_split\n",
    "from sklearn.preprocessing import StandardScaler\n",
    "from sklearn.linear_model import LogisticRegression\n",
    "from sklearn.metrics import recall_score, precision_score, confusion_matrix, precision_recall_curve, roc_curve, auc\n",
    "from sklearn.model_selection import cross_val_predict"
   ]
  },
  {
   "cell_type": "code",
   "outputs": [
    {
     "name": "stdout",
     "output_type": "stream",
     "text": [
      "Number of Gluon Jets: 177252\n",
      "Number of LightQuark Jets: 170679\n"
     ]
    }
   ],
   "source": [
    "# loading the data\n",
    "efps_gluon = np.load(\"../../../Data/g_efps_d5_primed.npy\")\n",
    "efps_quark = np.load(\"../../../Data/q_efps_d5_primed.npy\")\n",
    "\n",
    "print(f\"Number of Gluon Jets: {efps_gluon.shape[0]}\")\n",
    "print(f\"Number of LightQuark Jets: {efps_quark.shape[0]}\")"
   ],
   "metadata": {
    "collapsed": false,
    "ExecuteTime": {
     "end_time": "2024-06-03T00:31:58.226202Z",
     "start_time": "2024-06-03T00:31:58.177869Z"
    }
   },
   "id": "3f34e42a88f879c9",
   "execution_count": 2
  },
  {
   "cell_type": "code",
   "outputs": [],
   "source": [
    "# joinning the data \n",
    "# half of the data represents Top jets, the other half represents non-top quark jets\n",
    "X = np.vstack((efps_quark, efps_gluon))\n",
    "y = create_labels_single_column(jet_inputs={ParticleType.Gluon: (efps_quark.shape[0], X.shape[0] - 1), ParticleType.LightQuark: (0, efps_quark.shape[0] - 1)})\n",
    "# shuffling the data\n",
    "X, y = shuffle(X, y, random_state=42)"
   ],
   "metadata": {
    "collapsed": false,
    "ExecuteTime": {
     "end_time": "2024-06-03T00:31:58.369128Z",
     "start_time": "2024-06-03T00:31:58.226882Z"
    }
   },
   "id": "179605a85f15a377",
   "execution_count": 3
  },
  {
   "cell_type": "code",
   "outputs": [],
   "source": [
    "# Let us use the StandardScaler to leave each feature with the same order of magniture\n",
    "scaler = StandardScaler()\n",
    "X = scaler.fit_transform(X)"
   ],
   "metadata": {
    "collapsed": false,
    "ExecuteTime": {
     "end_time": "2024-06-03T00:31:59.424743Z",
     "start_time": "2024-06-03T00:31:59.270594Z"
    }
   },
   "id": "38ff604882f8f6b7",
   "execution_count": 4
  },
  {
   "cell_type": "code",
   "outputs": [
    {
     "name": "stdout",
     "output_type": "stream",
     "text": [
      "Size of the Training set: 251379\n",
      "Size of the Validation set: 44362\n",
      "Size of the Test set: 52190\n"
     ]
    }
   ],
   "source": [
    "# Dividing the data into trainning, validation, and test\n",
    "# diving the set into trainning, validation, and test\n",
    "X_train, X_test, y_train, y_test = train_test_split(X, y, test_size=0.15, random_state=42)\n",
    "X_train, X_val, y_train, y_val = train_test_split(X_train, y_train, test_size=0.15, random_state=42)\n",
    "\n",
    "print(f\"Size of the Training set: {X_train.shape[0]}\")\n",
    "print(f\"Size of the Validation set: {X_val.shape[0]}\")\n",
    "print(f\"Size of the Test set: {X_test.shape[0]}\")"
   ],
   "metadata": {
    "collapsed": false,
    "ExecuteTime": {
     "end_time": "2024-06-03T00:32:00.360223Z",
     "start_time": "2024-06-03T00:32:00.239436Z"
    }
   },
   "id": "7ab0b21dd92452ab",
   "execution_count": 5
  },
  {
   "cell_type": "code",
   "outputs": [
    {
     "name": "stdout",
     "output_type": "stream",
     "text": [
      "Coefficients: -0.74, 0.00, 0.00, 0.00, -0.03, 0.00, 0.00, 0.00, 0.00, 0.00, 0.00, 0.00, 0.00, -0.18, 0.00, 0.31, 0.00, 0.00, 0.00, 0.00, 0.00, 0.00, 0.00, 0.00, 0.00, 0.00, 0.00, 0.00, 0.00, 0.00, 0.00, 0.00, 0.00, 0.00, 0.00, 0.00, 0.00, 0.00, 0.00, 0.15, 0.00, 0.00, 0.00, 0.00, 0.00, 0.00, 0.00, 0.14, 0.00, 0.00, 0.00, 0.00, 0.03\n",
      "Intercept -0.046\n"
     ]
    }
   ],
   "source": [
    "# defining the model\n",
    "# l2, C = 0.04, solver = lbfgs\n",
    "# l1, C = 0.0005, solver = saga\n",
    "log_reg = LogisticRegression(penalty='l1', C=0.0005, solver='saga', max_iter=500)\n",
    "log_reg.fit(X_train, y_train)\n",
    "\n",
    "coefs = ', '.join([f'{val:.2f}' for val in log_reg.coef_[0]])\n",
    "print(f\"Coefficients:\", coefs)\n",
    "print(f\"Intercept {log_reg.intercept_[0]:.3f}\")"
   ],
   "metadata": {
    "collapsed": false,
    "ExecuteTime": {
     "end_time": "2024-06-03T00:33:48.958095Z",
     "start_time": "2024-06-03T00:33:37.849614Z"
    }
   },
   "id": "baf2a2f574433e9e",
   "execution_count": 9
  },
  {
   "cell_type": "code",
   "outputs": [
    {
     "name": "stdout",
     "output_type": "stream",
     "text": [
      "Non-vanishing coefficients indices:\n",
      "[ 0  4 13 15 39 47 52]\n"
     ]
    }
   ],
   "source": [
    "print(\"Non-vanishing coefficients indices:\")\n",
    "best_efps = np.where(abs(log_reg.coef_[0]) > 0)[0]\n",
    "print(best_efps)"
   ],
   "metadata": {
    "collapsed": false,
    "ExecuteTime": {
     "end_time": "2024-06-03T00:33:48.961172Z",
     "start_time": "2024-06-03T00:33:48.959009Z"
    }
   },
   "id": "b355a4cad1bde520",
   "execution_count": 10
  },
  {
   "cell_type": "code",
   "outputs": [
    {
     "name": "stdout",
     "output_type": "stream",
     "text": [
      "Trainnig set:\n",
      "Recall for Top tagging: 0.68\n",
      "Precision for Top tagging: 0.60\n",
      "Confusion Matrix\n",
      "[[71224 56810]\n",
      " [38874 84471]]\n"
     ]
    }
   ],
   "source": [
    "# Tranning set\n",
    "y_train_predict = log_reg.predict(X_train)\n",
    "\n",
    "print(\"Trainnig set:\")\n",
    "print(f\"Recall for Top tagging: {recall_score(y_train, y_train_predict):.2f}\")\n",
    "print(f\"Precision for Top tagging: {precision_score(y_train, y_train_predict):.2f}\")\n",
    "print(\"Confusion Matrix\")\n",
    "print(confusion_matrix(y_train, y_train_predict, labels=[0, 1]))"
   ],
   "metadata": {
    "collapsed": false,
    "ExecuteTime": {
     "end_time": "2024-06-03T00:34:10.541801Z",
     "start_time": "2024-06-03T00:34:10.238308Z"
    }
   },
   "id": "15a819c1d40cd3c1",
   "execution_count": 11
  },
  {
   "cell_type": "code",
   "outputs": [
    {
     "name": "stdout",
     "output_type": "stream",
     "text": [
      "Validation set:\n",
      "Recall for Top tagging: 0.69\n",
      "Precision for Top tagging: 0.60\n",
      "Confusion Matrix\n",
      "[[12552 10034]\n",
      " [ 6784 14992]]\n"
     ]
    }
   ],
   "source": [
    "y_val_predict = log_reg.predict(X_val)\n",
    "\n",
    "print(\"Validation set:\")\n",
    "print(f\"Recall for Top tagging: {recall_score(y_val, y_val_predict):.2f}\")\n",
    "print(f\"Precision for Top tagging: {precision_score(y_val, y_val_predict):.2f}\")\n",
    "print(\"Confusion Matrix\")\n",
    "print(confusion_matrix(y_val, y_val_predict, labels=[0, 1]))"
   ],
   "metadata": {
    "collapsed": false,
    "ExecuteTime": {
     "end_time": "2024-06-03T00:34:15.233092Z",
     "start_time": "2024-06-03T00:34:15.162167Z"
    }
   },
   "id": "358af741b477132a",
   "execution_count": 12
  },
  {
   "cell_type": "code",
   "outputs": [],
   "source": [
    "# evaluating the probabilities of each sample in the trainning data using \n",
    "# K-fold cross validation - it returns the probability of the sample in each class\n",
    "y_probabilities = cross_val_predict(log_reg, X_train, y_train, cv=6, method='predict_proba')"
   ],
   "metadata": {
    "collapsed": false,
    "ExecuteTime": {
     "end_time": "2024-06-03T00:36:31.856397Z",
     "start_time": "2024-06-03T00:34:17.995612Z"
    }
   },
   "id": "21f7a25e0f76db27",
   "execution_count": 13
  },
  {
   "cell_type": "code",
   "outputs": [
    {
     "data": {
      "text/plain": "<Figure size 640x480 with 1 Axes>",
      "image/png": "[encoded data removed]"
     },
     "metadata": {},
     "output_type": "display_data"
    },
    {
     "name": "stdout",
     "output_type": "stream",
     "text": [
      "AUC: 0.69\n"
     ]
    }
   ],
   "source": [
    "y_score = y_probabilities[:, 1]\n",
    "plt.plot()\n",
    "# roc curve for top tagging \n",
    "fpr, tpr, thresholds = roc_curve(y_train, y_score)\n",
    "plt.plot(fpr, tpr)\n",
    "plt.xlabel('FPR')\n",
    "plt.ylabel('TPR (Recall)')\n",
    "plt.show()\n",
    "print(f\"AUC: {auc(fpr, tpr):.2f}\")"
   ],
   "metadata": {
    "collapsed": false,
    "ExecuteTime": {
     "end_time": "2024-06-03T00:36:32.017857Z",
     "start_time": "2024-06-03T00:36:31.863371Z"
    }
   },
   "id": "fa1263d7f408bd7d",
   "execution_count": 14
  },
  {
   "cell_type": "code",
   "outputs": [],
   "source": [],
   "metadata": {
    "collapsed": false
   },
   "id": "23e3c0f8c35c668e"
  }
 ],
 "metadata": {
  "kernelspec": {
   "display_name": "Python 3",
   "language": "python",
   "name": "python3"
  },
  "language_info": {
   "codemirror_mode": {
    "name": "ipython",
    "version": 2
   },
   "file_extension": ".py",
   "mimetype": "text/x-python",
   "name": "python",
   "nbconvert_exporter": "python",
   "pygments_lexer": "ipython2",
   "version": "2.7.6"
  }
 },
 "nbformat": 4,
 "nbformat_minor": 5
}
