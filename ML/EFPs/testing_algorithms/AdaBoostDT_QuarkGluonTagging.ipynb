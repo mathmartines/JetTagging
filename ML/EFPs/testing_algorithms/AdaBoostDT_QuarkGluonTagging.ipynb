{
 "cells": [
  {
   "cell_type": "code",
   "execution_count": 1,
   "id": "initial_id",
   "metadata": {
    "collapsed": true,
    "ExecuteTime": {
     "end_time": "2024-06-02T19:07:51.756936Z",
     "start_time": "2024-06-02T19:07:50.772334Z"
    }
   },
   "outputs": [],
   "source": [
    "import numpy as np\n",
    "from src.Preprocessing import create_labels_single_column\n",
    "from src.Particle import ParticleType\n",
    "import matplotlib.pyplot as plt\n",
    "from sklearn.utils import shuffle\n",
    "from sklearn.model_selection import train_test_split\n",
    "from sklearn.tree import DecisionTreeClassifier\n",
    "from sklearn.ensemble import AdaBoostClassifier\n",
    "from sklearn.metrics import recall_score, precision_score, confusion_matrix, precision_recall_curve, roc_curve, auc\n",
    "from sklearn.model_selection import cross_val_predict"
   ]
  },
  {
   "cell_type": "code",
   "outputs": [
    {
     "name": "stdout",
     "output_type": "stream",
     "text": [
      "Number of Gluon Jets: 177252\n",
      "Number of LightQuark Jets: 170679\n"
     ]
    }
   ],
   "source": [
    "# loading the data\n",
    "efps_gluon = np.load(\"../../../Data/g_jets_efp_d5.npy\")\n",
    "efps_quark = np.load(\"../../../Data/q_jets_efp_d5.npy\")\n",
    "\n",
    "print(f\"Number of Gluon Jets: {efps_gluon.shape[0]}\")\n",
    "print(f\"Number of LightQuark Jets: {efps_quark.shape[0]}\")"
   ],
   "metadata": {
    "collapsed": false,
    "ExecuteTime": {
     "end_time": "2024-06-02T19:07:58.283190Z",
     "start_time": "2024-06-02T19:07:58.198726Z"
    }
   },
   "id": "eb08b56ea98289ec",
   "execution_count": 2
  },
  {
   "cell_type": "code",
   "outputs": [],
   "source": [
    "# joinning the data \n",
    "# half of the data represents Top jets, the other half represents non-top quark jets\n",
    "X = np.vstack((efps_quark, efps_gluon))\n",
    "y = create_labels_single_column(jet_inputs={ParticleType.Gluon: (efps_quark.shape[0], X.shape[0] - 1), ParticleType.LightQuark: (0, efps_quark.shape[0] - 1)})\n",
    "# shuffling the data\n",
    "X, y = shuffle(X, y, random_state=42)"
   ],
   "metadata": {
    "collapsed": false,
    "ExecuteTime": {
     "end_time": "2024-06-02T19:08:06.324693Z",
     "start_time": "2024-06-02T19:08:06.187623Z"
    }
   },
   "id": "2231b85311a28bbd",
   "execution_count": 3
  },
  {
   "cell_type": "code",
   "outputs": [
    {
     "name": "stdout",
     "output_type": "stream",
     "text": [
      "Size of the Training set: 251379\n",
      "Size of the Validation set: 44362\n",
      "Size of the Test set: 52190\n"
     ]
    }
   ],
   "source": [
    "# Dividing the data into trainning, validation, and test\n",
    "# diving the set into trainning, validation, and test\n",
    "X_train, X_test, y_train, y_test = train_test_split(X, y, test_size=0.15, random_state=42)\n",
    "X_train, X_val, y_train, y_val = train_test_split(X_train, y_train, test_size=0.15, random_state=42)\n",
    "\n",
    "print(f\"Size of the Training set: {X_train.shape[0]}\")\n",
    "print(f\"Size of the Validation set: {X_val.shape[0]}\")\n",
    "print(f\"Size of the Test set: {X_test.shape[0]}\")"
   ],
   "metadata": {
    "collapsed": false,
    "ExecuteTime": {
     "end_time": "2024-06-02T19:08:13.697584Z",
     "start_time": "2024-06-02T19:08:13.520983Z"
    }
   },
   "id": "e3891e4baca91aee",
   "execution_count": 4
  },
  {
   "cell_type": "code",
   "outputs": [],
   "source": [
    "dt_model = DecisionTreeClassifier(criterion='entropy', max_depth=20, min_samples_leaf=100, random_state=0)\n",
    "adaboost_dt = AdaBoostClassifier(estimator=dt_model, n_estimators=50, random_state=0)\n",
    "adaboost_dt.fit(X_train, y_train)"
   ],
   "metadata": {
    "collapsed": false,
    "is_executing": true,
    "ExecuteTime": {
     "start_time": "2024-06-02T19:08:56.580237Z"
    }
   },
   "id": "79cc8716de31cf3f"
  },
  {
   "cell_type": "code",
   "outputs": [],
   "source": [
    "# Tranning set\n",
    "y_train_predict = dt_model.predict(X_train)\n",
    "\n",
    "print(\"Trainnig set:\")\n",
    "print(f\"Recall for Quark tagging: {recall_score(y_train, y_train_predict):.2f}\")\n",
    "print(f\"Precision for Quark tagging: {precision_score(y_train, y_train_predict):.2f}\")\n",
    "print(\"Confusion Matrix\")\n",
    "print(confusion_matrix(y_train, y_train_predict, labels=[0, 1]))"
   ],
   "metadata": {
    "collapsed": false,
    "is_executing": true
   },
   "id": "1dfd700b0a377989"
  },
  {
   "cell_type": "code",
   "outputs": [],
   "source": [
    "y_val_predict = dt_model.predict(X_val)\n",
    "\n",
    "print(\"Validation set:\")\n",
    "print(f\"Recall for Quark tagging: {recall_score(y_val, y_val_predict):.2f}\")\n",
    "print(f\"Precision for Quark tagging: {precision_score(y_val, y_val_predict):.2f}\")\n",
    "print(\"Confusion Matrix\")\n",
    "print(confusion_matrix(y_val, y_val_predict, labels=[0, 1]))"
   ],
   "metadata": {
    "collapsed": false,
    "is_executing": true
   },
   "id": "84f4dcb7681f8ee7"
  }
 ],
 "metadata": {
  "kernelspec": {
   "display_name": "Python 3",
   "language": "python",
   "name": "python3"
  },
  "language_info": {
   "codemirror_mode": {
    "name": "ipython",
    "version": 2
   },
   "file_extension": ".py",
   "mimetype": "text/x-python",
   "name": "python",
   "nbconvert_exporter": "python",
   "pygments_lexer": "ipython2",
   "version": "2.7.6"
  }
 },
 "nbformat": 4,
 "nbformat_minor": 5
}
