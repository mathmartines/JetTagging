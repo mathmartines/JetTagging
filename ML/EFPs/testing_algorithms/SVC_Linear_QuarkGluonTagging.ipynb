{
 "cells": [
  {
   "cell_type": "code",
   "execution_count": 1,
   "id": "initial_id",
   "metadata": {
    "collapsed": true,
    "ExecuteTime": {
     "end_time": "2024-06-01T16:36:24.138533Z",
     "start_time": "2024-06-01T16:36:23.197065Z"
    }
   },
   "outputs": [],
   "source": [
    "import numpy as np\n",
    "from src.Preprocessing import create_labels_single_column\n",
    "from src.Particle import ParticleType\n",
    "import matplotlib.pyplot as plt\n",
    "from sklearn.utils import shuffle\n",
    "from sklearn.model_selection import train_test_split\n",
    "from sklearn.preprocessing import StandardScaler\n",
    "from sklearn.svm import LinearSVC\n",
    "from sklearn.metrics import recall_score, precision_score, confusion_matrix, precision_recall_curve, roc_curve, auc\n",
    "from sklearn.model_selection import cross_val_predict"
   ]
  },
  {
   "cell_type": "code",
   "outputs": [
    {
     "name": "stdout",
     "output_type": "stream",
     "text": [
      "Number of Gluon Jets: 177252\n",
      "Number of LightQuark Jets: 170679\n"
     ]
    }
   ],
   "source": [
    "# loading the data\n",
    "efps_gluon = np.load(\"../../Data/g_jets_efp_d5.npy\")\n",
    "efps_quark = np.load(\"../../Data/q_jets_efp_d5.npy\")\n",
    "\n",
    "print(f\"Number of Gluon Jets: {efps_gluon.shape[0]}\")\n",
    "print(f\"Number of LightQuark Jets: {efps_quark.shape[0]}\")"
   ],
   "metadata": {
    "collapsed": false,
    "ExecuteTime": {
     "end_time": "2024-06-01T16:36:29.039286Z",
     "start_time": "2024-06-01T16:36:28.988050Z"
    }
   },
   "id": "8e6d3238d0d89d6a",
   "execution_count": 2
  },
  {
   "cell_type": "code",
   "outputs": [],
   "source": [
    "# joinning the data \n",
    "# half of the data represents Top jets, the other half represents non-top quark jets\n",
    "X = np.vstack((efps_quark, efps_gluon))\n",
    "y = create_labels_single_column(jet_inputs={ParticleType.Gluon: (efps_quark.shape[0], X.shape[0] - 1), ParticleType.LightQuark: (0, efps_quark.shape[0] - 1)})\n",
    "# shuffling the data\n",
    "X, y = shuffle(X, y, random_state=42)"
   ],
   "metadata": {
    "collapsed": false,
    "ExecuteTime": {
     "end_time": "2024-06-01T16:36:38.636640Z",
     "start_time": "2024-06-01T16:36:38.506330Z"
    }
   },
   "id": "5150255a32a7d6fd",
   "execution_count": 3
  },
  {
   "cell_type": "code",
   "outputs": [],
   "source": [
    "# Let us use the StandardScaler to leave each feature with the same order of magniture\n",
    "scaler = StandardScaler()\n",
    "X = scaler.fit_transform(X)"
   ],
   "metadata": {
    "collapsed": false,
    "ExecuteTime": {
     "end_time": "2024-06-01T16:36:50.457380Z",
     "start_time": "2024-06-01T16:36:50.242482Z"
    }
   },
   "id": "c0799fb3b4eea6b2",
   "execution_count": 4
  },
  {
   "cell_type": "code",
   "outputs": [
    {
     "name": "stdout",
     "output_type": "stream",
     "text": [
      "Size of the Training set: 251379\n",
      "Size of the Validation set: 44362\n",
      "Size of the Test set: 52190\n"
     ]
    }
   ],
   "source": [
    "# Dividing the data into trainning, validation, and test\n",
    "# diving the set into trainning, validation, and test\n",
    "X_train, X_test, y_train, y_test = train_test_split(X, y, test_size=0.15, random_state=42)\n",
    "X_train, X_val, y_train, y_val = train_test_split(X_train, y_train, test_size=0.15, random_state=42)\n",
    "\n",
    "print(f\"Size of the Training set: {X_train.shape[0]}\")\n",
    "print(f\"Size of the Validation set: {X_val.shape[0]}\")\n",
    "print(f\"Size of the Test set: {X_test.shape[0]}\")"
   ],
   "metadata": {
    "collapsed": false,
    "ExecuteTime": {
     "end_time": "2024-06-01T16:36:59.212891Z",
     "start_time": "2024-06-01T16:36:59.046758Z"
    }
   },
   "id": "1723ad19f5349f85",
   "execution_count": 5
  },
  {
   "cell_type": "code",
   "outputs": [
    {
     "name": "stderr",
     "output_type": "stream",
     "text": [
      "/opt/anaconda3/envs/PhD/lib/python3.11/site-packages/sklearn/svm/_classes.py:32: FutureWarning: The default value of `dual` will change from `True` to `'auto'` in 1.5. Set the value of `dual` explicitly to suppress the warning.\n",
      "  warnings.warn(\n"
     ]
    },
    {
     "name": "stdout",
     "output_type": "stream",
     "text": [
      "Coefficients: -1.30, 0.73, 0.09, -0.10, 0.11, 0.36, 0.06, -0.15, -0.10, 0.03, 0.03, -0.20, -0.12, -0.11, 0.04, 0.09, -0.13, 0.03, 0.01, 0.05, -0.04, -0.18, 0.01, -0.09, 0.06, -0.01, -0.02, 0.22, -0.06, 0.02, -0.06, -0.03, 0.03, -0.10, 0.03, -0.08, -0.03, -0.08, 0.08, -0.02, 0.01, 0.01, -0.01, 0.10, -0.01, -0.04, 0.06, 0.07, -0.05, 0.05, 0.00, -0.00, 0.00, 0.35, 0.17, -0.09, 0.01, 0.01, 0.02, 0.14, 0.01, -0.09, 0.01, 0.02, 0.01, 0.08, -0.02, -0.02, 0.05, 0.19, -0.09, -0.02, -0.01, -0.02, -0.06, 0.03, -0.00, 0.03, -0.03, 0.03, 0.02, 0.01, 0.02, 0.02, 0.02, -0.02, -0.08, 0.00, -0.01, 0.00, -0.00, 0.01, 0.00, 0.01, -0.05, 0.01, -0.03, -0.01, -0.03, -0.04, -0.08\n",
      "Intercept -0.019\n"
     ]
    }
   ],
   "source": [
    "# defining the model\n",
    "linear_svc = LinearSVC(penalty='l2', C=0.0004)\n",
    "linear_svc.fit(X_train, y_train)\n",
    "\n",
    "coefs = ', '.join([f'{val:.2f}' for val in linear_svc.coef_[0]])\n",
    "print(f\"Coefficients:\", coefs)\n",
    "print(f\"Intercept {linear_svc.intercept_[0]:.3f}\")"
   ],
   "metadata": {
    "collapsed": false,
    "ExecuteTime": {
     "end_time": "2024-06-01T17:14:45.872905Z",
     "start_time": "2024-06-01T17:13:42.885402Z"
    }
   },
   "id": "78045311a99d635a",
   "execution_count": 17
  },
  {
   "cell_type": "code",
   "outputs": [
    {
     "name": "stdout",
     "output_type": "stream",
     "text": [
      "Trainnig set:\n",
      "Recall for Quark tagging: 0.67\n",
      "Precision for Quark tagging: 0.64\n",
      "Confusion Matrix\n",
      "[[82711 45323]\n",
      " [41156 82189]]\n"
     ]
    }
   ],
   "source": [
    "# Tranning set\n",
    "y_train_predict = linear_svc.predict(X_train)\n",
    "\n",
    "print(\"Trainnig set:\")\n",
    "print(f\"Recall for Quark tagging: {recall_score(y_train, y_train_predict):.2f}\")\n",
    "print(f\"Precision for Quark tagging: {precision_score(y_train, y_train_predict):.2f}\")\n",
    "print(\"Confusion Matrix\")\n",
    "print(confusion_matrix(y_train, y_train_predict, labels=[0, 1]))"
   ],
   "metadata": {
    "collapsed": false,
    "ExecuteTime": {
     "end_time": "2024-06-01T17:15:05.575857Z",
     "start_time": "2024-06-01T17:15:05.240018Z"
    }
   },
   "id": "ba584494b8f62ee3",
   "execution_count": 18
  },
  {
   "cell_type": "code",
   "outputs": [
    {
     "name": "stdout",
     "output_type": "stream",
     "text": [
      "Validation set:\n",
      "Recall for Top tagging: 0.67\n",
      "Precision for Top tagging: 0.65\n",
      "Confusion Matrix\n",
      "[[14575  8011]\n",
      " [ 7215 14561]]\n"
     ]
    }
   ],
   "source": [
    "y_val_predict = linear_svc.predict(X_val)\n",
    "\n",
    "print(\"Validation set:\")\n",
    "print(f\"Recall for Top tagging: {recall_score(y_val, y_val_predict):.2f}\")\n",
    "print(f\"Precision for Top tagging: {precision_score(y_val, y_val_predict):.2f}\")\n",
    "print(\"Confusion Matrix\")\n",
    "print(confusion_matrix(y_val, y_val_predict, labels=[0, 1]))"
   ],
   "metadata": {
    "collapsed": false,
    "ExecuteTime": {
     "end_time": "2024-06-01T17:15:23.527806Z",
     "start_time": "2024-06-01T17:15:23.457663Z"
    }
   },
   "id": "a70a4296a9f5a4eb",
   "execution_count": 19
  },
  {
   "cell_type": "code",
   "outputs": [],
   "source": [],
   "metadata": {
    "collapsed": false
   },
   "id": "499523dda00e7848"
  }
 ],
 "metadata": {
  "kernelspec": {
   "display_name": "Python 3",
   "language": "python",
   "name": "python3"
  },
  "language_info": {
   "codemirror_mode": {
    "name": "ipython",
    "version": 2
   },
   "file_extension": ".py",
   "mimetype": "text/x-python",
   "name": "python",
   "nbconvert_exporter": "python",
   "pygments_lexer": "ipython2",
   "version": "2.7.6"
  }
 },
 "nbformat": 4,
 "nbformat_minor": 5
}
