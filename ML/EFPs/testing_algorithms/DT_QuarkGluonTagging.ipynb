{
 "cells": [
  {
   "cell_type": "code",
   "execution_count": 1,
   "id": "initial_id",
   "metadata": {
    "collapsed": true,
    "ExecuteTime": {
     "end_time": "2024-06-03T00:11:50.113214Z",
     "start_time": "2024-06-03T00:11:49.158028Z"
    }
   },
   "outputs": [],
   "source": [
    "import numpy as np\n",
    "from src.Preprocessing import create_labels_single_column\n",
    "from src.Particle import ParticleType\n",
    "import matplotlib.pyplot as plt\n",
    "from sklearn.utils import shuffle\n",
    "from sklearn.model_selection import train_test_split\n",
    "from sklearn.tree import DecisionTreeClassifier, plot_tree\n",
    "from sklearn.metrics import recall_score, precision_score, confusion_matrix, precision_recall_curve, roc_curve, auc\n",
    "from sklearn.model_selection import cross_val_predict"
   ]
  },
  {
   "cell_type": "code",
   "outputs": [
    {
     "name": "stdout",
     "output_type": "stream",
     "text": [
      "Number of Gluon Jets: 177252\n",
      "Number of LightQuark Jets: 170679\n"
     ]
    }
   ],
   "source": [
    "# loading the data\n",
    "efps_gluon = np.load(\"../../../Data/g_efps_d5_primed.npy\")\n",
    "efps_quark = np.load(\"../../../Data/q_efps_d5_primed.npy\")\n",
    "\n",
    "print(f\"Number of Gluon Jets: {efps_gluon.shape[0]}\")\n",
    "print(f\"Number of LightQuark Jets: {efps_quark.shape[0]}\")"
   ],
   "metadata": {
    "collapsed": false,
    "ExecuteTime": {
     "end_time": "2024-06-03T00:11:50.161846Z",
     "start_time": "2024-06-03T00:11:50.114063Z"
    }
   },
   "id": "c8910499d7e5c3c0",
   "execution_count": 2
  },
  {
   "cell_type": "code",
   "outputs": [],
   "source": [
    "# joinning the data \n",
    "# half of the data represents Top jets, the other half represents non-top quark jets\n",
    "X = np.vstack((efps_quark, efps_gluon))\n",
    "y = create_labels_single_column(jet_inputs={ParticleType.Gluon: (efps_quark.shape[0], X.shape[0] - 1), ParticleType.LightQuark: (0, efps_quark.shape[0] - 1)})\n",
    "# shuffling the data\n",
    "X, y = shuffle(X, y, random_state=42)"
   ],
   "metadata": {
    "collapsed": false,
    "ExecuteTime": {
     "end_time": "2024-06-02T18:24:24.443576Z",
     "start_time": "2024-06-02T18:24:24.324792Z"
    }
   },
   "id": "42f04f66e7bd26d4",
   "execution_count": 3
  },
  {
   "cell_type": "code",
   "outputs": [
    {
     "name": "stdout",
     "output_type": "stream",
     "text": [
      "Size of the Training set: 251379\n",
      "Size of the Validation set: 44362\n",
      "Size of the Test set: 52190\n"
     ]
    }
   ],
   "source": [
    "# Dividing the data into trainning, validation, and test\n",
    "# diving the set into trainning, validation, and test\n",
    "X_train, X_test, y_train, y_test = train_test_split(X, y, test_size=0.15, random_state=42)\n",
    "X_train, X_val, y_train, y_val = train_test_split(X_train, y_train, test_size=0.15, random_state=42)\n",
    "\n",
    "print(f\"Size of the Training set: {X_train.shape[0]}\")\n",
    "print(f\"Size of the Validation set: {X_val.shape[0]}\")\n",
    "print(f\"Size of the Test set: {X_test.shape[0]}\")"
   ],
   "metadata": {
    "collapsed": false,
    "ExecuteTime": {
     "end_time": "2024-06-02T18:24:44.895465Z",
     "start_time": "2024-06-02T18:24:44.728064Z"
    }
   },
   "id": "aee0ef6e66206767",
   "execution_count": 4
  },
  {
   "cell_type": "code",
   "outputs": [
    {
     "data": {
      "text/plain": "DecisionTreeClassifier(criterion='entropy', max_depth=20, min_samples_leaf=100,\n                       random_state=0)",
      "text/html": "<style>#sk-container-id-8 {color: black;}#sk-container-id-8 pre{padding: 0;}#sk-container-id-8 div.sk-toggleable {background-color: white;}#sk-container-id-8 label.sk-toggleable__label {cursor: pointer;display: block;width: 100%;margin-bottom: 0;padding: 0.3em;box-sizing: border-box;text-align: center;}#sk-container-id-8 label.sk-toggleable__label-arrow:before {content: \"▸\";float: left;margin-right: 0.25em;color: #696969;}#sk-container-id-8 label.sk-toggleable__label-arrow:hover:before {color: black;}#sk-container-id-8 div.sk-estimator:hover label.sk-toggleable__label-arrow:before {color: black;}#sk-container-id-8 div.sk-toggleable__content {max-height: 0;max-width: 0;overflow: hidden;text-align: left;background-color: #f0f8ff;}#sk-container-id-8 div.sk-toggleable__content pre {margin: 0.2em;color: black;border-radius: 0.25em;background-color: #f0f8ff;}#sk-container-id-8 input.sk-toggleable__control:checked~div.sk-toggleable__content {max-height: 200px;max-width: 100%;overflow: auto;}#sk-container-id-8 input.sk-toggleable__control:checked~label.sk-toggleable__label-arrow:before {content: \"▾\";}#sk-container-id-8 div.sk-estimator input.sk-toggleable__control:checked~label.sk-toggleable__label {background-color: #d4ebff;}#sk-container-id-8 div.sk-label input.sk-toggleable__control:checked~label.sk-toggleable__label {background-color: #d4ebff;}#sk-container-id-8 input.sk-hidden--visually {border: 0;clip: rect(1px 1px 1px 1px);clip: rect(1px, 1px, 1px, 1px);height: 1px;margin: -1px;overflow: hidden;padding: 0;position: absolute;width: 1px;}#sk-container-id-8 div.sk-estimator {font-family: monospace;background-color: #f0f8ff;border: 1px dotted black;border-radius: 0.25em;box-sizing: border-box;margin-bottom: 0.5em;}#sk-container-id-8 div.sk-estimator:hover {background-color: #d4ebff;}#sk-container-id-8 div.sk-parallel-item::after {content: \"\";width: 100%;border-bottom: 1px solid gray;flex-grow: 1;}#sk-container-id-8 div.sk-label:hover label.sk-toggleable__label {background-color: #d4ebff;}#sk-container-id-8 div.sk-serial::before {content: \"\";position: absolute;border-left: 1px solid gray;box-sizing: border-box;top: 0;bottom: 0;left: 50%;z-index: 0;}#sk-container-id-8 div.sk-serial {display: flex;flex-direction: column;align-items: center;background-color: white;padding-right: 0.2em;padding-left: 0.2em;position: relative;}#sk-container-id-8 div.sk-item {position: relative;z-index: 1;}#sk-container-id-8 div.sk-parallel {display: flex;align-items: stretch;justify-content: center;background-color: white;position: relative;}#sk-container-id-8 div.sk-item::before, #sk-container-id-8 div.sk-parallel-item::before {content: \"\";position: absolute;border-left: 1px solid gray;box-sizing: border-box;top: 0;bottom: 0;left: 50%;z-index: -1;}#sk-container-id-8 div.sk-parallel-item {display: flex;flex-direction: column;z-index: 1;position: relative;background-color: white;}#sk-container-id-8 div.sk-parallel-item:first-child::after {align-self: flex-end;width: 50%;}#sk-container-id-8 div.sk-parallel-item:last-child::after {align-self: flex-start;width: 50%;}#sk-container-id-8 div.sk-parallel-item:only-child::after {width: 0;}#sk-container-id-8 div.sk-dashed-wrapped {border: 1px dashed gray;margin: 0 0.4em 0.5em 0.4em;box-sizing: border-box;padding-bottom: 0.4em;background-color: white;}#sk-container-id-8 div.sk-label label {font-family: monospace;font-weight: bold;display: inline-block;line-height: 1.2em;}#sk-container-id-8 div.sk-label-container {text-align: center;}#sk-container-id-8 div.sk-container {/* jupyter's `normalize.less` sets `[hidden] { display: none; }` but bootstrap.min.css set `[hidden] { display: none !important; }` so we also need the `!important` here to be able to override the default hidden behavior on the sphinx rendered scikit-learn.org. See: https://github.com/scikit-learn/scikit-learn/issues/21755 */display: inline-block !important;position: relative;}#sk-container-id-8 div.sk-text-repr-fallback {display: none;}</style><div id=\"sk-container-id-8\" class=\"sk-top-container\"><div class=\"sk-text-repr-fallback\"><pre>DecisionTreeClassifier(criterion=&#x27;entropy&#x27;, max_depth=20, min_samples_leaf=100,\n                       random_state=0)</pre><b>In a Jupyter environment, please rerun this cell to show the HTML representation or trust the notebook. <br />On GitHub, the HTML representation is unable to render, please try loading this page with nbviewer.org.</b></div><div class=\"sk-container\" hidden><div class=\"sk-item\"><div class=\"sk-estimator sk-toggleable\"><input class=\"sk-toggleable__control sk-hidden--visually\" id=\"sk-estimator-id-8\" type=\"checkbox\" checked><label for=\"sk-estimator-id-8\" class=\"sk-toggleable__label sk-toggleable__label-arrow\">DecisionTreeClassifier</label><div class=\"sk-toggleable__content\"><pre>DecisionTreeClassifier(criterion=&#x27;entropy&#x27;, max_depth=20, min_samples_leaf=100,\n                       random_state=0)</pre></div></div></div></div></div>"
     },
     "execution_count": 31,
     "metadata": {},
     "output_type": "execute_result"
    }
   ],
   "source": [
    "dt_model = DecisionTreeClassifier(criterion='entropy', max_depth=20, min_samples_leaf=100, random_state=0)\n",
    "dt_model.fit(X_train, y_train)"
   ],
   "metadata": {
    "collapsed": false,
    "ExecuteTime": {
     "end_time": "2024-06-02T18:44:58.749449Z",
     "start_time": "2024-06-02T18:44:37.265689Z"
    }
   },
   "id": "66789c01e242fcd4",
   "execution_count": 31
  },
  {
   "cell_type": "code",
   "outputs": [
    {
     "name": "stdout",
     "output_type": "stream",
     "text": [
      "Trainnig set:\n",
      "Recall for Quark tagging: 0.64\n",
      "Precision for Quark tagging: 0.75\n",
      "Confusion Matrix\n",
      "[[101831  26203]\n",
      " [ 44955  78390]]\n"
     ]
    }
   ],
   "source": [
    "# Tranning set\n",
    "y_train_predict = dt_model.predict(X_train)\n",
    "\n",
    "print(\"Trainnig set:\")\n",
    "print(f\"Recall for Quark tagging: {recall_score(y_train, y_train_predict):.2f}\")\n",
    "print(f\"Precision for Quark tagging: {precision_score(y_train, y_train_predict):.2f}\")\n",
    "print(\"Confusion Matrix\")\n",
    "print(confusion_matrix(y_train, y_train_predict, labels=[0, 1]))"
   ],
   "metadata": {
    "collapsed": false,
    "ExecuteTime": {
     "end_time": "2024-06-02T18:44:59.026270Z",
     "start_time": "2024-06-02T18:44:58.750261Z"
    }
   },
   "id": "eede25f39339efca",
   "execution_count": 32
  },
  {
   "cell_type": "code",
   "outputs": [
    {
     "name": "stdout",
     "output_type": "stream",
     "text": [
      "Validation set:\n",
      "Recall for Quark tagging: 0.61214\n",
      "Precision for Quark tagging: 0.71980\n",
      "Confusion Matrix\n",
      "[[17397  5189]\n",
      " [ 8446 13330]]\n"
     ]
    }
   ],
   "source": [
    "y_val_predict = dt_model.predict(X_val)\n",
    "\n",
    "print(\"Validation set:\")\n",
    "print(f\"Recall for Quark tagging: {recall_score(y_val, y_val_predict):.2f}\")\n",
    "print(f\"Precision for Quark tagging: {precision_score(y_val, y_val_predict):.2f}\")\n",
    "print(\"Confusion Matrix\")\n",
    "print(confusion_matrix(y_val, y_val_predict, labels=[0, 1]))"
   ],
   "metadata": {
    "collapsed": false,
    "ExecuteTime": {
     "end_time": "2024-06-02T18:51:50.807530Z",
     "start_time": "2024-06-02T18:51:50.748267Z"
    }
   },
   "id": "212b1b8b37fe1f42",
   "execution_count": 41
  },
  {
   "cell_type": "code",
   "outputs": [
    {
     "data": {
      "text/plain": "array([[0.78640777, 0.21359223],\n       [0.33018868, 0.66981132],\n       [0.7184466 , 0.2815534 ],\n       ...,\n       [0.60126582, 0.39873418],\n       [0.5826087 , 0.4173913 ],\n       [0.27559055, 0.72440945]])"
     },
     "execution_count": 34,
     "metadata": {},
     "output_type": "execute_result"
    }
   ],
   "source": [
    "# evaluating the probabilities of each sample in the trainning data using \n",
    "# K-fold cross validation - it returns the probability of the sample in each class\n",
    "y_probabilities = cross_val_predict(dt_model, X_train, y_train, cv=6, method='predict_proba')"
   ],
   "metadata": {
    "collapsed": false,
    "ExecuteTime": {
     "end_time": "2024-06-02T18:48:06.152207Z",
     "start_time": "2024-06-02T18:46:21.015221Z"
    }
   },
   "id": "6fe068afa243f3ed",
   "execution_count": 34
  },
  {
   "cell_type": "code",
   "outputs": [
    {
     "name": "stdout",
     "output_type": "stream",
     "text": [
      "AUC: 0.75\n"
     ]
    },
    {
     "data": {
      "text/plain": "<Figure size 640x480 with 1 Axes>",
      "image/png": "[encoded data removed]"
     },
     "metadata": {},
     "output_type": "display_data"
    }
   ],
   "source": [
    "y_score = y_probabilities[:, 1]\n",
    "plt.plot()\n",
    "# roc curve for top tagging \n",
    "fpr, tpr, _ = roc_curve(y_train, y_score)\n",
    "plt.plot(fpr, tpr)\n",
    "plt.xlabel('FPR')\n",
    "plt.ylabel('TPR (Recall)')\n",
    "print(f\"AUC: {auc(fpr, tpr):.2f}\")\n"
   ],
   "metadata": {
    "collapsed": false,
    "ExecuteTime": {
     "end_time": "2024-06-02T18:52:24.176414Z",
     "start_time": "2024-06-02T18:52:24.079443Z"
    }
   },
   "id": "afce2c3b1a7ad9ba",
   "execution_count": 43
  }
 ],
 "metadata": {
  "kernelspec": {
   "display_name": "Python 3",
   "language": "python",
   "name": "python3"
  },
  "language_info": {
   "codemirror_mode": {
    "name": "ipython",
    "version": 2
   },
   "file_extension": ".py",
   "mimetype": "text/x-python",
   "name": "python",
   "nbconvert_exporter": "python",
   "pygments_lexer": "ipython2",
   "version": "2.7.6"
  }
 },
 "nbformat": 4,
 "nbformat_minor": 5
}
