{
 "cells": [
  {
   "cell_type": "code",
   "execution_count": 1,
   "id": "initial_id",
   "metadata": {
    "collapsed": true,
    "ExecuteTime": {
     "end_time": "2024-06-19T22:23:58.876761Z",
     "start_time": "2024-06-19T22:23:58.006656Z"
    }
   },
   "outputs": [],
   "source": [
    "from ML.EFPs.data_loaders import load_data_top_tagging\n",
    "from sklearn.ensemble import RandomForestClassifier\n",
    "import joblib\n",
    "import utilities.utilities as utilities"
   ]
  },
  {
   "cell_type": "markdown",
   "source": [
    "#### Loading the Dataset"
   ],
   "metadata": {
    "collapsed": false
   },
   "id": "8c34330e8b602b01"
  },
  {
   "cell_type": "code",
   "outputs": [],
   "source": [
    "root_data_folder = \"../../../Data\"\n",
    "X_train, y_train = load_data_top_tagging(\n",
    "    quark_data_path=f\"{root_data_folder}/Trainning/q_jets_efps_d5_primed.npy\", \n",
    "    gluon_data_path=f\"{root_data_folder}/Trainning/g_jets_efps_d5_primed.npy\",\n",
    "    top_data_path=f\"{root_data_folder}/Trainning/t_jets_efps_d5_primed.npy\"\n",
    ")\n",
    "X_val, y_val = load_data_top_tagging(\n",
    "    quark_data_path=f\"{root_data_folder}/Validation/q_jets_efps_d5_primed.npy\", \n",
    "    gluon_data_path=f\"{root_data_folder}/Validation/g_jets_efps_d5_primed.npy\",\n",
    "    top_data_path=f\"{root_data_folder}/Validation/t_jets_efps_d5_primed.npy\"\n",
    ")\n",
    "best_features_set = [0, 1, 3, 9, 11, 12, 15, 16, 18, 22, 28, 29, 34, 38, 39, 44, 45, 48]"
   ],
   "metadata": {
    "collapsed": false,
    "ExecuteTime": {
     "end_time": "2024-06-19T22:25:09.622759Z",
     "start_time": "2024-06-19T22:25:09.485660Z"
    }
   },
   "id": "440e443c18cc03de",
   "execution_count": 3
  },
  {
   "cell_type": "markdown",
   "source": [
    "#### Trainning the Random Forest"
   ],
   "metadata": {
    "collapsed": false
   },
   "id": "2b173d5ebb0f620"
  },
  {
   "cell_type": "code",
   "outputs": [
    {
     "name": "stdout",
     "output_type": "stream",
     "text": [
      "Oob_score: 0.8832589329610037\n"
     ]
    }
   ],
   "source": [
    "# as a base estimator we use the decision tree for the quark-gluon tagging\n",
    "random_forest = RandomForestClassifier(criterion=\"entropy\", max_depth=10, min_samples_split=300, oob_score=True)\n",
    "# trainning using only the best feature set\n",
    "random_forest.fit(X_train[:, best_features_set], y_train)\n",
    "print(f\"Oob_score: {random_forest.oob_score_}\")"
   ],
   "metadata": {
    "collapsed": false,
    "ExecuteTime": {
     "end_time": "2024-06-19T22:26:59.340554Z",
     "start_time": "2024-06-19T22:26:06.564681Z"
    }
   },
   "id": "6cbc7a6e622dbc85",
   "execution_count": 4
  },
  {
   "cell_type": "markdown",
   "source": [
    "#### Some quick checks"
   ],
   "metadata": {
    "collapsed": false
   },
   "id": "ee039c9e3c843407"
  },
  {
   "cell_type": "code",
   "outputs": [
    {
     "name": "stdout",
     "output_type": "stream",
     "text": [
      "Recall: 0.9099\n",
      "Precision: 0.8671\n",
      "Confusion Matrix:\n",
      "[[19019  3163]\n",
      " [ 2045 20643]]\n"
     ]
    }
   ],
   "source": [
    "y_val_predict = random_forest.predict(X_val[:, best_features_set])\n",
    "utilities.display_metrics(y_val, y_val_predict)"
   ],
   "metadata": {
    "collapsed": false,
    "ExecuteTime": {
     "end_time": "2024-06-19T22:26:59.626376Z",
     "start_time": "2024-06-19T22:26:59.341521Z"
    }
   },
   "id": "5c7dbd254e3b466a",
   "execution_count": 5
  },
  {
   "cell_type": "code",
   "outputs": [
    {
     "data": {
      "text/plain": "<Figure size 640x480 with 1 Axes>",
      "image/png": "[encoded data removed]"
     },
     "metadata": {},
     "output_type": "display_data"
    },
    {
     "name": "stdout",
     "output_type": "stream",
     "text": [
      "AUC: 0.9542\n"
     ]
    }
   ],
   "source": [
    "# roc curve on the validation set\n",
    "y_score = random_forest.predict_proba(X_val[:, best_features_set])\n",
    "utilities.display_roc_curve(y_val, y_score[:, 1])"
   ],
   "metadata": {
    "collapsed": false,
    "ExecuteTime": {
     "end_time": "2024-06-19T22:26:59.936936Z",
     "start_time": "2024-06-19T22:26:59.626886Z"
    }
   },
   "id": "64d7c134e4db3fc9",
   "execution_count": 6
  },
  {
   "cell_type": "markdown",
   "source": [
    "#### Saving the model"
   ],
   "metadata": {
    "collapsed": false
   },
   "id": "ac711b65a4bacc5d"
  },
  {
   "cell_type": "code",
   "outputs": [],
   "source": [
    "with open(\"Top_Tagging_RandomForest.joblib\", \"wb\") as fo:\n",
    "    joblib.dump(random_forest, fo)"
   ],
   "metadata": {
    "collapsed": false,
    "ExecuteTime": {
     "end_time": "2024-06-19T22:27:36.284891Z",
     "start_time": "2024-06-19T22:27:36.259516Z"
    }
   },
   "id": "bff67053389f996c",
   "execution_count": 7
  }
 ],
 "metadata": {
  "kernelspec": {
   "display_name": "Python 3",
   "language": "python",
   "name": "python3"
  },
  "language_info": {
   "codemirror_mode": {
    "name": "ipython",
    "version": 2
   },
   "file_extension": ".py",
   "mimetype": "text/x-python",
   "name": "python",
   "nbconvert_exporter": "python",
   "pygments_lexer": "ipython2",
   "version": "2.7.6"
  }
 },
 "nbformat": 4,
 "nbformat_minor": 5
}
