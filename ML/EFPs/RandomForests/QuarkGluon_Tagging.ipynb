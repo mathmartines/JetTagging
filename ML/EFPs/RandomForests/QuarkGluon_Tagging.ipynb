{
 "cells": [
  {
   "cell_type": "code",
   "execution_count": 1,
   "id": "initial_id",
   "metadata": {
    "collapsed": true,
    "ExecuteTime": {
     "end_time": "2024-06-19T22:10:04.886419Z",
     "start_time": "2024-06-19T22:10:03.937815Z"
    }
   },
   "outputs": [],
   "source": [
    "from ML.EFPs.data_loaders import load_data_qg_tagging\n",
    "from sklearn.ensemble import RandomForestClassifier\n",
    "import joblib\n",
    "import utilities.utilities as utilities"
   ]
  },
  {
   "cell_type": "markdown",
   "source": [
    "#### Loading the Dataset"
   ],
   "metadata": {
    "collapsed": false
   },
   "id": "e5d386341c851b4d"
  },
  {
   "cell_type": "code",
   "outputs": [],
   "source": [
    "root_data_folder = \"../../../Data\"\n",
    "X_train, y_train = load_data_qg_tagging(\n",
    "    quark_data_path=f\"{root_data_folder}/Trainning/q_jets_efps_d5_primed.npy\", \n",
    "    gluon_data_path=f\"{root_data_folder}/Trainning/g_jets_efps_d5_primed.npy\"\n",
    ")\n",
    "X_val, y_val = load_data_qg_tagging(\n",
    "    quark_data_path=f\"{root_data_folder}/Validation/q_jets_efps_d5_primed.npy\", \n",
    "    gluon_data_path=f\"{root_data_folder}/Validation/g_jets_efps_d5_primed.npy\"\n",
    ") \n",
    "best_features_set = [0, 1, 5, 6, 12, 17, 33, 42, 43, 48]"
   ],
   "metadata": {
    "collapsed": false,
    "ExecuteTime": {
     "end_time": "2024-06-19T22:10:10.511975Z",
     "start_time": "2024-06-19T22:10:10.358679Z"
    }
   },
   "id": "74cff096a1196401",
   "execution_count": 2
  },
  {
   "cell_type": "markdown",
   "source": [
    "#### Creating the Random Forest"
   ],
   "metadata": {
    "collapsed": false
   },
   "id": "83981073366425e1"
  },
  {
   "cell_type": "code",
   "outputs": [
    {
     "name": "stdout",
     "output_type": "stream",
     "text": [
      "Oob_score: 0.7894414410113813\n"
     ]
    }
   ],
   "source": [
    "random_forest = RandomForestClassifier(max_depth=10, min_samples_split=250, oob_score=True)\n",
    "# trainning using only the best feature set\n",
    "random_forest.fit(X_train[:, best_features_set], y_train)\n",
    "print(f\"Oob_score: {random_forest.oob_score_}\")"
   ],
   "metadata": {
    "collapsed": false,
    "ExecuteTime": {
     "end_time": "2024-06-19T22:19:48.397296Z",
     "start_time": "2024-06-19T22:19:09.501009Z"
    }
   },
   "id": "a716592e71fd5c7f",
   "execution_count": 12
  },
  {
   "cell_type": "markdown",
   "source": [
    "#### Some quick checks"
   ],
   "metadata": {
    "collapsed": false
   },
   "id": "464c59e45a509cec"
  },
  {
   "cell_type": "code",
   "outputs": [
    {
     "name": "stdout",
     "output_type": "stream",
     "text": [
      "Recall: 0.7521\n",
      "Precision: 0.8009\n",
      "Confusion Matrix:\n",
      "[[18532  4068]\n",
      " [ 5394 16368]]\n"
     ]
    }
   ],
   "source": [
    "y_val_predict = random_forest.predict(X_val[:, best_features_set])\n",
    "utilities.display_metrics(y_val, y_val_predict)"
   ],
   "metadata": {
    "collapsed": false,
    "ExecuteTime": {
     "end_time": "2024-06-19T22:19:48.691210Z",
     "start_time": "2024-06-19T22:19:48.398179Z"
    }
   },
   "id": "8eee8963d67bf13a",
   "execution_count": 13
  },
  {
   "cell_type": "code",
   "outputs": [
    {
     "data": {
      "text/plain": "<Figure size 640x480 with 1 Axes>",
      "image/png": "[encoded data removed]"
     },
     "metadata": {},
     "output_type": "display_data"
    },
    {
     "name": "stdout",
     "output_type": "stream",
     "text": [
      "AUC: 0.8683\n"
     ]
    }
   ],
   "source": [
    "# roc curve on the validation set\n",
    "y_score = random_forest.predict_proba(X_val[:, best_features_set])\n",
    "utilities.display_roc_curve(y_val, y_score[:, 1])"
   ],
   "metadata": {
    "collapsed": false,
    "ExecuteTime": {
     "end_time": "2024-06-19T22:21:25.982355Z",
     "start_time": "2024-06-19T22:21:25.678895Z"
    }
   },
   "id": "7a06066ca3ccc87a",
   "execution_count": 19
  },
  {
   "cell_type": "markdown",
   "source": [
    "#### Saving the model"
   ],
   "metadata": {
    "collapsed": false
   },
   "id": "ccfc3312da5ab299"
  },
  {
   "cell_type": "code",
   "outputs": [],
   "source": [
    "with open(\"QuarkGluon_Tagging_RandomForest.joblib\", \"wb\") as fo:\n",
    "    joblib.dump(random_forest, fo)"
   ],
   "metadata": {
    "collapsed": false,
    "ExecuteTime": {
     "end_time": "2024-06-19T22:20:48.835344Z",
     "start_time": "2024-06-19T22:20:48.811688Z"
    }
   },
   "id": "2064ebcc855ec39a",
   "execution_count": 17
  }
 ],
 "metadata": {
  "kernelspec": {
   "display_name": "Python 3",
   "language": "python",
   "name": "python3"
  },
  "language_info": {
   "codemirror_mode": {
    "name": "ipython",
    "version": 2
   },
   "file_extension": ".py",
   "mimetype": "text/x-python",
   "name": "python",
   "nbconvert_exporter": "python",
   "pygments_lexer": "ipython2",
   "version": "2.7.6"
  }
 },
 "nbformat": 4,
 "nbformat_minor": 5
}
