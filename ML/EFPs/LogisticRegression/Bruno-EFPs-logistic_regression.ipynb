{
 "cells": [
  {
   "cell_type": "code",
   "id": "initial_id",
   "metadata": {
    "collapsed": true,
    "ExecuteTime": {
     "end_time": "2024-06-23T16:33:06.376703Z",
     "start_time": "2024-06-23T16:33:06.361826Z"
    }
   },
   "source": "tagging = \"qg\" # \"top\", \"qg\"",
   "outputs": [],
   "execution_count": 57
  },
  {
   "metadata": {
    "ExecuteTime": {
     "end_time": "2024-06-23T16:33:06.704969Z",
     "start_time": "2024-06-23T16:33:06.408253Z"
    }
   },
   "cell_type": "code",
   "source": [
    "from ML.EFPs.split import split\n",
    "\n",
    "# Partitioning and Splitting\n",
    "X_train, X_val, X_test, y_train, y_val, y_test = split(tagging)"
   ],
   "id": "5e112a3a0464a632",
   "outputs": [],
   "execution_count": 58
  },
  {
   "metadata": {
    "ExecuteTime": {
     "end_time": "2024-06-23T16:33:06.712513Z",
     "start_time": "2024-06-23T16:33:06.704969Z"
    }
   },
   "cell_type": "code",
   "source": "n = 3 # 0, 1, 2, 3, 4, 5",
   "id": "e04a28648162161c",
   "outputs": [],
   "execution_count": 59
  },
  {
   "metadata": {
    "ExecuteTime": {
     "end_time": "2024-06-23T16:33:06.921996Z",
     "start_time": "2024-06-23T16:33:06.714009Z"
    }
   },
   "cell_type": "code",
   "source": [
    "from src.Preprocessing.norm import norm\n",
    "\n",
    "# Normalization\n",
    "X_train, X_val, X_test = norm(n,X_train), norm(n,X_val), norm(n,X_test)"
   ],
   "id": "b424919970f3ba15",
   "outputs": [],
   "execution_count": 60
  },
  {
   "metadata": {
    "ExecuteTime": {
     "end_time": "2024-06-23T16:33:07.013848Z",
     "start_time": "2024-06-23T16:33:06.923088Z"
    }
   },
   "cell_type": "code",
   "source": [
    "import numpy as np\n",
    "\n",
    "# Combine training and validation sets for GridSearchCV\n",
    "X_train_val = np.concatenate((X_train, X_val), axis=0)\n",
    "y_train_val = np.concatenate((y_train, y_val), axis=0)"
   ],
   "id": "e78b76b2ae03a29c",
   "outputs": [],
   "execution_count": 61
  },
  {
   "metadata": {
    "ExecuteTime": {
     "end_time": "2024-06-23T17:56:37.690054Z",
     "start_time": "2024-06-23T16:33:07.015176Z"
    }
   },
   "cell_type": "code",
   "source": [
    "from sklearn.linear_model import LogisticRegression\n",
    "from sklearn.model_selection import GridSearchCV\n",
    "from sklearn.metrics import make_scorer, roc_auc_score\n",
    "\n",
    "model = LogisticRegression(\n",
    "    tol=1e-3,\n",
    "    warm_start=True,\n",
    "    solver='saga',\n",
    "    max_iter=10000,\n",
    "    class_weight=None # as categorias já estão balanceadas\n",
    ")\n",
    "\n",
    "# Define the parameter grid\n",
    "param_grid = [\n",
    "    {'penalty': [None]},\n",
    "    {'penalty': ['elasticnet'],'l1_ratio': [0, 0.5, 1],'C': [0.1,1,10]}\n",
    "]\n",
    "\n",
    "# Create the custom AUC scorer\n",
    "auc_scorer = make_scorer(roc_auc_score, response_method='predict_proba')\n",
    "\n",
    "# Initialize GridSearchCV\n",
    "grid_search = GridSearchCV(estimator=model, param_grid=param_grid, scoring=auc_scorer)\n",
    "\n",
    "# Fit the GridSearchCV to the training data\n",
    "grid_search.fit(X_train_val, y_train_val)\n",
    "\n",
    "# Retrieve the best parameters and score\n",
    "best_params = grid_search.best_params_\n",
    "best_score = grid_search.best_score_\n",
    "\n",
    "print(\"Best Parameters:\", best_params)\n",
    "print(\"Train+Val AUC Score:\", best_score)\n",
    "\n",
    "# Evaluate on the test set\n",
    "best_model = grid_search.best_estimator_\n",
    "test_auc_score = roc_auc_score(y_test, best_model.predict_proba(X_test)[:, 1])\n",
    "print(\"Test AUC Score:\", test_auc_score)"
   ],
   "id": "8d7e6b99b7b37c07",
   "outputs": [
    {
     "name": "stdout",
     "output_type": "stream",
     "text": [
      "Best Parameters: {'penalty': None}\n",
      "Train+Val AUC Score: 0.8489288985173138\n",
      "Test AUC Score: 0.8484259215611765\n"
     ]
    }
   ],
   "execution_count": 62
  },
  {
   "metadata": {},
   "cell_type": "markdown",
   "source": [
    "Top n0:\n",
    "\n",
    "Best Parameters: {'penalty': None}\n",
    "\n",
    "Train+Val AUC Score: 0.9477558428617991\n",
    "\n",
    "Test AUC Score: 0.9490567565579713"
   ],
   "id": "ed91059b991cea74"
  },
  {
   "metadata": {},
   "cell_type": "markdown",
   "source": [
    "Top n1:\n",
    "\n",
    "Best Parameters: {'C': 10, 'l1_ratio': 1, 'penalty': 'elasticnet'}\n",
    "\n",
    "Train+Val AUC Score: 0.9501137539494614\n",
    "\n",
    "Test AUC Score: 0.9477973230382086"
   ],
   "id": "7b15441461e071c4"
  },
  {
   "metadata": {},
   "cell_type": "markdown",
   "source": [
    "Top n3:\n",
    "\n",
    "Best Parameters: {'penalty': None}\n",
    "\n",
    "Train+Val AUC Score: 0.9452454353548141\n",
    "\n",
    "Test AUC Score: 0.9462030370083123"
   ],
   "id": "e39dfa560ec64ff8"
  },
  {
   "metadata": {},
   "cell_type": "markdown",
   "source": [
    "QG n0:\n",
    "\n",
    "Best Parameters: {'C': 1, 'l1_ratio': 1, 'penalty': 'elasticnet'}\n",
    "\n",
    "Train+Val AUC Score: 0.8401828164212167\n",
    "\n",
    "Test AUC Score: 0.8385689095228394"
   ],
   "id": "3ada4179691b1b50"
  },
  {
   "metadata": {},
   "cell_type": "markdown",
   "source": [
    "QG n3:\n",
    "\n",
    "Best Parameters: {'penalty': None}\n",
    "\n",
    "Train+Val AUC Score: 0.8489288985173138\n",
    "\n",
    "Test AUC Score: 0.8484259215611765"
   ],
   "id": "ef0eafa4c5181e13"
  },
  {
   "metadata": {},
   "cell_type": "markdown",
   "source": "# Saving the model",
   "id": "14d40290d15180d"
  },
  {
   "metadata": {
    "ExecuteTime": {
     "end_time": "2024-06-23T18:01:30.489068Z",
     "start_time": "2024-06-23T18:01:30.477981Z"
    }
   },
   "cell_type": "code",
   "source": [
    "import joblib\n",
    "\n",
    "# Save the trained model to a file\n",
    "joblib_file = \"LogisticRegression_qg_n3.joblib\"\n",
    "joblib.dump(best_model, joblib_file)"
   ],
   "id": "5c17cf763bc3a369",
   "outputs": [
    {
     "data": {
      "text/plain": [
       "['LogisticRegression_qg_n3.joblib']"
      ]
     },
     "execution_count": 64,
     "metadata": {},
     "output_type": "execute_result"
    }
   ],
   "execution_count": 64
  },
  {
   "metadata": {},
   "cell_type": "markdown",
   "source": "# Loading the models",
   "id": "b7db065e64d86a64"
  },
  {
   "metadata": {
    "ExecuteTime": {
     "end_time": "2024-06-23T18:22:32.591671Z",
     "start_time": "2024-06-23T18:22:32.403149Z"
    }
   },
   "cell_type": "code",
   "source": [
    "loaded_logreg1 = joblib.load(\"LogisticRegression_top_n0.joblib\")\n",
    "loaded_logreg2 = joblib.load(\"LogisticRegression_qg_n3.joblib\")"
   ],
   "id": "a0cf7176693edee6",
   "outputs": [],
   "execution_count": 65
  },
  {
   "metadata": {
    "ExecuteTime": {
     "end_time": "2024-06-23T18:30:16.805842Z",
     "start_time": "2024-06-23T18:30:16.667645Z"
    }
   },
   "cell_type": "code",
   "source": "print(loaded_logreg1.intercept_,loaded_logreg1.coef_)",
   "id": "b0236db906da950",
   "outputs": [
    {
     "name": "stdout",
     "output_type": "stream",
     "text": [
      "[-7.8291638] [[   2.1199024    93.61709804   55.99737824 -348.39928345  -43.38862406\n",
      "   114.35126716 -108.71609173 -113.23333932  -15.18485591  -69.38693334\n",
      "    48.10689851  -11.98067895  847.30162436  390.85654579  173.13515903\n",
      "   156.44425989  438.38119949  165.38306622   77.97379694   65.84008409\n",
      "  -669.22812227 -269.42391644 -175.57187025 -101.93059334  -32.85969039\n",
      "  -115.47715737  -76.58836625  158.02418669   49.96257857   82.41829425\n",
      "    54.23419134 -340.21664906 -132.24279014   30.24546389  262.70581233\n",
      "   101.45824108 -114.83130892  -40.52184524  -20.46215681  -55.2514097\n",
      "  -187.23676994  -71.20868715  -64.78100075   44.58224554   19.96551909\n",
      "     7.81310073  -68.022896     -4.38414982  110.11837013   -8.37791346\n",
      "   -25.20454281  -40.4051249   -34.92107587  -45.2811042 ]]\n"
     ]
    }
   ],
   "execution_count": 69
  },
  {
   "metadata": {
    "ExecuteTime": {
     "end_time": "2024-06-23T18:30:28.728326Z",
     "start_time": "2024-06-23T18:30:28.721490Z"
    }
   },
   "cell_type": "code",
   "source": "print(loaded_logreg2.intercept_,loaded_logreg2.coef_",
   "id": "bf26bd2e6faecbba",
   "outputs": [
    {
     "name": "stdout",
     "output_type": "stream",
     "text": [
      "[2.94281667] [[ 2.20222631  3.28138751  2.54174708 -0.93395493 -1.25711667  1.44580354\n",
      "   3.83605018  1.20509578  0.23052523 -0.17130515  2.42785297  1.17872136\n",
      "  -0.78943718 -1.55098244 -1.74549898 -0.45004004  1.92045622 -0.79494907\n",
      "   0.29753968 -1.17196512  0.04107184  0.69964964 -2.9877925   0.90884443\n",
      "  -1.81987052  0.38540944  0.07084035  1.83861052  1.28260277  0.15628587\n",
      "   2.14506328 -3.33712872 -4.73728506 -3.51568678 -0.27064247 -0.93914125\n",
      "   0.60643347  0.05418223 -0.84362951  1.81120958  2.29930656  1.54633498\n",
      "  -0.05650449  0.90671632  2.90312406 -1.05333479 -2.45503348 -0.45178054\n",
      "  -0.49173216 -0.27136879  2.06378218 -0.84492797  2.60122965 -1.52730636]]\n"
     ]
    }
   ],
   "execution_count": 70
  }
 ],
 "metadata": {
  "kernelspec": {
   "display_name": "Python 3",
   "language": "python",
   "name": "python3"
  },
  "language_info": {
   "codemirror_mode": {
    "name": "ipython",
    "version": 2
   },
   "file_extension": ".py",
   "mimetype": "text/x-python",
   "name": "python",
   "nbconvert_exporter": "python",
   "pygments_lexer": "ipython2",
   "version": "2.7.6"
  }
 },
 "nbformat": 4,
 "nbformat_minor": 5
}
