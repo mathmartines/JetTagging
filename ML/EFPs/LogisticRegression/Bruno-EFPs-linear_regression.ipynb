{
 "cells": [
  {
   "cell_type": "code",
   "id": "initial_id",
   "metadata": {
    "collapsed": true,
    "ExecuteTime": {
     "end_time": "2024-06-23T16:33:06.376703Z",
     "start_time": "2024-06-23T16:33:06.361826Z"
    }
   },
   "source": "tagging = \"qg\" # \"top\", \"qg\"",
   "outputs": [],
   "execution_count": 57
  },
  {
   "metadata": {
    "ExecuteTime": {
     "end_time": "2024-06-23T16:33:06.704969Z",
     "start_time": "2024-06-23T16:33:06.408253Z"
    }
   },
   "cell_type": "code",
   "source": [
    "from ML.EFPs.split import split\n",
    "\n",
    "# Partitioning and Splitting\n",
    "X_train, X_val, X_test, y_train, y_val, y_test = split(tagging)"
   ],
   "id": "5e112a3a0464a632",
   "outputs": [],
   "execution_count": 58
  },
  {
   "metadata": {
    "ExecuteTime": {
     "end_time": "2024-06-23T16:33:06.712513Z",
     "start_time": "2024-06-23T16:33:06.704969Z"
    }
   },
   "cell_type": "code",
   "source": "n = 3 # 0, 1, 2, 3, 4, 5",
   "id": "e04a28648162161c",
   "outputs": [],
   "execution_count": 59
  },
  {
   "metadata": {
    "ExecuteTime": {
     "end_time": "2024-06-23T16:33:06.921996Z",
     "start_time": "2024-06-23T16:33:06.714009Z"
    }
   },
   "cell_type": "code",
   "source": [
    "from src.Preprocessing.norm import norm\n",
    "\n",
    "# Normalization\n",
    "X_train, X_val, X_test = norm(n,X_train), norm(n,X_val), norm(n,X_test)"
   ],
   "id": "b424919970f3ba15",
   "outputs": [],
   "execution_count": 60
  },
  {
   "metadata": {
    "ExecuteTime": {
     "end_time": "2024-06-23T16:33:07.013848Z",
     "start_time": "2024-06-23T16:33:06.923088Z"
    }
   },
   "cell_type": "code",
   "source": [
    "import numpy as np\n",
    "\n",
    "# Combine training and validation sets for GridSearchCV\n",
    "X_train_val = np.concatenate((X_train, X_val), axis=0)\n",
    "y_train_val = np.concatenate((y_train, y_val), axis=0)"
   ],
   "id": "e78b76b2ae03a29c",
   "outputs": [],
   "execution_count": 61
  },
  {
   "metadata": {
    "ExecuteTime": {
     "end_time": "2024-06-23T17:56:37.690054Z",
     "start_time": "2024-06-23T16:33:07.015176Z"
    }
   },
   "cell_type": "code",
   "source": [
    "from sklearn.linear_model import LogisticRegression\n",
    "from sklearn.model_selection import GridSearchCV\n",
    "from sklearn.metrics import make_scorer, roc_auc_score\n",
    "\n",
    "model = LogisticRegression(\n",
    "    tol=1e-3,\n",
    "    warm_start=True,\n",
    "    solver='saga',\n",
    "    max_iter=10000,\n",
    "    class_weight=None # as categorias já estão balanceadas\n",
    ")\n",
    "\n",
    "# Define the parameter grid\n",
    "param_grid = [\n",
    "    {'penalty': [None]},\n",
    "    {'penalty': ['elasticnet'],'l1_ratio': [0, 0.5, 1],'C': [0.1,1,10]}\n",
    "]\n",
    "\n",
    "# Create the custom AUC scorer\n",
    "auc_scorer = make_scorer(roc_auc_score, response_method='predict_proba')\n",
    "\n",
    "# Initialize GridSearchCV\n",
    "grid_search = GridSearchCV(estimator=model, param_grid=param_grid, scoring=auc_scorer)\n",
    "\n",
    "# Fit the GridSearchCV to the training data\n",
    "grid_search.fit(X_train_val, y_train_val)\n",
    "\n",
    "# Retrieve the best parameters and score\n",
    "best_params = grid_search.best_params_\n",
    "best_score = grid_search.best_score_\n",
    "\n",
    "print(\"Best Parameters:\", best_params)\n",
    "print(\"Train+Val AUC Score:\", best_score)\n",
    "\n",
    "# Evaluate on the test set\n",
    "best_model = grid_search.best_estimator_\n",
    "test_auc_score = roc_auc_score(y_test, best_model.predict_proba(X_test)[:, 1])\n",
    "print(\"Test AUC Score:\", test_auc_score)"
   ],
   "id": "8d7e6b99b7b37c07",
   "outputs": [
    {
     "name": "stdout",
     "output_type": "stream",
     "text": [
      "Best Parameters: {'penalty': None}\n",
      "Train+Val AUC Score: 0.8489288985173138\n",
      "Test AUC Score: 0.8484259215611765\n"
     ]
    }
   ],
   "execution_count": 62
  },
  {
   "metadata": {},
   "cell_type": "markdown",
   "source": [
    "Top n0:\n",
    "\n",
    "Best Parameters: {'penalty': None}\n",
    "\n",
    "Train+Val AUC Score: 0.9477558428617991\n",
    "\n",
    "Test AUC Score: 0.9490567565579713"
   ],
   "id": "ed91059b991cea74"
  },
  {
   "metadata": {},
   "cell_type": "markdown",
   "source": [
    "Top n1:\n",
    "\n",
    "Best Parameters: {'C': 10, 'l1_ratio': 1, 'penalty': 'elasticnet'}\n",
    "\n",
    "Train+Val AUC Score: 0.9501137539494614\n",
    "\n",
    "Test AUC Score: 0.9477973230382086"
   ],
   "id": "7b15441461e071c4"
  },
  {
   "metadata": {},
   "cell_type": "markdown",
   "source": [
    "Top n3:\n",
    "\n",
    "Best Parameters: {'penalty': None}\n",
    "\n",
    "Train+Val AUC Score: 0.9452454353548141\n",
    "\n",
    "Test AUC Score: 0.9462030370083123"
   ],
   "id": "e39dfa560ec64ff8"
  },
  {
   "metadata": {},
   "cell_type": "markdown",
   "source": [
    "QG n0:\n",
    "\n",
    "Best Parameters: {'C': 1, 'l1_ratio': 1, 'penalty': 'elasticnet'}\n",
    "\n",
    "Train+Val AUC Score: 0.8401828164212167\n",
    "\n",
    "Test AUC Score: 0.8385689095228394"
   ],
   "id": "3ada4179691b1b50"
  },
  {
   "metadata": {},
   "cell_type": "markdown",
   "source": [
    "QG n3:\n",
    "\n",
    "Best Parameters: {'penalty': None}\n",
    "\n",
    "Train+Val AUC Score: 0.8489288985173138\n",
    "\n",
    "Test AUC Score: 0.8484259215611765"
   ],
   "id": "ef0eafa4c5181e13"
  },
  {
   "metadata": {},
   "cell_type": "markdown",
   "source": "# Saving the model",
   "id": "14d40290d15180d"
  },
  {
   "metadata": {
    "ExecuteTime": {
     "end_time": "2024-06-23T18:01:30.489068Z",
     "start_time": "2024-06-23T18:01:30.477981Z"
    }
   },
   "cell_type": "code",
   "source": [
    "import joblib\n",
    "\n",
    "# Save the trained model to a file\n",
    "joblib_file = \"LogisticRegression_qg_n3.joblib\"\n",
    "joblib.dump(best_model, joblib_file)"
   ],
   "id": "5c17cf763bc3a369",
   "outputs": [
    {
     "data": {
      "text/plain": [
       "['LogisticRegression_qg_n3.joblib']"
      ]
     },
     "execution_count": 64,
     "metadata": {},
     "output_type": "execute_result"
    }
   ],
   "execution_count": 64
  }
 ],
 "metadata": {
  "kernelspec": {
   "display_name": "Python 3",
   "language": "python",
   "name": "python3"
  },
  "language_info": {
   "codemirror_mode": {
    "name": "ipython",
    "version": 2
   },
   "file_extension": ".py",
   "mimetype": "text/x-python",
   "name": "python",
   "nbconvert_exporter": "python",
   "pygments_lexer": "ipython2",
   "version": "2.7.6"
  }
 },
 "nbformat": 4,
 "nbformat_minor": 5
}
