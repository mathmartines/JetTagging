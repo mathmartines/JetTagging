{
 "cells": [
  {
   "cell_type": "code",
   "id": "initial_id",
   "metadata": {
    "collapsed": true,
    "ExecuteTime": {
     "end_time": "2024-06-23T15:36:50.098808Z",
     "start_time": "2024-06-23T15:36:50.094998Z"
    }
   },
   "source": "tagging = \"qg\" # \"top\", \"qg\"",
   "outputs": [],
   "execution_count": 50
  },
  {
   "metadata": {
    "ExecuteTime": {
     "end_time": "2024-06-23T15:36:50.381774Z",
     "start_time": "2024-06-23T15:36:50.111093Z"
    }
   },
   "cell_type": "code",
   "source": [
    "from ML.EFPs.split import split\n",
    "\n",
    "# Partitioning and Splitting\n",
    "X_train, X_val, X_test, y_train, y_val, y_test = split(tagging)"
   ],
   "id": "5e112a3a0464a632",
   "outputs": [],
   "execution_count": 51
  },
  {
   "metadata": {
    "ExecuteTime": {
     "end_time": "2024-06-23T15:36:50.386539Z",
     "start_time": "2024-06-23T15:36:50.381774Z"
    }
   },
   "cell_type": "code",
   "source": "n = 0 # 0, 1, 2, 3, 4, 5",
   "id": "e04a28648162161c",
   "outputs": [],
   "execution_count": 52
  },
  {
   "metadata": {
    "ExecuteTime": {
     "end_time": "2024-06-23T15:36:50.396738Z",
     "start_time": "2024-06-23T15:36:50.386539Z"
    }
   },
   "cell_type": "code",
   "source": [
    "from src.Preprocessing.norm import norm\n",
    "\n",
    "# Normalization\n",
    "X_train, X_val, X_test = norm(n,X_train), norm(n,X_val), norm(n,X_test)"
   ],
   "id": "b424919970f3ba15",
   "outputs": [],
   "execution_count": 53
  },
  {
   "metadata": {
    "ExecuteTime": {
     "end_time": "2024-06-23T15:36:50.476906Z",
     "start_time": "2024-06-23T15:36:50.398892Z"
    }
   },
   "cell_type": "code",
   "source": [
    "import numpy as np\n",
    "\n",
    "# Combine training and validation sets for GridSearchCV\n",
    "X_train_val = np.concatenate((X_train, X_val), axis=0)\n",
    "y_train_val = np.concatenate((y_train, y_val), axis=0)"
   ],
   "id": "e78b76b2ae03a29c",
   "outputs": [],
   "execution_count": 54
  },
  {
   "metadata": {
    "jupyter": {
     "is_executing": true
    },
    "ExecuteTime": {
     "start_time": "2024-06-23T15:36:50.476906Z"
    }
   },
   "cell_type": "code",
   "source": [
    "from sklearn.linear_model import LogisticRegression\n",
    "from sklearn.model_selection import GridSearchCV\n",
    "from sklearn.metrics import make_scorer, roc_auc_score\n",
    "\n",
    "model = LogisticRegression(\n",
    "    tol=1e-3,\n",
    "    warm_start=True,\n",
    "    solver='saga',\n",
    "    max_iter=10000,\n",
    "    class_weight=None # as categorias já estão balanceadas\n",
    ")\n",
    "\n",
    "# Define the parameter grid\n",
    "param_grid = [\n",
    "    {'penalty': [None]},\n",
    "    {'penalty': ['elasticnet'],'l1_ratio': [0, 0.5, 1],'C': [0.1,1,10]}\n",
    "]\n",
    "\n",
    "# Create the custom AUC scorer\n",
    "auc_scorer = make_scorer(roc_auc_score, response_method='predict_proba')\n",
    "\n",
    "# Initialize GridSearchCV\n",
    "grid_search = GridSearchCV(estimator=model, param_grid=param_grid, scoring=auc_scorer)\n",
    "\n",
    "# Fit the GridSearchCV to the training data\n",
    "grid_search.fit(X_train_val, y_train_val)\n",
    "\n",
    "# Retrieve the best parameters and score\n",
    "best_params = grid_search.best_params_\n",
    "best_score = grid_search.best_score_\n",
    "\n",
    "print(\"Best Parameters:\", best_params)\n",
    "print(\"Train+Val AUC Score:\", best_score)\n",
    "\n",
    "# Evaluate on the test set\n",
    "best_model = grid_search.best_estimator_\n",
    "test_auc_score = roc_auc_score(y_test, best_model.predict_proba(X_test)[:, 1])\n",
    "print(\"Test AUC Score:\", test_auc_score)"
   ],
   "id": "8d7e6b99b7b37c07",
   "outputs": [],
   "execution_count": null
  },
  {
   "metadata": {},
   "cell_type": "markdown",
   "source": [
    "Top n0:\n",
    "\n",
    "Best Parameters: {'penalty': None}\n",
    "\n",
    "Train+Val AUC Score: 0.9477558428617991\n",
    "\n",
    "Test AUC Score: 0.9490567565579713"
   ],
   "id": "ed91059b991cea74"
  },
  {
   "metadata": {},
   "cell_type": "markdown",
   "source": [
    "Top n1:\n",
    "\n",
    "Best Parameters: {'C': 10, 'l1_ratio': 1, 'penalty': 'elasticnet'}\n",
    "\n",
    "Train+Val AUC Score: 0.9501137539494614\n",
    "\n",
    "Test AUC Score: 0.9477973230382086"
   ],
   "id": "7b15441461e071c4"
  },
  {
   "metadata": {},
   "cell_type": "markdown",
   "source": [
    "Top n3:\n",
    "\n",
    "Best Parameters: {'penalty': None}\n",
    "\n",
    "Train+Val AUC Score: 0.9452454353548141\n",
    "\n",
    "Test AUC Score: 0.9462030370083123"
   ],
   "id": "e39dfa560ec64ff8"
  },
  {
   "metadata": {},
   "cell_type": "markdown",
   "source": "# Saving the model",
   "id": "14d40290d15180d"
  },
  {
   "metadata": {
    "ExecuteTime": {
     "end_time": "2024-06-23T07:54:53.865019Z",
     "start_time": "2024-06-23T07:51:53.778506Z"
    }
   },
   "cell_type": "code",
   "source": [
    "import joblib\n",
    "\n",
    "model = LogisticRegression(\n",
    "    tol=1e-3,\n",
    "    warm_start=True,\n",
    "    solver='saga',\n",
    "    max_iter=10000,\n",
    "    class_weight=None, # as categorias já estão balanceadas\n",
    "    penalty=None\n",
    ")\n",
    "\n",
    "# training the model\n",
    "model.fit(X_train, y_train)\n",
    "\n",
    "# Save the trained model to a file\n",
    "joblib_file = \"LogisticRegression_top_n0.joblib\"\n",
    "joblib.dump(model, joblib_file)"
   ],
   "id": "5c17cf763bc3a369",
   "outputs": [
    {
     "ename": "NameError",
     "evalue": "name 'joblib' is not defined",
     "output_type": "error",
     "traceback": [
      "\u001B[1;31m---------------------------------------------------------------------------\u001B[0m",
      "\u001B[1;31mNameError\u001B[0m                                 Traceback (most recent call last)",
      "Cell \u001B[1;32mIn[35], line 15\u001B[0m\n\u001B[0;32m     13\u001B[0m \u001B[38;5;66;03m# Save the trained model to a file\u001B[39;00m\n\u001B[0;32m     14\u001B[0m joblib_file \u001B[38;5;241m=\u001B[39m \u001B[38;5;124m\"\u001B[39m\u001B[38;5;124mLogisticRegression_top_n0.joblib\u001B[39m\u001B[38;5;124m\"\u001B[39m\n\u001B[1;32m---> 15\u001B[0m \u001B[43mjoblib\u001B[49m\u001B[38;5;241m.\u001B[39mdump(model, joblib_file)\n",
      "\u001B[1;31mNameError\u001B[0m: name 'joblib' is not defined"
     ]
    }
   ],
   "execution_count": 35
  },
  {
   "metadata": {
    "ExecuteTime": {
     "end_time": "2024-06-23T07:55:52.075839Z",
     "start_time": "2024-06-23T07:55:51.855747Z"
    }
   },
   "cell_type": "code",
   "source": [
    "import joblib\n",
    "\n",
    "# Save the trained model to a file\n",
    "joblib_file = \"LogisticRegression_top_n0.joblib\"\n",
    "joblib.dump(model, joblib_file)"
   ],
   "id": "8ebbd62b07433b7e",
   "outputs": [
    {
     "data": {
      "text/plain": [
       "['LogisticRegression_top_n0.joblib']"
      ]
     },
     "execution_count": 37,
     "metadata": {},
     "output_type": "execute_result"
    }
   ],
   "execution_count": 37
  }
 ],
 "metadata": {
  "kernelspec": {
   "display_name": "Python 3",
   "language": "python",
   "name": "python3"
  },
  "language_info": {
   "codemirror_mode": {
    "name": "ipython",
    "version": 2
   },
   "file_extension": ".py",
   "mimetype": "text/x-python",
   "name": "python",
   "nbconvert_exporter": "python",
   "pygments_lexer": "ipython2",
   "version": "2.7.6"
  }
 },
 "nbformat": 4,
 "nbformat_minor": 5
}
