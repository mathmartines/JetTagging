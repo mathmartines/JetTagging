{
 "cells": [
  {
   "cell_type": "code",
   "execution_count": 10,
   "id": "initial_id",
   "metadata": {
    "collapsed": true,
    "ExecuteTime": {
     "end_time": "2024-05-31T14:02:55.499273Z",
     "start_time": "2024-05-31T14:02:55.495808Z"
    }
   },
   "outputs": [],
   "source": [
    "import pandas as pd\n",
    "from src.Particle import ParticleType\n",
    "from src.Preprocessing import PreprocessingEFPs, create_labels_single_column\n",
    "from sklearn.linear_model import LogisticRegression\n",
    "from sklearn.model_selection import train_test_split\n",
    "from sklearn.metrics import confusion_matrix, recall_score, precision_score, precision_recall_curve, roc_curve\n",
    "from sklearn.model_selection import cross_val_predict\n",
    "import matplotlib.pyplot as plt"
   ]
  },
  {
   "cell_type": "markdown",
   "source": [
    "#### Loading the data"
   ],
   "metadata": {
    "collapsed": false
   },
   "id": "d071844807d0d8a"
  },
  {
   "cell_type": "code",
   "outputs": [],
   "source": [
    "data_gluon = pd.read_csv('../../Data/g_jets.csv', header=None, sep=' ')\n",
    "data_quark = pd.read_csv('../../Data/q_jets.csv', header=None, sep=' ')\n",
    "data_top = pd.read_csv('../../Data/t_jets.csv', header=None, sep=' ')"
   ],
   "metadata": {
    "collapsed": false,
    "ExecuteTime": {
     "end_time": "2024-05-31T14:03:03.684214Z",
     "start_time": "2024-05-31T14:02:56.891881Z"
    }
   },
   "id": "1c85e2f0c5e1b30c",
   "execution_count": 11
  },
  {
   "cell_type": "markdown",
   "source": [
    "#### Preprocessing the data "
   ],
   "metadata": {
    "collapsed": false
   },
   "id": "7df8688a0d9cbef0"
  },
  {
   "cell_type": "code",
   "outputs": [],
   "source": [
    "# joinning data frames\n",
    "all_jets = pd.concat([data_top, data_quark, data_gluon], axis=0)\n",
    "all_jets.reset_index(drop=True, inplace=True)\n",
    "# defining the dictionary with the order of jets in the full data frame\n",
    "jets_order = {\n",
    "    ParticleType.Top: (0, len(data_top) - 1), \n",
    "    ParticleType.LightQuark: (len(data_top), len(data_top) + len(data_quark) - 1),\n",
    "    ParticleType.Gluon: (len(data_top) + len(data_quark), len(data_top) + len(data_quark) + len(data_gluon) - 1),\n",
    "}"
   ],
   "metadata": {
    "collapsed": false,
    "ExecuteTime": {
     "end_time": "2024-05-31T13:30:54.944229Z",
     "start_time": "2024-05-31T13:30:54.830669Z"
    }
   },
   "id": "2374d7979c511bb0",
   "execution_count": 3
  },
  {
   "cell_type": "code",
   "outputs": [
    {
     "name": "stdout",
     "output_type": "stream",
     "text": [
      "Originally Available EFPs:\n",
      "  Prime: 23691\n",
      "  Composite: 21540\n",
      "  Total:  45231\n",
      "Current Stored EFPs:\n",
      "  Prime: 54\n",
      "  Composite: 0\n",
      "  Total:  54\n"
     ]
    }
   ],
   "source": [
    "# defining the degree of the polynomions\n",
    "efp_processing = PreprocessingEFPs(5, create_labels_single_column, ('p==', 1))\n",
    "# processing the data by constructing the polynomials\n",
    "# this takes a while to run\n",
    "X = efp_processing.transform(X=data_top.to_numpy()[:100], y={\"a\": (0, 99)})\n",
    "y = efp_processing.jet_labels"
   ],
   "metadata": {
    "collapsed": false,
    "ExecuteTime": {
     "end_time": "2024-05-31T14:03:03.890097Z",
     "start_time": "2024-05-31T14:03:03.685252Z"
    }
   },
   "id": "99bc7afade951f8c",
   "execution_count": 12
  },
  {
   "cell_type": "code",
   "outputs": [],
   "source": [
    "# diving the set into trainning, validation, and test\n",
    "X_train, X_test, y_train, y_test = train_test_split(X, y, test_size=0.2, random_state=42)\n",
    "X_train, X_val, y_train, y_val = train_test_split(X_train, y_train, test_size=0.15, random_state=42)\n",
    "\n",
    "print(f\"Size of the training set: {X_train.shape[0]}\")\n",
    "print(f\"Size of the validation set: {X_val.shape[0]}\")\n",
    "print(f\"Size of the test set: {X_test.shape[0]}\")"
   ],
   "metadata": {
    "collapsed": false
   },
   "id": "83288c6b99377968",
   "execution_count": null
  },
  {
   "cell_type": "markdown",
   "source": [
    "#### Running the ML model"
   ],
   "metadata": {
    "collapsed": false
   },
   "id": "19e55751c3da94fc"
  },
  {
   "cell_type": "code",
   "outputs": [],
   "source": [
    "# creating the LogisticRegression (SoftMax) model with the Lasso penalty\n",
    "logist_reg = LogisticRegression(penalty='l1', C=0.1, solver='saga')\n",
    "logist_reg.fit(X_train, y_train)"
   ],
   "metadata": {
    "collapsed": false
   },
   "id": "3c3344cdad4f793c",
   "execution_count": null
  },
  {
   "cell_type": "code",
   "outputs": [],
   "source": [
    "logist_reg.coef_"
   ],
   "metadata": {
    "collapsed": false
   },
   "id": "7f8aeddd4a19f6f8",
   "execution_count": null
  },
  {
   "cell_type": "code",
   "outputs": [],
   "source": [
    "logist_reg.intercept_"
   ],
   "metadata": {
    "collapsed": false
   },
   "id": "ccccd92972d147e",
   "execution_count": null
  },
  {
   "cell_type": "code",
   "outputs": [],
   "source": [
    "# predicting the data in the training set\n",
    "y_train_predict = logist_reg.predict(X_train)"
   ],
   "metadata": {
    "collapsed": false
   },
   "id": "785236df96037931",
   "execution_count": null
  },
  {
   "cell_type": "code",
   "outputs": [],
   "source": [
    "# setting up the confusion matrix\n",
    "confusion_matrix(y_train, y_train_predict)"
   ],
   "metadata": {
    "collapsed": false
   },
   "id": "10a518c69265852a",
   "execution_count": null
  },
  {
   "cell_type": "code",
   "outputs": [],
   "source": [
    "# prediction in the validation set\n",
    "y_val_predict = logist_reg.predict(X_val)\n",
    "confusion_matrix(y_val, y_val_predict)"
   ],
   "metadata": {
    "collapsed": false
   },
   "id": "eb5e411b610a064e",
   "execution_count": null
  },
  {
   "cell_type": "code",
   "outputs": [],
   "source": [
    "# precision and recall for Top tagging in the trainning set\n",
    "y_train_pred_top = y_train_predict == 0\n",
    "y_train_top = y_train == 0\n",
    "\n",
    "print(\"Trainnig set:\")\n",
    "print(f\"Recall for Top tagging: {recall_score(y_train_top, y_train_pred_top):.2f}\")\n",
    "print(f\"Precision for Top tagging: {precision_score(y_train_top, y_train_pred_top):.2f}\")\n",
    "\n",
    "# precision and recall for Top tagging in the validation set\n",
    "y_val_pred_top = y_val_predict == 0\n",
    "y_val_top = y_val == 0\n",
    "\n",
    "print(\"Validation set:\")\n",
    "print(f\"Recall for Top tagging: {recall_score(y_val_top, y_val_pred_top):.2f}\")\n",
    "print(f\"Precision for Top tagging: {precision_score(y_val_top, y_val_pred_top):.2f}\")"
   ],
   "metadata": {
    "collapsed": false
   },
   "id": "39d114e8c4252c65",
   "execution_count": null
  },
  {
   "cell_type": "code",
   "outputs": [],
   "source": [
    "# evaluating the probabilities of each sample in the trainning data using \n",
    "# K-fold cross validation - it returns the probability of the sample in each class\n",
    "y_probabilities = cross_val_predict(logist_reg, X_train, y_train, cv=4, method='predict_proba')"
   ],
   "metadata": {
    "collapsed": false
   },
   "id": "20d18d9e27738d4a",
   "execution_count": null
  },
  {
   "cell_type": "code",
   "outputs": [],
   "source": [
    "y_top_score = y_probabilities[:, 0]\n",
    "precision, recall, thresholds = precision_recall_curve(y_train == 0, y_top_score)\n",
    "plt.plot(thresholds, precision[:-1], label='Precision', color='green')\n",
    "plt.plot(thresholds, recall[:-1], label='Recall', color='red')\n",
    "plt.legend(loc='best')\n",
    "plt.plot()"
   ],
   "metadata": {
    "collapsed": false
   },
   "id": "34a64b6fb687a4cc",
   "execution_count": null
  },
  {
   "cell_type": "code",
   "outputs": [],
   "source": [
    "# roc curve for top tagging \n",
    "fpr, tpr, thresholds = roc_curve(y_train == 0, y_probabilities[:, 0])\n",
    "plt.plot(fpr, tpr)\n",
    "plt.xlabel('FPR')\n",
    "plt.ylabel('TPR (Recall)')\n",
    "plt.show()"
   ],
   "metadata": {
    "collapsed": false
   },
   "id": "d10f7fb6af5f81fa",
   "execution_count": null
  }
 ],
 "metadata": {
  "kernelspec": {
   "display_name": "Python 3",
   "language": "python",
   "name": "python3"
  },
  "language_info": {
   "codemirror_mode": {
    "name": "ipython",
    "version": 2
   },
   "file_extension": ".py",
   "mimetype": "text/x-python",
   "name": "python",
   "nbconvert_exporter": "python",
   "pygments_lexer": "ipython2",
   "version": "2.7.6"
  }
 },
 "nbformat": 4,
 "nbformat_minor": 5
}
