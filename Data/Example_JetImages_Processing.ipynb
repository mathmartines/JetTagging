{
 "cells": [
  {
   "cell_type": "markdown",
   "source": [
    "### Examples on how to prepared the data for the NN using Jet Images"
   ],
   "metadata": {
    "collapsed": false
   },
   "id": "3f42b56f6598c319"
  },
  {
   "cell_type": "markdown",
   "source": [
    "#### 1. Quark-Gluon Tagging"
   ],
   "metadata": {
    "collapsed": false
   },
   "id": "fa52f9e916d17e0a"
  },
  {
   "cell_type": "code",
   "outputs": [],
   "source": [
    "import numpy as np\n",
    "import pandas as pd\n",
    "from src.Preprocessing.JetPreprocessing import PreprocessingJetImages\n",
    "from src.Preprocessing.GenerateLabels import create_jet_labels_one_column_per_category\n",
    "from sklearn.utils import shuffle"
   ],
   "metadata": {
    "collapsed": false,
    "ExecuteTime": {
     "end_time": "2024-06-17T19:30:00.737760Z",
     "start_time": "2024-06-17T19:30:00.734865Z"
    }
   },
   "id": "a241d622b5d9b0ef",
   "execution_count": 29
  },
  {
   "cell_type": "code",
   "outputs": [],
   "source": [
    "# reading the data files for trainning \n",
    "data_quark = pd.read_csv(\"Trainning/q_jets.csv\", header=None)\n",
    "data_gluon = pd.read_csv(\"Trainning/g_jets.csv\", header=None)\n",
    "\n",
    "# Setting up the images using the Preprocessing class\n",
    "jet_image_preprocessing = PreprocessingJetImages(phi_range=(-0.4, 0.4), eta_range=(-0.4, 0.4), n_bins_phi=16, n_bins_eta=16)\n",
    "\n",
    "# getting the jet images (Remeber that we must pass the data as a numpy array)\n",
    "quark_images = jet_image_preprocessing.transform(X=data_quark.to_numpy())\n",
    "gluon_images = jet_image_preprocessing.transform(X=data_gluon.to_numpy())"
   ],
   "metadata": {
    "collapsed": false,
    "ExecuteTime": {
     "end_time": "2024-06-17T19:19:44.059410Z",
     "start_time": "2024-06-17T19:19:35.665955Z"
    }
   },
   "id": "f13042105c7712bc",
   "execution_count": 7
  },
  {
   "cell_type": "code",
   "outputs": [],
   "source": [
    "# creating the data with all the images \n",
    "all_jet_images = np.vstack((quark_images, gluon_images))\n",
    "# creating the labels, the first tuple telss the initial and final index of the first jet type, and so on.\n",
    "jet_labels = create_jet_labels_one_column_per_category([(0, len(quark_images) - 1), (len(quark_images), len(all_jet_images) - 1)])\n",
    "# shuffling the data\n",
    "X, y = shuffle(all_jet_images, jet_labels, random_state=0)"
   ],
   "metadata": {
    "collapsed": false,
    "ExecuteTime": {
     "end_time": "2024-06-17T19:30:03.160275Z",
     "start_time": "2024-06-17T19:30:02.934387Z"
    }
   },
   "id": "6ac337cf8c73d033",
   "execution_count": 30
  },
  {
   "cell_type": "code",
   "outputs": [
    {
     "name": "stdout",
     "output_type": "stream",
     "text": [
      "Shape labels: (251379, 2)\n",
      "Shape data: (251379, 256)\n"
     ]
    }
   ],
   "source": [
    "print(f\"Shape labels: {jet_labels.shape}\")\n",
    "print(f\"Shape data: {all_jet_images.shape}\")"
   ],
   "metadata": {
    "collapsed": false,
    "ExecuteTime": {
     "end_time": "2024-06-17T19:30:04.518327Z",
     "start_time": "2024-06-17T19:30:04.516058Z"
    }
   },
   "id": "c8a16479001c2043",
   "execution_count": 31
  },
  {
   "cell_type": "markdown",
   "source": [
    "#### 2. Top-tagging"
   ],
   "metadata": {
    "collapsed": false
   },
   "id": "d0ac4096969c35f1"
  },
  {
   "cell_type": "code",
   "outputs": [],
   "source": [
    "# reading the top quark data \n",
    "data_top = pd.read_csv(\"Trainning/t_jets.csv\", header=None)\n",
    "\n",
    "# using the same Preprocessing object\n",
    "top_images = jet_image_preprocessing.transform(X=data_top.to_numpy())\n",
    "\n",
    "# the full dataset for the NN must be filled with half top images and half non-top images (quark and gluon images)\n",
    "all_jet_images_top_tag = np.vstack([top_images, all_jet_images[:int(len(all_jet_images)/2)]])\n",
    "jet_images_top_tag_labels = create_jet_labels_one_column_per_category([(0, len(top_images) - 1), (len(top_images), len(all_jet_images_top_tag) - 1)])\n",
    "\n",
    "# shuffling the data\n",
    "X_top, y_top = shuffle(all_jet_images_top_tag, jet_images_top_tag_labels, random_state=0)"
   ],
   "metadata": {
    "collapsed": false,
    "ExecuteTime": {
     "end_time": "2024-06-17T19:38:20.077642Z",
     "start_time": "2024-06-17T19:38:15.448933Z"
    }
   },
   "id": "db6ed848b77d8bec",
   "execution_count": 33
  },
  {
   "cell_type": "code",
   "outputs": [
    {
     "name": "stdout",
     "output_type": "stream",
     "text": [
      "Shape labels: (254254, 2)\n",
      "Shape data: (254254, 256)\n"
     ]
    }
   ],
   "source": [
    "print(f\"Shape labels: {y_top.shape}\")\n",
    "print(f\"Shape data: {X_top.shape}\")"
   ],
   "metadata": {
    "collapsed": false,
    "ExecuteTime": {
     "end_time": "2024-06-17T19:39:27.580541Z",
     "start_time": "2024-06-17T19:39:27.577932Z"
    }
   },
   "id": "909cee73b0b7c53e",
   "execution_count": 35
  },
  {
   "cell_type": "markdown",
   "source": [
    "#### Checking some images"
   ],
   "metadata": {
    "collapsed": false
   },
   "id": "ff37ffd57bacb598"
  },
  {
   "cell_type": "code",
   "outputs": [
    {
     "data": {
      "text/plain": "<matplotlib.colorbar.Colorbar at 0x16c09ef10>"
     },
     "execution_count": 37,
     "metadata": {},
     "output_type": "execute_result"
    },
    {
     "data": {
      "text/plain": "<Figure size 640x480 with 2 Axes>",
      "image/png": "[encoded data removed]"
     },
     "metadata": {},
     "output_type": "display_data"
    }
   ],
   "source": [
    "# checking some images \n",
    "import matplotlib.pyplot as plt\n",
    "from matplotlib.colors import LinearSegmentedColormap\n",
    "\n",
    "# Create a custom colormap that transitions from white to blue to red\n",
    "colors = [(1, 1, 1), (0, 0, 1), (1, 0, 0)]  # White, Blue, Red\n",
    "n_bins = 100  # Number of bins for interpolation\n",
    "custom_cmap = LinearSegmentedColormap.from_list('white_blue_red', colors, N=n_bins)\n",
    "\n",
    "plt.imshow(top_images[0].reshape((16, 16)), cmap=custom_cmap,  extent=(-0.4, 0.4, -0.4, 0.4), vmin=0, vmax=0.2)\n",
    "plt.colorbar(label='pT')"
   ],
   "metadata": {
    "collapsed": false,
    "ExecuteTime": {
     "end_time": "2024-06-17T19:39:51.452417Z",
     "start_time": "2024-06-17T19:39:51.357961Z"
    }
   },
   "id": "67082efa1d0b9012",
   "execution_count": 37
  }
 ],
 "metadata": {
  "kernelspec": {
   "display_name": "Python 3",
   "language": "python",
   "name": "python3"
  },
  "language_info": {
   "codemirror_mode": {
    "name": "ipython",
    "version": 2
   },
   "file_extension": ".py",
   "mimetype": "text/x-python",
   "name": "python",
   "nbconvert_exporter": "python",
   "pygments_lexer": "ipython2",
   "version": "2.7.6"
  }
 },
 "nbformat": 4,
 "nbformat_minor": 5
}
