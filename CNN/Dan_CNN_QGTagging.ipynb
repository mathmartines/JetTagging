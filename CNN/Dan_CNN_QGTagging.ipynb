{
 "cells": [
  {
   "cell_type": "code",
   "execution_count": 3,
   "id": "initial_id",
   "metadata": {
    "ExecuteTime": {
     "end_time": "2024-06-06T21:36:36.940195Z",
     "start_time": "2024-06-06T21:36:35.138174Z"
    },
    "collapsed": true
   },
   "outputs": [],
   "source": [
    "import numpy as np\n",
    "import matplotlib.pyplot as plt\n",
    "import pandas as pd \n",
    "from src.Particle import ParticleType\n",
    "from src.Preprocessing import PreprocessingJetImages\n",
    "from sklearn.model_selection import train_test_split\n"
   ]
  },
  {
   "cell_type": "code",
   "execution_count": 5,
   "id": "76ce2e6bc61dc876",
   "metadata": {
    "ExecuteTime": {
     "end_time": "2024-06-06T21:36:42.964878Z",
     "start_time": "2024-06-06T21:36:36.941200Z"
    }
   },
   "outputs": [],
   "source": [
    "data_gluon = pd.read_csv('../Dados/g_jets.csv', header=None, sep=' ')\n",
    "data_quark = pd.read_csv('../Dados/q_jets.csv', header=None, sep=' ')"
   ]
  },
  {
   "cell_type": "code",
   "execution_count": 6,
   "id": "6b96055826169d5b",
   "metadata": {
    "ExecuteTime": {
     "end_time": "2024-06-06T21:36:43.112794Z",
     "start_time": "2024-06-06T21:36:42.966900Z"
    }
   },
   "outputs": [],
   "source": [
    "all_jets = pd.concat([data_gluon, data_quark], axis= 0)\n",
    "all_jets.reset_index(drop=True, inplace=True)\n",
    "\n",
    "jets_order = {\n",
    "    ParticleType.LightQuark: (0, len(data_quark) - 1),\n",
    "    ParticleType.Gluon: (len(data_quark), len(data_gluon) + len(data_quark) - 1)\n",
    "}"
   ]
  },
  {
   "cell_type": "code",
   "execution_count": 7,
   "id": "9291a803c531c92b",
   "metadata": {
    "ExecuteTime": {
     "end_time": "2024-06-06T21:37:01.957524Z",
     "start_time": "2024-06-06T21:37:01.952705Z"
    }
   },
   "outputs": [],
   "source": [
    "jet_image_preprocessing = PreprocessingJetImages(phi_range=(-0.4, 0.4),eta_range=(-0.4, 0.4),n_bins_phi=16,n_bins_eta=16)"
   ]
  },
  {
   "cell_type": "code",
   "execution_count": 8,
   "id": "fc8691fcfe9a393e",
   "metadata": {
    "ExecuteTime": {
     "end_time": "2024-06-06T21:37:17.189886Z",
     "start_time": "2024-06-06T21:37:03.128545Z"
    }
   },
   "outputs": [],
   "source": [
    "X =  jet_image_preprocessing.transform(X=all_jets.to_numpy(),y=jets_order)\n",
    "label = jet_image_preprocessing.jet_labels"
   ]
  },
  {
   "cell_type": "code",
   "execution_count": 9,
   "id": "2632c1249723169e",
   "metadata": {
    "ExecuteTime": {
     "end_time": "2024-06-06T21:37:22.974647Z",
     "start_time": "2024-06-06T21:37:22.402209Z"
    }
   },
   "outputs": [],
   "source": [
    "x, x_test, y, y_test = train_test_split(X, label, train_size = 0.7, shuffle= True)\n",
    "vx, tx, vy, ty = train_test_split(x_test, y_test, train_size = 0.5, shuffle= True)\n",
    "\n",
    "x = x.reshape(-1,16,16,1)\n",
    "vx = vx.reshape(-1,16,16,1)\n",
    "tx = tx.reshape(-1,16,16,1)"
   ]
  },
  {
   "cell_type": "code",
   "execution_count": 12,
   "id": "18bacbbafd92bcc3",
   "metadata": {
    "ExecuteTime": {
     "end_time": "2024-06-06T21:39:24.759886Z",
     "start_time": "2024-06-06T21:39:24.755593Z"
    }
   },
   "outputs": [],
   "source": [
    "from tensorflow import keras\n",
    "from tensorflow.keras.layers import Input, Conv2D, MaxPool2D, Flatten, Dense, Dropout\n",
    "from tensorflow.keras.regularizers import l2\n",
    "from tensorflow.keras.optimizers import Adam\n",
    "from tensorflow.keras.metrics import AUC "
   ]
  },
  {
   "cell_type": "code",
   "execution_count": 15,
   "id": "c8576fb42ffd0dd8",
   "metadata": {
    "ExecuteTime": {
     "end_time": "2024-06-06T21:53:22.313444Z",
     "start_time": "2024-06-06T21:53:22.287709Z"
    }
   },
   "outputs": [],
   "source": [
    "regularization_rate = 10**(-8)\n",
    "dropout_rate = 0.3\n",
    "\n",
    "model = keras.Sequential()\n",
    "model.add(Input(shape=(16,16,1)))\n",
    "\n",
    "model.add(Conv2D(filters = 128 , kernel_size=(5, 5), padding = \"same\", activation='relu',kernel_regularizer=l2(regularization_rate)))\n",
    "model.add(MaxPool2D(pool_size=(2, 2),strides=(2, 2)))\n",
    "model.add(Dropout(dropout_rate))\n",
    "\n",
    "model.add(Conv2D(filters = 128 , kernel_size=(5, 5), padding = \"same\", activation='relu',kernel_regularizer=l2(regularization_rate)))\n",
    "model.add(MaxPool2D(pool_size=(2, 2),strides=(2, 2)))\n",
    "model.add(Dropout(dropout_rate))\n",
    "\n",
    "model.add(Conv2D(filters = 64 , kernel_size=(3, 3), padding = \"same\", activation='relu',kernel_regularizer=l2(regularization_rate)))\n",
    "model.add(MaxPool2D(pool_size=(2, 2),strides=(2, 2)))\n",
    "model.add(Dropout(dropout_rate))\n",
    "\n",
    "model.add(Flatten())\n",
    "\n",
    "model.add(Dense(128, activation='relu', kernel_regularizer=l2(regularization_rate)))\n",
    "model.add(Dropout(dropout_rate))\n",
    "\n",
    "model.add(Dense(2, activation='softmax'))\n",
    "\n",
    "\n",
    "learning_rate = 0.0001\n",
    "\n",
    "optimizer = Adam(learning_rate=learning_rate)\n",
    "model.compile(loss='categorical_crossentropy', optimizer=optimizer, metrics=[AUC(name='auc')])"
   ]
  },
  {
   "cell_type": "code",
   "execution_count": 16,
   "id": "5ac7a0a1d66fc4a",
   "metadata": {
    "ExecuteTime": {
     "end_time": "2024-06-06T21:41:11.933653Z",
     "start_time": "2024-06-06T21:41:10.667065Z"
    }
   },
   "outputs": [
    {
     "name": "stdout",
     "output_type": "stream",
     "text": [
      "Epoch 1/50\n",
      "\u001b[1m 9424/24356\u001b[0m \u001b[32m━━━━━━━\u001b[0m\u001b[37m━━━━━━━━━━━━━\u001b[0m \u001b[1m3:41\u001b[0m 15ms/step - auc: 0.7031 - loss: 0.6227"
     ]
    }
   ],
   "source": [
    "from tensorflow.keras.callbacks import ModelCheckpoint\n",
    "\n",
    "callbacks = [ModelCheckpoint(\n",
    "        filepath = \"model.keras\",\n",
    "        save_best_only=True,\n",
    "        monitor = 'val_loss',\n",
    "                    )]\n",
    "\n",
    "#foi uma função q achei pra salvar umas infos de maneira mais fácil ( peguei tudo dum tutorial )\n",
    "history = model.fit(\n",
    "    x, y,\n",
    "    epochs = 50,\n",
    "    validation_data = (vx, vy),\n",
    "    callbacks = callbacks,\n",
    "    batch_size = 10 \n",
    ")"
   ]
  },
  {
   "cell_type": "code",
   "execution_count": null,
   "id": "630b9b9dd9793ac8",
   "metadata": {},
   "outputs": [],
   "source": [
    "accuracy = history.history['accuracy']\n",
    "loss = history.history['loss']\n",
    "val_loss = history.history['val_loss']\n",
    "val_accuracy = history.history['val_accuracy']\n",
    "epochs = range(1,len(accuracy) + 1)\n",
    "plt.plot(epochs, accuracy,'r',label = 'Train acc')\n",
    "plt.plot(epochs, val_accuracy,'b',label = 'Validation acc')\n",
    "plt.xlabel('Epochs')\n",
    "plt.ylabel('%')\n",
    "plt.title(\"Acurácia de treino e validação\")\n",
    "plt.legend()\n",
    "\n",
    "plt.figure()\n",
    "plt.plot(epochs,loss,'r',label='Train Loss')\n",
    "plt.plot(epochs,val_loss,'b',label = 'Validation loss')\n",
    "plt.xlabel('Epochs')\n",
    "plt.ylabel('%')\n",
    "plt.title(\"Loss de Treino e validação\")\n",
    "plt.legend()\n",
    "plt.show()\n"
   ]
  },
  {
   "cell_type": "code",
   "execution_count": 12,
   "id": "2561ebe217b940df",
   "metadata": {
    "ExecuteTime": {
     "end_time": "2024-06-06T21:43:22.555827Z",
     "start_time": "2024-06-06T21:43:22.548252Z"
    }
   },
   "outputs": [
    {
     "data": {
      "text/plain": [
       "(243551, 2)"
      ]
     },
     "execution_count": 12,
     "metadata": {},
     "output_type": "execute_result"
    }
   ],
   "source": [
    "y.shape"
   ]
  },
  {
   "cell_type": "code",
   "execution_count": 15,
   "id": "779536213d725952",
   "metadata": {
    "ExecuteTime": {
     "end_time": "2024-06-06T21:54:19.358622Z",
     "start_time": "2024-06-06T21:54:19.354179Z"
    }
   },
   "outputs": [
    {
     "data": {
      "text/plain": [
       "(243551, 256)"
      ]
     },
     "execution_count": 15,
     "metadata": {},
     "output_type": "execute_result"
    }
   ],
   "source": [
    "x.shape"
   ]
  },
  {
   "cell_type": "code",
   "execution_count": 14,
   "id": "e7a1553ce3f39c29",
   "metadata": {
    "ExecuteTime": {
     "end_time": "2024-06-06T21:54:14.715071Z",
     "start_time": "2024-06-06T21:54:14.711358Z"
    }
   },
   "outputs": [],
   "source": [
    "from sklearn.metrics import roc_curve\n",
    "\n",
    "y_pred_prob = model.predict(x_test).ravel()\n",
    "\n",
    "# Calcular a curva ROC\n",
    "fpr, tpr, thresholds = roc_curve(y_test, y_pred_prob)\n",
    "roc_auc = auc(fpr, tpr)\n",
    "\n",
    "plt.figure()\n",
    "plt.plot(fpr, tpr, color='darkorange', lw=2, label=f'ROC curve (area = {roc_auc:.2f})')\n",
    "\n",
    "plt.show()"
   ]
  },
  {
   "cell_type": "code",
   "execution_count": null,
   "id": "b5df719118890d4b",
   "metadata": {},
   "outputs": [],
   "source": []
  }
 ],
 "metadata": {
  "kernelspec": {
   "display_name": "Python 3",
   "language": "python",
   "name": "python3"
  },
  "language_info": {
   "codemirror_mode": {
    "name": "ipython",
    "version": 3
   },
   "file_extension": ".py",
   "mimetype": "text/x-python",
   "name": "python",
   "nbconvert_exporter": "python",
   "pygments_lexer": "ipython3",
   "version": "3.12.3"
  }
 },
 "nbformat": 4,
 "nbformat_minor": 5
}
