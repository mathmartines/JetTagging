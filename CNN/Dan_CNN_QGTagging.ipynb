{
 "cells": [
  {
   "cell_type": "code",
   "id": "initial_id",
   "metadata": {
    "collapsed": true,
    "ExecuteTime": {
     "end_time": "2024-06-06T21:36:36.940195Z",
     "start_time": "2024-06-06T21:36:35.138174Z"
    }
   },
   "source": [
    "import numpy as np\n",
    "import matplotlib.pyplot as plt\n",
    "import pandas as pd \n",
    "from src.Particle import ParticleType\n",
    "from src.JetBuilder import JetBuilder\n",
    "from src.JetImage import JetImage, JetImageCalculator, JetImageCalculatorPandas, JetImageAvarageCalculator\n",
    "from src.Preprocessing import PreprocessingJetImages\n",
    "from sklearn.model_selection import train_test_split\n"
   ],
   "outputs": [],
   "execution_count": 1
  },
  {
   "metadata": {
    "ExecuteTime": {
     "end_time": "2024-06-06T21:36:42.964878Z",
     "start_time": "2024-06-06T21:36:36.941200Z"
    }
   },
   "cell_type": "code",
   "source": [
    "data_gluon = pd.read_csv('Dados/g_jets.csv', header=None, sep=' ')\n",
    "data_quark = pd.read_csv('Dados/q_jets.csv', header=None, sep=' ')"
   ],
   "id": "76ce2e6bc61dc876",
   "outputs": [],
   "execution_count": 2
  },
  {
   "metadata": {
    "ExecuteTime": {
     "end_time": "2024-06-06T21:36:43.112794Z",
     "start_time": "2024-06-06T21:36:42.966900Z"
    }
   },
   "cell_type": "code",
   "source": [
    "all_jets = pd.concat([data_gluon, data_quark], axis= 0)\n",
    "all_jets.reset_index(drop=True, inplace=True)\n",
    "\n",
    "jets_order = {\n",
    "    ParticleType.LightQuark: (0, len(data_quark) - 1),\n",
    "    ParticleType.Gluon: (len(data_quark), len(data_gluon) + len(data_quark) - 1)\n",
    "}"
   ],
   "id": "6b96055826169d5b",
   "outputs": [],
   "execution_count": 3
  },
  {
   "metadata": {
    "ExecuteTime": {
     "end_time": "2024-06-06T21:37:01.957524Z",
     "start_time": "2024-06-06T21:37:01.952705Z"
    }
   },
   "cell_type": "code",
   "source": "jet_image_preprocessing = PreprocessingJetImages(phi_range=(-0.4, 0.4),eta_range=(-0.4, 0.4),n_bins_phi=16,n_bins_eta=16)",
   "id": "9291a803c531c92b",
   "outputs": [],
   "execution_count": 4
  },
  {
   "metadata": {
    "ExecuteTime": {
     "end_time": "2024-06-06T21:37:17.189886Z",
     "start_time": "2024-06-06T21:37:03.128545Z"
    }
   },
   "cell_type": "code",
   "source": [
    "X =  jet_image_preprocessing.transform(X=all_jets.to_numpy(),y=jets_order)\n",
    "label = jet_image_preprocessing.jet_labels"
   ],
   "id": "fc8691fcfe9a393e",
   "outputs": [],
   "execution_count": 5
  },
  {
   "metadata": {
    "ExecuteTime": {
     "end_time": "2024-06-06T21:37:22.974647Z",
     "start_time": "2024-06-06T21:37:22.402209Z"
    }
   },
   "cell_type": "code",
   "source": [
    "x, x_test, y, y_test = train_test_split(X, label, train_size = 0.7, shuffle= True)\n",
    "vx, tx, vy, ty = train_test_split(x_test, y_test, train_size = 0.5, shuffle= True)"
   ],
   "id": "2632c1249723169e",
   "outputs": [],
   "execution_count": 6
  },
  {
   "metadata": {
    "ExecuteTime": {
     "end_time": "2024-06-06T21:39:24.759886Z",
     "start_time": "2024-06-06T21:39:24.755593Z"
    }
   },
   "cell_type": "code",
   "source": [
    "from tensorflow import keras\n",
    "from tensorflow.keras.layers import Conv2D, MaxPool2D, Flatten, Dense, Dropout\n",
    "from tensorflow.keras.regularizers import l2\n",
    "from tensorflow.keras.optimizers import Adam\n",
    "from tensorflow.keras.metrics import AUC "
   ],
   "id": "18bacbbafd92bcc3",
   "outputs": [],
   "execution_count": 9
  },
  {
   "metadata": {
    "ExecuteTime": {
     "end_time": "2024-06-06T21:53:22.313444Z",
     "start_time": "2024-06-06T21:53:22.287709Z"
    }
   },
   "cell_type": "code",
   "source": [
    "regularization_rate = 10**(-8)\n",
    "dropout_rate = 0.3\n",
    "\n",
    "model = keras.Sequential()\n",
    "model.add(Input(shape=(16,16)))\n",
    "\n",
    "model.add(Conv2D(128 , kernel_size=(5, 5), activation='relu',kernel_regularizer=l2(regularization_rate)))\n",
    "model.add(MaxPool2D(pool_size=(2, 2),strides=(2, 2)))\n",
    "model.add(Dropout(dropout_rate))\n",
    "\n",
    "model.add(Conv2D(128 , kernel_size=(5, 5), activation='relu',kernel_regularizer=l2(regularization_rate)))\n",
    "model.add(MaxPool2D(pool_size=(2, 2),strides=(2, 2)))\n",
    "model.add(Dropout(dropout_rate))\n",
    "\n",
    "model.add(Conv2D(64 , kernel_size=(3, 3), activation='relu',kernel_regularizer=l2(regularization_rate)))\n",
    "model.add(MaxPool2D(pool_size=(2, 2),strides=(2, 2)))\n",
    "model.add(Dropout(dropout_rate))\n",
    "\n",
    "model.add(Flatten())\n",
    "\n",
    "model.add(Dense(128, activation='relu', kernel_regularizer=l2(regularization_rate)))\n",
    "model.add(Dropout(dropout_rate))\n",
    "\n",
    "model.add(Dense(2, activation='softmax'))\n",
    "\n",
    "\n",
    "learning_rate = 0.0001\n",
    "\n",
    "optimizer = Adam(learning_rate=learning_rate)\n",
    "model.compile(loss='categorical_crossentropy', optimizer=optimizer, metrics=[AUC(name='auc')])"
   ],
   "id": "c8576fb42ffd0dd8",
   "outputs": [
    {
     "ename": "NameError",
     "evalue": "name 'Input' is not defined",
     "output_type": "error",
     "traceback": [
      "\u001B[1;31m---------------------------------------------------------------------------\u001B[0m",
      "\u001B[1;31mNameError\u001B[0m                                 Traceback (most recent call last)",
      "Cell \u001B[1;32mIn[14], line 5\u001B[0m\n\u001B[0;32m      2\u001B[0m dropout_rate \u001B[38;5;241m=\u001B[39m \u001B[38;5;241m0.3\u001B[39m\n\u001B[0;32m      4\u001B[0m model \u001B[38;5;241m=\u001B[39m keras\u001B[38;5;241m.\u001B[39mSequential()\n\u001B[1;32m----> 5\u001B[0m model\u001B[38;5;241m.\u001B[39madd(\u001B[43mInput\u001B[49m(shape\u001B[38;5;241m=\u001B[39m(\u001B[38;5;241m16\u001B[39m,\u001B[38;5;241m16\u001B[39m)))\n\u001B[0;32m      7\u001B[0m model\u001B[38;5;241m.\u001B[39madd(Conv2D(\u001B[38;5;241m128\u001B[39m , kernel_size\u001B[38;5;241m=\u001B[39m(\u001B[38;5;241m5\u001B[39m, \u001B[38;5;241m5\u001B[39m), activation\u001B[38;5;241m=\u001B[39m\u001B[38;5;124m'\u001B[39m\u001B[38;5;124mrelu\u001B[39m\u001B[38;5;124m'\u001B[39m,kernel_regularizer\u001B[38;5;241m=\u001B[39ml2(regularization_rate)))\n\u001B[0;32m      8\u001B[0m model\u001B[38;5;241m.\u001B[39madd(MaxPool2D(pool_size\u001B[38;5;241m=\u001B[39m(\u001B[38;5;241m2\u001B[39m, \u001B[38;5;241m2\u001B[39m),strides\u001B[38;5;241m=\u001B[39m(\u001B[38;5;241m2\u001B[39m, \u001B[38;5;241m2\u001B[39m)))\n",
      "\u001B[1;31mNameError\u001B[0m: name 'Input' is not defined"
     ]
    }
   ],
   "execution_count": 14
  },
  {
   "metadata": {
    "ExecuteTime": {
     "end_time": "2024-06-06T21:41:11.933653Z",
     "start_time": "2024-06-06T21:41:10.667065Z"
    }
   },
   "cell_type": "code",
   "source": [
    "from tensorflow.keras.callbacks import ModelCheckpoint\n",
    "\n",
    "callbacks = [ModelCheckpoint(\n",
    "        filepath = \"model.keras\",\n",
    "        save_best_only=True,\n",
    "        monitor = 'val_loss',\n",
    "                    )]\n",
    "\n",
    "#foi uma função q achei pra salvar umas infos de maneira mais fácil ( peguei tudo dum tutorial )\n",
    "history = model.fit(\n",
    "    x, y,\n",
    "    epochs = 50,\n",
    "    validation_data = (vx, vy),\n",
    "    callbacks = callbacks,\n",
    "    batch_size = 10 \n",
    ")"
   ],
   "id": "5ac7a0a1d66fc4a",
   "outputs": [
    {
     "name": "stdout",
     "output_type": "stream",
     "text": [
      "Epoch 1/50\n"
     ]
    },
    {
     "ename": "ValueError",
     "evalue": "Input 0 of layer \"conv2d\" is incompatible with the layer: expected min_ndim=4, found ndim=2. Full shape received: (None, 256)",
     "output_type": "error",
     "traceback": [
      "\u001B[1;31m---------------------------------------------------------------------------\u001B[0m",
      "\u001B[1;31mValueError\u001B[0m                                Traceback (most recent call last)",
      "Cell \u001B[1;32mIn[11], line 10\u001B[0m\n\u001B[0;32m      3\u001B[0m callbacks \u001B[38;5;241m=\u001B[39m [ModelCheckpoint(\n\u001B[0;32m      4\u001B[0m         filepath \u001B[38;5;241m=\u001B[39m \u001B[38;5;124m\"\u001B[39m\u001B[38;5;124mmodel.keras\u001B[39m\u001B[38;5;124m\"\u001B[39m,\n\u001B[0;32m      5\u001B[0m         save_best_only\u001B[38;5;241m=\u001B[39m\u001B[38;5;28;01mTrue\u001B[39;00m,\n\u001B[0;32m      6\u001B[0m         monitor \u001B[38;5;241m=\u001B[39m \u001B[38;5;124m'\u001B[39m\u001B[38;5;124mval_loss\u001B[39m\u001B[38;5;124m'\u001B[39m,\n\u001B[0;32m      7\u001B[0m                     )]\n\u001B[0;32m      9\u001B[0m \u001B[38;5;66;03m#foi uma função q achei pra salvar umas infos de maneira mais fácil ( peguei tudo dum tutorial )\u001B[39;00m\n\u001B[1;32m---> 10\u001B[0m history \u001B[38;5;241m=\u001B[39m \u001B[43mmodel\u001B[49m\u001B[38;5;241;43m.\u001B[39;49m\u001B[43mfit\u001B[49m\u001B[43m(\u001B[49m\n\u001B[0;32m     11\u001B[0m \u001B[43m    \u001B[49m\u001B[43mx\u001B[49m\u001B[43m,\u001B[49m\u001B[43m \u001B[49m\u001B[43my\u001B[49m\u001B[43m,\u001B[49m\n\u001B[0;32m     12\u001B[0m \u001B[43m    \u001B[49m\u001B[43mepochs\u001B[49m\u001B[43m \u001B[49m\u001B[38;5;241;43m=\u001B[39;49m\u001B[43m \u001B[49m\u001B[38;5;241;43m50\u001B[39;49m\u001B[43m,\u001B[49m\n\u001B[0;32m     13\u001B[0m \u001B[43m    \u001B[49m\u001B[43mvalidation_data\u001B[49m\u001B[43m \u001B[49m\u001B[38;5;241;43m=\u001B[39;49m\u001B[43m \u001B[49m\u001B[43m(\u001B[49m\u001B[43mvx\u001B[49m\u001B[43m,\u001B[49m\u001B[43m \u001B[49m\u001B[43mvy\u001B[49m\u001B[43m)\u001B[49m\u001B[43m,\u001B[49m\n\u001B[0;32m     14\u001B[0m \u001B[43m    \u001B[49m\u001B[43mcallbacks\u001B[49m\u001B[43m \u001B[49m\u001B[38;5;241;43m=\u001B[39;49m\u001B[43m \u001B[49m\u001B[43mcallbacks\u001B[49m\u001B[43m,\u001B[49m\n\u001B[0;32m     15\u001B[0m \u001B[43m    \u001B[49m\u001B[43mbatch_size\u001B[49m\u001B[43m \u001B[49m\u001B[38;5;241;43m=\u001B[39;49m\u001B[43m \u001B[49m\u001B[38;5;241;43m10\u001B[39;49m\u001B[43m \u001B[49m\n\u001B[0;32m     16\u001B[0m \u001B[43m)\u001B[49m\n",
      "File \u001B[1;32m~\\PycharmProjects\\pythonProject\\.venv\\Lib\\site-packages\\keras\\src\\utils\\traceback_utils.py:122\u001B[0m, in \u001B[0;36mfilter_traceback.<locals>.error_handler\u001B[1;34m(*args, **kwargs)\u001B[0m\n\u001B[0;32m    119\u001B[0m     filtered_tb \u001B[38;5;241m=\u001B[39m _process_traceback_frames(e\u001B[38;5;241m.\u001B[39m__traceback__)\n\u001B[0;32m    120\u001B[0m     \u001B[38;5;66;03m# To get the full stack trace, call:\u001B[39;00m\n\u001B[0;32m    121\u001B[0m     \u001B[38;5;66;03m# `keras.config.disable_traceback_filtering()`\u001B[39;00m\n\u001B[1;32m--> 122\u001B[0m     \u001B[38;5;28;01mraise\u001B[39;00m e\u001B[38;5;241m.\u001B[39mwith_traceback(filtered_tb) \u001B[38;5;28;01mfrom\u001B[39;00m \u001B[38;5;28;01mNone\u001B[39;00m\n\u001B[0;32m    123\u001B[0m \u001B[38;5;28;01mfinally\u001B[39;00m:\n\u001B[0;32m    124\u001B[0m     \u001B[38;5;28;01mdel\u001B[39;00m filtered_tb\n",
      "File \u001B[1;32m~\\PycharmProjects\\pythonProject\\.venv\\Lib\\site-packages\\keras\\src\\layers\\input_spec.py:202\u001B[0m, in \u001B[0;36massert_input_compatibility\u001B[1;34m(input_spec, inputs, layer_name)\u001B[0m\n\u001B[0;32m    200\u001B[0m \u001B[38;5;28;01mif\u001B[39;00m spec\u001B[38;5;241m.\u001B[39mmin_ndim \u001B[38;5;129;01mis\u001B[39;00m \u001B[38;5;129;01mnot\u001B[39;00m \u001B[38;5;28;01mNone\u001B[39;00m:\n\u001B[0;32m    201\u001B[0m     \u001B[38;5;28;01mif\u001B[39;00m ndim \u001B[38;5;129;01mis\u001B[39;00m \u001B[38;5;129;01mnot\u001B[39;00m \u001B[38;5;28;01mNone\u001B[39;00m \u001B[38;5;129;01mand\u001B[39;00m ndim \u001B[38;5;241m<\u001B[39m spec\u001B[38;5;241m.\u001B[39mmin_ndim:\n\u001B[1;32m--> 202\u001B[0m         \u001B[38;5;28;01mraise\u001B[39;00m \u001B[38;5;167;01mValueError\u001B[39;00m(\n\u001B[0;32m    203\u001B[0m             \u001B[38;5;124mf\u001B[39m\u001B[38;5;124m'\u001B[39m\u001B[38;5;124mInput \u001B[39m\u001B[38;5;132;01m{\u001B[39;00minput_index\u001B[38;5;132;01m}\u001B[39;00m\u001B[38;5;124m of layer \u001B[39m\u001B[38;5;124m\"\u001B[39m\u001B[38;5;132;01m{\u001B[39;00mlayer_name\u001B[38;5;132;01m}\u001B[39;00m\u001B[38;5;124m\"\u001B[39m\u001B[38;5;124m \u001B[39m\u001B[38;5;124m'\u001B[39m\n\u001B[0;32m    204\u001B[0m             \u001B[38;5;124m\"\u001B[39m\u001B[38;5;124mis incompatible with the layer: \u001B[39m\u001B[38;5;124m\"\u001B[39m\n\u001B[0;32m    205\u001B[0m             \u001B[38;5;124mf\u001B[39m\u001B[38;5;124m\"\u001B[39m\u001B[38;5;124mexpected min_ndim=\u001B[39m\u001B[38;5;132;01m{\u001B[39;00mspec\u001B[38;5;241m.\u001B[39mmin_ndim\u001B[38;5;132;01m}\u001B[39;00m\u001B[38;5;124m, \u001B[39m\u001B[38;5;124m\"\u001B[39m\n\u001B[0;32m    206\u001B[0m             \u001B[38;5;124mf\u001B[39m\u001B[38;5;124m\"\u001B[39m\u001B[38;5;124mfound ndim=\u001B[39m\u001B[38;5;132;01m{\u001B[39;00mndim\u001B[38;5;132;01m}\u001B[39;00m\u001B[38;5;124m. \u001B[39m\u001B[38;5;124m\"\u001B[39m\n\u001B[0;32m    207\u001B[0m             \u001B[38;5;124mf\u001B[39m\u001B[38;5;124m\"\u001B[39m\u001B[38;5;124mFull shape received: \u001B[39m\u001B[38;5;132;01m{\u001B[39;00mshape\u001B[38;5;132;01m}\u001B[39;00m\u001B[38;5;124m\"\u001B[39m\n\u001B[0;32m    208\u001B[0m         )\n\u001B[0;32m    209\u001B[0m \u001B[38;5;66;03m# Check dtype.\u001B[39;00m\n\u001B[0;32m    210\u001B[0m \u001B[38;5;28;01mif\u001B[39;00m spec\u001B[38;5;241m.\u001B[39mdtype \u001B[38;5;129;01mis\u001B[39;00m \u001B[38;5;129;01mnot\u001B[39;00m \u001B[38;5;28;01mNone\u001B[39;00m:\n",
      "\u001B[1;31mValueError\u001B[0m: Input 0 of layer \"conv2d\" is incompatible with the layer: expected min_ndim=4, found ndim=2. Full shape received: (None, 256)"
     ]
    }
   ],
   "execution_count": 11
  },
  {
   "metadata": {},
   "cell_type": "code",
   "outputs": [],
   "execution_count": null,
   "source": [
    "accuracy = history.history['accuracy']\n",
    "loss = history.history['loss']\n",
    "val_loss = history.history['val_loss']\n",
    "val_accuracy = history.history['val_accuracy']\n",
    "epochs = range(1,len(accuracy) + 1)\n",
    "plt.plot(epochs, accuracy,'r',label = 'Train acc')\n",
    "plt.plot(epochs, val_accuracy,'b',label = 'Validation acc')\n",
    "plt.xlabel('Epochs')\n",
    "plt.ylabel('%')\n",
    "plt.title(\"Acurácia de treino e validação\")\n",
    "plt.legend()\n",
    "\n",
    "plt.figure()\n",
    "plt.plot(epochs,loss,'r',label='Train Loss')\n",
    "plt.plot(epochs,val_loss,'b',label = 'Validation loss')\n",
    "plt.xlabel('Epochs')\n",
    "plt.ylabel('%')\n",
    "plt.title(\"Loss de Treino e validação\")\n",
    "plt.legend()\n",
    "plt.show()\n"
   ],
   "id": "630b9b9dd9793ac8"
  },
  {
   "metadata": {
    "ExecuteTime": {
     "end_time": "2024-06-06T21:43:22.555827Z",
     "start_time": "2024-06-06T21:43:22.548252Z"
    }
   },
   "cell_type": "code",
   "source": "y.shape",
   "id": "2561ebe217b940df",
   "outputs": [
    {
     "data": {
      "text/plain": [
       "(243551, 2)"
      ]
     },
     "execution_count": 12,
     "metadata": {},
     "output_type": "execute_result"
    }
   ],
   "execution_count": 12
  },
  {
   "metadata": {
    "ExecuteTime": {
     "end_time": "2024-06-06T21:54:19.358622Z",
     "start_time": "2024-06-06T21:54:19.354179Z"
    }
   },
   "cell_type": "code",
   "source": "x.shape",
   "id": "779536213d725952",
   "outputs": [
    {
     "data": {
      "text/plain": [
       "(243551, 256)"
      ]
     },
     "execution_count": 15,
     "metadata": {},
     "output_type": "execute_result"
    }
   ],
   "execution_count": 15
  },
  {
   "metadata": {
    "ExecuteTime": {
     "end_time": "2024-06-06T21:54:14.715071Z",
     "start_time": "2024-06-06T21:54:14.711358Z"
    }
   },
   "cell_type": "code",
   "source": [
    "from sklearn.metrics import roc_curve\n",
    "\n",
    "y_pred_prob = model.predict(x_test).ravel()\n",
    "\n",
    "# Calcular a curva ROC\n",
    "fpr, tpr, thresholds = roc_curve(y_test, y_pred_prob)\n",
    "roc_auc = auc(fpr, tpr)\n",
    "\n",
    "plt.figure()\n",
    "plt.plot(fpr, tpr, color='darkorange', lw=2, label=f'ROC curve (area = {roc_auc:.2f})')\n",
    "\n",
    "plt.show()"
   ],
   "id": "e7a1553ce3f39c29",
   "outputs": [],
   "execution_count": 14
  },
  {
   "metadata": {},
   "cell_type": "code",
   "outputs": [],
   "execution_count": null,
   "source": "",
   "id": "b5df719118890d4b"
  }
 ],
 "metadata": {
  "kernelspec": {
   "display_name": "Python 3",
   "language": "python",
   "name": "python3"
  },
  "language_info": {
   "codemirror_mode": {
    "name": "ipython",
    "version": 2
   },
   "file_extension": ".py",
   "mimetype": "text/x-python",
   "name": "python",
   "nbconvert_exporter": "python",
   "pygments_lexer": "ipython2",
   "version": "2.7.6"
  }
 },
 "nbformat": 4,
 "nbformat_minor": 5
}
