{
 "cells": [
  {
   "cell_type": "markdown",
   "metadata": {},
   "source": [
    "### Importar bibliotecas"
   ]
  },
  {
   "cell_type": "code",
   "execution_count": 86,
   "metadata": {},
   "outputs": [],
   "source": [
    "import pandas as pd\n",
    "import numpy as np\n",
    "from src.Particle import ParticleType\n",
    "from src.JetBuilder import JetBuilder\n",
    "from src.JetImage import JetImage, JetImageCalculator, JetImageCalculatorPandas, JetImageAvarageCalculator\n",
    "import matplotlib.pyplot as plt\n",
    "from matplotlib.colors import LinearSegmentedColormap\n",
    "from sklearn.model_selection import train_test_split"
   ]
  },
  {
   "cell_type": "markdown",
   "metadata": {},
   "source": [
    "### Leitura de dados"
   ]
  },
  {
   "cell_type": "code",
   "execution_count": 2,
   "metadata": {},
   "outputs": [],
   "source": [
    "data_gluon = pd.read_csv('../Dados/g_jets.csv', header=None, sep=' ')\n",
    "data_quark = pd.read_csv('../Dados/q_jets.csv', header=None, sep=' ')\n",
    "data_top = pd.read_csv('../Dados/t_jets.csv', header=None, sep=' ')"
   ]
  },
  {
   "cell_type": "markdown",
   "metadata": {},
   "source": [
    "### Construção de jatos"
   ]
  },
  {
   "cell_type": "markdown",
   "metadata": {},
   "source": [
    "- Tempo para carregar todos os dados: 38m 3.6s\n",
    "- Tempo para carregar 500 jatos por partícula: 13.9s"
   ]
  },
  {
   "cell_type": "code",
   "execution_count": 49,
   "metadata": {},
   "outputs": [],
   "source": [
    "# creating the list with the jets objects\n",
    "jet_builder = JetBuilder()\n",
    "# For the data exploration this amount of jets is enough\n",
    "# More than that the evaluation stars to become really slower\n",
    "gluon_jets = jet_builder.create_jets(data_frame=data_gluon[:500], jet_type=ParticleType.Gluon)\n",
    "quark_jets = jet_builder.create_jets(data_frame=data_quark[:500], jet_type=ParticleType.LightQuark)\n",
    "top_jets = jet_builder.create_jets(data_frame=data_top[:500], jet_type=ParticleType.Top)"
   ]
  },
  {
   "cell_type": "markdown",
   "metadata": {},
   "source": [
    "#### Geração de imagens"
   ]
  },
  {
   "cell_type": "code",
   "execution_count": 50,
   "metadata": {},
   "outputs": [],
   "source": [
    "jet_image = JetImage((-0.3, 0.3), (-0.3, 0.3), 9, 9, JetImageCalculator())"
   ]
  },
  {
   "cell_type": "code",
   "execution_count": 51,
   "metadata": {},
   "outputs": [],
   "source": [
    "first_gluon_image = jet_image.create_jet_image(gluon_jets[10])"
   ]
  },
  {
   "cell_type": "code",
   "execution_count": 52,
   "metadata": {},
   "outputs": [],
   "source": [
    "# Create a custom colormap that transitions from white to blue to red\n",
    "colors = [(1, 1, 1), (0, 0, 1), (1, 0, 0)]  # White, Blue, Red\n",
    "n_bins = 100  # Number of bins for interpolation\n",
    "custom_cmap = LinearSegmentedColormap.from_list('white_blue_red', colors, N=n_bins)"
   ]
  },
  {
   "cell_type": "code",
   "execution_count": 53,
   "metadata": {},
   "outputs": [
    {
     "data": {
      "text/plain": [
       "Text(0, 0.5, '$\\\\eta^{rel}$')"
      ]
     },
     "execution_count": 53,
     "metadata": {},
     "output_type": "execute_result"
    },
    {
     "data": {
      "image/png": "[encoded data removed]",
      "text/plain": [
       "<Figure size 640x480 with 2 Axes>"
      ]
     },
     "metadata": {},
     "output_type": "display_data"
    }
   ],
   "source": [
    "# import numpy as np\n",
    "plt.imshow(first_gluon_image, cmap=custom_cmap, extent=(-0.3, 0.3, -0.3, 0.3))\n",
    "plt.colorbar(label='pT')\n",
    "plt.xlabel(r'$\\phi^{rel}$')\n",
    "plt.ylabel(r'$\\eta^{rel}$')"
   ]
  },
  {
   "cell_type": "code",
   "execution_count": 54,
   "metadata": {},
   "outputs": [
    {
     "data": {
      "text/plain": [
       "500"
      ]
     },
     "execution_count": 54,
     "metadata": {},
     "output_type": "execute_result"
    }
   ],
   "source": [
    "len(gluon_jets)"
   ]
  },
  {
   "cell_type": "markdown",
   "metadata": {},
   "source": [
    "### Organização dos dados como o MNIST"
   ]
  },
  {
   "cell_type": "code",
   "execution_count": 94,
   "metadata": {},
   "outputs": [
    {
     "data": {
      "text/plain": [
       "(array([[0., 0., 0., ..., 0., 0., 0.],\n",
       "        [0., 0., 0., ..., 0., 0., 0.],\n",
       "        [0., 0., 0., ..., 0., 0., 0.],\n",
       "        ...,\n",
       "        [0., 0., 0., ..., 0., 0., 0.],\n",
       "        [0., 0., 0., ..., 0., 0., 0.],\n",
       "        [0., 0., 0., ..., 0., 0., 0.]]),\n",
       " array([[1., 0., 0.],\n",
       "        [1., 0., 0.],\n",
       "        [1., 0., 0.],\n",
       "        ...,\n",
       "        [0., 0., 1.],\n",
       "        [0., 0., 1.],\n",
       "        [0., 0., 1.]]))"
      ]
     },
     "execution_count": 94,
     "metadata": {},
     "output_type": "execute_result"
    }
   ],
   "source": [
    "#Cria um array pra cada jato e associa a ele se ele é um g, t ou q\n",
    "t_tam = len(top_jets)\n",
    "q_tam = len(quark_jets)\n",
    "g_tam = len(gluon_jets)\n",
    "tam_particulas = t_tam + q_tam + g_tam\n",
    "\n",
    "dados_particulas = np.empty((tam_particulas,81))\n",
    "label = np.zeros((t_tam+q_tam+g_tam,3))\n",
    "\n",
    "for i in range(t_tam):\n",
    "\n",
    "    top_image = jet_image.create_jet_image(top_jets[i])\n",
    "    top_image = top_image.reshape(1,81)\n",
    "\n",
    "    label[i,0] = 1.0\n",
    "    dados_particulas[i] = top_image\n",
    "\n",
    "for i in range(q_tam):\n",
    "\n",
    "    quark_image = jet_image.create_jet_image(quark_jets[i])\n",
    "    quark_image = quark_image.reshape(1,81)\n",
    "\n",
    "    label[i+t_tam,1] = 1.0\n",
    "    dados_particulas[i+t_tam] = quark_image\n",
    "\n",
    "for i in range(g_tam):\n",
    "\n",
    "    gluon_image = jet_image.create_jet_image(gluon_jets[i])\n",
    "    gluon_image = gluon_image.reshape(1,81)\n",
    "\n",
    "    label[i+t_tam+q_tam,2] = 1.0\n",
    "    dados_particulas[i+t_tam+q_tam] = gluon_image\n",
    "\n",
    "dados = (dados_particulas,label)\n",
    "dados"
   ]
  },
  {
   "cell_type": "markdown",
   "metadata": {},
   "source": [
    "### Particionamento dos dados"
   ]
  },
  {
   "cell_type": "code",
   "execution_count": 122,
   "metadata": {},
   "outputs": [],
   "source": [
    "X, Y = dados[0].copy(), dados[1].copy()\n",
    "\n",
    "x, x_test, y, y_test = train_test_split(X, Y, train_size = 0.7, shuffle= True)\n",
    "vx, tx, vy, ty = train_test_split(x_test, y_test, train_size = 0.5, shuffle= True)\n",
    "\n",
    "x = x.reshape(-1,9,9,1)\n",
    "vx = vx.reshape(-1,9,9,1)\n",
    "tx = tx.reshape(-1,9,9,1)\n"
   ]
  }
 ],
 "metadata": {
  "kernelspec": {
   "display_name": "Python 3",
   "language": "python",
   "name": "python3"
  },
  "language_info": {
   "codemirror_mode": {
    "name": "ipython",
    "version": 3
   },
   "file_extension": ".py",
   "mimetype": "text/x-python",
   "name": "python",
   "nbconvert_exporter": "python",
   "pygments_lexer": "ipython3",
   "version": "3.12.3"
  }
 },
 "nbformat": 4,
 "nbformat_minor": 2
}
