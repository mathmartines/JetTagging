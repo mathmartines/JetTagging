{
 "cells": [
  {
   "metadata": {
    "ExecuteTime": {
     "end_time": "2024-06-19T23:07:31.705140Z",
     "start_time": "2024-06-19T23:07:24.834853Z"
    }
   },
   "cell_type": "code",
   "source": [
    "import sys\n",
    "sys.path.append('JetTagging')\n",
    "sys.path.append('JetTagging/src')\n",
    "import pandas as pd\n",
    "import numpy as np\n",
    "import matplotlib.pyplot as plt\n",
    "from src.JetPreprocessing import PreprocessingJetImages\n",
    "from src.LabelsGeneration import create_jet_labels_one_column_per_category\n",
    "from sklearn.utils import shuffle\n",
    "from keras.models import Sequential, load_model\n",
    "\n",
    "\n",
    "from tensorflow.keras.layers import Input, Conv2D, MaxPool2D, Flatten, Dense, Dropout\n",
    "from tensorflow.keras.regularizers import l2\n",
    "from tensorflow.keras.optimizers import Adam"
   ],
   "id": "dfa6a2c287e93145",
   "outputs": [],
   "execution_count": 1
  },
  {
   "metadata": {
    "ExecuteTime": {
     "end_time": "2024-06-19T23:08:39.395543Z",
     "start_time": "2024-06-19T23:08:34.709978Z"
    }
   },
   "cell_type": "code",
   "source": [
    "data_gluon_train = pd.read_csv(\"Dados/Trainning/g_jets.csv\", header=None)\n",
    "data_quark_train = pd.read_csv(\"Dados/Trainning/q_jets.csv\", header=None)\n",
    "\n",
    "\n",
    "data_gluon_val = pd.read_csv(\"Dados/Validation/g_jets.csv\", header=None)\n",
    "data_quark_val = pd.read_csv(\"Dados/Validation/q_jets.csv\", header=None)\n",
    "\n",
    "\n",
    "data_gluon_test = pd.read_csv(\"Dados/Test/g_jets.csv\", header=None)\n",
    "data_quark_test = pd.read_csv(\"Dados/Test/q_jets.csv\", header=None)\n"
   ],
   "id": "b88b1bffd31dd463",
   "outputs": [],
   "execution_count": 2
  },
  {
   "metadata": {
    "ExecuteTime": {
     "end_time": "2024-06-19T23:08:40.705858Z",
     "start_time": "2024-06-19T23:08:40.700642Z"
    }
   },
   "cell_type": "code",
   "source": [
    "pix = 16\n",
    "lim = 0.4\n",
    "jet_image_processing = PreprocessingJetImages(phi_range=(-lim, lim), eta_range=(-lim, lim), n_bins_phi=pix, n_bins_eta=pix)"
   ],
   "id": "bfe729308a6d3353",
   "outputs": [],
   "execution_count": 3
  },
  {
   "metadata": {
    "ExecuteTime": {
     "end_time": "2024-06-19T23:08:59.206898Z",
     "start_time": "2024-06-19T23:08:45.567671Z"
    }
   },
   "cell_type": "code",
   "source": [
    "gluon_images_train = jet_image_processing.transform(X=data_gluon_train.to_numpy())\n",
    "quark_images_train = jet_image_processing.transform(X=data_quark_train.to_numpy())\n",
    "\n",
    "\n",
    "gluon_images_val = jet_image_processing.transform(X=data_gluon_val.to_numpy())\n",
    "quark_images_val = jet_image_processing.transform(X=data_quark_val.to_numpy())\n",
    "\n",
    "\n",
    "gluon_images_test = jet_image_processing.transform(X=data_gluon_test.to_numpy())\n",
    "quark_images_test = jet_image_processing.transform(X=data_quark_test.to_numpy())\n"
   ],
   "id": "5d05af67061f9e7b",
   "outputs": [],
   "execution_count": 4
  },
  {
   "metadata": {
    "ExecuteTime": {
     "end_time": "2024-06-19T23:08:59.429931Z",
     "start_time": "2024-06-19T23:08:59.207944Z"
    }
   },
   "cell_type": "code",
   "source": [
    "#nesta ordem \n",
    "\n",
    "all_jet_images_train = np.vstack([gluon_images_train, quark_images_train])\n",
    "all_jet_images_val = np.vstack([gluon_images_val, quark_images_val])\n",
    "all_jet_images_test = np.vstack([gluon_images_test, quark_images_test])"
   ],
   "id": "6493989a6e3627fc",
   "outputs": [],
   "execution_count": 5
  },
  {
   "metadata": {
    "ExecuteTime": {
     "end_time": "2024-06-19T23:08:59.444Z",
     "start_time": "2024-06-19T23:08:59.430984Z"
    }
   },
   "cell_type": "code",
   "source": [
    "### to indo de 0 a len(gluons)\n",
    "### depois indo de len(gluons) até len(all_jets)\n",
    "\n",
    "\n",
    "jet_labels_train = create_jet_labels_one_column_per_category([(0, len(gluon_images_train) -1), (len(gluon_images_train)  , len(all_jet_images_train) - 1)])\n",
    "jet_labels_val = create_jet_labels_one_column_per_category([(0, len(gluon_images_val)-1 ), (len(gluon_images_val) , len(all_jet_images_val) - 1)])\n",
    "jet_labels_test = create_jet_labels_one_column_per_category([(0, len(gluon_images_test) -1), (len(gluon_images_test)  , len(all_jet_images_test) - 1)]) "
   ],
   "id": "62c0c0ad578a88ce",
   "outputs": [],
   "execution_count": 6
  },
  {
   "metadata": {
    "ExecuteTime": {
     "end_time": "2024-06-19T23:08:59.865960Z",
     "start_time": "2024-06-19T23:08:59.446009Z"
    }
   },
   "cell_type": "code",
   "source": [
    "x, y = shuffle(all_jet_images_train, jet_labels_train, random_state = 0)\n",
    "vx, vy = shuffle(all_jet_images_val, jet_labels_val, random_state = 0)\n",
    "tx, ty = shuffle(all_jet_images_test, jet_labels_test, random_state = 0)\n",
    "\n",
    "x = x.reshape(-1,pix,pix,1)\n",
    "vx = vx.reshape(-1,pix,pix,1)\n",
    "tx = tx.reshape(-1,pix,pix,1)"
   ],
   "id": "6d53c98d04cd6cca",
   "outputs": [],
   "execution_count": 7
  },
  {
   "metadata": {
    "ExecuteTime": {
     "end_time": "2024-06-19T19:30:54.721330Z",
     "start_time": "2024-06-19T19:30:54.490671Z"
    }
   },
   "cell_type": "code",
   "source": [
    "regularization_rate = 10**(-8)\n",
    "dropout_rate = 0.3\n",
    "\n",
    "model = Sequential()\n",
    "model.add(Input(shape=(pix,pix,1)))\n",
    "\n",
    "model.add(Conv2D(filters = 128 , kernel_size=(5, 5), padding = \"same\", activation='relu',kernel_regularizer=l2(regularization_rate)))\n",
    "model.add(MaxPool2D(pool_size=(2, 2),strides=(2, 2)))\n",
    "model.add(Dropout(dropout_rate))\n",
    "\n",
    "model.add(Conv2D(filters = 128 , kernel_size=(5, 5), padding = \"same\", activation='relu',kernel_regularizer=l2(regularization_rate)))\n",
    "model.add(MaxPool2D(pool_size=(2, 2),strides=(2, 2)))\n",
    "model.add(Dropout(dropout_rate))\n",
    "\n",
    "model.add(Conv2D(filters = 64 , kernel_size=(3, 3), padding = \"same\", activation='relu',kernel_regularizer=l2(regularization_rate)))\n",
    "model.add(MaxPool2D(pool_size=(2, 2),strides=(2, 2)))\n",
    "model.add(Dropout(dropout_rate))\n",
    "\n",
    "model.add(Flatten())\n",
    "\n",
    "model.add(Dense(128, activation='relu', kernel_regularizer=l2(regularization_rate)))\n",
    "model.add(Dropout(dropout_rate))\n",
    "\n",
    "model.add(Dense(2, activation='softmax'))\n",
    "\n",
    "\n",
    "learning_rate = 0.0001\n",
    "\n",
    "optimizer = Adam(learning_rate=learning_rate)\n",
    "model.compile(loss='categorical_crossentropy', optimizer=optimizer, metrics=['accuracy','auc'])"
   ],
   "id": "b162957bddb4ef4a",
   "outputs": [],
   "execution_count": 11
  },
  {
   "metadata": {
    "ExecuteTime": {
     "end_time": "2024-06-19T22:10:44.583736Z",
     "start_time": "2024-06-19T19:31:00.735703Z"
    }
   },
   "cell_type": "code",
   "source": [
    "from tensorflow.keras.callbacks import ModelCheckpoint\n",
    "\n",
    "callbacks = [ModelCheckpoint(\n",
    "        filepath = \"model/QG_Tag_Model_3.keras\",\n",
    "        save_best_only=True,\n",
    "        monitor = 'val_loss',\n",
    "                    )]\n",
    "\n",
    "#foi uma função q achei pra salvar umas infos de maneira mais fácil ( peguei tudo dum tutorial )\n",
    "history = model.fit(\n",
    "    x, y,\n",
    "    epochs = 50,\n",
    "    validation_data = (vx, vy),\n",
    "    callbacks = callbacks,\n",
    "    batch_size = 128 \n",
    ")"
   ],
   "id": "8ec0fd6d87a1317c",
   "outputs": [
    {
     "name": "stdout",
     "output_type": "stream",
     "text": [
      "Epoch 1/50\n",
      "\u001B[1m1964/1964\u001B[0m \u001B[32m━━━━━━━━━━━━━━━━━━━━\u001B[0m\u001B[37m\u001B[0m \u001B[1m206s\u001B[0m 104ms/step - accuracy: 0.6547 - auc: 0.7081 - loss: 0.6208 - val_accuracy: 0.7144 - val_auc: 0.7862 - val_loss: 0.5598\n",
      "Epoch 2/50\n",
      "\u001B[1m1964/1964\u001B[0m \u001B[32m━━━━━━━━━━━━━━━━━━━━\u001B[0m\u001B[37m\u001B[0m \u001B[1m185s\u001B[0m 94ms/step - accuracy: 0.7169 - auc: 0.7810 - loss: 0.5647 - val_accuracy: 0.7184 - val_auc: 0.7940 - val_loss: 0.5527\n",
      "Epoch 3/50\n",
      "\u001B[1m1964/1964\u001B[0m \u001B[32m━━━━━━━━━━━━━━━━━━━━\u001B[0m\u001B[37m\u001B[0m \u001B[1m189s\u001B[0m 96ms/step - accuracy: 0.7334 - auc: 0.8061 - loss: 0.5379 - val_accuracy: 0.7564 - val_auc: 0.8341 - val_loss: 0.5174\n",
      "Epoch 4/50\n",
      "\u001B[1m1964/1964\u001B[0m \u001B[32m━━━━━━━━━━━━━━━━━━━━\u001B[0m\u001B[37m\u001B[0m \u001B[1m191s\u001B[0m 97ms/step - accuracy: 0.7473 - auc: 0.8221 - loss: 0.5189 - val_accuracy: 0.7607 - val_auc: 0.8398 - val_loss: 0.4968\n",
      "Epoch 5/50\n",
      "\u001B[1m1964/1964\u001B[0m \u001B[32m━━━━━━━━━━━━━━━━━━━━\u001B[0m\u001B[37m\u001B[0m \u001B[1m191s\u001B[0m 97ms/step - accuracy: 0.7543 - auc: 0.8302 - loss: 0.5089 - val_accuracy: 0.7591 - val_auc: 0.8372 - val_loss: 0.4997\n",
      "Epoch 6/50\n",
      "\u001B[1m1964/1964\u001B[0m \u001B[32m━━━━━━━━━━━━━━━━━━━━\u001B[0m\u001B[37m\u001B[0m \u001B[1m195s\u001B[0m 99ms/step - accuracy: 0.7584 - auc: 0.8345 - loss: 0.5034 - val_accuracy: 0.7711 - val_auc: 0.8481 - val_loss: 0.4870\n",
      "Epoch 7/50\n",
      "\u001B[1m1964/1964\u001B[0m \u001B[32m━━━━━━━━━━━━━━━━━━━━\u001B[0m\u001B[37m\u001B[0m \u001B[1m191s\u001B[0m 97ms/step - accuracy: 0.7610 - auc: 0.8378 - loss: 0.4989 - val_accuracy: 0.7500 - val_auc: 0.8261 - val_loss: 0.5146\n",
      "Epoch 8/50\n",
      "\u001B[1m1964/1964\u001B[0m \u001B[32m━━━━━━━━━━━━━━━━━━━━\u001B[0m\u001B[37m\u001B[0m \u001B[1m189s\u001B[0m 96ms/step - accuracy: 0.7630 - auc: 0.8403 - loss: 0.4958 - val_accuracy: 0.7668 - val_auc: 0.8443 - val_loss: 0.4913\n",
      "Epoch 9/50\n",
      "\u001B[1m1964/1964\u001B[0m \u001B[32m━━━━━━━━━━━━━━━━━━━━\u001B[0m\u001B[37m\u001B[0m \u001B[1m188s\u001B[0m 96ms/step - accuracy: 0.7669 - auc: 0.8426 - loss: 0.4930 - val_accuracy: 0.7708 - val_auc: 0.8482 - val_loss: 0.4857\n",
      "Epoch 10/50\n",
      "\u001B[1m1964/1964\u001B[0m \u001B[32m━━━━━━━━━━━━━━━━━━━━\u001B[0m\u001B[37m\u001B[0m \u001B[1m192s\u001B[0m 98ms/step - accuracy: 0.7682 - auc: 0.8456 - loss: 0.4885 - val_accuracy: 0.7538 - val_auc: 0.8313 - val_loss: 0.5079\n",
      "Epoch 11/50\n",
      "\u001B[1m1964/1964\u001B[0m \u001B[32m━━━━━━━━━━━━━━━━━━━━\u001B[0m\u001B[37m\u001B[0m \u001B[1m190s\u001B[0m 97ms/step - accuracy: 0.7695 - auc: 0.8459 - loss: 0.4882 - val_accuracy: 0.7697 - val_auc: 0.8473 - val_loss: 0.4882\n",
      "Epoch 12/50\n",
      "\u001B[1m1964/1964\u001B[0m \u001B[32m━━━━━━━━━━━━━━━━━━━━\u001B[0m\u001B[37m\u001B[0m \u001B[1m190s\u001B[0m 97ms/step - accuracy: 0.7706 - auc: 0.8469 - loss: 0.4868 - val_accuracy: 0.7400 - val_auc: 0.8165 - val_loss: 0.5407\n",
      "Epoch 13/50\n",
      "\u001B[1m1964/1964\u001B[0m \u001B[32m━━━━━━━━━━━━━━━━━━━━\u001B[0m\u001B[37m\u001B[0m \u001B[1m190s\u001B[0m 97ms/step - accuracy: 0.7721 - auc: 0.8486 - loss: 0.4846 - val_accuracy: 0.7748 - val_auc: 0.8515 - val_loss: 0.4812\n",
      "Epoch 14/50\n",
      "\u001B[1m1964/1964\u001B[0m \u001B[32m━━━━━━━━━━━━━━━━━━━━\u001B[0m\u001B[37m\u001B[0m \u001B[1m190s\u001B[0m 97ms/step - accuracy: 0.7734 - auc: 0.8507 - loss: 0.4815 - val_accuracy: 0.7791 - val_auc: 0.8570 - val_loss: 0.4728\n",
      "Epoch 15/50\n",
      "\u001B[1m1964/1964\u001B[0m \u001B[32m━━━━━━━━━━━━━━━━━━━━\u001B[0m\u001B[37m\u001B[0m \u001B[1m193s\u001B[0m 98ms/step - accuracy: 0.7740 - auc: 0.8503 - loss: 0.4821 - val_accuracy: 0.7817 - val_auc: 0.8590 - val_loss: 0.4694\n",
      "Epoch 16/50\n",
      "\u001B[1m1964/1964\u001B[0m \u001B[32m━━━━━━━━━━━━━━━━━━━━\u001B[0m\u001B[37m\u001B[0m \u001B[1m190s\u001B[0m 97ms/step - accuracy: 0.7741 - auc: 0.8501 - loss: 0.4825 - val_accuracy: 0.7747 - val_auc: 0.8534 - val_loss: 0.4782\n",
      "Epoch 17/50\n",
      "\u001B[1m1964/1964\u001B[0m \u001B[32m━━━━━━━━━━━━━━━━━━━━\u001B[0m\u001B[37m\u001B[0m \u001B[1m192s\u001B[0m 98ms/step - accuracy: 0.7760 - auc: 0.8525 - loss: 0.4791 - val_accuracy: 0.7600 - val_auc: 0.8378 - val_loss: 0.4999\n",
      "Epoch 18/50\n",
      "\u001B[1m1964/1964\u001B[0m \u001B[32m━━━━━━━━━━━━━━━━━━━━\u001B[0m\u001B[37m\u001B[0m \u001B[1m188s\u001B[0m 96ms/step - accuracy: 0.7763 - auc: 0.8529 - loss: 0.4785 - val_accuracy: 0.7827 - val_auc: 0.8604 - val_loss: 0.4675\n",
      "Epoch 19/50\n",
      "\u001B[1m1964/1964\u001B[0m \u001B[32m━━━━━━━━━━━━━━━━━━━━\u001B[0m\u001B[37m\u001B[0m \u001B[1m190s\u001B[0m 97ms/step - accuracy: 0.7758 - auc: 0.8526 - loss: 0.4788 - val_accuracy: 0.7830 - val_auc: 0.8601 - val_loss: 0.4681\n",
      "Epoch 20/50\n",
      "\u001B[1m1964/1964\u001B[0m \u001B[32m━━━━━━━━━━━━━━━━━━━━\u001B[0m\u001B[37m\u001B[0m \u001B[1m193s\u001B[0m 98ms/step - accuracy: 0.7761 - auc: 0.8534 - loss: 0.4778 - val_accuracy: 0.7226 - val_auc: 0.8003 - val_loss: 0.5741\n",
      "Epoch 21/50\n",
      "\u001B[1m1964/1964\u001B[0m \u001B[32m━━━━━━━━━━━━━━━━━━━━\u001B[0m\u001B[37m\u001B[0m \u001B[1m191s\u001B[0m 97ms/step - accuracy: 0.7773 - auc: 0.8539 - loss: 0.4770 - val_accuracy: 0.7523 - val_auc: 0.8268 - val_loss: 0.5244\n",
      "Epoch 22/50\n",
      "\u001B[1m1964/1964\u001B[0m \u001B[32m━━━━━━━━━━━━━━━━━━━━\u001B[0m\u001B[37m\u001B[0m \u001B[1m191s\u001B[0m 97ms/step - accuracy: 0.7773 - auc: 0.8544 - loss: 0.4761 - val_accuracy: 0.7714 - val_auc: 0.8479 - val_loss: 0.4905\n",
      "Epoch 23/50\n",
      "\u001B[1m1964/1964\u001B[0m \u001B[32m━━━━━━━━━━━━━━━━━━━━\u001B[0m\u001B[37m\u001B[0m \u001B[1m192s\u001B[0m 98ms/step - accuracy: 0.7782 - auc: 0.8542 - loss: 0.4765 - val_accuracy: 0.7597 - val_auc: 0.8343 - val_loss: 0.5051\n",
      "Epoch 24/50\n",
      "\u001B[1m1964/1964\u001B[0m \u001B[32m━━━━━━━━━━━━━━━━━━━━\u001B[0m\u001B[37m\u001B[0m \u001B[1m195s\u001B[0m 99ms/step - accuracy: 0.7800 - auc: 0.8564 - loss: 0.4735 - val_accuracy: 0.7645 - val_auc: 0.8408 - val_loss: 0.4958\n",
      "Epoch 25/50\n",
      "\u001B[1m1964/1964\u001B[0m \u001B[32m━━━━━━━━━━━━━━━━━━━━\u001B[0m\u001B[37m\u001B[0m \u001B[1m195s\u001B[0m 99ms/step - accuracy: 0.7794 - auc: 0.8567 - loss: 0.4728 - val_accuracy: 0.7511 - val_auc: 0.8325 - val_loss: 0.5130\n",
      "Epoch 26/50\n",
      "\u001B[1m1964/1964\u001B[0m \u001B[32m━━━━━━━━━━━━━━━━━━━━\u001B[0m\u001B[37m\u001B[0m \u001B[1m189s\u001B[0m 96ms/step - accuracy: 0.7779 - auc: 0.8551 - loss: 0.4753 - val_accuracy: 0.7790 - val_auc: 0.8572 - val_loss: 0.4723\n",
      "Epoch 27/50\n",
      "\u001B[1m1964/1964\u001B[0m \u001B[32m━━━━━━━━━━━━━━━━━━━━\u001B[0m\u001B[37m\u001B[0m \u001B[1m190s\u001B[0m 97ms/step - accuracy: 0.7798 - auc: 0.8568 - loss: 0.4728 - val_accuracy: 0.7675 - val_auc: 0.8445 - val_loss: 0.4951\n",
      "Epoch 28/50\n",
      "\u001B[1m1964/1964\u001B[0m \u001B[32m━━━━━━━━━━━━━━━━━━━━\u001B[0m\u001B[37m\u001B[0m \u001B[1m188s\u001B[0m 96ms/step - accuracy: 0.7785 - auc: 0.8555 - loss: 0.4745 - val_accuracy: 0.7781 - val_auc: 0.8555 - val_loss: 0.4755\n",
      "Epoch 29/50\n",
      "\u001B[1m1964/1964\u001B[0m \u001B[32m━━━━━━━━━━━━━━━━━━━━\u001B[0m\u001B[37m\u001B[0m \u001B[1m204s\u001B[0m 97ms/step - accuracy: 0.7817 - auc: 0.8582 - loss: 0.4708 - val_accuracy: 0.7773 - val_auc: 0.8558 - val_loss: 0.4745\n",
      "Epoch 30/50\n",
      "\u001B[1m1964/1964\u001B[0m \u001B[32m━━━━━━━━━━━━━━━━━━━━\u001B[0m\u001B[37m\u001B[0m \u001B[1m197s\u001B[0m 100ms/step - accuracy: 0.7816 - auc: 0.8582 - loss: 0.4709 - val_accuracy: 0.7832 - val_auc: 0.8616 - val_loss: 0.4662\n",
      "Epoch 31/50\n",
      "\u001B[1m1964/1964\u001B[0m \u001B[32m━━━━━━━━━━━━━━━━━━━━\u001B[0m\u001B[37m\u001B[0m \u001B[1m196s\u001B[0m 100ms/step - accuracy: 0.7815 - auc: 0.8582 - loss: 0.4707 - val_accuracy: 0.7832 - val_auc: 0.8629 - val_loss: 0.4639\n",
      "Epoch 32/50\n",
      "\u001B[1m1964/1964\u001B[0m \u001B[32m━━━━━━━━━━━━━━━━━━━━\u001B[0m\u001B[37m\u001B[0m \u001B[1m193s\u001B[0m 98ms/step - accuracy: 0.7822 - auc: 0.8585 - loss: 0.4703 - val_accuracy: 0.7805 - val_auc: 0.8596 - val_loss: 0.4703\n",
      "Epoch 33/50\n",
      "\u001B[1m1964/1964\u001B[0m \u001B[32m━━━━━━━━━━━━━━━━━━━━\u001B[0m\u001B[37m\u001B[0m \u001B[1m189s\u001B[0m 96ms/step - accuracy: 0.7818 - auc: 0.8586 - loss: 0.4702 - val_accuracy: 0.7486 - val_auc: 0.8268 - val_loss: 0.5244\n",
      "Epoch 34/50\n",
      "\u001B[1m1964/1964\u001B[0m \u001B[32m━━━━━━━━━━━━━━━━━━━━\u001B[0m\u001B[37m\u001B[0m \u001B[1m189s\u001B[0m 96ms/step - accuracy: 0.7809 - auc: 0.8580 - loss: 0.4709 - val_accuracy: 0.7838 - val_auc: 0.8620 - val_loss: 0.4650\n",
      "Epoch 35/50\n",
      "\u001B[1m1964/1964\u001B[0m \u001B[32m━━━━━━━━━━━━━━━━━━━━\u001B[0m\u001B[37m\u001B[0m \u001B[1m195s\u001B[0m 99ms/step - accuracy: 0.7828 - auc: 0.8592 - loss: 0.4691 - val_accuracy: 0.7856 - val_auc: 0.8628 - val_loss: 0.4641\n",
      "Epoch 36/50\n",
      "\u001B[1m1964/1964\u001B[0m \u001B[32m━━━━━━━━━━━━━━━━━━━━\u001B[0m\u001B[37m\u001B[0m \u001B[1m194s\u001B[0m 99ms/step - accuracy: 0.7827 - auc: 0.8586 - loss: 0.4702 - val_accuracy: 0.7731 - val_auc: 0.8502 - val_loss: 0.4822\n",
      "Epoch 37/50\n",
      "\u001B[1m1964/1964\u001B[0m \u001B[32m━━━━━━━━━━━━━━━━━━━━\u001B[0m\u001B[37m\u001B[0m \u001B[1m191s\u001B[0m 97ms/step - accuracy: 0.7825 - auc: 0.8596 - loss: 0.4686 - val_accuracy: 0.7852 - val_auc: 0.8636 - val_loss: 0.4642\n",
      "Epoch 38/50\n",
      "\u001B[1m1964/1964\u001B[0m \u001B[32m━━━━━━━━━━━━━━━━━━━━\u001B[0m\u001B[37m\u001B[0m \u001B[1m191s\u001B[0m 97ms/step - accuracy: 0.7805 - auc: 0.8579 - loss: 0.4712 - val_accuracy: 0.7804 - val_auc: 0.8598 - val_loss: 0.4684\n",
      "Epoch 39/50\n",
      "\u001B[1m1964/1964\u001B[0m \u001B[32m━━━━━━━━━━━━━━━━━━━━\u001B[0m\u001B[37m\u001B[0m \u001B[1m195s\u001B[0m 99ms/step - accuracy: 0.7847 - auc: 0.8601 - loss: 0.4680 - val_accuracy: 0.7848 - val_auc: 0.8626 - val_loss: 0.4658\n",
      "Epoch 40/50\n",
      "\u001B[1m1964/1964\u001B[0m \u001B[32m━━━━━━━━━━━━━━━━━━━━\u001B[0m\u001B[37m\u001B[0m \u001B[1m188s\u001B[0m 96ms/step - accuracy: 0.7823 - auc: 0.8592 - loss: 0.4691 - val_accuracy: 0.7843 - val_auc: 0.8616 - val_loss: 0.4659\n",
      "Epoch 41/50\n",
      "\u001B[1m1964/1964\u001B[0m \u001B[32m━━━━━━━━━━━━━━━━━━━━\u001B[0m\u001B[37m\u001B[0m \u001B[1m189s\u001B[0m 96ms/step - accuracy: 0.7847 - auc: 0.8614 - loss: 0.4660 - val_accuracy: 0.7798 - val_auc: 0.8574 - val_loss: 0.4720\n",
      "Epoch 42/50\n",
      "\u001B[1m1964/1964\u001B[0m \u001B[32m━━━━━━━━━━━━━━━━━━━━\u001B[0m\u001B[37m\u001B[0m \u001B[1m188s\u001B[0m 96ms/step - accuracy: 0.7844 - auc: 0.8609 - loss: 0.4666 - val_accuracy: 0.7886 - val_auc: 0.8670 - val_loss: 0.4574\n",
      "Epoch 43/50\n",
      "\u001B[1m1964/1964\u001B[0m \u001B[32m━━━━━━━━━━━━━━━━━━━━\u001B[0m\u001B[37m\u001B[0m \u001B[1m193s\u001B[0m 98ms/step - accuracy: 0.7851 - auc: 0.8616 - loss: 0.4657 - val_accuracy: 0.7748 - val_auc: 0.8527 - val_loss: 0.4796\n",
      "Epoch 44/50\n",
      "\u001B[1m1964/1964\u001B[0m \u001B[32m━━━━━━━━━━━━━━━━━━━━\u001B[0m\u001B[37m\u001B[0m \u001B[1m194s\u001B[0m 99ms/step - accuracy: 0.7858 - auc: 0.8626 - loss: 0.4640 - val_accuracy: 0.7613 - val_auc: 0.8404 - val_loss: 0.4954\n",
      "Epoch 45/50\n",
      "\u001B[1m1964/1964\u001B[0m \u001B[32m━━━━━━━━━━━━━━━━━━━━\u001B[0m\u001B[37m\u001B[0m \u001B[1m191s\u001B[0m 97ms/step - accuracy: 0.7840 - auc: 0.8609 - loss: 0.4667 - val_accuracy: 0.7892 - val_auc: 0.8680 - val_loss: 0.4561\n",
      "Epoch 46/50\n",
      "\u001B[1m1964/1964\u001B[0m \u001B[32m━━━━━━━━━━━━━━━━━━━━\u001B[0m\u001B[37m\u001B[0m \u001B[1m190s\u001B[0m 97ms/step - accuracy: 0.7843 - auc: 0.8605 - loss: 0.4672 - val_accuracy: 0.7856 - val_auc: 0.8636 - val_loss: 0.4627\n",
      "Epoch 47/50\n",
      "\u001B[1m1964/1964\u001B[0m \u001B[32m━━━━━━━━━━━━━━━━━━━━\u001B[0m\u001B[37m\u001B[0m \u001B[1m192s\u001B[0m 98ms/step - accuracy: 0.7864 - auc: 0.8627 - loss: 0.4641 - val_accuracy: 0.7865 - val_auc: 0.8639 - val_loss: 0.4639\n",
      "Epoch 48/50\n",
      "\u001B[1m1964/1964\u001B[0m \u001B[32m━━━━━━━━━━━━━━━━━━━━\u001B[0m\u001B[37m\u001B[0m \u001B[1m192s\u001B[0m 98ms/step - accuracy: 0.7846 - auc: 0.8612 - loss: 0.4662 - val_accuracy: 0.7806 - val_auc: 0.8601 - val_loss: 0.4679\n",
      "Epoch 49/50\n",
      "\u001B[1m1964/1964\u001B[0m \u001B[32m━━━━━━━━━━━━━━━━━━━━\u001B[0m\u001B[37m\u001B[0m \u001B[1m193s\u001B[0m 98ms/step - accuracy: 0.7858 - auc: 0.8624 - loss: 0.4644 - val_accuracy: 0.7860 - val_auc: 0.8627 - val_loss: 0.4639\n",
      "Epoch 50/50\n",
      "\u001B[1m1964/1964\u001B[0m \u001B[32m━━━━━━━━━━━━━━━━━━━━\u001B[0m\u001B[37m\u001B[0m \u001B[1m188s\u001B[0m 96ms/step - accuracy: 0.7874 - auc: 0.8638 - loss: 0.4623 - val_accuracy: 0.7838 - val_auc: 0.8617 - val_loss: 0.4656\n"
     ]
    }
   ],
   "execution_count": 12
  },
  {
   "metadata": {},
   "cell_type": "code",
   "source": "save_model(model=model,history=history,model_name=\"QG_Tag_Model_3\")",
   "id": "fe7ed6d1f4516de0",
   "outputs": [],
   "execution_count": null
  },
  {
   "metadata": {
    "ExecuteTime": {
     "end_time": "2024-06-19T23:06:13.151964Z",
     "start_time": "2024-06-19T23:06:13.138143Z"
    }
   },
   "cell_type": "code",
   "source": [
    "acc = history.history['accuracy']\n",
    "val_acc = history.history['val_accuracy']\n",
    "epochs = range(1,len(acc) + 1)\n",
    "plt.figure()\n",
    "plt.plot(epochs, acc,'r',label = 'Acurácia de treino')\n",
    "plt.plot(epochs, val_acc,'b',label = 'Acurácia de validação')\n",
    "plt.xlabel(\"Epochs\")\n",
    "plt.ylabel(\"%\")\n",
    "plt.legend()\n",
    "plt.show()"
   ],
   "id": "4131588e1719347d",
   "outputs": [
    {
     "ename": "TypeError",
     "evalue": "'float' object is not callable",
     "output_type": "error",
     "traceback": [
      "\u001B[1;31m---------------------------------------------------------------------------\u001B[0m",
      "\u001B[1;31mTypeError\u001B[0m                                 Traceback (most recent call last)",
      "Cell \u001B[1;32mIn[22], line 3\u001B[0m\n\u001B[0;32m      1\u001B[0m acc \u001B[38;5;241m=\u001B[39m history\u001B[38;5;241m.\u001B[39mhistory[\u001B[38;5;124m'\u001B[39m\u001B[38;5;124maccuracy\u001B[39m\u001B[38;5;124m'\u001B[39m]\n\u001B[0;32m      2\u001B[0m val_acc \u001B[38;5;241m=\u001B[39m history\u001B[38;5;241m.\u001B[39mhistory[\u001B[38;5;124m'\u001B[39m\u001B[38;5;124mval_accuracy\u001B[39m\u001B[38;5;124m'\u001B[39m]\n\u001B[1;32m----> 3\u001B[0m epochs \u001B[38;5;241m=\u001B[39m \u001B[38;5;28;43mrange\u001B[39;49m\u001B[43m(\u001B[49m\u001B[38;5;241;43m1\u001B[39;49m\u001B[43m,\u001B[49m\u001B[38;5;28;43mlen\u001B[39;49m\u001B[43m(\u001B[49m\u001B[43macc\u001B[49m\u001B[43m)\u001B[49m\u001B[43m \u001B[49m\u001B[38;5;241;43m+\u001B[39;49m\u001B[43m \u001B[49m\u001B[38;5;241;43m1\u001B[39;49m\u001B[43m)\u001B[49m\n\u001B[0;32m      4\u001B[0m plt\u001B[38;5;241m.\u001B[39mfigure()\n\u001B[0;32m      5\u001B[0m plt\u001B[38;5;241m.\u001B[39mplot(epochs, acc,\u001B[38;5;124m'\u001B[39m\u001B[38;5;124mr\u001B[39m\u001B[38;5;124m'\u001B[39m,label \u001B[38;5;241m=\u001B[39m \u001B[38;5;124m'\u001B[39m\u001B[38;5;124mAcurácia de treino\u001B[39m\u001B[38;5;124m'\u001B[39m)\n",
      "\u001B[1;31mTypeError\u001B[0m: 'float' object is not callable"
     ]
    }
   ],
   "execution_count": 22
  },
  {
   "metadata": {
    "ExecuteTime": {
     "end_time": "2024-06-19T23:11:31.640332Z",
     "start_time": "2024-06-19T23:11:15.654972Z"
    }
   },
   "cell_type": "code",
   "source": [
    "from sklearn.metrics import roc_curve, auc\n",
    "from itertools import cycle\n",
    "\n",
    "model = load_model('QG_Tag_Model_DataNew.keras')\n",
    "y_pred = model.predict(tx)\n",
    "\n",
    "# Compute ROC curve and ROC area for each class\n",
    "fpr = dict()\n",
    "tpr = dict()\n",
    "roc_auc = dict()\n",
    "for i in range(2):\n",
    "    fpr[i], tpr[i], _ = roc_curve(ty[:, i], y_pred[:, i])\n",
    "    roc_auc[i] = auc(fpr[i], tpr[i])\n",
    "\n",
    "# First aggregate all false positive rates\n",
    "all_fpr = np.unique(np.concatenate([fpr[i] for i in range(2)]))\n",
    "\n",
    "# Then interpolate all ROC curves at this points\n",
    "mean_tpr = np.zeros_like(all_fpr)\n",
    "for i in range(2):\n",
    "    mean_tpr += np.interp(all_fpr, fpr[i], tpr[i])\n",
    "\n",
    "# Finally average it and compute AUC\n",
    "mean_tpr /= 2\n",
    "\n",
    "fpr[\"macro\"] = all_fpr\n",
    "tpr[\"macro\"] = mean_tpr\n",
    "roc_auc[\"macro\"] = auc(fpr[\"macro\"], tpr[\"macro\"])\n",
    "plt.figure()\n",
    "plt.plot(fpr[\"macro\"], tpr[\"macro\"],\n",
    "         label='macro-average ROC curve (area = {0:0.3f})'\n",
    "               ''.format(roc_auc[\"macro\"]),\n",
    "         color='navy', linestyle=':', linewidth=4)\n",
    "\n",
    "colors = cycle(['aqua', 'darkorange', 'cornflowerblue'])\n",
    "for i, color in zip(range(2), colors):\n",
    "    plt.plot(fpr[i], tpr[i], color=color, lw=2,\n",
    "             label='ROC curve of class {0} (area = {1:0.3f})'\n",
    "             ''.format(i, roc_auc[i]))\n",
    "\n",
    "plt.plot([0, 1], [0, 1], 'k--', lw=2)\n",
    "plt.xlim([0.0, 1.0])\n",
    "plt.ylim([0.0, 1.05])\n",
    "plt.xlabel('False Positive Rate')\n",
    "plt.ylabel('True Positive Rate')\n",
    "plt.title('Some extension of Receiver operating characteristic to multi-class')\n",
    "plt.legend(loc=\"lower right\")\n",
    "plt.savefig()\n",
    "plt.show()"
   ],
   "id": "28bf2e4b5db0631b",
   "outputs": [
    {
     "name": "stdout",
     "output_type": "stream",
     "text": [
      "\u001B[1m1631/1631\u001B[0m \u001B[32m━━━━━━━━━━━━━━━━━━━━\u001B[0m\u001B[37m\u001B[0m \u001B[1m15s\u001B[0m 9ms/step\n"
     ]
    },
    {
     "data": {
      "text/plain": [
       "<Figure size 640x480 with 1 Axes>"
      ],
      "image/png": "[encoded data removed]"
     },
     "metadata": {},
     "output_type": "display_data"
    }
   ],
   "execution_count": 10
  },
  {
   "metadata": {},
   "cell_type": "code",
   "source": [
    "plt.figure(figsize=(6,4))\n",
    "plt.plot(fpr[\"macro\"], tpr[\"macro\"],\n",
    "         label='macro-average ROC curve (area = {0:0.2f})'\n",
    "               ''.format(roc_auc[\"macro\"]),\n",
    "         color='navy', linestyle=':', linewidth=4)\n",
    "\n",
    "colors = cycle(['aqua', 'darkorange', 'cornflowerblue'])\n",
    "for i, color in zip(range(2), colors):\n",
    "    plt.plot(fpr[i], tpr[i], color=color, lw=2,\n",
    "             label='ROC curve of class {0} (area = {1:0.2f})'\n",
    "             ''.format(i, roc_auc[i]))\n",
    "\n",
    "plt.plot([0, 1], [0, 1], 'k--', lw=2)\n",
    "plt.xlim([0.0, 1.0])\n",
    "plt.ylim([0.0, 1.05])\n",
    "plt.xlabel('False Positive Rate')\n",
    "plt.ylabel('True Positive Rate')\n",
    "plt.title('ROC Curve QG-Tagging')\n",
    "plt.legend(loc=\"lower right\")\n",
    "plt.savefig('figstrabIA/CurvaRoc.png')\n",
    "plt.show()"
   ],
   "id": "6489cdcfa7efcf17",
   "outputs": [],
   "execution_count": null
  },
  {
   "metadata": {},
   "cell_type": "code",
   "outputs": [],
   "execution_count": null,
   "source": "",
   "id": "6a2ae502481a1509"
  }
 ],
 "metadata": {
  "kernelspec": {
   "display_name": "Python 3",
   "language": "python",
   "name": "python3"
  },
  "language_info": {
   "codemirror_mode": {
    "name": "ipython",
    "version": 2
   },
   "file_extension": ".py",
   "mimetype": "text/x-python",
   "name": "python",
   "nbconvert_exporter": "python",
   "pygments_lexer": "ipython2",
   "version": "2.7.6"
  }
 },
 "nbformat": 4,
 "nbformat_minor": 5
}
